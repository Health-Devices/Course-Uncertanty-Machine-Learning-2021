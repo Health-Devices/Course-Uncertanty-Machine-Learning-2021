{
 "cells": [
  {
   "cell_type": "markdown",
   "metadata": {},
   "source": [
    "# Assignment 4\n",
    "### Miodrag Bolic\n",
    "\n",
    "Due: April 16, 2021\n",
    "Total number of points is 10. \n",
    "\n",
    "Instructions:\n",
    "Upload your answers in a ipynb notebook to UOttawa Bright Space.\n",
    "\n",
    "Your individual submissions should use the following filenames: ELG_5218_YOURNAME_HW4.ipynb\n",
    "\n",
    "Your code should be in code cells as part of your notebook. Do not use any different format.\n",
    "\n",
    "*Do not just send your code. The homework solutions should be in a report style. Be sure to add comments to your code as well as markdown cells where you describe your approach and discuss your results. *\n",
    "\n",
    "Please submit your notebook in an executed status, so that we can see all the results you computed. However, we will still run your code and all cells should reproduce the output when executed.\n",
    "\n",
    "If you have multiple files (e.g. you've added code files or images) create a tarball for all files in a single file and name it: ELG_5218_YOURNAME_HW4.tar.gz or ELG_5218_YOURNAME_HW4.zip\n"
   ]
  },
  {
   "cell_type": "markdown",
   "metadata": {},
   "source": [
    "# Problem 1 Bearings only tracking particle filter\n",
    "Bearings only model is shown in https://github.com/Health-Devices/Course-Uncertanty-Machine-Learning-2021/blob/master/Lec08/PFs.ppt. Derive particle filter algorithm from scretch starting from Bayesian filtering and updating formula and then adjust the model for the bearings only tracking problem. Show pseudocode for the particle filtering algorithm. Use sample importance resampling particle filter. Make sure that you do not show generic particle filter but weight update for the bearings only tracking model.\n",
    "An explanation of particle filtering in Python can be found here [Particle Filters](https://github.com/rlabbe/Kalman-and-Bayesian-Filters-in-Python/blob/master/12-Particle-Filters.ipynb). \n",
    "\n"
   ]
  },
  {
   "cell_type": "markdown",
   "metadata": {},
   "source": [
    "# Problem 2 ARIMA models\n",
    "Modeling daily cases of Covid 19 using ARIMA model is presented in [Prediction of daily COVID-19 cases in European countries using automatic ARIMA model](https://www.ncbi.nlm.nih.gov/pmc/articles/PMC7445441/). Data that is used for this study can be found at https://github.com/CSSEGISandData/COVID-19. Look at the data for Germany and France (https://github.com/CSSEGISandData/COVID-19/blob/master/csse_covid_19_data/csse_covid_19_time_series/time_series_covid19_confirmed_global.csv) and compute several rows of Table 1 and 2 in Julia using probabilistic and traditional methods for fitting the time series.\n"
   ]
  },
  {
   "cell_type": "markdown",
   "metadata": {},
   "source": [
    "# Problem 3 Multimodal learning\n",
    "1. Describe training process of the LSTM model which node is modified to support multiple sensor inputs. We covered that model in the lecture on multimodal learning.\n",
    "2. How is CCA used to train networks that have inputs of different modalities?\n",
    "3. How is probabilistic CCA related to traditional CCA?\n",
    "4. What is DTW and how (and why) is it used in combination with CCA? \n",
    "5. Show and explain an example (research papers) of using CCA for dimensionality reduction in engineering or biomedical applications. \n",
    "\n"
   ]
  },
  {
   "cell_type": "markdown",
   "metadata": {},
   "source": [
    "# Problem 4 Scientific machine learning for Covid-19\n",
    "The model for Covid 19 spreading is given in [A SIR model assumption for the spread of COVID-19 in different communities](https://www.ncbi.nlm.nih.gov/pmc/articles/PMC7321055/#bib0029) . Implemented of SIR model in Julia can be seen at https://julia.quantecon.org/continuous_time/seir_model.html . The datasets can be found at https://www.kaggle.com/sudalairajkumar/novel-corona-virus-2019-dataset?select=time_series_covid_19_confirmed_US.csv  or at E. Dong, H. Du, L. Gardner\n",
    "An interactive web-based dashboard to track COVID-19 in real time\n",
    "Lancet Infect. Dis., 20 (5) (2020), pp. 533-534 . Simplified explanation about the model can be found at [The SIR Model for Spread of Disease - The Differential Equation Model](https://www.maa.org/press/periodicals/loci/joma/the-sir-model-for-spread-of-disease-the-differential-equation-model).\n",
    "\n",
    "Fit the data to the model using Turing Julia or other means. Explain parameters after fitting by looking at the results of the paper [A SIR model assumption for the spread of COVID-19 in different communities](https://www.ncbi.nlm.nih.gov/pmc/articles/PMC7321055/#bib0029).\n",
    "\n"
   ]
  },
  {
   "cell_type": "markdown",
   "metadata": {},
   "source": [
    "\n"
   ]
  },
  {
   "cell_type": "code",
   "execution_count": null,
   "metadata": {},
   "outputs": [],
   "source": []
  }
 ],
 "metadata": {
  "kernelspec": {
   "display_name": "JuliaPro_v1.5.3-1 1.5.3",
   "language": "julia",
   "name": "juliapro_v1.5.3-1-1.5"
  },
  "language_info": {
   "file_extension": ".jl",
   "mimetype": "application/julia",
   "name": "julia",
   "version": "1.5.3"
  }
 },
 "nbformat": 4,
 "nbformat_minor": 4
}
