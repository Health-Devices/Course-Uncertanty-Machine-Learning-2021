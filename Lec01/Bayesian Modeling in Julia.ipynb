{
 "cells": [
  {
   "cell_type": "markdown",
   "metadata": {
    "colab_type": "text",
    "id": "wlxo3sf0bWvv"
   },
   "source": [
    "# Lecture 1 Bayesian Modeling "
   ]
  },
  {
   "cell_type": "markdown",
   "metadata": {
    "colab_type": "text",
    "id": "O5plJOkhbWv0"
   },
   "source": [
    "# Introduction"
   ]
  },
  {
   "cell_type": "markdown",
   "metadata": {
    "colab_type": "text",
    "id": "DB-yFJjUbWv0"
   },
   "source": [
    "In this notebook we will discuss introduction to Bayesian modeling as well as show an example of modeling and inference using a simple Binomial model.\n"
   ]
  },
  {
   "cell_type": "markdown",
   "metadata": {},
   "source": [
    "## Uncertainty\n",
    "Uncertainty Quantification (UQ) aims at developing rigorous methods to characterize the impact of ”limited knowledge” on quantities of interest. Statistics of an outcome of interest, such as its expectation and the variance, commonly requires the evaluation of integrals. It is usually summarized through confidence intervals or credible intervals in Bayesian terminology.\n",
    "\n",
    "Examples of presenting the uncertainty include:\n",
    "* Confidence levels\n",
    "* Heart rate is (60 ± 4) beats/minute (mean ± standard error)\n",
    "* Confidence levels: 95% confidence for the heart rate is [52,68] beats/minute \n",
    "* Probability distributions\n",
    "* Determining different moments or quantiles\n",
    "* Prediction levels over time\n"
   ]
  },
  {
   "cell_type": "markdown",
   "metadata": {},
   "source": [
    "## Confidence interval representation\n",
    "95% confidence interval means:\n",
    "* 95% of similarly constructed confidence intervals will contain the true mean\n",
    "\n",
    "It does NOT mean that the probability that the true mean lies in the interval of interest is 95%.\n",
    "\n",
    "![title](Images/ConfidenceIntervals.png)\n",
    "\n",
    "Normal distribution with the confidence intervals is shown below:\n",
    "![title](Images/NormalConfidence.png)\n"
   ]
  },
  {
   "cell_type": "markdown",
   "metadata": {
    "colab_type": "text",
    "id": "0VLsmmMZbWv1"
   },
   "source": [
    "## Bayesian Theory"
   ]
  },
  {
   "cell_type": "markdown",
   "metadata": {
    "colab_type": "text",
    "id": "Nf-dF5ipbWv1"
   },
   "source": [
    "Bayesian inference method is shown in Figure below. Model of the world is described through our belief on how the data is generated (likelihood) and the prior information about the parameters of the model. Bayes theorem relates the prior and likelihood information and provide vehicle for computing the posterior distribution. After the posterior distribution is calculated or estimated, we can summarize it in different ways. \n",
    "\n",
    "![title](Images/BayesianModel.png)"
   ]
  },
  {
   "cell_type": "markdown",
   "metadata": {},
   "source": [
    "In probabilistic modeling we consider two types of variables: \\\n",
    "$D = \\{x_1, x_2, ..., x_N$\\} : observed variables = data \\\n",
    "$\\theta = \\{z_1, z_2, ..., z_M$\\} : latent variables = parameters of interest\n",
    "\n",
    "In probabilistic modeling, we treat both observed variables and parameters as random variables. Therefore, we can present them using probability distributions.\n",
    "\n",
    "We are interested in:\n",
    "* Joint density $p(\\theta, D)$\n",
    "* Posterior density $p(\\theta|D)$\n",
    "* Evidence $p(D)$"
   ]
  },
  {
   "cell_type": "markdown",
   "metadata": {},
   "source": [
    "### Bayes theorem\n",
    "\\begin{equation}\n",
    "p(\\theta\\mid\\textit{D}) = \\frac{p(\\theta)p(\\textit{D}\\mid\\theta)}{p(\\textit{D})} = \\frac{p(\\theta)p(\\textit{D}\\mid\\theta)}{\\int p(\\textit{D},\\theta)d\\theta} = \\frac{p(\\theta)p(\\textit{D}\\mid\\theta)}{\\int p(\\theta)p(\\textit{D}\\mid\\theta)d\\theta}\n",
    "\\end{equation}\n"
   ]
  },
  {
   "cell_type": "markdown",
   "metadata": {
    "colab_type": "text",
    "id": "6EhxdmH4bWv2"
   },
   "source": [
    "#### Prior Distribution $p(\\theta)$"
   ]
  },
  {
   "cell_type": "markdown",
   "metadata": {
    "colab_type": "text",
    "id": "ZBSY_WN3bWv2"
   },
   "source": [
    "In this uncertain quantity, ones's beliefs or initial knowledge about the parameters are taken into account. This is the probability which is based on experience of a person or there is some data available beforehand."
   ]
  },
  {
   "cell_type": "markdown",
   "metadata": {
    "colab_type": "text",
    "id": "qeA6xLC_bWv3"
   },
   "source": [
    "#### Likelihood Function $p(\\textit{D}\\mid\\theta)$"
   ]
  },
  {
   "cell_type": "markdown",
   "metadata": {
    "colab_type": "text",
    "id": "FxbjgZT5bWv3"
   },
   "source": [
    "Our assumption about how the data depends on the parameters is captured. It is based on some runs done. It gives the probability of the occurance of events while taking the probability of the certain event into account. "
   ]
  },
  {
   "cell_type": "markdown",
   "metadata": {
    "colab_type": "text",
    "id": "MACaeFaxbWv4"
   },
   "source": [
    "#### Posterior Distribution  $p(\\theta\\mid\\textit{D})$"
   ]
  },
  {
   "cell_type": "markdown",
   "metadata": {
    "colab_type": "text",
    "id": "XuRBz0qNbWv4"
   },
   "source": [
    "It represents the knowledge about the parameters after seeing the data. It can be generated by using the probability which is based on experience and the probability of likehihood of that event."
   ]
  },
  {
   "cell_type": "markdown",
   "metadata": {
    "colab_type": "text",
    "id": "khWooKJuDPJX"
   },
   "source": [
    "## Probabilistic Modeling"
   ]
  },
  {
   "cell_type": "markdown",
   "metadata": {
    "colab_type": "text",
    "id": "kFq9iI3DbWv5"
   },
   "source": [
    "Assume data set $X$ is obtained from a probability distribution with parameters $\\theta$.\n",
    "Here $X = \\{x_n\\}^N_{n=1}$\n",
    "\n",
    "We can also include dependencies on the model $m$. "
   ]
  },
  {
   "cell_type": "markdown",
   "metadata": {
    "colab_type": "text",
    "id": "CVAI-kWaDWbq"
   },
   "source": [
    " $$x_n \\sim p(\\textit{x}\\mid\\theta, m)$$"
   ]
  },
  {
   "cell_type": "markdown",
   "metadata": {
    "colab_type": "text",
    "id": "gkVN53FeGQe4"
   },
   "source": [
    "Here, the function of the parameters $\\theta$ is $p(\\textit{X}\\mid\\theta, m)$, which is the $\\textbf{likelihood}$"
   ]
  },
  {
   "cell_type": "markdown",
   "metadata": {
    "colab_type": "text",
    "id": "OqWSG5dcGwvG"
   },
   "source": [
    "Assume $p(\\theta \\mid m)$ as the $\\textbf{prior distribution}$."
   ]
  },
  {
   "cell_type": "markdown",
   "metadata": {
    "colab_type": "text",
    "id": "2fxTOOISIL-W"
   },
   "source": [
    "\\begin{equation}\n",
    "p(\\theta\\mid\\textit{X},m) = \\frac{p(\\textit{X},\\theta \\mid m)}{p(\\textit{X} \\mid m)} = \\frac{p(\\textit{X}\\mid\\theta, m)p(\\theta\\mid m)}{\\int p(\\textit{X}\\mid\\theta, m)p(\\theta\\mid m)d\\theta} = \\frac{Likelihood * Prior}{Marginal\\_ likelihood} \\propto p(\\textit{X}\\mid\\theta, m)p(\\theta\\mid m)\n",
    "\\end{equation}"
   ]
  },
  {
   "cell_type": "markdown",
   "metadata": {
    "colab_type": "text",
    "id": "53rbd4RklfSs"
   },
   "source": [
    "Note: We don't use the notation of $m$ in the most cases. But sometimes, while doing comparison or selection (in condiontional settings), we use this notation. "
   ]
  },
  {
   "cell_type": "markdown",
   "metadata": {
    "colab_type": "text",
    "id": "GF1DnFCSbWwB"
   },
   "source": [
    "## Using Posterior for Making Predictions\n",
    "To make predictions of new observations, posteriors can be used to compute the $\\textbf{posterior predictive distribution (PPD)}$.\n",
    "\n",
    "The posterior distribution of the new observation $x_*$ given previous observations is: \n",
    "\n",
    "\\begin{equation}\n",
    "p(x_*\\mid X,m) = \\int p(x_*,\\theta\\mid X,m)d\\theta = \\int p(x_* \\mid \\theta,X,m) p(\\theta\\mid X,m) d\\theta \\end{equation} \\begin{equation} = \\int p(x_* \\mid \\theta,m) p(\\theta\\mid X,m) d\\theta\n",
    "\\end{equation}\n",
    "\n",
    "This means that the posterior distribution is now a prior in computing the posterior predictive distribution. "
   ]
  },
  {
   "cell_type": "markdown",
   "metadata": {
    "colab_type": "text",
    "id": "dd8HGBI7bWv-"
   },
   "source": [
    "## Point Estimation\n",
    "In Bayesian statistics, we are interested in computing the posterior distribution. The posterior distribution can then be summarized in different ways. \n",
    "There are two estimation types: Maximum Likelihood Estimation (MLE) and Maximum A Posteriori (MAP).They both are a method for estimating some variable in the setting of probability distributions. \n",
    "\n",
    "The maximum likelihood estimate (MLE) of a parameter is the value of the parameter that maximizes the likelihood, where the likelihood is a function of the parameter and is actually equal to the probability of the data conditioning on that parameter.\n",
    "\n",
    "Maximum a posteriori (MAP) estimation is the value of the parameter that maximizes the entire posterior distribution (which is calculated using the likelihood). A MAP estimate is the mode of the posterior distribution."
   ]
  },
  {
   "cell_type": "markdown",
   "metadata": {
    "colab_type": "text",
    "id": "AKChuQM5bWv-"
   },
   "source": [
    "$$\\hat{\\theta}_{MLE} = {arg\\,max}_\\theta\\log p(X \\mid \\theta)$$"
   ]
  },
  {
   "cell_type": "markdown",
   "metadata": {
    "colab_type": "text",
    "id": "9QWPmg7gbWv_"
   },
   "source": [
    "$$\\hat{\\theta}_{MAP} = {arg\\,max}_\\theta\\log p(\\theta \\mid X) = {arg\\,max}_\\theta[\\log (p(X \\mid \\theta)) +  log(p(\\theta)) ]$$"
   ]
  },
  {
   "cell_type": "markdown",
   "metadata": {
    "colab_type": "text",
    "id": "wkEbTFPwbWwC"
   },
   "source": [
    "### Plug-in predictive\n",
    "Sometimes, we can approximate we can approximate the PPD by plug-in predictive. \n",
    "$.\n",
    "\\begin{equation}\n",
    "p(x_* \\mid X) \\approx p(x_*\\mid \\hat{\\theta})\n",
    "\\end{equation}\n",
    "Here, $\\hat{\\theta}$ can be MAP or MLE estimate. "
   ]
  },
  {
   "cell_type": "markdown",
   "metadata": {
    "colab_type": "text",
    "id": "QBgoYjE3bWv_"
   },
   "source": [
    "## Credible Interval\n",
    "As the Bayesian inference returns a distribution of possible effect values (the posterior), the credible interval is just the range containing a particular percentage of probable values. For instance, the 95% credible interval simply is the central portion of the posterior distribution that contains 95% of the values (note the difference in comparison with the confidence intervals)."
   ]
  },
  {
   "cell_type": "markdown",
   "metadata": {
    "colab_type": "text",
    "id": "mvBvsChtbWwB"
   },
   "source": [
    "$\\textbf{Central Interval}$ is the symmetric region such as it has $\\alpha/2$ mass on either tail. In the figure below $\\alpha=5\\%$ and therefore we are interested in $1-\\alpha=95\\%$ confidence.\n",
    "\n",
    "Wheras, $\\textbf{Highest Probability Density (HPD)}$ indicates points which are most credible.\n",
    "\n",
    "Both of these give where the $(1 - \\alpha)$ mass fraction resides of the posterior"
   ]
  },
  {
   "cell_type": "markdown",
   "metadata": {
    "colab_type": "text",
    "id": "93B-pOb7CMMq"
   },
   "source": [
    "![title](images/CredibleIntervals.png)"
   ]
  },
  {
   "cell_type": "markdown",
   "metadata": {},
   "source": [
    "Here as we can see the central interval uses the probability interval which represents the region of certain percentile amount of the values. Whereas, HPD uses a threshold point to get the interval."
   ]
  },
  {
   "cell_type": "markdown",
   "metadata": {
    "colab_type": "text",
    "id": "3OkISjgjbWwD"
   },
   "source": []
  },
  {
   "cell_type": "markdown",
   "metadata": {
    "colab_type": "text",
    "id": "CWYLBiUl5jUP"
   },
   "source": [
    "$\\textbf{Before we start examples, here are some important distribution that are going to be used in examples}$"
   ]
  },
  {
   "cell_type": "markdown",
   "metadata": {
    "colab_type": "text",
    "id": "9ZxJX_pAZVxe"
   },
   "source": [
    "### Bernouilli Process"
   ]
  },
  {
   "cell_type": "markdown",
   "metadata": {
    "colab_type": "text",
    "id": "p2hYjJ4SnTlK"
   },
   "source": [
    "Consider an experiment involving repeated trials where only two complementary outcomes are\n",
    "possible which can be labeled either as a “success” or a “failure”. Such a process is called a Bernouilli process.\n",
    "\n",
    "   (i) if the successive trials are independent\n",
    "   \n",
    "   (ii) if the probability of success p remains constant from one trial to the next.\n",
    "   \n"
   ]
  },
  {
   "cell_type": "markdown",
   "metadata": {
    "colab_type": "text",
    "id": "ojoTfCsmbWwE"
   },
   "source": [
    "### Binomial Distribution"
   ]
  },
  {
   "cell_type": "markdown",
   "metadata": {
    "colab_type": "text",
    "id": "Jod15m-KbWwF"
   },
   "source": [
    "A single success/failure is known as a Bernoulli trial. The number of successes in n\n",
    "Bernouilli trials is called a binomial random variable. Its PDF is the Binomial distribution. It describes the number of successes $x$ out of total number of events $n$. $p$ is the probability of getting a success. Note that the outcomes must be\n",
    "Bernouilli trials.\n",
    "\n",
    "\n",
    "$$ Binomial(k\\,;n,\\theta) = {n \\choose k} \\theta^k (1-\\theta)^{n-k}$$\n",
    "\n",
    "   where, mean is $$ \\mu =n\\theta$$ and variance  is $$\\sigma^2=n\\theta(1-\\theta)$$"
   ]
  },
  {
   "cell_type": "code",
   "execution_count": 130,
   "metadata": {},
   "outputs": [],
   "source": [
    "using Distributions\n",
    "using Turing\n",
    "using StatisticalRethinking"
   ]
  },
  {
   "cell_type": "code",
   "execution_count": 131,
   "metadata": {},
   "outputs": [
    {
     "data": {
      "image/svg+xml": [
       "<?xml version=\"1.0\" encoding=\"utf-8\"?>\n",
       "<svg xmlns=\"http://www.w3.org/2000/svg\" xmlns:xlink=\"http://www.w3.org/1999/xlink\" width=\"800\" height=\"400\" viewBox=\"0 0 3200 1600\">\n",
       "<defs>\n",
       "  <clipPath id=\"clip920\">\n",
       "    <rect x=\"0\" y=\"0\" width=\"3200\" height=\"1600\"/>\n",
       "  </clipPath>\n",
       "</defs>\n",
       "<path clip-path=\"url(#clip920)\" d=\"\n",
       "M0 1600 L3200 1600 L3200 0 L0 0  Z\n",
       "  \" fill=\"#ffffff\" fill-rule=\"evenodd\" fill-opacity=\"1\"/>\n",
       "<defs>\n",
       "  <clipPath id=\"clip921\">\n",
       "    <rect x=\"640\" y=\"0\" width=\"2241\" height=\"1600\"/>\n",
       "  </clipPath>\n",
       "</defs>\n",
       "<path clip-path=\"url(#clip920)\" d=\"\n",
       "M234.25 1443.7 L1552.76 1443.7 L1552.76 108.352 L234.25 108.352  Z\n",
       "  \" fill=\"#ffffff\" fill-rule=\"evenodd\" fill-opacity=\"1\"/>\n",
       "<defs>\n",
       "  <clipPath id=\"clip922\">\n",
       "    <rect x=\"234\" y=\"108\" width=\"1320\" height=\"1336\"/>\n",
       "  </clipPath>\n",
       "</defs>\n",
       "<polyline clip-path=\"url(#clip922)\" style=\"stroke:#000000; stroke-width:2; stroke-opacity:0.1; fill:none\" points=\"\n",
       "  271.566,1443.7 271.566,108.352 \n",
       "  \"/>\n",
       "<polyline clip-path=\"url(#clip922)\" style=\"stroke:#000000; stroke-width:2; stroke-opacity:0.1; fill:none\" points=\"\n",
       "  582.535,1443.7 582.535,108.352 \n",
       "  \"/>\n",
       "<polyline clip-path=\"url(#clip922)\" style=\"stroke:#000000; stroke-width:2; stroke-opacity:0.1; fill:none\" points=\"\n",
       "  893.503,1443.7 893.503,108.352 \n",
       "  \"/>\n",
       "<polyline clip-path=\"url(#clip922)\" style=\"stroke:#000000; stroke-width:2; stroke-opacity:0.1; fill:none\" points=\"\n",
       "  1204.47,1443.7 1204.47,108.352 \n",
       "  \"/>\n",
       "<polyline clip-path=\"url(#clip922)\" style=\"stroke:#000000; stroke-width:2; stroke-opacity:0.1; fill:none\" points=\"\n",
       "  1515.44,1443.7 1515.44,108.352 \n",
       "  \"/>\n",
       "<polyline clip-path=\"url(#clip920)\" style=\"stroke:#000000; stroke-width:4; stroke-opacity:1; fill:none\" points=\"\n",
       "  234.25,1443.7 1552.76,1443.7 \n",
       "  \"/>\n",
       "<polyline clip-path=\"url(#clip920)\" style=\"stroke:#000000; stroke-width:4; stroke-opacity:1; fill:none\" points=\"\n",
       "  271.566,1443.7 271.566,1427.68 \n",
       "  \"/>\n",
       "<polyline clip-path=\"url(#clip920)\" style=\"stroke:#000000; stroke-width:4; stroke-opacity:1; fill:none\" points=\"\n",
       "  582.535,1443.7 582.535,1427.68 \n",
       "  \"/>\n",
       "<polyline clip-path=\"url(#clip920)\" style=\"stroke:#000000; stroke-width:4; stroke-opacity:1; fill:none\" points=\"\n",
       "  893.503,1443.7 893.503,1427.68 \n",
       "  \"/>\n",
       "<polyline clip-path=\"url(#clip920)\" style=\"stroke:#000000; stroke-width:4; stroke-opacity:1; fill:none\" points=\"\n",
       "  1204.47,1443.7 1204.47,1427.68 \n",
       "  \"/>\n",
       "<polyline clip-path=\"url(#clip920)\" style=\"stroke:#000000; stroke-width:4; stroke-opacity:1; fill:none\" points=\"\n",
       "  1515.44,1443.7 1515.44,1427.68 \n",
       "  \"/>\n",
       "<path clip-path=\"url(#clip920)\" d=\"M 0 0 M253.083 1479.29 Q249.471 1479.29 247.643 1482.86 Q245.837 1486.4 245.837 1493.53 Q245.837 1500.63 247.643 1504.2 Q249.471 1507.74 253.083 1507.74 Q256.717 1507.74 258.522 1504.2 Q260.351 1500.63 260.351 1493.53 Q260.351 1486.4 258.522 1482.86 Q256.717 1479.29 253.083 1479.29 M253.083 1475.59 Q258.893 1475.59 261.948 1480.19 Q265.027 1484.78 265.027 1493.53 Q265.027 1502.25 261.948 1506.86 Q258.893 1511.44 253.083 1511.44 Q247.272 1511.44 244.194 1506.86 Q241.138 1502.25 241.138 1493.53 Q241.138 1484.78 244.194 1480.19 Q247.272 1475.59 253.083 1475.59 Z\" fill=\"#000000\" fill-rule=\"evenodd\" fill-opacity=\"1\" /><path clip-path=\"url(#clip920)\" d=\"M 0 0 M270.096 1504.89 L274.981 1504.89 L274.981 1510.77 L270.096 1510.77 L270.096 1504.89 Z\" fill=\"#000000\" fill-rule=\"evenodd\" fill-opacity=\"1\" /><path clip-path=\"url(#clip920)\" d=\"M 0 0 M290.05 1479.29 Q286.439 1479.29 284.61 1482.86 Q282.805 1486.4 282.805 1493.53 Q282.805 1500.63 284.61 1504.2 Q286.439 1507.74 290.05 1507.74 Q293.684 1507.74 295.49 1504.2 Q297.318 1500.63 297.318 1493.53 Q297.318 1486.4 295.49 1482.86 Q293.684 1479.29 290.05 1479.29 M290.05 1475.59 Q295.86 1475.59 298.916 1480.19 Q301.994 1484.78 301.994 1493.53 Q301.994 1502.25 298.916 1506.86 Q295.86 1511.44 290.05 1511.44 Q284.24 1511.44 281.161 1506.86 Q278.106 1502.25 278.106 1493.53 Q278.106 1484.78 281.161 1480.19 Q284.24 1475.59 290.05 1475.59 Z\" fill=\"#000000\" fill-rule=\"evenodd\" fill-opacity=\"1\" /><path clip-path=\"url(#clip920)\" d=\"M 0 0 M559.201 1506.84 L575.521 1506.84 L575.521 1510.77 L553.576 1510.77 L553.576 1506.84 Q556.238 1504.08 560.822 1499.45 Q565.428 1494.8 566.609 1493.46 Q568.854 1490.93 569.734 1489.2 Q570.637 1487.44 570.637 1485.75 Q570.637 1482.99 568.692 1481.26 Q566.771 1479.52 563.669 1479.52 Q561.47 1479.52 559.016 1480.29 Q556.586 1481.05 553.808 1482.6 L553.808 1477.88 Q556.632 1476.74 559.086 1476.17 Q561.539 1475.59 563.576 1475.59 Q568.947 1475.59 572.141 1478.27 Q575.336 1480.96 575.336 1485.45 Q575.336 1487.58 574.525 1489.5 Q573.738 1491.4 571.632 1493.99 Q571.053 1494.66 567.951 1497.88 Q564.85 1501.07 559.201 1506.84 Z\" fill=\"#000000\" fill-rule=\"evenodd\" fill-opacity=\"1\" /><path clip-path=\"url(#clip920)\" d=\"M 0 0 M580.59 1504.89 L585.474 1504.89 L585.474 1510.77 L580.59 1510.77 L580.59 1504.89 Z\" fill=\"#000000\" fill-rule=\"evenodd\" fill-opacity=\"1\" /><path clip-path=\"url(#clip920)\" d=\"M 0 0 M590.59 1476.21 L608.947 1476.21 L608.947 1480.15 L594.873 1480.15 L594.873 1488.62 Q595.891 1488.27 596.91 1488.11 Q597.928 1487.92 598.947 1487.92 Q604.734 1487.92 608.113 1491.1 Q611.493 1494.27 611.493 1499.68 Q611.493 1505.26 608.021 1508.36 Q604.548 1511.44 598.229 1511.44 Q596.053 1511.44 593.785 1511.07 Q591.539 1510.7 589.132 1509.96 L589.132 1505.26 Q591.215 1506.4 593.437 1506.95 Q595.66 1507.51 598.136 1507.51 Q602.141 1507.51 604.479 1505.4 Q606.817 1503.3 606.817 1499.68 Q606.817 1496.07 604.479 1493.97 Q602.141 1491.86 598.136 1491.86 Q596.261 1491.86 594.386 1492.28 Q592.535 1492.69 590.59 1493.57 L590.59 1476.21 Z\" fill=\"#000000\" fill-rule=\"evenodd\" fill-opacity=\"1\" /><path clip-path=\"url(#clip920)\" d=\"M 0 0 M865.297 1476.21 L883.653 1476.21 L883.653 1480.15 L869.579 1480.15 L869.579 1488.62 Q870.598 1488.27 871.617 1488.11 Q872.635 1487.92 873.654 1487.92 Q879.441 1487.92 882.82 1491.1 Q886.2 1494.27 886.2 1499.68 Q886.2 1505.26 882.728 1508.36 Q879.255 1511.44 872.936 1511.44 Q870.76 1511.44 868.492 1511.07 Q866.246 1510.7 863.839 1509.96 L863.839 1505.26 Q865.922 1506.4 868.144 1506.95 Q870.367 1507.51 872.843 1507.51 Q876.848 1507.51 879.186 1505.4 Q881.524 1503.3 881.524 1499.68 Q881.524 1496.07 879.186 1493.97 Q876.848 1491.86 872.843 1491.86 Q870.968 1491.86 869.093 1492.28 Q867.242 1492.69 865.297 1493.57 L865.297 1476.21 Z\" fill=\"#000000\" fill-rule=\"evenodd\" fill-opacity=\"1\" /><path clip-path=\"url(#clip920)\" d=\"M 0 0 M891.269 1504.89 L896.153 1504.89 L896.153 1510.77 L891.269 1510.77 L891.269 1504.89 Z\" fill=\"#000000\" fill-rule=\"evenodd\" fill-opacity=\"1\" /><path clip-path=\"url(#clip920)\" d=\"M 0 0 M911.223 1479.29 Q907.612 1479.29 905.783 1482.86 Q903.977 1486.4 903.977 1493.53 Q903.977 1500.63 905.783 1504.2 Q907.612 1507.74 911.223 1507.74 Q914.857 1507.74 916.663 1504.2 Q918.491 1500.63 918.491 1493.53 Q918.491 1486.4 916.663 1482.86 Q914.857 1479.29 911.223 1479.29 M911.223 1475.59 Q917.033 1475.59 920.088 1480.19 Q923.167 1484.78 923.167 1493.53 Q923.167 1502.25 920.088 1506.86 Q917.033 1511.44 911.223 1511.44 Q905.413 1511.44 902.334 1506.86 Q899.278 1502.25 899.278 1493.53 Q899.278 1484.78 902.334 1480.19 Q905.413 1475.59 911.223 1475.59 Z\" fill=\"#000000\" fill-rule=\"evenodd\" fill-opacity=\"1\" /><path clip-path=\"url(#clip920)\" d=\"M 0 0 M1175.37 1476.21 L1197.6 1476.21 L1197.6 1478.2 L1185.05 1510.77 L1180.17 1510.77 L1191.97 1480.15 L1175.37 1480.15 L1175.37 1476.21 Z\" fill=\"#000000\" fill-rule=\"evenodd\" fill-opacity=\"1\" /><path clip-path=\"url(#clip920)\" d=\"M 0 0 M1202.67 1504.89 L1207.55 1504.89 L1207.55 1510.77 L1202.67 1510.77 L1202.67 1504.89 Z\" fill=\"#000000\" fill-rule=\"evenodd\" fill-opacity=\"1\" /><path clip-path=\"url(#clip920)\" d=\"M 0 0 M1212.67 1476.21 L1231.02 1476.21 L1231.02 1480.15 L1216.95 1480.15 L1216.95 1488.62 Q1217.97 1488.27 1218.99 1488.11 Q1220 1487.92 1221.02 1487.92 Q1226.81 1487.92 1230.19 1491.1 Q1233.57 1494.27 1233.57 1499.68 Q1233.57 1505.26 1230.1 1508.36 Q1226.62 1511.44 1220.3 1511.44 Q1218.13 1511.44 1215.86 1511.07 Q1213.61 1510.7 1211.21 1509.96 L1211.21 1505.26 Q1213.29 1506.4 1215.51 1506.95 Q1217.74 1507.51 1220.21 1507.51 Q1224.22 1507.51 1226.55 1505.4 Q1228.89 1503.3 1228.89 1499.68 Q1228.89 1496.07 1226.55 1493.97 Q1224.22 1491.86 1220.21 1491.86 Q1218.34 1491.86 1216.46 1492.28 Q1214.61 1492.69 1212.67 1493.57 L1212.67 1476.21 Z\" fill=\"#000000\" fill-rule=\"evenodd\" fill-opacity=\"1\" /><path clip-path=\"url(#clip920)\" d=\"M 0 0 M1473.83 1506.84 L1481.47 1506.84 L1481.47 1480.47 L1473.16 1482.14 L1473.16 1477.88 L1481.42 1476.21 L1486.1 1476.21 L1486.1 1506.84 L1493.74 1506.84 L1493.74 1510.77 L1473.83 1510.77 L1473.83 1506.84 Z\" fill=\"#000000\" fill-rule=\"evenodd\" fill-opacity=\"1\" /><path clip-path=\"url(#clip920)\" d=\"M 0 0 M1508.81 1479.29 Q1505.2 1479.29 1503.37 1482.86 Q1501.56 1486.4 1501.56 1493.53 Q1501.56 1500.63 1503.37 1504.2 Q1505.2 1507.74 1508.81 1507.74 Q1512.44 1507.74 1514.25 1504.2 Q1516.08 1500.63 1516.08 1493.53 Q1516.08 1486.4 1514.25 1482.86 Q1512.44 1479.29 1508.81 1479.29 M1508.81 1475.59 Q1514.62 1475.59 1517.67 1480.19 Q1520.75 1484.78 1520.75 1493.53 Q1520.75 1502.25 1517.67 1506.86 Q1514.62 1511.44 1508.81 1511.44 Q1503 1511.44 1499.92 1506.86 Q1496.86 1502.25 1496.86 1493.53 Q1496.86 1484.78 1499.92 1480.19 Q1503 1475.59 1508.81 1475.59 Z\" fill=\"#000000\" fill-rule=\"evenodd\" fill-opacity=\"1\" /><path clip-path=\"url(#clip920)\" d=\"M 0 0 M1525.82 1504.89 L1530.71 1504.89 L1530.71 1510.77 L1525.82 1510.77 L1525.82 1504.89 Z\" fill=\"#000000\" fill-rule=\"evenodd\" fill-opacity=\"1\" /><path clip-path=\"url(#clip920)\" d=\"M 0 0 M1545.78 1479.29 Q1542.16 1479.29 1540.34 1482.86 Q1538.53 1486.4 1538.53 1493.53 Q1538.53 1500.63 1540.34 1504.2 Q1542.16 1507.74 1545.78 1507.74 Q1549.41 1507.74 1551.21 1504.2 Q1553.04 1500.63 1553.04 1493.53 Q1553.04 1486.4 1551.21 1482.86 Q1549.41 1479.29 1545.78 1479.29 M1545.78 1475.59 Q1551.59 1475.59 1554.64 1480.19 Q1557.72 1484.78 1557.72 1493.53 Q1557.72 1502.25 1554.64 1506.86 Q1551.59 1511.44 1545.78 1511.44 Q1539.97 1511.44 1536.89 1506.86 Q1533.83 1502.25 1533.83 1493.53 Q1533.83 1484.78 1536.89 1480.19 Q1539.97 1475.59 1545.78 1475.59 Z\" fill=\"#000000\" fill-rule=\"evenodd\" fill-opacity=\"1\" /><path clip-path=\"url(#clip920)\" d=\"M 0 0 M877.684 1535.04 L883.572 1535.04 L883.572 1564.29 L901.046 1548.92 L908.526 1548.92 L889.62 1565.59 L909.322 1584.56 L901.683 1584.56 L883.572 1567.15 L883.572 1584.56 L877.684 1584.56 L877.684 1535.04 Z\" fill=\"#000000\" fill-rule=\"evenodd\" fill-opacity=\"1\" /><polyline clip-path=\"url(#clip922)\" style=\"stroke:#000000; stroke-width:2; stroke-opacity:0.1; fill:none\" points=\"\n",
       "  234.25,1410.93 1552.76,1410.93 \n",
       "  \"/>\n",
       "<polyline clip-path=\"url(#clip922)\" style=\"stroke:#000000; stroke-width:2; stroke-opacity:0.1; fill:none\" points=\"\n",
       "  234.25,1153.95 1552.76,1153.95 \n",
       "  \"/>\n",
       "<polyline clip-path=\"url(#clip922)\" style=\"stroke:#000000; stroke-width:2; stroke-opacity:0.1; fill:none\" points=\"\n",
       "  234.25,896.983 1552.76,896.983 \n",
       "  \"/>\n",
       "<polyline clip-path=\"url(#clip922)\" style=\"stroke:#000000; stroke-width:2; stroke-opacity:0.1; fill:none\" points=\"\n",
       "  234.25,640.012 1552.76,640.012 \n",
       "  \"/>\n",
       "<polyline clip-path=\"url(#clip922)\" style=\"stroke:#000000; stroke-width:2; stroke-opacity:0.1; fill:none\" points=\"\n",
       "  234.25,383.04 1552.76,383.04 \n",
       "  \"/>\n",
       "<polyline clip-path=\"url(#clip922)\" style=\"stroke:#000000; stroke-width:2; stroke-opacity:0.1; fill:none\" points=\"\n",
       "  234.25,126.069 1552.76,126.069 \n",
       "  \"/>\n",
       "<polyline clip-path=\"url(#clip920)\" style=\"stroke:#000000; stroke-width:4; stroke-opacity:1; fill:none\" points=\"\n",
       "  234.25,1443.7 234.25,108.352 \n",
       "  \"/>\n",
       "<polyline clip-path=\"url(#clip920)\" style=\"stroke:#000000; stroke-width:4; stroke-opacity:1; fill:none\" points=\"\n",
       "  234.25,1410.93 250.072,1410.93 \n",
       "  \"/>\n",
       "<polyline clip-path=\"url(#clip920)\" style=\"stroke:#000000; stroke-width:4; stroke-opacity:1; fill:none\" points=\"\n",
       "  234.25,1153.95 250.072,1153.95 \n",
       "  \"/>\n",
       "<polyline clip-path=\"url(#clip920)\" style=\"stroke:#000000; stroke-width:4; stroke-opacity:1; fill:none\" points=\"\n",
       "  234.25,896.983 250.072,896.983 \n",
       "  \"/>\n",
       "<polyline clip-path=\"url(#clip920)\" style=\"stroke:#000000; stroke-width:4; stroke-opacity:1; fill:none\" points=\"\n",
       "  234.25,640.012 250.072,640.012 \n",
       "  \"/>\n",
       "<polyline clip-path=\"url(#clip920)\" style=\"stroke:#000000; stroke-width:4; stroke-opacity:1; fill:none\" points=\"\n",
       "  234.25,383.04 250.072,383.04 \n",
       "  \"/>\n",
       "<polyline clip-path=\"url(#clip920)\" style=\"stroke:#000000; stroke-width:4; stroke-opacity:1; fill:none\" points=\"\n",
       "  234.25,126.069 250.072,126.069 \n",
       "  \"/>\n",
       "<path clip-path=\"url(#clip920)\" d=\"M 0 0 M110.325 1396.72 Q106.713 1396.72 104.885 1400.29 Q103.079 1403.83 103.079 1410.96 Q103.079 1418.07 104.885 1421.63 Q106.713 1425.17 110.325 1425.17 Q113.959 1425.17 115.764 1421.63 Q117.593 1418.07 117.593 1410.96 Q117.593 1403.83 115.764 1400.29 Q113.959 1396.72 110.325 1396.72 M110.325 1393.02 Q116.135 1393.02 119.19 1397.63 Q122.269 1402.21 122.269 1410.96 Q122.269 1419.69 119.19 1424.29 Q116.135 1428.88 110.325 1428.88 Q104.514 1428.88 101.436 1424.29 Q98.3802 1419.69 98.3802 1410.96 Q98.3802 1402.21 101.436 1397.63 Q104.514 1393.02 110.325 1393.02 Z\" fill=\"#000000\" fill-rule=\"evenodd\" fill-opacity=\"1\" /><path clip-path=\"url(#clip920)\" d=\"M 0 0 M127.338 1422.33 L132.223 1422.33 L132.223 1428.21 L127.338 1428.21 L127.338 1422.33 Z\" fill=\"#000000\" fill-rule=\"evenodd\" fill-opacity=\"1\" /><path clip-path=\"url(#clip920)\" d=\"M 0 0 M147.292 1396.72 Q143.681 1396.72 141.852 1400.29 Q140.047 1403.83 140.047 1410.96 Q140.047 1418.07 141.852 1421.63 Q143.681 1425.17 147.292 1425.17 Q150.926 1425.17 152.732 1421.63 Q154.56 1418.07 154.56 1410.96 Q154.56 1403.83 152.732 1400.29 Q150.926 1396.72 147.292 1396.72 M147.292 1393.02 Q153.102 1393.02 156.158 1397.63 Q159.236 1402.21 159.236 1410.96 Q159.236 1419.69 156.158 1424.29 Q153.102 1428.88 147.292 1428.88 Q141.482 1428.88 138.403 1424.29 Q135.348 1419.69 135.348 1410.96 Q135.348 1402.21 138.403 1397.63 Q141.482 1393.02 147.292 1393.02 Z\" fill=\"#000000\" fill-rule=\"evenodd\" fill-opacity=\"1\" /><path clip-path=\"url(#clip920)\" d=\"M 0 0 M174.306 1396.72 Q170.695 1396.72 168.866 1400.29 Q167.06 1403.83 167.06 1410.96 Q167.06 1418.07 168.866 1421.63 Q170.695 1425.17 174.306 1425.17 Q177.94 1425.17 179.745 1421.63 Q181.574 1418.07 181.574 1410.96 Q181.574 1403.83 179.745 1400.29 Q177.94 1396.72 174.306 1396.72 M174.306 1393.02 Q180.116 1393.02 183.171 1397.63 Q186.25 1402.21 186.25 1410.96 Q186.25 1419.69 183.171 1424.29 Q180.116 1428.88 174.306 1428.88 Q168.496 1428.88 165.417 1424.29 Q162.361 1419.69 162.361 1410.96 Q162.361 1402.21 165.417 1397.63 Q168.496 1393.02 174.306 1393.02 Z\" fill=\"#000000\" fill-rule=\"evenodd\" fill-opacity=\"1\" /><path clip-path=\"url(#clip920)\" d=\"M 0 0 M111.32 1139.75 Q107.709 1139.75 105.88 1143.32 Q104.075 1146.86 104.075 1153.99 Q104.075 1161.1 105.88 1164.66 Q107.709 1168.2 111.32 1168.2 Q114.954 1168.2 116.76 1164.66 Q118.588 1161.1 118.588 1153.99 Q118.588 1146.86 116.76 1143.32 Q114.954 1139.75 111.32 1139.75 M111.32 1136.05 Q117.13 1136.05 120.186 1140.66 Q123.264 1145.24 123.264 1153.99 Q123.264 1162.72 120.186 1167.32 Q117.13 1171.91 111.32 1171.91 Q105.51 1171.91 102.431 1167.32 Q99.3755 1162.72 99.3755 1153.99 Q99.3755 1145.24 102.431 1140.66 Q105.51 1136.05 111.32 1136.05 Z\" fill=\"#000000\" fill-rule=\"evenodd\" fill-opacity=\"1\" /><path clip-path=\"url(#clip920)\" d=\"M 0 0 M128.334 1165.35 L133.218 1165.35 L133.218 1171.23 L128.334 1171.23 L128.334 1165.35 Z\" fill=\"#000000\" fill-rule=\"evenodd\" fill-opacity=\"1\" /><path clip-path=\"url(#clip920)\" d=\"M 0 0 M148.287 1139.75 Q144.676 1139.75 142.848 1143.32 Q141.042 1146.86 141.042 1153.99 Q141.042 1161.1 142.848 1164.66 Q144.676 1168.2 148.287 1168.2 Q151.922 1168.2 153.727 1164.66 Q155.556 1161.1 155.556 1153.99 Q155.556 1146.86 153.727 1143.32 Q151.922 1139.75 148.287 1139.75 M148.287 1136.05 Q154.097 1136.05 157.153 1140.66 Q160.232 1145.24 160.232 1153.99 Q160.232 1162.72 157.153 1167.32 Q154.097 1171.91 148.287 1171.91 Q142.477 1171.91 139.398 1167.32 Q136.343 1162.72 136.343 1153.99 Q136.343 1145.24 139.398 1140.66 Q142.477 1136.05 148.287 1136.05 Z\" fill=\"#000000\" fill-rule=\"evenodd\" fill-opacity=\"1\" /><path clip-path=\"url(#clip920)\" d=\"M 0 0 M165.347 1136.67 L183.704 1136.67 L183.704 1140.61 L169.63 1140.61 L169.63 1149.08 Q170.648 1148.73 171.667 1148.57 Q172.685 1148.39 173.704 1148.39 Q179.491 1148.39 182.87 1151.56 Q186.25 1154.73 186.25 1160.15 Q186.25 1165.73 182.778 1168.83 Q179.306 1171.91 172.986 1171.91 Q170.81 1171.91 168.542 1171.54 Q166.296 1171.17 163.889 1170.42 L163.889 1165.73 Q165.972 1166.86 168.195 1167.42 Q170.417 1167.97 172.894 1167.97 Q176.898 1167.97 179.236 1165.86 Q181.574 1163.76 181.574 1160.15 Q181.574 1156.54 179.236 1154.43 Q176.898 1152.32 172.894 1152.32 Q171.019 1152.32 169.144 1152.74 Q167.292 1153.16 165.347 1154.04 L165.347 1136.67 Z\" fill=\"#000000\" fill-rule=\"evenodd\" fill-opacity=\"1\" /><path clip-path=\"url(#clip920)\" d=\"M 0 0 M111.551 882.782 Q107.94 882.782 106.112 886.347 Q104.306 889.888 104.306 897.018 Q104.306 904.124 106.112 907.689 Q107.94 911.231 111.551 911.231 Q115.186 911.231 116.991 907.689 Q118.82 904.124 118.82 897.018 Q118.82 889.888 116.991 886.347 Q115.186 882.782 111.551 882.782 M111.551 879.078 Q117.362 879.078 120.417 883.685 Q123.496 888.268 123.496 897.018 Q123.496 905.745 120.417 910.351 Q117.362 914.935 111.551 914.935 Q105.741 914.935 102.663 910.351 Q99.607 905.745 99.607 897.018 Q99.607 888.268 102.663 883.685 Q105.741 879.078 111.551 879.078 Z\" fill=\"#000000\" fill-rule=\"evenodd\" fill-opacity=\"1\" /><path clip-path=\"url(#clip920)\" d=\"M 0 0 M128.565 908.384 L133.449 908.384 L133.449 914.263 L128.565 914.263 L128.565 908.384 Z\" fill=\"#000000\" fill-rule=\"evenodd\" fill-opacity=\"1\" /><path clip-path=\"url(#clip920)\" d=\"M 0 0 M139.329 910.328 L146.968 910.328 L146.968 883.962 L138.658 885.629 L138.658 881.37 L146.922 879.703 L151.597 879.703 L151.597 910.328 L159.236 910.328 L159.236 914.263 L139.329 914.263 L139.329 910.328 Z\" fill=\"#000000\" fill-rule=\"evenodd\" fill-opacity=\"1\" /><path clip-path=\"url(#clip920)\" d=\"M 0 0 M174.306 882.782 Q170.695 882.782 168.866 886.347 Q167.06 889.888 167.06 897.018 Q167.06 904.124 168.866 907.689 Q170.695 911.231 174.306 911.231 Q177.94 911.231 179.745 907.689 Q181.574 904.124 181.574 897.018 Q181.574 889.888 179.745 886.347 Q177.94 882.782 174.306 882.782 M174.306 879.078 Q180.116 879.078 183.171 883.685 Q186.25 888.268 186.25 897.018 Q186.25 905.745 183.171 910.351 Q180.116 914.935 174.306 914.935 Q168.496 914.935 165.417 910.351 Q162.361 905.745 162.361 897.018 Q162.361 888.268 165.417 883.685 Q168.496 879.078 174.306 879.078 Z\" fill=\"#000000\" fill-rule=\"evenodd\" fill-opacity=\"1\" /><path clip-path=\"url(#clip920)\" d=\"M 0 0 M112.547 625.811 Q108.936 625.811 107.107 629.375 Q105.301 632.917 105.301 640.047 Q105.301 647.153 107.107 650.718 Q108.936 654.259 112.547 654.259 Q116.181 654.259 117.987 650.718 Q119.815 647.153 119.815 640.047 Q119.815 632.917 117.987 629.375 Q116.181 625.811 112.547 625.811 M112.547 622.107 Q118.357 622.107 121.412 626.713 Q124.491 631.297 124.491 640.047 Q124.491 648.773 121.412 653.38 Q118.357 657.963 112.547 657.963 Q106.737 657.963 103.658 653.38 Q100.602 648.773 100.602 640.047 Q100.602 631.297 103.658 626.713 Q106.737 622.107 112.547 622.107 Z\" fill=\"#000000\" fill-rule=\"evenodd\" fill-opacity=\"1\" /><path clip-path=\"url(#clip920)\" d=\"M 0 0 M129.561 651.412 L134.445 651.412 L134.445 657.292 L129.561 657.292 L129.561 651.412 Z\" fill=\"#000000\" fill-rule=\"evenodd\" fill-opacity=\"1\" /><path clip-path=\"url(#clip920)\" d=\"M 0 0 M140.324 653.357 L147.963 653.357 L147.963 626.991 L139.653 628.658 L139.653 624.398 L147.917 622.732 L152.593 622.732 L152.593 653.357 L160.232 653.357 L160.232 657.292 L140.324 657.292 L140.324 653.357 Z\" fill=\"#000000\" fill-rule=\"evenodd\" fill-opacity=\"1\" /><path clip-path=\"url(#clip920)\" d=\"M 0 0 M165.347 622.732 L183.704 622.732 L183.704 626.667 L169.63 626.667 L169.63 635.139 Q170.648 634.792 171.667 634.63 Q172.685 634.445 173.704 634.445 Q179.491 634.445 182.87 637.616 Q186.25 640.787 186.25 646.204 Q186.25 651.783 182.778 654.884 Q179.306 657.963 172.986 657.963 Q170.81 657.963 168.542 657.593 Q166.296 657.222 163.889 656.482 L163.889 651.783 Q165.972 652.917 168.195 653.472 Q170.417 654.028 172.894 654.028 Q176.898 654.028 179.236 651.921 Q181.574 649.815 181.574 646.204 Q181.574 642.593 179.236 640.486 Q176.898 638.38 172.894 638.38 Q171.019 638.38 169.144 638.797 Q167.292 639.213 165.347 640.093 L165.347 622.732 Z\" fill=\"#000000\" fill-rule=\"evenodd\" fill-opacity=\"1\" /><path clip-path=\"url(#clip920)\" d=\"M 0 0 M111.922 368.839 Q108.311 368.839 106.482 372.404 Q104.676 375.946 104.676 383.075 Q104.676 390.182 106.482 393.746 Q108.311 397.288 111.922 397.288 Q115.556 397.288 117.362 393.746 Q119.19 390.182 119.19 383.075 Q119.19 375.946 117.362 372.404 Q115.556 368.839 111.922 368.839 M111.922 365.135 Q117.732 365.135 120.787 369.742 Q123.866 374.325 123.866 383.075 Q123.866 391.802 120.787 396.408 Q117.732 400.992 111.922 400.992 Q106.112 400.992 103.033 396.408 Q99.9774 391.802 99.9774 383.075 Q99.9774 374.325 103.033 369.742 Q106.112 365.135 111.922 365.135 Z\" fill=\"#000000\" fill-rule=\"evenodd\" fill-opacity=\"1\" /><path clip-path=\"url(#clip920)\" d=\"M 0 0 M128.936 394.441 L133.82 394.441 L133.82 400.32 L128.936 400.32 L128.936 394.441 Z\" fill=\"#000000\" fill-rule=\"evenodd\" fill-opacity=\"1\" /><path clip-path=\"url(#clip920)\" d=\"M 0 0 M142.917 396.385 L159.236 396.385 L159.236 400.32 L137.292 400.32 L137.292 396.385 Q139.954 393.631 144.537 389.001 Q149.144 384.348 150.324 383.006 Q152.57 380.483 153.449 378.747 Q154.352 376.987 154.352 375.297 Q154.352 372.543 152.408 370.807 Q150.486 369.071 147.385 369.071 Q145.185 369.071 142.732 369.835 Q140.301 370.598 137.523 372.149 L137.523 367.427 Q140.348 366.293 142.801 365.714 Q145.255 365.135 147.292 365.135 Q152.662 365.135 155.857 367.821 Q159.051 370.506 159.051 374.997 Q159.051 377.126 158.241 379.047 Q157.454 380.946 155.347 383.538 Q154.769 384.209 151.667 387.427 Q148.565 390.621 142.917 396.385 Z\" fill=\"#000000\" fill-rule=\"evenodd\" fill-opacity=\"1\" /><path clip-path=\"url(#clip920)\" d=\"M 0 0 M174.306 368.839 Q170.695 368.839 168.866 372.404 Q167.06 375.946 167.06 383.075 Q167.06 390.182 168.866 393.746 Q170.695 397.288 174.306 397.288 Q177.94 397.288 179.745 393.746 Q181.574 390.182 181.574 383.075 Q181.574 375.946 179.745 372.404 Q177.94 368.839 174.306 368.839 M174.306 365.135 Q180.116 365.135 183.171 369.742 Q186.25 374.325 186.25 383.075 Q186.25 391.802 183.171 396.408 Q180.116 400.992 174.306 400.992 Q168.496 400.992 165.417 396.408 Q162.361 391.802 162.361 383.075 Q162.361 374.325 165.417 369.742 Q168.496 365.135 174.306 365.135 Z\" fill=\"#000000\" fill-rule=\"evenodd\" fill-opacity=\"1\" /><path clip-path=\"url(#clip920)\" d=\"M 0 0 M112.917 111.868 Q109.306 111.868 107.477 115.433 Q105.672 118.974 105.672 126.104 Q105.672 133.21 107.477 136.775 Q109.306 140.317 112.917 140.317 Q116.551 140.317 118.357 136.775 Q120.186 133.21 120.186 126.104 Q120.186 118.974 118.357 115.433 Q116.551 111.868 112.917 111.868 M112.917 108.164 Q118.727 108.164 121.783 112.771 Q124.861 117.354 124.861 126.104 Q124.861 134.831 121.783 139.437 Q118.727 144.02 112.917 144.02 Q107.107 144.02 104.028 139.437 Q100.973 134.831 100.973 126.104 Q100.973 117.354 104.028 112.771 Q107.107 108.164 112.917 108.164 Z\" fill=\"#000000\" fill-rule=\"evenodd\" fill-opacity=\"1\" /><path clip-path=\"url(#clip920)\" d=\"M 0 0 M129.931 137.469 L134.815 137.469 L134.815 143.349 L129.931 143.349 L129.931 137.469 Z\" fill=\"#000000\" fill-rule=\"evenodd\" fill-opacity=\"1\" /><path clip-path=\"url(#clip920)\" d=\"M 0 0 M143.912 139.414 L160.232 139.414 L160.232 143.349 L138.287 143.349 L138.287 139.414 Q140.949 136.659 145.533 132.03 Q150.139 127.377 151.32 126.034 Q153.565 123.511 154.445 121.775 Q155.347 120.016 155.347 118.326 Q155.347 115.571 153.403 113.835 Q151.482 112.099 148.38 112.099 Q146.181 112.099 143.727 112.863 Q141.297 113.627 138.519 115.178 L138.519 110.456 Q141.343 109.322 143.797 108.743 Q146.25 108.164 148.287 108.164 Q153.658 108.164 156.852 110.849 Q160.046 113.534 160.046 118.025 Q160.046 120.155 159.236 122.076 Q158.449 123.974 156.343 126.567 Q155.764 127.238 152.662 130.456 Q149.56 133.65 143.912 139.414 Z\" fill=\"#000000\" fill-rule=\"evenodd\" fill-opacity=\"1\" /><path clip-path=\"url(#clip920)\" d=\"M 0 0 M165.347 108.789 L183.704 108.789 L183.704 112.724 L169.63 112.724 L169.63 121.196 Q170.648 120.849 171.667 120.687 Q172.685 120.502 173.704 120.502 Q179.491 120.502 182.87 123.673 Q186.25 126.845 186.25 132.261 Q186.25 137.84 182.778 140.942 Q179.306 144.02 172.986 144.02 Q170.81 144.02 168.542 143.65 Q166.296 143.28 163.889 142.539 L163.889 137.84 Q165.972 138.974 168.195 139.53 Q170.417 140.085 172.894 140.085 Q176.898 140.085 179.236 137.979 Q181.574 135.872 181.574 132.261 Q181.574 128.65 179.236 126.544 Q176.898 124.437 172.894 124.437 Q171.019 124.437 169.144 124.854 Q167.292 125.27 165.347 126.15 L165.347 108.789 Z\" fill=\"#000000\" fill-rule=\"evenodd\" fill-opacity=\"1\" /><path clip-path=\"url(#clip920)\" d=\"M 0 0 M62.777 824.883 L81.6831 824.883 L81.6831 830.771 L32.4762 830.771 L32.4762 824.883 L37.8871 824.883 Q34.7042 823.037 33.1764 820.236 Q31.6168 817.403 31.6168 813.488 Q31.6168 806.995 36.7731 802.953 Q41.9293 798.879 50.332 798.879 Q58.7347 798.879 63.891 802.953 Q69.0472 806.995 69.0472 813.488 Q69.0472 817.403 67.5194 820.236 Q65.9598 823.037 62.777 824.883 M50.332 804.958 Q43.8708 804.958 40.2105 807.632 Q36.5184 810.273 36.5184 814.92 Q36.5184 819.567 40.2105 822.241 Q43.8708 824.883 50.332 824.883 Q56.7932 824.883 60.4853 822.241 Q64.1456 819.567 64.1456 814.92 Q64.1456 810.273 60.4853 807.632 Q56.7932 804.958 50.332 804.958 Z\" fill=\"#000000\" fill-rule=\"evenodd\" fill-opacity=\"1\" /><path clip-path=\"url(#clip920)\" d=\"M 0 0 M18.6626 778.668 Q25.9832 782.933 33.1446 785.002 Q40.306 787.07 47.6584 787.07 Q55.0108 787.07 62.2359 785.002 Q69.4291 782.901 76.7179 778.668 L76.7179 783.76 Q69.2382 788.535 62.0131 790.922 Q54.788 793.277 47.6584 793.277 Q40.5606 793.277 33.3674 790.922 Q26.1742 788.566 18.6626 783.76 L18.6626 778.668 Z\" fill=\"#000000\" fill-rule=\"evenodd\" fill-opacity=\"1\" /><path clip-path=\"url(#clip920)\" d=\"M 0 0 M18.599 772.748 L18.599 766.859 L47.8494 766.859 L32.4762 749.386 L32.4762 741.906 L49.1544 760.812 L68.1242 741.11 L68.1242 748.749 L50.7139 766.859 L68.1242 766.859 L68.1242 772.748 L18.599 772.748 Z\" fill=\"#000000\" fill-rule=\"evenodd\" fill-opacity=\"1\" /><path clip-path=\"url(#clip920)\" d=\"M 0 0 M18.6626 735.89 L18.6626 730.798 Q26.1742 726.023 33.3674 723.668 Q40.5606 721.281 47.6584 721.281 Q54.788 721.281 62.0131 723.668 Q69.2382 726.023 76.7179 730.798 L76.7179 735.89 Q69.4291 731.657 62.2359 729.588 Q55.0108 727.487 47.6584 727.487 Q40.306 727.487 33.1446 729.588 Q25.9832 731.657 18.6626 735.89 Z\" fill=\"#000000\" fill-rule=\"evenodd\" fill-opacity=\"1\" /><path clip-path=\"url(#clip920)\" d=\"M 0 0 M663.391 43.6931 L663.391 65.8515 L676.516 65.8515 Q683.119 65.8515 686.279 63.1374 Q689.479 60.3828 689.479 54.752 Q689.479 49.0808 686.279 46.4072 Q683.119 43.6931 676.516 43.6931 L663.391 43.6931 M663.391 18.8205 L663.391 37.0496 L675.504 37.0496 Q681.499 37.0496 684.416 34.8216 Q687.373 32.5531 687.373 27.935 Q687.373 23.3575 684.416 21.089 Q681.499 18.8205 675.504 18.8205 L663.391 18.8205 M655.209 12.096 L676.111 12.096 Q685.469 12.096 690.532 15.9849 Q695.596 19.8737 695.596 27.0438 Q695.596 32.5936 693.003 35.8748 Q690.411 39.156 685.388 39.9662 Q691.424 41.2625 694.745 45.3944 Q698.108 49.4858 698.108 55.6432 Q698.108 63.745 692.598 68.1605 Q687.089 72.576 676.921 72.576 L655.209 72.576 L655.209 12.096 Z\" fill=\"#000000\" fill-rule=\"evenodd\" fill-opacity=\"1\" /><path clip-path=\"url(#clip920)\" d=\"M 0 0 M705.926 27.2059 L713.38 27.2059 L713.38 72.576 L705.926 72.576 L705.926 27.2059 M705.926 9.54393 L713.38 9.54393 L713.38 18.9825 L705.926 18.9825 L705.926 9.54393 Z\" fill=\"#000000\" fill-rule=\"evenodd\" fill-opacity=\"1\" /><path clip-path=\"url(#clip920)\" d=\"M 0 0 M758.912 45.1919 L758.912 72.576 L751.458 72.576 L751.458 45.4349 Q751.458 38.994 748.946 35.7938 Q746.435 32.5936 741.412 32.5936 Q735.376 32.5936 731.892 36.4419 Q728.408 40.2903 728.408 46.9338 L728.408 72.576 L720.914 72.576 L720.914 27.2059 L728.408 27.2059 L728.408 34.2544 Q731.082 30.163 734.687 28.1376 Q738.333 26.1121 743.073 26.1121 Q750.891 26.1121 754.901 30.9732 Q758.912 35.7938 758.912 45.1919 Z\" fill=\"#000000\" fill-rule=\"evenodd\" fill-opacity=\"1\" /><path clip-path=\"url(#clip920)\" d=\"M 0 0 M784.311 32.4315 Q778.316 32.4315 774.832 37.1306 Q771.348 41.7891 771.348 49.9314 Q771.348 58.0738 774.791 62.7728 Q778.275 67.4314 784.311 67.4314 Q790.266 67.4314 793.749 62.7323 Q797.233 58.0333 797.233 49.9314 Q797.233 41.8701 793.749 37.1711 Q790.266 32.4315 784.311 32.4315 M784.311 26.1121 Q794.033 26.1121 799.583 32.4315 Q805.133 38.7509 805.133 49.9314 Q805.133 61.0714 799.583 67.4314 Q794.033 73.7508 784.311 73.7508 Q774.548 73.7508 768.998 67.4314 Q763.489 61.0714 763.489 49.9314 Q763.489 38.7509 768.998 32.4315 Q774.548 26.1121 784.311 26.1121 Z\" fill=\"#000000\" fill-rule=\"evenodd\" fill-opacity=\"1\" /><path clip-path=\"url(#clip920)\" d=\"M 0 0 M848.275 35.9153 Q851.07 30.8922 854.959 28.5022 Q858.847 26.1121 864.114 26.1121 Q871.203 26.1121 875.051 31.0947 Q878.899 36.0368 878.899 45.1919 L878.899 72.576 L871.405 72.576 L871.405 45.4349 Q871.405 38.913 869.096 35.7533 Q866.787 32.5936 862.048 32.5936 Q856.255 32.5936 852.893 36.4419 Q849.53 40.2903 849.53 46.9338 L849.53 72.576 L842.036 72.576 L842.036 45.4349 Q842.036 38.8725 839.727 35.7533 Q837.418 32.5936 832.598 32.5936 Q826.886 32.5936 823.524 36.4824 Q820.161 40.3308 820.161 46.9338 L820.161 72.576 L812.667 72.576 L812.667 27.2059 L820.161 27.2059 L820.161 34.2544 Q822.713 30.082 826.278 28.0971 Q829.843 26.1121 834.745 26.1121 Q839.687 26.1121 843.13 28.6237 Q846.614 31.1352 848.275 35.9153 Z\" fill=\"#000000\" fill-rule=\"evenodd\" fill-opacity=\"1\" /><path clip-path=\"url(#clip920)\" d=\"M 0 0 M886.718 27.2059 L894.171 27.2059 L894.171 72.576 L886.718 72.576 L886.718 27.2059 M886.718 9.54393 L894.171 9.54393 L894.171 18.9825 L886.718 18.9825 L886.718 9.54393 Z\" fill=\"#000000\" fill-rule=\"evenodd\" fill-opacity=\"1\" /><path clip-path=\"url(#clip920)\" d=\"M 0 0 M922.609 49.7694 Q913.575 49.7694 910.091 51.8354 Q906.608 53.9013 906.608 58.8839 Q906.608 62.8538 909.2 65.2034 Q911.833 67.5124 916.33 67.5124 Q922.528 67.5124 926.255 63.1374 Q930.022 58.7219 930.022 51.4303 L930.022 49.7694 L922.609 49.7694 M937.476 46.6907 L937.476 72.576 L930.022 72.576 L930.022 65.6895 Q927.47 69.8214 923.662 71.8063 Q919.854 73.7508 914.345 73.7508 Q907.377 73.7508 903.245 69.8619 Q899.154 65.9325 899.154 59.3701 Q899.154 51.7138 904.258 47.825 Q909.403 43.9361 919.571 43.9361 L930.022 43.9361 L930.022 43.2069 Q930.022 38.0623 926.619 35.2672 Q923.257 32.4315 917.14 32.4315 Q913.251 32.4315 909.565 33.3632 Q905.878 34.295 902.476 36.1584 L902.476 29.2718 Q906.567 27.692 910.416 26.9223 Q914.264 26.1121 917.91 26.1121 Q927.753 26.1121 932.614 31.2163 Q937.476 36.3204 937.476 46.6907 Z\" fill=\"#000000\" fill-rule=\"evenodd\" fill-opacity=\"1\" /><path clip-path=\"url(#clip920)\" d=\"M 0 0 M945.294 9.54393 L952.747 9.54393 L952.747 72.576 L945.294 72.576 L945.294 9.54393 Z\" fill=\"#000000\" fill-rule=\"evenodd\" fill-opacity=\"1\" /><path clip-path=\"url(#clip920)\" d=\"M 0 0 M994.148 65.7705 L994.148 89.8329 L986.654 89.8329 L986.654 27.2059 L994.148 27.2059 L994.148 34.0924 Q996.497 30.0415 1000.06 28.0971 Q1003.67 26.1121 1008.65 26.1121 Q1016.91 26.1121 1022.06 32.6746 Q1027.24 39.2371 1027.24 49.9314 Q1027.24 60.6258 1022.06 67.1883 Q1016.91 73.7508 1008.65 73.7508 Q1003.67 73.7508 1000.06 71.8063 Q996.497 69.8214 994.148 65.7705 M1019.51 49.9314 Q1019.51 41.7081 1016.1 37.0496 Q1012.74 32.3505 1006.83 32.3505 Q1000.91 32.3505 997.51 37.0496 Q994.148 41.7081 994.148 49.9314 Q994.148 58.1548 997.51 62.8538 Q1000.91 67.5124 1006.83 67.5124 Q1012.74 67.5124 1016.1 62.8538 Q1019.51 58.1548 1019.51 49.9314 Z\" fill=\"#000000\" fill-rule=\"evenodd\" fill-opacity=\"1\" /><path clip-path=\"url(#clip920)\" d=\"M 0 0 M1070.39 35.9153 Q1073.18 30.8922 1077.07 28.5022 Q1080.96 26.1121 1086.22 26.1121 Q1093.31 26.1121 1097.16 31.0947 Q1101.01 36.0368 1101.01 45.1919 L1101.01 72.576 L1093.52 72.576 L1093.52 45.4349 Q1093.52 38.913 1091.21 35.7533 Q1088.9 32.5936 1084.16 32.5936 Q1078.37 32.5936 1075 36.4419 Q1071.64 40.2903 1071.64 46.9338 L1071.64 72.576 L1064.15 72.576 L1064.15 45.4349 Q1064.15 38.8725 1061.84 35.7533 Q1059.53 32.5936 1054.71 32.5936 Q1049 32.5936 1045.63 36.4824 Q1042.27 40.3308 1042.27 46.9338 L1042.27 72.576 L1034.78 72.576 L1034.78 27.2059 L1042.27 27.2059 L1042.27 34.2544 Q1044.82 30.082 1048.39 28.0971 Q1051.95 26.1121 1056.86 26.1121 Q1061.8 26.1121 1065.24 28.6237 Q1068.72 31.1352 1070.39 35.9153 Z\" fill=\"#000000\" fill-rule=\"evenodd\" fill-opacity=\"1\" /><path clip-path=\"url(#clip920)\" d=\"M 0 0 M1131.8 9.54393 L1131.8 15.7418 L1124.67 15.7418 Q1120.66 15.7418 1119.08 17.3622 Q1117.54 18.9825 1117.54 23.1955 L1117.54 27.2059 L1129.81 27.2059 L1129.81 32.9987 L1117.54 32.9987 L1117.54 72.576 L1110.04 72.576 L1110.04 32.9987 L1102.91 32.9987 L1102.91 27.2059 L1110.04 27.2059 L1110.04 24.0462 Q1110.04 16.471 1113.57 13.0277 Q1117.09 9.54393 1124.75 9.54393 L1131.8 9.54393 Z\" fill=\"#000000\" fill-rule=\"evenodd\" fill-opacity=\"1\" /><polyline clip-path=\"url(#clip922)\" style=\"stroke:#009af9; stroke-width:4; stroke-opacity:1; fill:none\" points=\"\n",
       "  271.566,1405.91 395.954,1360.74 520.341,1185.07 644.728,808.649 769.116,356.942 893.503,146.145 1017.89,356.942 1142.28,808.649 1266.67,1185.07 1391.05,1360.74 \n",
       "  1515.44,1405.91 \n",
       "  \"/>\n",
       "<circle clip-path=\"url(#clip922)\" cx=\"271.566\" cy=\"1405.91\" r=\"10\" fill=\"#009af9\" fill-rule=\"evenodd\" fill-opacity=\"1\" stroke=\"#000000\" stroke-opacity=\"1\" stroke-width=\"3.2\"/>\n",
       "<circle clip-path=\"url(#clip922)\" cx=\"395.954\" cy=\"1360.74\" r=\"10\" fill=\"#009af9\" fill-rule=\"evenodd\" fill-opacity=\"1\" stroke=\"#000000\" stroke-opacity=\"1\" stroke-width=\"3.2\"/>\n",
       "<circle clip-path=\"url(#clip922)\" cx=\"520.341\" cy=\"1185.07\" r=\"10\" fill=\"#009af9\" fill-rule=\"evenodd\" fill-opacity=\"1\" stroke=\"#000000\" stroke-opacity=\"1\" stroke-width=\"3.2\"/>\n",
       "<circle clip-path=\"url(#clip922)\" cx=\"644.728\" cy=\"808.649\" r=\"10\" fill=\"#009af9\" fill-rule=\"evenodd\" fill-opacity=\"1\" stroke=\"#000000\" stroke-opacity=\"1\" stroke-width=\"3.2\"/>\n",
       "<circle clip-path=\"url(#clip922)\" cx=\"769.116\" cy=\"356.942\" r=\"10\" fill=\"#009af9\" fill-rule=\"evenodd\" fill-opacity=\"1\" stroke=\"#000000\" stroke-opacity=\"1\" stroke-width=\"3.2\"/>\n",
       "<circle clip-path=\"url(#clip922)\" cx=\"893.503\" cy=\"146.145\" r=\"10\" fill=\"#009af9\" fill-rule=\"evenodd\" fill-opacity=\"1\" stroke=\"#000000\" stroke-opacity=\"1\" stroke-width=\"3.2\"/>\n",
       "<circle clip-path=\"url(#clip922)\" cx=\"1017.89\" cy=\"356.942\" r=\"10\" fill=\"#009af9\" fill-rule=\"evenodd\" fill-opacity=\"1\" stroke=\"#000000\" stroke-opacity=\"1\" stroke-width=\"3.2\"/>\n",
       "<circle clip-path=\"url(#clip922)\" cx=\"1142.28\" cy=\"808.649\" r=\"10\" fill=\"#009af9\" fill-rule=\"evenodd\" fill-opacity=\"1\" stroke=\"#000000\" stroke-opacity=\"1\" stroke-width=\"3.2\"/>\n",
       "<circle clip-path=\"url(#clip922)\" cx=\"1266.67\" cy=\"1185.07\" r=\"10\" fill=\"#009af9\" fill-rule=\"evenodd\" fill-opacity=\"1\" stroke=\"#000000\" stroke-opacity=\"1\" stroke-width=\"3.2\"/>\n",
       "<circle clip-path=\"url(#clip922)\" cx=\"1391.05\" cy=\"1360.74\" r=\"10\" fill=\"#009af9\" fill-rule=\"evenodd\" fill-opacity=\"1\" stroke=\"#000000\" stroke-opacity=\"1\" stroke-width=\"3.2\"/>\n",
       "<circle clip-path=\"url(#clip922)\" cx=\"1515.44\" cy=\"1405.91\" r=\"10\" fill=\"#009af9\" fill-rule=\"evenodd\" fill-opacity=\"1\" stroke=\"#000000\" stroke-opacity=\"1\" stroke-width=\"3.2\"/>\n",
       "<path clip-path=\"url(#clip920)\" d=\"\n",
       "M1834.25 1443.7 L3152.76 1443.7 L3152.76 108.352 L1834.25 108.352  Z\n",
       "  \" fill=\"#ffffff\" fill-rule=\"evenodd\" fill-opacity=\"1\"/>\n",
       "<defs>\n",
       "  <clipPath id=\"clip923\">\n",
       "    <rect x=\"1834\" y=\"108\" width=\"1320\" height=\"1336\"/>\n",
       "  </clipPath>\n",
       "</defs>\n",
       "<polyline clip-path=\"url(#clip923)\" style=\"stroke:#000000; stroke-width:2; stroke-opacity:0.1; fill:none\" points=\"\n",
       "  1995.95,1443.7 1995.95,108.352 \n",
       "  \"/>\n",
       "<polyline clip-path=\"url(#clip923)\" style=\"stroke:#000000; stroke-width:2; stroke-opacity:0.1; fill:none\" points=\"\n",
       "  2244.73,1443.7 2244.73,108.352 \n",
       "  \"/>\n",
       "<polyline clip-path=\"url(#clip923)\" style=\"stroke:#000000; stroke-width:2; stroke-opacity:0.1; fill:none\" points=\"\n",
       "  2493.5,1443.7 2493.5,108.352 \n",
       "  \"/>\n",
       "<polyline clip-path=\"url(#clip923)\" style=\"stroke:#000000; stroke-width:2; stroke-opacity:0.1; fill:none\" points=\"\n",
       "  2742.28,1443.7 2742.28,108.352 \n",
       "  \"/>\n",
       "<polyline clip-path=\"url(#clip923)\" style=\"stroke:#000000; stroke-width:2; stroke-opacity:0.1; fill:none\" points=\"\n",
       "  2991.05,1443.7 2991.05,108.352 \n",
       "  \"/>\n",
       "<polyline clip-path=\"url(#clip920)\" style=\"stroke:#000000; stroke-width:4; stroke-opacity:1; fill:none\" points=\"\n",
       "  1834.25,1443.7 3152.76,1443.7 \n",
       "  \"/>\n",
       "<polyline clip-path=\"url(#clip920)\" style=\"stroke:#000000; stroke-width:4; stroke-opacity:1; fill:none\" points=\"\n",
       "  1995.95,1443.7 1995.95,1427.68 \n",
       "  \"/>\n",
       "<polyline clip-path=\"url(#clip920)\" style=\"stroke:#000000; stroke-width:4; stroke-opacity:1; fill:none\" points=\"\n",
       "  2244.73,1443.7 2244.73,1427.68 \n",
       "  \"/>\n",
       "<polyline clip-path=\"url(#clip920)\" style=\"stroke:#000000; stroke-width:4; stroke-opacity:1; fill:none\" points=\"\n",
       "  2493.5,1443.7 2493.5,1427.68 \n",
       "  \"/>\n",
       "<polyline clip-path=\"url(#clip920)\" style=\"stroke:#000000; stroke-width:4; stroke-opacity:1; fill:none\" points=\"\n",
       "  2742.28,1443.7 2742.28,1427.68 \n",
       "  \"/>\n",
       "<polyline clip-path=\"url(#clip920)\" style=\"stroke:#000000; stroke-width:4; stroke-opacity:1; fill:none\" points=\"\n",
       "  2991.05,1443.7 2991.05,1427.68 \n",
       "  \"/>\n",
       "<path clip-path=\"url(#clip920)\" d=\"M 0 0 M1990.61 1506.84 L2006.93 1506.84 L2006.93 1510.77 L1984.98 1510.77 L1984.98 1506.84 Q1987.64 1504.08 1992.23 1499.45 Q1996.83 1494.8 1998.01 1493.46 Q2000.26 1490.93 2001.14 1489.2 Q2002.04 1487.44 2002.04 1485.75 Q2002.04 1482.99 2000.1 1481.26 Q1998.18 1479.52 1995.07 1479.52 Q1992.87 1479.52 1990.42 1480.29 Q1987.99 1481.05 1985.21 1482.6 L1985.21 1477.88 Q1988.04 1476.74 1990.49 1476.17 Q1992.94 1475.59 1994.98 1475.59 Q2000.35 1475.59 2003.55 1478.27 Q2006.74 1480.96 2006.74 1485.45 Q2006.74 1487.58 2005.93 1489.5 Q2005.14 1491.4 2003.04 1493.99 Q2002.46 1494.66 1999.36 1497.88 Q1996.25 1501.07 1990.61 1506.84 Z\" fill=\"#000000\" fill-rule=\"evenodd\" fill-opacity=\"1\" /><path clip-path=\"url(#clip920)\" d=\"M 0 0 M2247.74 1480.29 L2235.93 1498.73 L2247.74 1498.73 L2247.74 1480.29 M2246.51 1476.21 L2252.39 1476.21 L2252.39 1498.73 L2257.32 1498.73 L2257.32 1502.62 L2252.39 1502.62 L2252.39 1510.77 L2247.74 1510.77 L2247.74 1502.62 L2232.14 1502.62 L2232.14 1498.11 L2246.51 1476.21 Z\" fill=\"#000000\" fill-rule=\"evenodd\" fill-opacity=\"1\" /><path clip-path=\"url(#clip920)\" d=\"M 0 0 M2493.91 1491.63 Q2490.76 1491.63 2488.91 1493.78 Q2487.08 1495.93 2487.08 1499.68 Q2487.08 1503.41 2488.91 1505.59 Q2490.76 1507.74 2493.91 1507.74 Q2497.06 1507.74 2498.88 1505.59 Q2500.74 1503.41 2500.74 1499.68 Q2500.74 1495.93 2498.88 1493.78 Q2497.06 1491.63 2493.91 1491.63 M2503.19 1476.98 L2503.19 1481.23 Q2501.43 1480.4 2499.63 1479.96 Q2497.84 1479.52 2496.08 1479.52 Q2491.45 1479.52 2489 1482.65 Q2486.57 1485.77 2486.22 1492.09 Q2487.59 1490.08 2489.65 1489.01 Q2491.71 1487.92 2494.19 1487.92 Q2499.39 1487.92 2502.4 1491.1 Q2505.44 1494.24 2505.44 1499.68 Q2505.44 1505.01 2502.29 1508.23 Q2499.14 1511.44 2493.91 1511.44 Q2487.91 1511.44 2484.74 1506.86 Q2481.57 1502.25 2481.57 1493.53 Q2481.57 1485.33 2485.46 1480.47 Q2489.35 1475.59 2495.9 1475.59 Q2497.66 1475.59 2499.44 1475.93 Q2501.25 1476.28 2503.19 1476.98 Z\" fill=\"#000000\" fill-rule=\"evenodd\" fill-opacity=\"1\" /><path clip-path=\"url(#clip920)\" d=\"M 0 0 M2742.28 1494.36 Q2738.94 1494.36 2737.02 1496.14 Q2735.12 1497.92 2735.12 1501.05 Q2735.12 1504.17 2737.02 1505.96 Q2738.94 1507.74 2742.28 1507.74 Q2745.61 1507.74 2747.53 1505.96 Q2749.45 1504.15 2749.45 1501.05 Q2749.45 1497.92 2747.53 1496.14 Q2745.63 1494.36 2742.28 1494.36 M2737.6 1492.37 Q2734.59 1491.63 2732.9 1489.57 Q2731.24 1487.51 2731.24 1484.55 Q2731.24 1480.4 2734.18 1477.99 Q2737.14 1475.59 2742.28 1475.59 Q2747.44 1475.59 2750.38 1477.99 Q2753.32 1480.4 2753.32 1484.55 Q2753.32 1487.51 2751.63 1489.57 Q2749.96 1491.63 2746.98 1492.37 Q2750.36 1493.16 2752.23 1495.45 Q2754.13 1497.74 2754.13 1501.05 Q2754.13 1506.07 2751.05 1508.76 Q2748 1511.44 2742.28 1511.44 Q2736.56 1511.44 2733.48 1508.76 Q2730.43 1506.07 2730.43 1501.05 Q2730.43 1497.74 2732.32 1495.45 Q2734.22 1493.16 2737.6 1492.37 M2735.89 1484.98 Q2735.89 1487.67 2737.56 1489.17 Q2739.25 1490.68 2742.28 1490.68 Q2745.29 1490.68 2746.98 1489.17 Q2748.69 1487.67 2748.69 1484.98 Q2748.69 1482.3 2746.98 1480.8 Q2745.29 1479.29 2742.28 1479.29 Q2739.25 1479.29 2737.56 1480.8 Q2735.89 1482.3 2735.89 1484.98 Z\" fill=\"#000000\" fill-rule=\"evenodd\" fill-opacity=\"1\" /><path clip-path=\"url(#clip920)\" d=\"M 0 0 M2967.93 1506.84 L2975.57 1506.84 L2975.57 1480.47 L2967.26 1482.14 L2967.26 1477.88 L2975.52 1476.21 L2980.2 1476.21 L2980.2 1506.84 L2987.83 1506.84 L2987.83 1510.77 L2967.93 1510.77 L2967.93 1506.84 Z\" fill=\"#000000\" fill-rule=\"evenodd\" fill-opacity=\"1\" /><path clip-path=\"url(#clip920)\" d=\"M 0 0 M3002.9 1479.29 Q2999.29 1479.29 2997.46 1482.86 Q2995.66 1486.4 2995.66 1493.53 Q2995.66 1500.63 2997.46 1504.2 Q2999.29 1507.74 3002.9 1507.74 Q3006.54 1507.74 3008.34 1504.2 Q3010.17 1500.63 3010.17 1493.53 Q3010.17 1486.4 3008.34 1482.86 Q3006.54 1479.29 3002.9 1479.29 M3002.9 1475.59 Q3008.71 1475.59 3011.77 1480.19 Q3014.85 1484.78 3014.85 1493.53 Q3014.85 1502.25 3011.77 1506.86 Q3008.71 1511.44 3002.9 1511.44 Q2997.09 1511.44 2994.02 1506.86 Q2990.96 1502.25 2990.96 1493.53 Q2990.96 1484.78 2994.02 1480.19 Q2997.09 1475.59 3002.9 1475.59 Z\" fill=\"#000000\" fill-rule=\"evenodd\" fill-opacity=\"1\" /><path clip-path=\"url(#clip920)\" d=\"M 0 0 M2477.68 1535.04 L2483.57 1535.04 L2483.57 1564.29 L2501.05 1548.92 L2508.53 1548.92 L2489.62 1565.59 L2509.32 1584.56 L2501.68 1584.56 L2483.57 1567.15 L2483.57 1584.56 L2477.68 1584.56 L2477.68 1535.04 Z\" fill=\"#000000\" fill-rule=\"evenodd\" fill-opacity=\"1\" /><polyline clip-path=\"url(#clip923)\" style=\"stroke:#000000; stroke-width:2; stroke-opacity:0.1; fill:none\" points=\"\n",
       "  1834.25,1407.14 3152.76,1407.14 \n",
       "  \"/>\n",
       "<polyline clip-path=\"url(#clip923)\" style=\"stroke:#000000; stroke-width:2; stroke-opacity:0.1; fill:none\" points=\"\n",
       "  1834.25,1091.89 3152.76,1091.89 \n",
       "  \"/>\n",
       "<polyline clip-path=\"url(#clip923)\" style=\"stroke:#000000; stroke-width:2; stroke-opacity:0.1; fill:none\" points=\"\n",
       "  1834.25,776.642 3152.76,776.642 \n",
       "  \"/>\n",
       "<polyline clip-path=\"url(#clip923)\" style=\"stroke:#000000; stroke-width:2; stroke-opacity:0.1; fill:none\" points=\"\n",
       "  1834.25,461.393 3152.76,461.393 \n",
       "  \"/>\n",
       "<polyline clip-path=\"url(#clip923)\" style=\"stroke:#000000; stroke-width:2; stroke-opacity:0.1; fill:none\" points=\"\n",
       "  1834.25,146.145 3152.76,146.145 \n",
       "  \"/>\n",
       "<polyline clip-path=\"url(#clip920)\" style=\"stroke:#000000; stroke-width:4; stroke-opacity:1; fill:none\" points=\"\n",
       "  1834.25,1443.7 1834.25,108.352 \n",
       "  \"/>\n",
       "<polyline clip-path=\"url(#clip920)\" style=\"stroke:#000000; stroke-width:4; stroke-opacity:1; fill:none\" points=\"\n",
       "  1834.25,1407.14 1850.07,1407.14 \n",
       "  \"/>\n",
       "<polyline clip-path=\"url(#clip920)\" style=\"stroke:#000000; stroke-width:4; stroke-opacity:1; fill:none\" points=\"\n",
       "  1834.25,1091.89 1850.07,1091.89 \n",
       "  \"/>\n",
       "<polyline clip-path=\"url(#clip920)\" style=\"stroke:#000000; stroke-width:4; stroke-opacity:1; fill:none\" points=\"\n",
       "  1834.25,776.642 1850.07,776.642 \n",
       "  \"/>\n",
       "<polyline clip-path=\"url(#clip920)\" style=\"stroke:#000000; stroke-width:4; stroke-opacity:1; fill:none\" points=\"\n",
       "  1834.25,461.393 1850.07,461.393 \n",
       "  \"/>\n",
       "<polyline clip-path=\"url(#clip920)\" style=\"stroke:#000000; stroke-width:4; stroke-opacity:1; fill:none\" points=\"\n",
       "  1834.25,146.145 1850.07,146.145 \n",
       "  \"/>\n",
       "<path clip-path=\"url(#clip920)\" d=\"M 0 0 M1710.32 1392.94 Q1706.71 1392.94 1704.88 1396.5 Q1703.08 1400.04 1703.08 1407.17 Q1703.08 1414.28 1704.88 1417.84 Q1706.71 1421.39 1710.32 1421.39 Q1713.96 1421.39 1715.76 1417.84 Q1717.59 1414.28 1717.59 1407.17 Q1717.59 1400.04 1715.76 1396.5 Q1713.96 1392.94 1710.32 1392.94 M1710.32 1389.23 Q1716.13 1389.23 1719.19 1393.84 Q1722.27 1398.42 1722.27 1407.17 Q1722.27 1415.9 1719.19 1420.51 Q1716.13 1425.09 1710.32 1425.09 Q1704.51 1425.09 1701.44 1420.51 Q1698.38 1415.9 1698.38 1407.17 Q1698.38 1398.42 1701.44 1393.84 Q1704.51 1389.23 1710.32 1389.23 Z\" fill=\"#000000\" fill-rule=\"evenodd\" fill-opacity=\"1\" /><path clip-path=\"url(#clip920)\" d=\"M 0 0 M1727.34 1418.54 L1732.22 1418.54 L1732.22 1424.42 L1727.34 1424.42 L1727.34 1418.54 Z\" fill=\"#000000\" fill-rule=\"evenodd\" fill-opacity=\"1\" /><path clip-path=\"url(#clip920)\" d=\"M 0 0 M1747.29 1392.94 Q1743.68 1392.94 1741.85 1396.5 Q1740.05 1400.04 1740.05 1407.17 Q1740.05 1414.28 1741.85 1417.84 Q1743.68 1421.39 1747.29 1421.39 Q1750.93 1421.39 1752.73 1417.84 Q1754.56 1414.28 1754.56 1407.17 Q1754.56 1400.04 1752.73 1396.5 Q1750.93 1392.94 1747.29 1392.94 M1747.29 1389.23 Q1753.1 1389.23 1756.16 1393.84 Q1759.24 1398.42 1759.24 1407.17 Q1759.24 1415.9 1756.16 1420.51 Q1753.1 1425.09 1747.29 1425.09 Q1741.48 1425.09 1738.4 1420.51 Q1735.35 1415.9 1735.35 1407.17 Q1735.35 1398.42 1738.4 1393.84 Q1741.48 1389.23 1747.29 1389.23 Z\" fill=\"#000000\" fill-rule=\"evenodd\" fill-opacity=\"1\" /><path clip-path=\"url(#clip920)\" d=\"M 0 0 M1774.31 1392.94 Q1770.69 1392.94 1768.87 1396.5 Q1767.06 1400.04 1767.06 1407.17 Q1767.06 1414.28 1768.87 1417.84 Q1770.69 1421.39 1774.31 1421.39 Q1777.94 1421.39 1779.75 1417.84 Q1781.57 1414.28 1781.57 1407.17 Q1781.57 1400.04 1779.75 1396.5 Q1777.94 1392.94 1774.31 1392.94 M1774.31 1389.23 Q1780.12 1389.23 1783.17 1393.84 Q1786.25 1398.42 1786.25 1407.17 Q1786.25 1415.9 1783.17 1420.51 Q1780.12 1425.09 1774.31 1425.09 Q1768.5 1425.09 1765.42 1420.51 Q1762.36 1415.9 1762.36 1407.17 Q1762.36 1398.42 1765.42 1393.84 Q1768.5 1389.23 1774.31 1389.23 Z\" fill=\"#000000\" fill-rule=\"evenodd\" fill-opacity=\"1\" /><path clip-path=\"url(#clip920)\" d=\"M 0 0 M1712.92 1077.69 Q1709.31 1077.69 1707.48 1081.25 Q1705.67 1084.8 1705.67 1091.92 Q1705.67 1099.03 1707.48 1102.6 Q1709.31 1106.14 1712.92 1106.14 Q1716.55 1106.14 1718.36 1102.6 Q1720.19 1099.03 1720.19 1091.92 Q1720.19 1084.8 1718.36 1081.25 Q1716.55 1077.69 1712.92 1077.69 M1712.92 1073.99 Q1718.73 1073.99 1721.78 1078.59 Q1724.86 1083.17 1724.86 1091.92 Q1724.86 1100.65 1721.78 1105.26 Q1718.73 1109.84 1712.92 1109.84 Q1707.11 1109.84 1704.03 1105.26 Q1700.97 1100.65 1700.97 1091.92 Q1700.97 1083.17 1704.03 1078.59 Q1707.11 1073.99 1712.92 1073.99 Z\" fill=\"#000000\" fill-rule=\"evenodd\" fill-opacity=\"1\" /><path clip-path=\"url(#clip920)\" d=\"M 0 0 M1729.93 1103.29 L1734.82 1103.29 L1734.82 1109.17 L1729.93 1109.17 L1729.93 1103.29 Z\" fill=\"#000000\" fill-rule=\"evenodd\" fill-opacity=\"1\" /><path clip-path=\"url(#clip920)\" d=\"M 0 0 M1743.91 1105.23 L1760.23 1105.23 L1760.23 1109.17 L1738.29 1109.17 L1738.29 1105.23 Q1740.95 1102.48 1745.53 1097.85 Q1750.14 1093.2 1751.32 1091.86 Q1753.57 1089.33 1754.44 1087.6 Q1755.35 1085.84 1755.35 1084.15 Q1755.35 1081.39 1753.4 1079.66 Q1751.48 1077.92 1748.38 1077.92 Q1746.18 1077.92 1743.73 1078.68 Q1741.3 1079.45 1738.52 1081 L1738.52 1076.28 Q1741.34 1075.14 1743.8 1074.56 Q1746.25 1073.99 1748.29 1073.99 Q1753.66 1073.99 1756.85 1076.67 Q1760.05 1079.36 1760.05 1083.85 Q1760.05 1085.98 1759.24 1087.9 Q1758.45 1089.8 1756.34 1092.39 Q1755.76 1093.06 1752.66 1096.28 Q1749.56 1099.47 1743.91 1105.23 Z\" fill=\"#000000\" fill-rule=\"evenodd\" fill-opacity=\"1\" /><path clip-path=\"url(#clip920)\" d=\"M 0 0 M1765.35 1074.61 L1783.7 1074.61 L1783.7 1078.55 L1769.63 1078.55 L1769.63 1087.02 Q1770.65 1086.67 1771.67 1086.51 Q1772.69 1086.32 1773.7 1086.32 Q1779.49 1086.32 1782.87 1089.49 Q1786.25 1092.67 1786.25 1098.08 Q1786.25 1103.66 1782.78 1106.76 Q1779.31 1109.84 1772.99 1109.84 Q1770.81 1109.84 1768.54 1109.47 Q1766.3 1109.1 1763.89 1108.36 L1763.89 1103.66 Q1765.97 1104.8 1768.19 1105.35 Q1770.42 1105.91 1772.89 1105.91 Q1776.9 1105.91 1779.24 1103.8 Q1781.57 1101.69 1781.57 1098.08 Q1781.57 1094.47 1779.24 1092.36 Q1776.9 1090.26 1772.89 1090.26 Q1771.02 1090.26 1769.14 1090.67 Q1767.29 1091.09 1765.35 1091.97 L1765.35 1074.61 Z\" fill=\"#000000\" fill-rule=\"evenodd\" fill-opacity=\"1\" /><path clip-path=\"url(#clip920)\" d=\"M 0 0 M1711.32 762.44 Q1707.71 762.44 1705.88 766.005 Q1704.07 769.547 1704.07 776.676 Q1704.07 783.783 1705.88 787.348 Q1707.71 790.889 1711.32 790.889 Q1714.95 790.889 1716.76 787.348 Q1718.59 783.783 1718.59 776.676 Q1718.59 769.547 1716.76 766.005 Q1714.95 762.44 1711.32 762.44 M1711.32 758.737 Q1717.13 758.737 1720.19 763.343 Q1723.26 767.926 1723.26 776.676 Q1723.26 785.403 1720.19 790.01 Q1717.13 794.593 1711.32 794.593 Q1705.51 794.593 1702.43 790.01 Q1699.38 785.403 1699.38 776.676 Q1699.38 767.926 1702.43 763.343 Q1705.51 758.737 1711.32 758.737 Z\" fill=\"#000000\" fill-rule=\"evenodd\" fill-opacity=\"1\" /><path clip-path=\"url(#clip920)\" d=\"M 0 0 M1728.33 788.042 L1733.22 788.042 L1733.22 793.922 L1728.33 793.922 L1728.33 788.042 Z\" fill=\"#000000\" fill-rule=\"evenodd\" fill-opacity=\"1\" /><path clip-path=\"url(#clip920)\" d=\"M 0 0 M1738.33 759.362 L1756.69 759.362 L1756.69 763.297 L1742.62 763.297 L1742.62 771.769 Q1743.63 771.422 1744.65 771.26 Q1745.67 771.075 1746.69 771.075 Q1752.48 771.075 1755.86 774.246 Q1759.24 777.417 1759.24 782.834 Q1759.24 788.412 1755.76 791.514 Q1752.29 794.593 1745.97 794.593 Q1743.8 794.593 1741.53 794.223 Q1739.28 793.852 1736.88 793.112 L1736.88 788.412 Q1738.96 789.547 1741.18 790.102 Q1743.4 790.658 1745.88 790.658 Q1749.88 790.658 1752.22 788.551 Q1754.56 786.445 1754.56 782.834 Q1754.56 779.223 1752.22 777.116 Q1749.88 775.01 1745.88 775.01 Q1744 775.01 1742.13 775.426 Q1740.28 775.843 1738.33 776.723 L1738.33 759.362 Z\" fill=\"#000000\" fill-rule=\"evenodd\" fill-opacity=\"1\" /><path clip-path=\"url(#clip920)\" d=\"M 0 0 M1774.31 762.44 Q1770.69 762.44 1768.87 766.005 Q1767.06 769.547 1767.06 776.676 Q1767.06 783.783 1768.87 787.348 Q1770.69 790.889 1774.31 790.889 Q1777.94 790.889 1779.75 787.348 Q1781.57 783.783 1781.57 776.676 Q1781.57 769.547 1779.75 766.005 Q1777.94 762.44 1774.31 762.44 M1774.31 758.737 Q1780.12 758.737 1783.17 763.343 Q1786.25 767.926 1786.25 776.676 Q1786.25 785.403 1783.17 790.01 Q1780.12 794.593 1774.31 794.593 Q1768.5 794.593 1765.42 790.01 Q1762.36 785.403 1762.36 776.676 Q1762.36 767.926 1765.42 763.343 Q1768.5 758.737 1774.31 758.737 Z\" fill=\"#000000\" fill-rule=\"evenodd\" fill-opacity=\"1\" /><path clip-path=\"url(#clip920)\" d=\"M 0 0 M1712.22 447.192 Q1708.61 447.192 1706.78 450.757 Q1704.98 454.298 1704.98 461.428 Q1704.98 468.535 1706.78 472.099 Q1708.61 475.641 1712.22 475.641 Q1715.86 475.641 1717.66 472.099 Q1719.49 468.535 1719.49 461.428 Q1719.49 454.298 1717.66 450.757 Q1715.86 447.192 1712.22 447.192 M1712.22 443.488 Q1718.03 443.488 1721.09 448.095 Q1724.17 452.678 1724.17 461.428 Q1724.17 470.155 1721.09 474.761 Q1718.03 479.345 1712.22 479.345 Q1706.41 479.345 1703.33 474.761 Q1700.28 470.155 1700.28 461.428 Q1700.28 452.678 1703.33 448.095 Q1706.41 443.488 1712.22 443.488 Z\" fill=\"#000000\" fill-rule=\"evenodd\" fill-opacity=\"1\" /><path clip-path=\"url(#clip920)\" d=\"M 0 0 M1729.24 472.794 L1734.12 472.794 L1734.12 478.673 L1729.24 478.673 L1729.24 472.794 Z\" fill=\"#000000\" fill-rule=\"evenodd\" fill-opacity=\"1\" /><path clip-path=\"url(#clip920)\" d=\"M 0 0 M1738.01 444.113 L1760.23 444.113 L1760.23 446.104 L1747.69 478.673 L1742.8 478.673 L1754.61 448.049 L1738.01 448.049 L1738.01 444.113 Z\" fill=\"#000000\" fill-rule=\"evenodd\" fill-opacity=\"1\" /><path clip-path=\"url(#clip920)\" d=\"M 0 0 M1765.35 444.113 L1783.7 444.113 L1783.7 448.049 L1769.63 448.049 L1769.63 456.521 Q1770.65 456.173 1771.67 456.011 Q1772.69 455.826 1773.7 455.826 Q1779.49 455.826 1782.87 458.998 Q1786.25 462.169 1786.25 467.585 Q1786.25 473.164 1782.78 476.266 Q1779.31 479.345 1772.99 479.345 Q1770.81 479.345 1768.54 478.974 Q1766.3 478.604 1763.89 477.863 L1763.89 473.164 Q1765.97 474.298 1768.19 474.854 Q1770.42 475.409 1772.89 475.409 Q1776.9 475.409 1779.24 473.303 Q1781.57 471.197 1781.57 467.585 Q1781.57 463.974 1779.24 461.868 Q1776.9 459.761 1772.89 459.761 Q1771.02 459.761 1769.14 460.178 Q1767.29 460.595 1765.35 461.474 L1765.35 444.113 Z\" fill=\"#000000\" fill-rule=\"evenodd\" fill-opacity=\"1\" /><path clip-path=\"url(#clip920)\" d=\"M 0 0 M1702.36 159.49 L1710 159.49 L1710 133.124 L1701.69 134.791 L1701.69 130.532 L1709.95 128.865 L1714.63 128.865 L1714.63 159.49 L1722.27 159.49 L1722.27 163.425 L1702.36 163.425 L1702.36 159.49 Z\" fill=\"#000000\" fill-rule=\"evenodd\" fill-opacity=\"1\" /><path clip-path=\"url(#clip920)\" d=\"M 0 0 M1727.34 157.545 L1732.22 157.545 L1732.22 163.425 L1727.34 163.425 L1727.34 157.545 Z\" fill=\"#000000\" fill-rule=\"evenodd\" fill-opacity=\"1\" /><path clip-path=\"url(#clip920)\" d=\"M 0 0 M1747.29 131.944 Q1743.68 131.944 1741.85 135.508 Q1740.05 139.05 1740.05 146.18 Q1740.05 153.286 1741.85 156.851 Q1743.68 160.393 1747.29 160.393 Q1750.93 160.393 1752.73 156.851 Q1754.56 153.286 1754.56 146.18 Q1754.56 139.05 1752.73 135.508 Q1750.93 131.944 1747.29 131.944 M1747.29 128.24 Q1753.1 128.24 1756.16 132.846 Q1759.24 137.43 1759.24 146.18 Q1759.24 154.907 1756.16 159.513 Q1753.1 164.096 1747.29 164.096 Q1741.48 164.096 1738.4 159.513 Q1735.35 154.907 1735.35 146.18 Q1735.35 137.43 1738.4 132.846 Q1741.48 128.24 1747.29 128.24 Z\" fill=\"#000000\" fill-rule=\"evenodd\" fill-opacity=\"1\" /><path clip-path=\"url(#clip920)\" d=\"M 0 0 M1774.31 131.944 Q1770.69 131.944 1768.87 135.508 Q1767.06 139.05 1767.06 146.18 Q1767.06 153.286 1768.87 156.851 Q1770.69 160.393 1774.31 160.393 Q1777.94 160.393 1779.75 156.851 Q1781.57 153.286 1781.57 146.18 Q1781.57 139.05 1779.75 135.508 Q1777.94 131.944 1774.31 131.944 M1774.31 128.24 Q1780.12 128.24 1783.17 132.846 Q1786.25 137.43 1786.25 146.18 Q1786.25 154.907 1783.17 159.513 Q1780.12 164.096 1774.31 164.096 Q1768.5 164.096 1765.42 159.513 Q1762.36 154.907 1762.36 146.18 Q1762.36 137.43 1765.42 132.846 Q1768.5 128.24 1774.31 128.24 Z\" fill=\"#000000\" fill-rule=\"evenodd\" fill-opacity=\"1\" /><path clip-path=\"url(#clip920)\" d=\"M 0 0 M1662.78 824.883 L1681.68 824.883 L1681.68 830.771 L1632.48 830.771 L1632.48 824.883 L1637.89 824.883 Q1634.7 823.037 1633.18 820.236 Q1631.62 817.403 1631.62 813.488 Q1631.62 806.995 1636.77 802.953 Q1641.93 798.879 1650.33 798.879 Q1658.73 798.879 1663.89 802.953 Q1669.05 806.995 1669.05 813.488 Q1669.05 817.403 1667.52 820.236 Q1665.96 823.037 1662.78 824.883 M1650.33 804.958 Q1643.87 804.958 1640.21 807.632 Q1636.52 810.273 1636.52 814.92 Q1636.52 819.567 1640.21 822.241 Q1643.87 824.883 1650.33 824.883 Q1656.79 824.883 1660.49 822.241 Q1664.15 819.567 1664.15 814.92 Q1664.15 810.273 1660.49 807.632 Q1656.79 804.958 1650.33 804.958 Z\" fill=\"#000000\" fill-rule=\"evenodd\" fill-opacity=\"1\" /><path clip-path=\"url(#clip920)\" d=\"M 0 0 M1618.66 778.668 Q1625.98 782.933 1633.14 785.002 Q1640.31 787.07 1647.66 787.07 Q1655.01 787.07 1662.24 785.002 Q1669.43 782.901 1676.72 778.668 L1676.72 783.76 Q1669.24 788.535 1662.01 790.922 Q1654.79 793.277 1647.66 793.277 Q1640.56 793.277 1633.37 790.922 Q1626.17 788.566 1618.66 783.76 L1618.66 778.668 Z\" fill=\"#000000\" fill-rule=\"evenodd\" fill-opacity=\"1\" /><path clip-path=\"url(#clip920)\" d=\"M 0 0 M1618.6 772.748 L1618.6 766.859 L1647.85 766.859 L1632.48 749.386 L1632.48 741.906 L1649.15 760.812 L1668.12 741.11 L1668.12 748.749 L1650.71 766.859 L1668.12 766.859 L1668.12 772.748 L1618.6 772.748 Z\" fill=\"#000000\" fill-rule=\"evenodd\" fill-opacity=\"1\" /><path clip-path=\"url(#clip920)\" d=\"M 0 0 M1618.66 735.89 L1618.66 730.798 Q1626.17 726.023 1633.37 723.668 Q1640.56 721.281 1647.66 721.281 Q1654.79 721.281 1662.01 723.668 Q1669.24 726.023 1676.72 730.798 L1676.72 735.89 Q1669.43 731.657 1662.24 729.588 Q1655.01 727.487 1647.66 727.487 Q1640.31 727.487 1633.14 729.588 Q1625.98 731.657 1618.66 735.89 Z\" fill=\"#000000\" fill-rule=\"evenodd\" fill-opacity=\"1\" /><path clip-path=\"url(#clip920)\" d=\"M 0 0 M2281.54 43.6931 L2281.54 65.8515 L2294.66 65.8515 Q2301.27 65.8515 2304.43 63.1374 Q2307.63 60.3828 2307.63 54.752 Q2307.63 49.0808 2304.43 46.4072 Q2301.27 43.6931 2294.66 43.6931 L2281.54 43.6931 M2281.54 18.8205 L2281.54 37.0496 L2293.65 37.0496 Q2299.65 37.0496 2302.56 34.8216 Q2305.52 32.5531 2305.52 27.935 Q2305.52 23.3575 2302.56 21.089 Q2299.65 18.8205 2293.65 18.8205 L2281.54 18.8205 M2273.36 12.096 L2294.26 12.096 Q2303.62 12.096 2308.68 15.9849 Q2313.74 19.8737 2313.74 27.0438 Q2313.74 32.5936 2311.15 35.8748 Q2308.56 39.156 2303.54 39.9662 Q2309.57 41.2625 2312.89 45.3944 Q2316.26 49.4858 2316.26 55.6432 Q2316.26 63.745 2310.75 68.1605 Q2305.24 72.576 2295.07 72.576 L2273.36 72.576 L2273.36 12.096 Z\" fill=\"#000000\" fill-rule=\"evenodd\" fill-opacity=\"1\" /><path clip-path=\"url(#clip920)\" d=\"M 0 0 M2324.07 27.2059 L2331.53 27.2059 L2331.53 72.576 L2324.07 72.576 L2324.07 27.2059 M2324.07 9.54393 L2331.53 9.54393 L2331.53 18.9825 L2324.07 18.9825 L2324.07 9.54393 Z\" fill=\"#000000\" fill-rule=\"evenodd\" fill-opacity=\"1\" /><path clip-path=\"url(#clip920)\" d=\"M 0 0 M2377.06 45.1919 L2377.06 72.576 L2369.61 72.576 L2369.61 45.4349 Q2369.61 38.994 2367.09 35.7938 Q2364.58 32.5936 2359.56 32.5936 Q2353.52 32.5936 2350.04 36.4419 Q2346.56 40.2903 2346.56 46.9338 L2346.56 72.576 L2339.06 72.576 L2339.06 27.2059 L2346.56 27.2059 L2346.56 34.2544 Q2349.23 30.163 2352.84 28.1376 Q2356.48 26.1121 2361.22 26.1121 Q2369.04 26.1121 2373.05 30.9732 Q2377.06 35.7938 2377.06 45.1919 Z\" fill=\"#000000\" fill-rule=\"evenodd\" fill-opacity=\"1\" /><path clip-path=\"url(#clip920)\" d=\"M 0 0 M2402.46 32.4315 Q2396.46 32.4315 2392.98 37.1306 Q2389.5 41.7891 2389.5 49.9314 Q2389.5 58.0738 2392.94 62.7728 Q2396.42 67.4314 2402.46 67.4314 Q2408.41 67.4314 2411.9 62.7323 Q2415.38 58.0333 2415.38 49.9314 Q2415.38 41.8701 2411.9 37.1711 Q2408.41 32.4315 2402.46 32.4315 M2402.46 26.1121 Q2412.18 26.1121 2417.73 32.4315 Q2423.28 38.7509 2423.28 49.9314 Q2423.28 61.0714 2417.73 67.4314 Q2412.18 73.7508 2402.46 73.7508 Q2392.7 73.7508 2387.15 67.4314 Q2381.64 61.0714 2381.64 49.9314 Q2381.64 38.7509 2387.15 32.4315 Q2392.7 26.1121 2402.46 26.1121 Z\" fill=\"#000000\" fill-rule=\"evenodd\" fill-opacity=\"1\" /><path clip-path=\"url(#clip920)\" d=\"M 0 0 M2466.42 35.9153 Q2469.22 30.8922 2473.11 28.5022 Q2477 26.1121 2482.26 26.1121 Q2489.35 26.1121 2493.2 31.0947 Q2497.05 36.0368 2497.05 45.1919 L2497.05 72.576 L2489.55 72.576 L2489.55 45.4349 Q2489.55 38.913 2487.24 35.7533 Q2484.94 32.5936 2480.2 32.5936 Q2474.4 32.5936 2471.04 36.4419 Q2467.68 40.2903 2467.68 46.9338 L2467.68 72.576 L2460.18 72.576 L2460.18 45.4349 Q2460.18 38.8725 2457.88 35.7533 Q2455.57 32.5936 2450.75 32.5936 Q2445.03 32.5936 2441.67 36.4824 Q2438.31 40.3308 2438.31 46.9338 L2438.31 72.576 L2430.82 72.576 L2430.82 27.2059 L2438.31 27.2059 L2438.31 34.2544 Q2440.86 30.082 2444.43 28.0971 Q2447.99 26.1121 2452.89 26.1121 Q2457.83 26.1121 2461.28 28.6237 Q2464.76 31.1352 2466.42 35.9153 Z\" fill=\"#000000\" fill-rule=\"evenodd\" fill-opacity=\"1\" /><path clip-path=\"url(#clip920)\" d=\"M 0 0 M2504.87 27.2059 L2512.32 27.2059 L2512.32 72.576 L2504.87 72.576 L2504.87 27.2059 M2504.87 9.54393 L2512.32 9.54393 L2512.32 18.9825 L2504.87 18.9825 L2504.87 9.54393 Z\" fill=\"#000000\" fill-rule=\"evenodd\" fill-opacity=\"1\" /><path clip-path=\"url(#clip920)\" d=\"M 0 0 M2540.76 49.7694 Q2531.72 49.7694 2528.24 51.8354 Q2524.76 53.9013 2524.76 58.8839 Q2524.76 62.8538 2527.35 65.2034 Q2529.98 67.5124 2534.48 67.5124 Q2540.68 67.5124 2544.4 63.1374 Q2548.17 58.7219 2548.17 51.4303 L2548.17 49.7694 L2540.76 49.7694 M2555.62 46.6907 L2555.62 72.576 L2548.17 72.576 L2548.17 65.6895 Q2545.62 69.8214 2541.81 71.8063 Q2538 73.7508 2532.49 73.7508 Q2525.53 73.7508 2521.39 69.8619 Q2517.3 65.9325 2517.3 59.3701 Q2517.3 51.7138 2522.41 47.825 Q2527.55 43.9361 2537.72 43.9361 L2548.17 43.9361 L2548.17 43.2069 Q2548.17 38.0623 2544.77 35.2672 Q2541.4 32.4315 2535.29 32.4315 Q2531.4 32.4315 2527.71 33.3632 Q2524.03 34.295 2520.62 36.1584 L2520.62 29.2718 Q2524.72 27.692 2528.56 26.9223 Q2532.41 26.1121 2536.06 26.1121 Q2545.9 26.1121 2550.76 31.2163 Q2555.62 36.3204 2555.62 46.6907 Z\" fill=\"#000000\" fill-rule=\"evenodd\" fill-opacity=\"1\" /><path clip-path=\"url(#clip920)\" d=\"M 0 0 M2563.44 9.54393 L2570.9 9.54393 L2570.9 72.576 L2563.44 72.576 L2563.44 9.54393 Z\" fill=\"#000000\" fill-rule=\"evenodd\" fill-opacity=\"1\" /><path clip-path=\"url(#clip920)\" d=\"M 0 0 M2637.74 28.9478 L2637.74 35.9153 Q2634.58 34.1734 2631.38 33.3227 Q2628.22 32.4315 2624.98 32.4315 Q2617.72 32.4315 2613.71 37.0496 Q2609.7 41.6271 2609.7 49.9314 Q2609.7 58.2358 2613.71 62.8538 Q2617.72 67.4314 2624.98 67.4314 Q2628.22 67.4314 2631.38 66.5807 Q2634.58 65.6895 2637.74 63.9476 L2637.74 70.8341 Q2634.62 72.2924 2631.25 73.0216 Q2627.93 73.7508 2624.16 73.7508 Q2613.92 73.7508 2607.88 67.3098 Q2601.84 60.8689 2601.84 49.9314 Q2601.84 38.832 2607.92 32.472 Q2614.04 26.1121 2624.65 26.1121 Q2628.09 26.1121 2631.38 26.8413 Q2634.66 27.5299 2637.74 28.9478 Z\" fill=\"#000000\" fill-rule=\"evenodd\" fill-opacity=\"1\" /><path clip-path=\"url(#clip920)\" d=\"M 0 0 M2675.41 34.0924 L2675.41 9.54393 L2682.86 9.54393 L2682.86 72.576 L2675.41 72.576 L2675.41 65.7705 Q2673.06 69.8214 2669.45 71.8063 Q2665.89 73.7508 2660.87 73.7508 Q2652.64 73.7508 2647.46 67.1883 Q2642.31 60.6258 2642.31 49.9314 Q2642.31 39.2371 2647.46 32.6746 Q2652.64 26.1121 2660.87 26.1121 Q2665.89 26.1121 2669.45 28.0971 Q2673.06 30.0415 2675.41 34.0924 M2650.01 49.9314 Q2650.01 58.1548 2653.37 62.8538 Q2656.77 67.5124 2662.69 67.5124 Q2668.6 67.5124 2672.01 62.8538 Q2675.41 58.1548 2675.41 49.9314 Q2675.41 41.7081 2672.01 37.0496 Q2668.6 32.3505 2662.69 32.3505 Q2656.77 32.3505 2653.37 37.0496 Q2650.01 41.7081 2650.01 49.9314 Z\" fill=\"#000000\" fill-rule=\"evenodd\" fill-opacity=\"1\" /><path clip-path=\"url(#clip920)\" d=\"M 0 0 M2713.65 9.54393 L2713.65 15.7418 L2706.52 15.7418 Q2702.51 15.7418 2700.93 17.3622 Q2699.39 18.9825 2699.39 23.1955 L2699.39 27.2059 L2711.66 27.2059 L2711.66 32.9987 L2699.39 32.9987 L2699.39 72.576 L2691.9 72.576 L2691.9 32.9987 L2684.77 32.9987 L2684.77 27.2059 L2691.9 27.2059 L2691.9 24.0462 Q2691.9 16.471 2695.42 13.0277 Q2698.94 9.54393 2706.6 9.54393 L2713.65 9.54393 Z\" fill=\"#000000\" fill-rule=\"evenodd\" fill-opacity=\"1\" /><polyline clip-path=\"url(#clip923)\" style=\"stroke:#009af9; stroke-width:4; stroke-opacity:1; fill:none\" points=\"\n",
       "  1871.57,1405.91 1995.95,1393.59 2120.34,1338.18 2244.73,1190.41 2369.12,931.803 2493.5,621.48 2617.89,362.878 2742.28,215.106 2866.67,159.691 2991.05,147.376 \n",
       "  3115.44,146.145 \n",
       "  \"/>\n",
       "<circle clip-path=\"url(#clip923)\" cx=\"1871.57\" cy=\"1405.91\" r=\"10\" fill=\"#009af9\" fill-rule=\"evenodd\" fill-opacity=\"1\" stroke=\"#000000\" stroke-opacity=\"1\" stroke-width=\"3.2\"/>\n",
       "<circle clip-path=\"url(#clip923)\" cx=\"1995.95\" cy=\"1393.59\" r=\"10\" fill=\"#009af9\" fill-rule=\"evenodd\" fill-opacity=\"1\" stroke=\"#000000\" stroke-opacity=\"1\" stroke-width=\"3.2\"/>\n",
       "<circle clip-path=\"url(#clip923)\" cx=\"2120.34\" cy=\"1338.18\" r=\"10\" fill=\"#009af9\" fill-rule=\"evenodd\" fill-opacity=\"1\" stroke=\"#000000\" stroke-opacity=\"1\" stroke-width=\"3.2\"/>\n",
       "<circle clip-path=\"url(#clip923)\" cx=\"2244.73\" cy=\"1190.41\" r=\"10\" fill=\"#009af9\" fill-rule=\"evenodd\" fill-opacity=\"1\" stroke=\"#000000\" stroke-opacity=\"1\" stroke-width=\"3.2\"/>\n",
       "<circle clip-path=\"url(#clip923)\" cx=\"2369.12\" cy=\"931.803\" r=\"10\" fill=\"#009af9\" fill-rule=\"evenodd\" fill-opacity=\"1\" stroke=\"#000000\" stroke-opacity=\"1\" stroke-width=\"3.2\"/>\n",
       "<circle clip-path=\"url(#clip923)\" cx=\"2493.5\" cy=\"621.48\" r=\"10\" fill=\"#009af9\" fill-rule=\"evenodd\" fill-opacity=\"1\" stroke=\"#000000\" stroke-opacity=\"1\" stroke-width=\"3.2\"/>\n",
       "<circle clip-path=\"url(#clip923)\" cx=\"2617.89\" cy=\"362.878\" r=\"10\" fill=\"#009af9\" fill-rule=\"evenodd\" fill-opacity=\"1\" stroke=\"#000000\" stroke-opacity=\"1\" stroke-width=\"3.2\"/>\n",
       "<circle clip-path=\"url(#clip923)\" cx=\"2742.28\" cy=\"215.106\" r=\"10\" fill=\"#009af9\" fill-rule=\"evenodd\" fill-opacity=\"1\" stroke=\"#000000\" stroke-opacity=\"1\" stroke-width=\"3.2\"/>\n",
       "<circle clip-path=\"url(#clip923)\" cx=\"2866.67\" cy=\"159.691\" r=\"10\" fill=\"#009af9\" fill-rule=\"evenodd\" fill-opacity=\"1\" stroke=\"#000000\" stroke-opacity=\"1\" stroke-width=\"3.2\"/>\n",
       "<circle clip-path=\"url(#clip923)\" cx=\"2991.05\" cy=\"147.376\" r=\"10\" fill=\"#009af9\" fill-rule=\"evenodd\" fill-opacity=\"1\" stroke=\"#000000\" stroke-opacity=\"1\" stroke-width=\"3.2\"/>\n",
       "<circle clip-path=\"url(#clip923)\" cx=\"3115.44\" cy=\"146.145\" r=\"10\" fill=\"#009af9\" fill-rule=\"evenodd\" fill-opacity=\"1\" stroke=\"#000000\" stroke-opacity=\"1\" stroke-width=\"3.2\"/>\n",
       "</svg>\n"
      ]
     },
     "execution_count": 131,
     "metadata": {},
     "output_type": "execute_result"
    }
   ],
   "source": [
    "θ=0.5\n",
    "n=10\n",
    "p_grid = range(0, n, length = n+1)\n",
    "dist=Binomial.(n,θ)\n",
    "p1=plot(p_grid,pdf.(dist), legend = false, m=3,\n",
    "    xlabel = \"k\", ylabel = \"p(k)\", title = \"Binomial pmf\")\n",
    "p2=plot(cdf.(dist, p_grid), legend = false, m=3,\n",
    "    xlabel = \"k\", ylabel = \"p(k)\", title = \"Binomial cdf\")\n",
    "plot(p1, p2, legend=false, layout=(1,2), size=(800, 400))"
   ]
  },
  {
   "cell_type": "code",
   "execution_count": 132,
   "metadata": {},
   "outputs": [
    {
     "ename": "LoadError",
     "evalue": "syntax: missing comma or ) in argument list",
     "output_type": "error",
     "traceback": [
      "syntax: missing comma or ) in argument list",
      "",
      "Stacktrace:",
      " [1] top-level scope at In[132]:6",
      " [2] include_string(::Function, ::Module, ::String, ::String) at .\\loading.jl:1091"
     ]
    }
   ],
   "source": [
    "# Another way to present the distribution\n",
    "\n",
    "θ, n = 0.5, 10\n",
    "\n",
    "dist = Binomial(n,θ\n",
    "xGrid = 0:n\n",
    "bPmf = [pdf(dist,i) for i in xGrid]\n",
    "\n",
    "plot( xGrid, bPmf,\n",
    " line=:stem, marker=:xcross, c=:red,\n",
    " ms=6, msw=0, lw=2, label=\"Binomial pmf\", xticks=(0:1:10),\n",
    " ylims=(0,0.3), xlabel=\"x\", ylabel=\"p(x)\", size=(400, 400))"
   ]
  },
  {
   "cell_type": "code",
   "execution_count": 133,
   "metadata": {},
   "outputs": [
    {
     "name": "stdout",
     "output_type": "stream",
     "text": [
      "Parameters: \t\t\t(10, 0.5)\n",
      "Central descriptors: \t\t5.0\t5\n",
      "Dispersion descriptors: \t2.5\t1.5811388300841898\n",
      "Higher moment shape descriptors: 0.0\t-0.2\n",
      "Range: \t\t\t\t0\t10\n",
      "Mode: \t\t\t\t5\tModes: [5]\n"
     ]
    }
   ],
   "source": [
    "# From \n",
    "println(\"Parameters: \\t\\t\\t\",params(dist))\n",
    "println(\"Central descriptors: \\t\\t\",mean(dist),\"\\t\",median(dist))\n",
    "println(\"Dispersion descriptors: \\t\", var(dist),\"\\t\",std(dist))\n",
    "println(\"Higher moment shape descriptors: \",skewness(dist),\"\\t\",kurtosis(dist))\n",
    "println(\"Range: \\t\\t\\t\\t\", minimum(dist),\"\\t\",maximum(dist))\n",
    "println(\"Mode: \\t\\t\\t\\t\", mode(dist), \"\\tModes: \",modes(dist))\n"
   ]
  },
  {
   "cell_type": "markdown",
   "metadata": {
    "colab_type": "text",
    "id": "f4R_mW6cX5c9"
   },
   "source": [
    "### Beta Distribution\n",
    "\n",
    "A very versatile distribution is the Beta distribution which is appropriate for discrete random variables between 0 and 1 such as representing proportions.\n",
    "\n",
    "It is a two parameter model which is given by:\n",
    "\n",
    "$$Beta(x;\\alpha,\\beta)=\\frac{\\Gamma (\\alpha +\\beta )}{\\Gamma (\\alpha )\\Gamma (\\beta )} x^{\\alpha-1} (1-x)^{\\beta-1}$$\n",
    "\n",
    "Here $\\Gamma$ represents Gamma function - please see [Wikipedia](https://en.wikipedia.org/w/index.php?title=Gamma_function&oldid=999289049).  Depending on the values of $\\alpha$ and $\\beta$, one can model a wide variety of curves from u shaped ones to skewed distributions. Skewed distributions are obtained when the parameters are unequal. The distributions are symmetrical when $\\alpha$ and $\\beta$ are equal, with the curves becoming peakier as the numerical values of the two parameters increase. \n",
    "\n",
    "\n",
    "The mean $\\mu$ of the beta distribution, \n",
    "\n",
    "$$\\mu=\\frac{\\alpha}{\\alpha+\\beta}$$\n",
    "\n",
    "variance, \n",
    "\n",
    "$$\\sigma^2=\\frac{\\alpha\\beta}{(\\alpha+\\beta)^2 (\\alpha+\\beta+1)}$$\n",
    "\n",
    "If X is a random variable, the mode is the value x (i.e, X = x) at which the probability mass function takes its maximum value. The mode of the Beta distribution is:\n",
    "$$mode=\\frac{\\alpha-1}{\\alpha+\\beta-2}$$"
   ]
  },
  {
   "cell_type": "code",
   "execution_count": 134,
   "metadata": {},
   "outputs": [
    {
     "data": {
      "image/svg+xml": [
       "<?xml version=\"1.0\" encoding=\"utf-8\"?>\n",
       "<svg xmlns=\"http://www.w3.org/2000/svg\" xmlns:xlink=\"http://www.w3.org/1999/xlink\" width=\"600\" height=\"400\" viewBox=\"0 0 2400 1600\">\n",
       "<defs>\n",
       "  <clipPath id=\"clip960\">\n",
       "    <rect x=\"0\" y=\"0\" width=\"2400\" height=\"1600\"/>\n",
       "  </clipPath>\n",
       "</defs>\n",
       "<path clip-path=\"url(#clip960)\" d=\"\n",
       "M0 1600 L2400 1600 L2400 0 L0 0  Z\n",
       "  \" fill=\"#ffffff\" fill-rule=\"evenodd\" fill-opacity=\"1\"/>\n",
       "<defs>\n",
       "  <clipPath id=\"clip961\">\n",
       "    <rect x=\"480\" y=\"0\" width=\"1681\" height=\"1600\"/>\n",
       "  </clipPath>\n",
       "</defs>\n",
       "<path clip-path=\"url(#clip960)\" d=\"\n",
       "M112.177 1486.45 L2352.76 1486.45 L2352.76 47.2441 L112.177 47.2441  Z\n",
       "  \" fill=\"#ffffff\" fill-rule=\"evenodd\" fill-opacity=\"1\"/>\n",
       "<defs>\n",
       "  <clipPath id=\"clip962\">\n",
       "    <rect x=\"112\" y=\"47\" width=\"2242\" height=\"1440\"/>\n",
       "  </clipPath>\n",
       "</defs>\n",
       "<polyline clip-path=\"url(#clip962)\" style=\"stroke:#000000; stroke-width:2; stroke-opacity:0.1; fill:none\" points=\"\n",
       "  154.239,1486.45 154.239,47.2441 \n",
       "  \"/>\n",
       "<polyline clip-path=\"url(#clip962)\" style=\"stroke:#000000; stroke-width:2; stroke-opacity:0.1; fill:none\" points=\"\n",
       "  688.015,1486.45 688.015,47.2441 \n",
       "  \"/>\n",
       "<polyline clip-path=\"url(#clip962)\" style=\"stroke:#000000; stroke-width:2; stroke-opacity:0.1; fill:none\" points=\"\n",
       "  1221.79,1486.45 1221.79,47.2441 \n",
       "  \"/>\n",
       "<polyline clip-path=\"url(#clip962)\" style=\"stroke:#000000; stroke-width:2; stroke-opacity:0.1; fill:none\" points=\"\n",
       "  1755.57,1486.45 1755.57,47.2441 \n",
       "  \"/>\n",
       "<polyline clip-path=\"url(#clip962)\" style=\"stroke:#000000; stroke-width:2; stroke-opacity:0.1; fill:none\" points=\"\n",
       "  2289.34,1486.45 2289.34,47.2441 \n",
       "  \"/>\n",
       "<polyline clip-path=\"url(#clip960)\" style=\"stroke:#000000; stroke-width:4; stroke-opacity:1; fill:none\" points=\"\n",
       "  112.177,1486.45 2352.76,1486.45 \n",
       "  \"/>\n",
       "<polyline clip-path=\"url(#clip960)\" style=\"stroke:#000000; stroke-width:4; stroke-opacity:1; fill:none\" points=\"\n",
       "  154.239,1486.45 154.239,1469.18 \n",
       "  \"/>\n",
       "<polyline clip-path=\"url(#clip960)\" style=\"stroke:#000000; stroke-width:4; stroke-opacity:1; fill:none\" points=\"\n",
       "  688.015,1486.45 688.015,1469.18 \n",
       "  \"/>\n",
       "<polyline clip-path=\"url(#clip960)\" style=\"stroke:#000000; stroke-width:4; stroke-opacity:1; fill:none\" points=\"\n",
       "  1221.79,1486.45 1221.79,1469.18 \n",
       "  \"/>\n",
       "<polyline clip-path=\"url(#clip960)\" style=\"stroke:#000000; stroke-width:4; stroke-opacity:1; fill:none\" points=\"\n",
       "  1755.57,1486.45 1755.57,1469.18 \n",
       "  \"/>\n",
       "<polyline clip-path=\"url(#clip960)\" style=\"stroke:#000000; stroke-width:4; stroke-opacity:1; fill:none\" points=\"\n",
       "  2289.34,1486.45 2289.34,1469.18 \n",
       "  \"/>\n",
       "<path clip-path=\"url(#clip960)\" d=\"M 0 0 M122.248 1515.64 Q118.637 1515.64 116.808 1519.2 Q115.003 1522.75 115.003 1529.87 Q115.003 1536.98 116.808 1540.55 Q118.637 1544.09 122.248 1544.09 Q125.882 1544.09 127.688 1540.55 Q129.517 1536.98 129.517 1529.87 Q129.517 1522.75 127.688 1519.2 Q125.882 1515.64 122.248 1515.64 M122.248 1511.93 Q128.058 1511.93 131.114 1516.54 Q134.193 1521.12 134.193 1529.87 Q134.193 1538.6 131.114 1543.21 Q128.058 1547.79 122.248 1547.79 Q116.438 1547.79 113.359 1543.21 Q110.304 1538.6 110.304 1529.87 Q110.304 1521.12 113.359 1516.54 Q116.438 1511.93 122.248 1511.93 Z\" fill=\"#000000\" fill-rule=\"evenodd\" fill-opacity=\"1\" /><path clip-path=\"url(#clip960)\" d=\"M 0 0 M139.262 1541.24 L144.146 1541.24 L144.146 1547.12 L139.262 1547.12 L139.262 1541.24 Z\" fill=\"#000000\" fill-rule=\"evenodd\" fill-opacity=\"1\" /><path clip-path=\"url(#clip960)\" d=\"M 0 0 M159.216 1515.64 Q155.604 1515.64 153.776 1519.2 Q151.97 1522.75 151.97 1529.87 Q151.97 1536.98 153.776 1540.55 Q155.604 1544.09 159.216 1544.09 Q162.85 1544.09 164.655 1540.55 Q166.484 1536.98 166.484 1529.87 Q166.484 1522.75 164.655 1519.2 Q162.85 1515.64 159.216 1515.64 M159.216 1511.93 Q165.026 1511.93 168.081 1516.54 Q171.16 1521.12 171.16 1529.87 Q171.16 1538.6 168.081 1543.21 Q165.026 1547.79 159.216 1547.79 Q153.405 1547.79 150.327 1543.21 Q147.271 1538.6 147.271 1529.87 Q147.271 1521.12 150.327 1516.54 Q153.405 1511.93 159.216 1511.93 Z\" fill=\"#000000\" fill-rule=\"evenodd\" fill-opacity=\"1\" /><path clip-path=\"url(#clip960)\" d=\"M 0 0 M186.229 1515.64 Q182.618 1515.64 180.79 1519.2 Q178.984 1522.75 178.984 1529.87 Q178.984 1536.98 180.79 1540.55 Q182.618 1544.09 186.229 1544.09 Q189.864 1544.09 191.669 1540.55 Q193.498 1536.98 193.498 1529.87 Q193.498 1522.75 191.669 1519.2 Q189.864 1515.64 186.229 1515.64 M186.229 1511.93 Q192.039 1511.93 195.095 1516.54 Q198.174 1521.12 198.174 1529.87 Q198.174 1538.6 195.095 1543.21 Q192.039 1547.79 186.229 1547.79 Q180.419 1547.79 177.34 1543.21 Q174.285 1538.6 174.285 1529.87 Q174.285 1521.12 177.34 1516.54 Q180.419 1511.93 186.229 1511.93 Z\" fill=\"#000000\" fill-rule=\"evenodd\" fill-opacity=\"1\" /><path clip-path=\"url(#clip960)\" d=\"M 0 0 M657.321 1515.64 Q653.71 1515.64 651.881 1519.2 Q650.075 1522.75 650.075 1529.87 Q650.075 1536.98 651.881 1540.55 Q653.71 1544.09 657.321 1544.09 Q660.955 1544.09 662.76 1540.55 Q664.589 1536.98 664.589 1529.87 Q664.589 1522.75 662.76 1519.2 Q660.955 1515.64 657.321 1515.64 M657.321 1511.93 Q663.131 1511.93 666.186 1516.54 Q669.265 1521.12 669.265 1529.87 Q669.265 1538.6 666.186 1543.21 Q663.131 1547.79 657.321 1547.79 Q651.51 1547.79 648.432 1543.21 Q645.376 1538.6 645.376 1529.87 Q645.376 1521.12 648.432 1516.54 Q651.51 1511.93 657.321 1511.93 Z\" fill=\"#000000\" fill-rule=\"evenodd\" fill-opacity=\"1\" /><path clip-path=\"url(#clip960)\" d=\"M 0 0 M674.334 1541.24 L679.219 1541.24 L679.219 1547.12 L674.334 1547.12 L674.334 1541.24 Z\" fill=\"#000000\" fill-rule=\"evenodd\" fill-opacity=\"1\" /><path clip-path=\"url(#clip960)\" d=\"M 0 0 M688.316 1543.18 L704.635 1543.18 L704.635 1547.12 L682.691 1547.12 L682.691 1543.18 Q685.353 1540.43 689.936 1535.8 Q694.543 1531.15 695.723 1529.81 Q697.969 1527.28 698.848 1525.55 Q699.751 1523.79 699.751 1522.1 Q699.751 1519.34 697.806 1517.61 Q695.885 1515.87 692.783 1515.87 Q690.584 1515.87 688.131 1516.63 Q685.7 1517.4 682.922 1518.95 L682.922 1514.23 Q685.746 1513.09 688.2 1512.51 Q690.654 1511.93 692.691 1511.93 Q698.061 1511.93 701.256 1514.62 Q704.45 1517.31 704.45 1521.8 Q704.45 1523.93 703.64 1525.85 Q702.853 1527.74 700.746 1530.34 Q700.168 1531.01 697.066 1534.23 Q693.964 1537.42 688.316 1543.18 Z\" fill=\"#000000\" fill-rule=\"evenodd\" fill-opacity=\"1\" /><path clip-path=\"url(#clip960)\" d=\"M 0 0 M709.751 1512.56 L728.107 1512.56 L728.107 1516.5 L714.033 1516.5 L714.033 1524.97 Q715.052 1524.62 716.07 1524.46 Q717.089 1524.27 718.107 1524.27 Q723.894 1524.27 727.274 1527.44 Q730.654 1530.62 730.654 1536.03 Q730.654 1541.61 727.181 1544.71 Q723.709 1547.79 717.39 1547.79 Q715.214 1547.79 712.945 1547.42 Q710.7 1547.05 708.293 1546.31 L708.293 1541.61 Q710.376 1542.74 712.598 1543.3 Q714.82 1543.86 717.297 1543.86 Q721.302 1543.86 723.64 1541.75 Q725.978 1539.64 725.978 1536.03 Q725.978 1532.42 723.64 1530.31 Q721.302 1528.21 717.297 1528.21 Q715.422 1528.21 713.547 1528.62 Q711.695 1529.04 709.751 1529.92 L709.751 1512.56 Z\" fill=\"#000000\" fill-rule=\"evenodd\" fill-opacity=\"1\" /><path clip-path=\"url(#clip960)\" d=\"M 0 0 M1190.3 1515.64 Q1186.69 1515.64 1184.86 1519.2 Q1183.05 1522.75 1183.05 1529.87 Q1183.05 1536.98 1184.86 1540.55 Q1186.69 1544.09 1190.3 1544.09 Q1193.93 1544.09 1195.74 1540.55 Q1197.57 1536.98 1197.57 1529.87 Q1197.57 1522.75 1195.74 1519.2 Q1193.93 1515.64 1190.3 1515.64 M1190.3 1511.93 Q1196.11 1511.93 1199.16 1516.54 Q1202.24 1521.12 1202.24 1529.87 Q1202.24 1538.6 1199.16 1543.21 Q1196.11 1547.79 1190.3 1547.79 Q1184.49 1547.79 1181.41 1543.21 Q1178.35 1538.6 1178.35 1529.87 Q1178.35 1521.12 1181.41 1516.54 Q1184.49 1511.93 1190.3 1511.93 Z\" fill=\"#000000\" fill-rule=\"evenodd\" fill-opacity=\"1\" /><path clip-path=\"url(#clip960)\" d=\"M 0 0 M1207.31 1541.24 L1212.2 1541.24 L1212.2 1547.12 L1207.31 1547.12 L1207.31 1541.24 Z\" fill=\"#000000\" fill-rule=\"evenodd\" fill-opacity=\"1\" /><path clip-path=\"url(#clip960)\" d=\"M 0 0 M1217.31 1512.56 L1235.67 1512.56 L1235.67 1516.5 L1221.59 1516.5 L1221.59 1524.97 Q1222.61 1524.62 1223.63 1524.46 Q1224.65 1524.27 1225.67 1524.27 Q1231.46 1524.27 1234.83 1527.44 Q1238.21 1530.62 1238.21 1536.03 Q1238.21 1541.61 1234.74 1544.71 Q1231.27 1547.79 1224.95 1547.79 Q1222.77 1547.79 1220.51 1547.42 Q1218.26 1547.05 1215.85 1546.31 L1215.85 1541.61 Q1217.94 1542.74 1220.16 1543.3 Q1222.38 1543.86 1224.86 1543.86 Q1228.86 1543.86 1231.2 1541.75 Q1233.54 1539.64 1233.54 1536.03 Q1233.54 1532.42 1231.2 1530.31 Q1228.86 1528.21 1224.86 1528.21 Q1222.98 1528.21 1221.11 1528.62 Q1219.26 1529.04 1217.31 1529.92 L1217.31 1512.56 Z\" fill=\"#000000\" fill-rule=\"evenodd\" fill-opacity=\"1\" /><path clip-path=\"url(#clip960)\" d=\"M 0 0 M1253.28 1515.64 Q1249.67 1515.64 1247.84 1519.2 Q1246.04 1522.75 1246.04 1529.87 Q1246.04 1536.98 1247.84 1540.55 Q1249.67 1544.09 1253.28 1544.09 Q1256.92 1544.09 1258.72 1540.55 Q1260.55 1536.98 1260.55 1529.87 Q1260.55 1522.75 1258.72 1519.2 Q1256.92 1515.64 1253.28 1515.64 M1253.28 1511.93 Q1259.09 1511.93 1262.15 1516.54 Q1265.23 1521.12 1265.23 1529.87 Q1265.23 1538.6 1262.15 1543.21 Q1259.09 1547.79 1253.28 1547.79 Q1247.47 1547.79 1244.4 1543.21 Q1241.34 1538.6 1241.34 1529.87 Q1241.34 1521.12 1244.4 1516.54 Q1247.47 1511.93 1253.28 1511.93 Z\" fill=\"#000000\" fill-rule=\"evenodd\" fill-opacity=\"1\" /><path clip-path=\"url(#clip960)\" d=\"M 0 0 M1724.53 1515.64 Q1720.91 1515.64 1719.09 1519.2 Q1717.28 1522.75 1717.28 1529.87 Q1717.28 1536.98 1719.09 1540.55 Q1720.91 1544.09 1724.53 1544.09 Q1728.16 1544.09 1729.97 1540.55 Q1731.79 1536.98 1731.79 1529.87 Q1731.79 1522.75 1729.97 1519.2 Q1728.16 1515.64 1724.53 1515.64 M1724.53 1511.93 Q1730.34 1511.93 1733.39 1516.54 Q1736.47 1521.12 1736.47 1529.87 Q1736.47 1538.6 1733.39 1543.21 Q1730.34 1547.79 1724.53 1547.79 Q1718.72 1547.79 1715.64 1543.21 Q1712.58 1538.6 1712.58 1529.87 Q1712.58 1521.12 1715.64 1516.54 Q1718.72 1511.93 1724.53 1511.93 Z\" fill=\"#000000\" fill-rule=\"evenodd\" fill-opacity=\"1\" /><path clip-path=\"url(#clip960)\" d=\"M 0 0 M1741.54 1541.24 L1746.42 1541.24 L1746.42 1547.12 L1741.54 1547.12 L1741.54 1541.24 Z\" fill=\"#000000\" fill-rule=\"evenodd\" fill-opacity=\"1\" /><path clip-path=\"url(#clip960)\" d=\"M 0 0 M1750.31 1512.56 L1772.53 1512.56 L1772.53 1514.55 L1759.99 1547.12 L1755.1 1547.12 L1766.91 1516.5 L1750.31 1516.5 L1750.31 1512.56 Z\" fill=\"#000000\" fill-rule=\"evenodd\" fill-opacity=\"1\" /><path clip-path=\"url(#clip960)\" d=\"M 0 0 M1777.65 1512.56 L1796.01 1512.56 L1796.01 1516.5 L1781.93 1516.5 L1781.93 1524.97 Q1782.95 1524.62 1783.97 1524.46 Q1784.99 1524.27 1786.01 1524.27 Q1791.79 1524.27 1795.17 1527.44 Q1798.55 1530.62 1798.55 1536.03 Q1798.55 1541.61 1795.08 1544.71 Q1791.61 1547.79 1785.29 1547.79 Q1783.11 1547.79 1780.84 1547.42 Q1778.6 1547.05 1776.19 1546.31 L1776.19 1541.61 Q1778.28 1542.74 1780.5 1543.3 Q1782.72 1543.86 1785.2 1543.86 Q1789.2 1543.86 1791.54 1541.75 Q1793.88 1539.64 1793.88 1536.03 Q1793.88 1532.42 1791.54 1530.31 Q1789.2 1528.21 1785.2 1528.21 Q1783.32 1528.21 1781.45 1528.62 Q1779.59 1529.04 1777.65 1529.92 L1777.65 1512.56 Z\" fill=\"#000000\" fill-rule=\"evenodd\" fill-opacity=\"1\" /><path clip-path=\"url(#clip960)\" d=\"M 0 0 M2247.73 1543.18 L2255.37 1543.18 L2255.37 1516.82 L2247.06 1518.49 L2247.06 1514.23 L2255.33 1512.56 L2260 1512.56 L2260 1543.18 L2267.64 1543.18 L2267.64 1547.12 L2247.73 1547.12 L2247.73 1543.18 Z\" fill=\"#000000\" fill-rule=\"evenodd\" fill-opacity=\"1\" /><path clip-path=\"url(#clip960)\" d=\"M 0 0 M2272.71 1541.24 L2277.6 1541.24 L2277.6 1547.12 L2272.71 1547.12 L2272.71 1541.24 Z\" fill=\"#000000\" fill-rule=\"evenodd\" fill-opacity=\"1\" /><path clip-path=\"url(#clip960)\" d=\"M 0 0 M2292.67 1515.64 Q2289.05 1515.64 2287.23 1519.2 Q2285.42 1522.75 2285.42 1529.87 Q2285.42 1536.98 2287.23 1540.55 Q2289.05 1544.09 2292.67 1544.09 Q2296.3 1544.09 2298.1 1540.55 Q2299.93 1536.98 2299.93 1529.87 Q2299.93 1522.75 2298.1 1519.2 Q2296.3 1515.64 2292.67 1515.64 M2292.67 1511.93 Q2298.48 1511.93 2301.53 1516.54 Q2304.61 1521.12 2304.61 1529.87 Q2304.61 1538.6 2301.53 1543.21 Q2298.48 1547.79 2292.67 1547.79 Q2286.85 1547.79 2283.78 1543.21 Q2280.72 1538.6 2280.72 1529.87 Q2280.72 1521.12 2283.78 1516.54 Q2286.85 1511.93 2292.67 1511.93 Z\" fill=\"#000000\" fill-rule=\"evenodd\" fill-opacity=\"1\" /><path clip-path=\"url(#clip960)\" d=\"M 0 0 M2319.68 1515.64 Q2316.07 1515.64 2314.24 1519.2 Q2312.43 1522.75 2312.43 1529.87 Q2312.43 1536.98 2314.24 1540.55 Q2316.07 1544.09 2319.68 1544.09 Q2323.31 1544.09 2325.12 1540.55 Q2326.95 1536.98 2326.95 1529.87 Q2326.95 1522.75 2325.12 1519.2 Q2323.31 1515.64 2319.68 1515.64 M2319.68 1511.93 Q2325.49 1511.93 2328.54 1516.54 Q2331.62 1521.12 2331.62 1529.87 Q2331.62 1538.6 2328.54 1543.21 Q2325.49 1547.79 2319.68 1547.79 Q2313.87 1547.79 2310.79 1543.21 Q2307.73 1538.6 2307.73 1529.87 Q2307.73 1521.12 2310.79 1516.54 Q2313.87 1511.93 2319.68 1511.93 Z\" fill=\"#000000\" fill-rule=\"evenodd\" fill-opacity=\"1\" /><polyline clip-path=\"url(#clip962)\" style=\"stroke:#000000; stroke-width:2; stroke-opacity:0.1; fill:none\" points=\"\n",
       "  112.177,1445.72 2352.76,1445.72 \n",
       "  \"/>\n",
       "<polyline clip-path=\"url(#clip962)\" style=\"stroke:#000000; stroke-width:2; stroke-opacity:0.1; fill:none\" points=\"\n",
       "  112.177,1150.18 2352.76,1150.18 \n",
       "  \"/>\n",
       "<polyline clip-path=\"url(#clip962)\" style=\"stroke:#000000; stroke-width:2; stroke-opacity:0.1; fill:none\" points=\"\n",
       "  112.177,854.651 2352.76,854.651 \n",
       "  \"/>\n",
       "<polyline clip-path=\"url(#clip962)\" style=\"stroke:#000000; stroke-width:2; stroke-opacity:0.1; fill:none\" points=\"\n",
       "  112.177,559.119 2352.76,559.119 \n",
       "  \"/>\n",
       "<polyline clip-path=\"url(#clip962)\" style=\"stroke:#000000; stroke-width:2; stroke-opacity:0.1; fill:none\" points=\"\n",
       "  112.177,263.587 2352.76,263.587 \n",
       "  \"/>\n",
       "<polyline clip-path=\"url(#clip960)\" style=\"stroke:#000000; stroke-width:4; stroke-opacity:1; fill:none\" points=\"\n",
       "  112.177,1486.45 112.177,47.2441 \n",
       "  \"/>\n",
       "<polyline clip-path=\"url(#clip960)\" style=\"stroke:#000000; stroke-width:4; stroke-opacity:1; fill:none\" points=\"\n",
       "  112.177,1445.72 139.064,1445.72 \n",
       "  \"/>\n",
       "<polyline clip-path=\"url(#clip960)\" style=\"stroke:#000000; stroke-width:4; stroke-opacity:1; fill:none\" points=\"\n",
       "  112.177,1150.18 139.064,1150.18 \n",
       "  \"/>\n",
       "<polyline clip-path=\"url(#clip960)\" style=\"stroke:#000000; stroke-width:4; stroke-opacity:1; fill:none\" points=\"\n",
       "  112.177,854.651 139.064,854.651 \n",
       "  \"/>\n",
       "<polyline clip-path=\"url(#clip960)\" style=\"stroke:#000000; stroke-width:4; stroke-opacity:1; fill:none\" points=\"\n",
       "  112.177,559.119 139.064,559.119 \n",
       "  \"/>\n",
       "<polyline clip-path=\"url(#clip960)\" style=\"stroke:#000000; stroke-width:4; stroke-opacity:1; fill:none\" points=\"\n",
       "  112.177,263.587 139.064,263.587 \n",
       "  \"/>\n",
       "<path clip-path=\"url(#clip960)\" d=\"M 0 0 M64.2328 1431.51 Q60.6217 1431.51 58.793 1435.08 Q56.9875 1438.62 56.9875 1445.75 Q56.9875 1452.86 58.793 1456.42 Q60.6217 1459.96 64.2328 1459.96 Q67.867 1459.96 69.6726 1456.42 Q71.5013 1452.86 71.5013 1445.75 Q71.5013 1438.62 69.6726 1435.08 Q67.867 1431.51 64.2328 1431.51 M64.2328 1427.81 Q70.0429 1427.81 73.0985 1432.42 Q76.1772 1437 76.1772 1445.75 Q76.1772 1454.48 73.0985 1459.08 Q70.0429 1463.67 64.2328 1463.67 Q58.4226 1463.67 55.344 1459.08 Q52.2884 1454.48 52.2884 1445.75 Q52.2884 1437 55.344 1432.42 Q58.4226 1427.81 64.2328 1427.81 Z\" fill=\"#000000\" fill-rule=\"evenodd\" fill-opacity=\"1\" /><path clip-path=\"url(#clip960)\" d=\"M 0 0 M59.8578 1163.53 L76.1772 1163.53 L76.1772 1167.46 L54.2328 1167.46 L54.2328 1163.53 Q56.8949 1160.77 61.4782 1156.14 Q66.0846 1151.49 67.2652 1150.15 Q69.5105 1147.63 70.3902 1145.89 Q71.2929 1144.13 71.2929 1142.44 Q71.2929 1139.69 69.3485 1137.95 Q67.4272 1136.21 64.3254 1136.21 Q62.1263 1136.21 59.6726 1136.98 Q57.2421 1137.74 54.4643 1139.29 L54.4643 1134.57 Q57.2884 1133.44 59.7421 1132.86 Q62.1958 1132.28 64.2328 1132.28 Q69.6031 1132.28 72.7976 1134.96 Q75.992 1137.65 75.992 1142.14 Q75.992 1144.27 75.1818 1146.19 Q74.3948 1148.09 72.2883 1150.68 Q71.7096 1151.35 68.6078 1154.57 Q65.5059 1157.76 59.8578 1163.53 Z\" fill=\"#000000\" fill-rule=\"evenodd\" fill-opacity=\"1\" /><path clip-path=\"url(#clip960)\" d=\"M 0 0 M66.5939 841.445 L54.7884 859.894 L66.5939 859.894 L66.5939 841.445 M65.367 837.371 L71.2466 837.371 L71.2466 859.894 L76.1772 859.894 L76.1772 863.783 L71.2466 863.783 L71.2466 871.931 L66.5939 871.931 L66.5939 863.783 L50.9921 863.783 L50.9921 859.269 L65.367 837.371 Z\" fill=\"#000000\" fill-rule=\"evenodd\" fill-opacity=\"1\" /><path clip-path=\"url(#clip960)\" d=\"M 0 0 M64.6495 557.256 Q61.5013 557.256 59.6495 559.409 Q57.8208 561.561 57.8208 565.311 Q57.8208 569.038 59.6495 571.214 Q61.5013 573.367 64.6495 573.367 Q67.7976 573.367 69.6263 571.214 Q71.4781 569.038 71.4781 565.311 Q71.4781 561.561 69.6263 559.409 Q67.7976 557.256 64.6495 557.256 M73.9318 542.603 L73.9318 546.862 Q72.1726 546.029 70.367 545.589 Q68.5846 545.149 66.8254 545.149 Q62.1958 545.149 59.7421 548.274 Q57.3115 551.399 56.9643 557.719 Q58.33 555.705 60.3902 554.64 Q62.4504 553.552 64.9272 553.552 Q70.1355 553.552 73.1448 556.723 Q76.1772 559.872 76.1772 565.311 Q76.1772 570.635 73.029 573.853 Q69.8809 577.07 64.6495 577.07 Q58.6541 577.07 55.4828 572.487 Q52.3116 567.881 52.3116 559.154 Q52.3116 550.96 56.2004 546.098 Q60.0893 541.214 66.6402 541.214 Q68.3994 541.214 70.1818 541.561 Q71.9874 541.909 73.9318 542.603 Z\" fill=\"#000000\" fill-rule=\"evenodd\" fill-opacity=\"1\" /><path clip-path=\"url(#clip960)\" d=\"M 0 0 M64.3254 264.455 Q60.9921 264.455 59.0708 266.237 Q57.1726 268.02 57.1726 271.145 Q57.1726 274.27 59.0708 276.052 Q60.9921 277.835 64.3254 277.835 Q67.6587 277.835 69.58 276.052 Q71.5013 274.247 71.5013 271.145 Q71.5013 268.02 69.58 266.237 Q67.6819 264.455 64.3254 264.455 M59.6495 262.464 Q56.6402 261.724 54.9504 259.663 Q53.2838 257.603 53.2838 254.64 Q53.2838 250.497 56.2236 248.089 Q59.1865 245.682 64.3254 245.682 Q69.4874 245.682 72.4272 248.089 Q75.367 250.497 75.367 254.64 Q75.367 257.603 73.6772 259.663 Q72.0105 261.724 69.0244 262.464 Q72.404 263.251 74.279 265.543 Q76.1772 267.835 76.1772 271.145 Q76.1772 276.168 73.0985 278.853 Q70.0429 281.538 64.3254 281.538 Q58.6078 281.538 55.5291 278.853 Q52.4736 276.168 52.4736 271.145 Q52.4736 267.835 54.3717 265.543 Q56.2699 263.251 59.6495 262.464 M57.9365 255.08 Q57.9365 257.765 59.6032 259.27 Q61.293 260.775 64.3254 260.775 Q67.3346 260.775 69.0244 259.27 Q70.7374 257.765 70.7374 255.08 Q70.7374 252.395 69.0244 250.89 Q67.3346 249.386 64.3254 249.386 Q61.293 249.386 59.6032 250.89 Q57.9365 252.395 57.9365 255.08 Z\" fill=\"#000000\" fill-rule=\"evenodd\" fill-opacity=\"1\" /><polyline clip-path=\"url(#clip962)\" style=\"stroke:#009af9; stroke-width:4; stroke-opacity:1; fill:none\" points=\"\n",
       "  175.59,87.9763 196.941,504.946 218.292,693.177 239.643,807.366 260.994,886.592 282.345,945.996 303.696,992.857 325.047,1031.17 346.398,1063.32 367.749,1090.88 \n",
       "  389.1,1114.87 410.451,1136.03 431.802,1154.9 453.153,1171.89 474.504,1187.29 495.855,1201.35 517.207,1214.25 538.558,1226.16 559.909,1237.2 581.26,1247.47 \n",
       "  602.611,1257.05 623.962,1266.03 645.313,1274.45 666.664,1282.39 688.015,1289.87 709.366,1296.94 730.717,1303.64 752.068,1310 773.419,1316.04 794.77,1321.78 \n",
       "  816.121,1327.26 837.472,1332.48 858.823,1337.46 880.174,1342.23 901.525,1346.78 922.876,1351.15 944.227,1355.32 965.578,1359.33 986.93,1363.17 1008.28,1366.86 \n",
       "  1029.63,1370.4 1050.98,1373.81 1072.33,1377.08 1093.68,1380.22 1115.04,1383.25 1136.39,1386.16 1157.74,1388.95 1179.09,1391.65 1200.44,1394.24 1221.79,1396.74 \n",
       "  1243.14,1399.14 1264.49,1401.45 1285.84,1403.68 1307.2,1405.83 1328.55,1407.89 1349.9,1409.88 1371.25,1411.79 1392.6,1413.63 1413.95,1415.4 1435.3,1417.1 \n",
       "  1456.65,1418.74 1478,1420.31 1499.35,1421.82 1520.71,1423.27 1542.06,1424.67 1563.41,1426 1584.76,1427.29 1606.11,1428.51 1627.46,1429.69 1648.81,1430.81 \n",
       "  1670.16,1431.89 1691.51,1432.92 1712.87,1433.9 1734.22,1434.83 1755.57,1435.72 1776.92,1436.56 1798.27,1437.36 1819.62,1438.12 1840.97,1438.84 1862.32,1439.52 \n",
       "  1883.67,1440.16 1905.02,1440.76 1926.38,1441.32 1947.73,1441.85 1969.08,1442.33 1990.43,1442.79 2011.78,1443.21 2033.13,1443.59 2054.48,1443.94 2075.83,1444.26 \n",
       "  2097.18,1444.54 2118.53,1444.79 2139.89,1445.01 2161.24,1445.2 2182.59,1445.36 2203.94,1445.49 2225.29,1445.59 2246.64,1445.66 2267.99,1445.7 2289.34,1445.72 \n",
       "  \n",
       "  \"/>\n",
       "<polyline clip-path=\"url(#clip962)\" style=\"stroke:#e26f46; stroke-width:4; stroke-opacity:1; fill:none\" points=\"\n",
       "  175.59,1011.24 196.941,1019.97 218.292,1028.62 239.643,1037.17 260.994,1045.64 282.345,1054.02 303.696,1062.31 325.047,1070.51 346.398,1078.62 367.749,1086.64 \n",
       "  389.1,1094.58 410.451,1102.43 431.802,1110.18 453.153,1117.85 474.504,1125.43 495.855,1132.92 517.207,1140.33 538.558,1147.64 559.909,1154.87 581.26,1162 \n",
       "  602.611,1169.05 623.962,1176.01 645.313,1182.88 666.664,1189.67 688.015,1196.36 709.366,1202.97 730.717,1209.48 752.068,1215.91 773.419,1222.25 794.77,1228.5 \n",
       "  816.121,1234.66 837.472,1240.73 858.823,1246.72 880.174,1252.61 901.525,1258.42 922.876,1264.14 944.227,1269.77 965.578,1275.31 986.93,1280.76 1008.28,1286.13 \n",
       "  1029.63,1291.4 1050.98,1296.59 1072.33,1301.69 1093.68,1306.7 1115.04,1311.62 1136.39,1316.45 1157.74,1321.19 1179.09,1325.85 1200.44,1330.41 1221.79,1334.89 \n",
       "  1243.14,1339.28 1264.49,1343.58 1285.84,1347.79 1307.2,1351.91 1328.55,1355.95 1349.9,1359.89 1371.25,1363.75 1392.6,1367.52 1413.95,1371.2 1435.3,1374.79 \n",
       "  1456.65,1378.29 1478,1381.7 1499.35,1385.03 1520.71,1388.26 1542.06,1391.41 1563.41,1394.47 1584.76,1397.44 1606.11,1400.32 1627.46,1403.11 1648.81,1405.82 \n",
       "  1670.16,1408.43 1691.51,1410.96 1712.87,1413.4 1734.22,1415.75 1755.57,1418.01 1776.92,1420.18 1798.27,1422.27 1819.62,1424.26 1840.97,1426.17 1862.32,1427.98 \n",
       "  1883.67,1429.71 1905.02,1431.35 1926.38,1432.9 1947.73,1434.37 1969.08,1435.74 1990.43,1437.03 2011.78,1438.22 2033.13,1439.33 2054.48,1440.35 2075.83,1441.28 \n",
       "  2097.18,1442.12 2118.53,1442.88 2139.89,1443.54 2161.24,1444.12 2182.59,1444.61 2203.94,1445.01 2225.29,1445.32 2246.64,1445.54 2267.99,1445.67 2289.34,1445.72 \n",
       "  \n",
       "  \"/>\n",
       "<polyline clip-path=\"url(#clip962)\" style=\"stroke:#3da44d; stroke-width:4; stroke-opacity:1; fill:none\" points=\"\n",
       "  175.59,1445.28 196.941,1444.01 218.292,1441.96 239.643,1439.18 260.994,1435.71 282.345,1431.61 303.696,1426.93 325.047,1421.7 346.398,1415.98 367.749,1409.81 \n",
       "  389.1,1403.23 410.451,1396.28 431.802,1389.01 453.153,1381.45 474.504,1373.65 495.855,1365.64 517.207,1357.46 538.558,1349.14 559.909,1340.72 581.26,1332.23 \n",
       "  602.611,1323.71 623.962,1315.18 645.313,1306.68 666.664,1298.23 688.015,1289.87 709.366,1281.62 730.717,1273.5 752.068,1265.55 773.419,1257.78 794.77,1250.22 \n",
       "  816.121,1242.89 837.472,1235.82 858.823,1229.01 880.174,1222.49 901.525,1216.28 922.876,1210.39 944.227,1204.85 965.578,1199.65 986.93,1194.82 1008.28,1190.38 \n",
       "  1029.63,1186.32 1050.98,1182.66 1072.33,1179.41 1093.68,1176.58 1115.04,1174.17 1136.39,1172.19 1157.74,1170.65 1179.09,1169.54 1200.44,1168.88 1221.79,1168.65 \n",
       "  1243.14,1168.88 1264.49,1169.54 1285.84,1170.65 1307.2,1172.19 1328.55,1174.17 1349.9,1176.58 1371.25,1179.41 1392.6,1182.66 1413.95,1186.32 1435.3,1190.38 \n",
       "  1456.65,1194.82 1478,1199.65 1499.35,1204.85 1520.71,1210.39 1542.06,1216.28 1563.41,1222.49 1584.76,1229.01 1606.11,1235.82 1627.46,1242.89 1648.81,1250.22 \n",
       "  1670.16,1257.78 1691.51,1265.55 1712.87,1273.5 1734.22,1281.62 1755.57,1289.87 1776.92,1298.23 1798.27,1306.68 1819.62,1315.18 1840.97,1323.71 1862.32,1332.23 \n",
       "  1883.67,1340.72 1905.02,1349.14 1926.38,1357.46 1947.73,1365.64 1969.08,1373.65 1990.43,1381.45 2011.78,1389.01 2033.13,1396.28 2054.48,1403.23 2075.83,1409.81 \n",
       "  2097.18,1415.98 2118.53,1421.7 2139.89,1426.93 2161.24,1431.61 2182.59,1435.71 2203.94,1439.18 2225.29,1441.96 2246.64,1444.01 2267.99,1445.28 2289.34,1445.72 \n",
       "  \n",
       "  \"/>\n",
       "<polyline clip-path=\"url(#clip962)\" style=\"stroke:#c271d2; stroke-width:4; stroke-opacity:1; fill:none\" points=\"\n",
       "  175.59,1445.72 196.941,1445.71 218.292,1445.7 239.643,1445.68 260.994,1445.63 282.345,1445.54 303.696,1445.39 325.047,1445.18 346.398,1444.87 367.749,1444.46 \n",
       "  389.1,1443.92 410.451,1443.22 431.802,1442.36 453.153,1441.31 474.504,1440.04 495.855,1438.54 517.207,1436.79 538.558,1434.76 559.909,1432.45 581.26,1429.83 \n",
       "  602.611,1426.88 623.962,1423.6 645.313,1419.97 666.664,1415.98 688.015,1411.62 709.366,1406.89 730.717,1401.78 752.068,1396.28 773.419,1390.4 794.77,1384.13 \n",
       "  816.121,1377.5 837.472,1370.49 858.823,1363.12 880.174,1355.4 901.525,1347.35 922.876,1338.97 944.227,1330.3 965.578,1321.36 986.93,1312.15 1008.28,1302.73 \n",
       "  1029.63,1293.1 1050.98,1283.3 1072.33,1273.38 1093.68,1263.35 1115.04,1253.26 1136.39,1243.14 1157.74,1233.05 1179.09,1223.01 1200.44,1213.07 1221.79,1203.29 \n",
       "  1243.14,1193.69 1264.49,1184.34 1285.84,1175.28 1307.2,1166.55 1328.55,1158.21 1349.9,1150.31 1371.25,1142.88 1392.6,1135.99 1413.95,1129.68 1435.3,1123.99 \n",
       "  1456.65,1118.97 1478,1114.66 1499.35,1111.11 1520.71,1108.36 1542.06,1106.44 1563.41,1105.39 1584.76,1105.24 1606.11,1106.01 1627.46,1107.74 1648.81,1110.44 \n",
       "  1670.16,1114.13 1691.51,1118.82 1712.87,1124.51 1734.22,1131.2 1755.57,1138.89 1776.92,1147.56 1798.27,1157.19 1819.62,1167.75 1840.97,1179.21 1862.32,1191.51 \n",
       "  1883.67,1204.61 1905.02,1218.43 1926.38,1232.91 1947.73,1247.96 1969.08,1263.48 1990.43,1279.37 2011.78,1295.5 2033.13,1311.73 2054.48,1327.93 2075.83,1343.92 \n",
       "  2097.18,1359.53 2118.53,1374.58 2139.89,1388.84 2161.24,1402.11 2182.59,1414.12 2203.94,1424.63 2225.29,1433.35 2246.64,1439.99 2267.99,1444.23 2289.34,1445.72 \n",
       "  \n",
       "  \"/>\n",
       "<path clip-path=\"url(#clip960)\" d=\"\n",
       "M1627.85 397.618 L2278.07 397.618 L2278.07 95.2176 L1627.85 95.2176  Z\n",
       "  \" fill=\"#ffffff\" fill-rule=\"evenodd\" fill-opacity=\"1\"/>\n",
       "<polyline clip-path=\"url(#clip960)\" style=\"stroke:#000000; stroke-width:4; stroke-opacity:1; fill:none\" points=\"\n",
       "  1627.85,397.618 2278.07,397.618 2278.07,95.2176 1627.85,95.2176 1627.85,397.618 \n",
       "  \"/>\n",
       "<polyline clip-path=\"url(#clip960)\" style=\"stroke:#009af9; stroke-width:4; stroke-opacity:1; fill:none\" points=\"\n",
       "  1652.74,155.698 1802.11,155.698 \n",
       "  \"/>\n",
       "<path clip-path=\"url(#clip960)\" d=\"M 0 0 M1842.84 143.024 L1836.5 160.223 L1849.21 160.223 L1842.84 143.024 M1840.2 138.418 L1845.5 138.418 L1858.67 172.978 L1853.81 172.978 L1850.67 164.112 L1835.09 164.112 L1831.94 172.978 L1827.01 172.978 L1840.2 138.418 Z\" fill=\"#000000\" fill-rule=\"evenodd\" fill-opacity=\"1\" /><path clip-path=\"url(#clip960)\" d=\"M 0 0 M1863.14 136.959 L1867.4 136.959 L1867.4 172.978 L1863.14 172.978 L1863.14 136.959 Z\" fill=\"#000000\" fill-rule=\"evenodd\" fill-opacity=\"1\" /><path clip-path=\"url(#clip960)\" d=\"M 0 0 M1875.99 169.089 L1875.99 182.839 L1871.71 182.839 L1871.71 147.052 L1875.99 147.052 L1875.99 150.987 Q1877.33 148.672 1879.37 147.561 Q1881.43 146.427 1884.28 146.427 Q1889 146.427 1891.94 150.177 Q1894.9 153.927 1894.9 160.038 Q1894.9 166.149 1891.94 169.899 Q1889 173.649 1884.28 173.649 Q1881.43 173.649 1879.37 172.538 Q1877.33 171.403 1875.99 169.089 M1890.48 160.038 Q1890.48 155.339 1888.54 152.677 Q1886.61 149.992 1883.23 149.992 Q1879.86 149.992 1877.91 152.677 Q1875.99 155.339 1875.99 160.038 Q1875.99 164.737 1877.91 167.422 Q1879.86 170.084 1883.23 170.084 Q1886.61 170.084 1888.54 167.422 Q1890.48 164.737 1890.48 160.038 Z\" fill=\"#000000\" fill-rule=\"evenodd\" fill-opacity=\"1\" /><path clip-path=\"url(#clip960)\" d=\"M 0 0 M1920.92 157.329 L1920.92 172.978 L1916.66 172.978 L1916.66 157.468 Q1916.66 153.788 1915.23 151.959 Q1913.79 150.13 1910.92 150.13 Q1907.47 150.13 1905.48 152.33 Q1903.49 154.529 1903.49 158.325 L1903.49 172.978 L1899.21 172.978 L1899.21 136.959 L1903.49 136.959 L1903.49 151.08 Q1905.02 148.742 1907.08 147.584 Q1909.16 146.427 1911.87 146.427 Q1916.34 146.427 1918.63 149.205 Q1920.92 151.959 1920.92 157.329 Z\" fill=\"#000000\" fill-rule=\"evenodd\" fill-opacity=\"1\" /><path clip-path=\"url(#clip960)\" d=\"M 0 0 M1937.17 159.945 Q1932.01 159.945 1930.02 161.126 Q1928.03 162.306 1928.03 165.154 Q1928.03 167.422 1929.51 168.765 Q1931.01 170.084 1933.58 170.084 Q1937.12 170.084 1939.25 167.584 Q1941.41 165.061 1941.41 160.894 L1941.41 159.945 L1937.17 159.945 M1945.67 158.186 L1945.67 172.978 L1941.41 172.978 L1941.41 169.042 Q1939.95 171.403 1937.77 172.538 Q1935.6 173.649 1932.45 173.649 Q1928.47 173.649 1926.11 171.427 Q1923.77 169.181 1923.77 165.431 Q1923.77 161.056 1926.68 158.834 Q1929.62 156.612 1935.43 156.612 L1941.41 156.612 L1941.41 156.195 Q1941.41 153.255 1939.46 151.658 Q1937.54 150.038 1934.04 150.038 Q1931.82 150.038 1929.72 150.57 Q1927.61 151.103 1925.67 152.167 L1925.67 148.232 Q1928 147.33 1930.2 146.89 Q1932.4 146.427 1934.48 146.427 Q1940.11 146.427 1942.89 149.343 Q1945.67 152.26 1945.67 158.186 Z\" fill=\"#000000\" fill-rule=\"evenodd\" fill-opacity=\"1\" /><path clip-path=\"url(#clip960)\" d=\"M 0 0 M1950.69 151.45 L1980.36 151.45 L1980.36 155.339 L1950.69 155.339 L1950.69 151.45 M1950.69 160.894 L1980.36 160.894 L1980.36 164.829 L1950.69 164.829 L1950.69 160.894 Z\" fill=\"#000000\" fill-rule=\"evenodd\" fill-opacity=\"1\" /><path clip-path=\"url(#clip960)\" d=\"M 0 0 M1995.43 141.496 Q1991.82 141.496 1989.99 145.061 Q1988.19 148.603 1988.19 155.732 Q1988.19 162.839 1989.99 166.404 Q1991.82 169.945 1995.43 169.945 Q1999.07 169.945 2000.87 166.404 Q2002.7 162.839 2002.7 155.732 Q2002.7 148.603 2000.87 145.061 Q1999.07 141.496 1995.43 141.496 M1995.43 137.793 Q2001.24 137.793 2004.3 142.399 Q2007.38 146.982 2007.38 155.732 Q2007.38 164.459 2004.3 169.066 Q2001.24 173.649 1995.43 173.649 Q1989.62 173.649 1986.54 169.066 Q1983.49 164.459 1983.49 155.732 Q1983.49 146.982 1986.54 142.399 Q1989.62 137.793 1995.43 137.793 Z\" fill=\"#000000\" fill-rule=\"evenodd\" fill-opacity=\"1\" /><path clip-path=\"url(#clip960)\" d=\"M 0 0 M2012.45 167.098 L2017.33 167.098 L2017.33 172.978 L2012.45 172.978 L2012.45 167.098 Z\" fill=\"#000000\" fill-rule=\"evenodd\" fill-opacity=\"1\" /><path clip-path=\"url(#clip960)\" d=\"M 0 0 M2022.45 138.418 L2040.8 138.418 L2040.8 142.353 L2026.73 142.353 L2026.73 150.825 Q2027.75 150.478 2028.77 150.316 Q2029.79 150.13 2030.8 150.13 Q2036.59 150.13 2039.97 153.302 Q2043.35 156.473 2043.35 161.89 Q2043.35 167.468 2039.88 170.57 Q2036.41 173.649 2030.09 173.649 Q2027.91 173.649 2025.64 173.278 Q2023.4 172.908 2020.99 172.167 L2020.99 167.468 Q2023.07 168.603 2025.29 169.158 Q2027.52 169.714 2029.99 169.714 Q2034 169.714 2036.34 167.607 Q2038.67 165.501 2038.67 161.89 Q2038.67 158.279 2036.34 156.172 Q2034 154.066 2029.99 154.066 Q2028.12 154.066 2026.24 154.482 Q2024.39 154.899 2022.45 155.779 L2022.45 138.418 Z\" fill=\"#000000\" fill-rule=\"evenodd\" fill-opacity=\"1\" /><path clip-path=\"url(#clip960)\" d=\"M 0 0 M2048.91 167.098 L2053.79 167.098 L2053.79 171.079 L2049.99 178.487 L2047.01 178.487 L2048.91 171.079 L2048.91 167.098 Z\" fill=\"#000000\" fill-rule=\"evenodd\" fill-opacity=\"1\" /><path clip-path=\"url(#clip960)\" d=\"M 0 0 M2078.19 156.473 L2078.19 169.135 L2085.69 169.135 Q2089.46 169.135 2091.27 167.584 Q2093.09 166.01 2093.09 162.792 Q2093.09 159.552 2091.27 158.024 Q2089.46 156.473 2085.69 156.473 L2078.19 156.473 M2078.19 142.26 L2078.19 152.677 L2085.11 152.677 Q2088.53 152.677 2090.2 151.404 Q2091.89 150.107 2091.89 147.468 Q2091.89 144.853 2090.2 143.556 Q2088.53 142.26 2085.11 142.26 L2078.19 142.26 M2073.51 138.418 L2085.46 138.418 Q2090.8 138.418 2093.7 140.64 Q2096.59 142.862 2096.59 146.959 Q2096.59 150.13 2095.11 152.005 Q2093.63 153.88 2090.76 154.343 Q2094.21 155.084 2096.1 157.445 Q2098.03 159.783 2098.03 163.302 Q2098.03 167.931 2094.88 170.454 Q2091.73 172.978 2085.92 172.978 L2073.51 172.978 L2073.51 138.418 Z\" fill=\"#000000\" fill-rule=\"evenodd\" fill-opacity=\"1\" /><path clip-path=\"url(#clip960)\" d=\"M 0 0 M2124.67 158.95 L2124.67 161.033 L2105.09 161.033 Q2105.36 165.431 2107.72 167.746 Q2110.11 170.038 2114.34 170.038 Q2116.8 170.038 2119.09 169.436 Q2121.4 168.834 2123.67 167.63 L2123.67 171.658 Q2121.38 172.63 2118.97 173.14 Q2116.57 173.649 2114.09 173.649 Q2107.89 173.649 2104.25 170.038 Q2100.64 166.427 2100.64 160.269 Q2100.64 153.904 2104.07 150.177 Q2107.52 146.427 2113.35 146.427 Q2118.58 146.427 2121.61 149.806 Q2124.67 153.163 2124.67 158.95 M2120.41 157.7 Q2120.36 154.205 2118.44 152.121 Q2116.54 150.038 2113.4 150.038 Q2109.83 150.038 2107.68 152.052 Q2105.55 154.066 2105.22 157.723 L2120.41 157.7 Z\" fill=\"#000000\" fill-rule=\"evenodd\" fill-opacity=\"1\" /><path clip-path=\"url(#clip960)\" d=\"M 0 0 M2133.35 139.691 L2133.35 147.052 L2142.12 147.052 L2142.12 150.362 L2133.35 150.362 L2133.35 164.436 Q2133.35 167.607 2134.21 168.51 Q2135.09 169.413 2137.75 169.413 L2142.12 169.413 L2142.12 172.978 L2137.75 172.978 Q2132.82 172.978 2130.94 171.149 Q2129.07 169.297 2129.07 164.436 L2129.07 150.362 L2125.94 150.362 L2125.94 147.052 L2129.07 147.052 L2129.07 139.691 L2133.35 139.691 Z\" fill=\"#000000\" fill-rule=\"evenodd\" fill-opacity=\"1\" /><path clip-path=\"url(#clip960)\" d=\"M 0 0 M2158.37 159.945 Q2153.21 159.945 2151.22 161.126 Q2149.23 162.306 2149.23 165.154 Q2149.23 167.422 2150.71 168.765 Q2152.21 170.084 2154.78 170.084 Q2158.33 170.084 2160.46 167.584 Q2162.61 165.061 2162.61 160.894 L2162.61 159.945 L2158.37 159.945 M2166.87 158.186 L2166.87 172.978 L2162.61 172.978 L2162.61 169.042 Q2161.15 171.403 2158.97 172.538 Q2156.8 173.649 2153.65 173.649 Q2149.67 173.649 2147.31 171.427 Q2144.97 169.181 2144.97 165.431 Q2144.97 161.056 2147.89 158.834 Q2150.83 156.612 2156.64 156.612 L2162.61 156.612 L2162.61 156.195 Q2162.61 153.255 2160.66 151.658 Q2158.74 150.038 2155.25 150.038 Q2153.03 150.038 2150.92 150.57 Q2148.81 151.103 2146.87 152.167 L2146.87 148.232 Q2149.21 147.33 2151.4 146.89 Q2153.6 146.427 2155.69 146.427 Q2161.31 146.427 2164.09 149.343 Q2166.87 152.26 2166.87 158.186 Z\" fill=\"#000000\" fill-rule=\"evenodd\" fill-opacity=\"1\" /><path clip-path=\"url(#clip960)\" d=\"M 0 0 M2171.89 151.45 L2201.57 151.45 L2201.57 155.339 L2171.89 155.339 L2171.89 151.45 M2171.89 160.894 L2201.57 160.894 L2201.57 164.829 L2171.89 164.829 L2171.89 160.894 Z\" fill=\"#000000\" fill-rule=\"evenodd\" fill-opacity=\"1\" /><path clip-path=\"url(#clip960)\" d=\"M 0 0 M2220.8 154.343 Q2224.16 155.061 2226.03 157.329 Q2227.93 159.598 2227.93 162.931 Q2227.93 168.047 2224.41 170.848 Q2220.9 173.649 2214.41 173.649 Q2212.24 173.649 2209.92 173.209 Q2207.63 172.792 2205.18 171.936 L2205.18 167.422 Q2207.12 168.556 2209.44 169.135 Q2211.75 169.714 2214.27 169.714 Q2218.67 169.714 2220.96 167.978 Q2223.28 166.241 2223.28 162.931 Q2223.28 159.876 2221.13 158.163 Q2219 156.427 2215.18 156.427 L2211.15 156.427 L2211.15 152.584 L2215.36 152.584 Q2218.81 152.584 2220.64 151.218 Q2222.47 149.83 2222.47 147.237 Q2222.47 144.575 2220.57 143.163 Q2218.7 141.728 2215.18 141.728 Q2213.26 141.728 2211.06 142.144 Q2208.86 142.561 2206.22 143.441 L2206.22 139.274 Q2208.88 138.533 2211.2 138.163 Q2213.53 137.793 2215.59 137.793 Q2220.92 137.793 2224.02 140.223 Q2227.12 142.63 2227.12 146.751 Q2227.12 149.621 2225.48 151.612 Q2223.83 153.58 2220.8 154.343 Z\" fill=\"#000000\" fill-rule=\"evenodd\" fill-opacity=\"1\" /><polyline clip-path=\"url(#clip960)\" style=\"stroke:#e26f46; stroke-width:4; stroke-opacity:1; fill:none\" points=\"\n",
       "  1652.74,216.178 1802.11,216.178 \n",
       "  \"/>\n",
       "<path clip-path=\"url(#clip960)\" d=\"M 0 0 M1842.84 203.504 L1836.5 220.703 L1849.21 220.703 L1842.84 203.504 M1840.2 198.898 L1845.5 198.898 L1858.67 233.458 L1853.81 233.458 L1850.67 224.592 L1835.09 224.592 L1831.94 233.458 L1827.01 233.458 L1840.2 198.898 Z\" fill=\"#000000\" fill-rule=\"evenodd\" fill-opacity=\"1\" /><path clip-path=\"url(#clip960)\" d=\"M 0 0 M1863.14 197.439 L1867.4 197.439 L1867.4 233.458 L1863.14 233.458 L1863.14 197.439 Z\" fill=\"#000000\" fill-rule=\"evenodd\" fill-opacity=\"1\" /><path clip-path=\"url(#clip960)\" d=\"M 0 0 M1875.99 229.569 L1875.99 243.319 L1871.71 243.319 L1871.71 207.532 L1875.99 207.532 L1875.99 211.467 Q1877.33 209.152 1879.37 208.041 Q1881.43 206.907 1884.28 206.907 Q1889 206.907 1891.94 210.657 Q1894.9 214.407 1894.9 220.518 Q1894.9 226.629 1891.94 230.379 Q1889 234.129 1884.28 234.129 Q1881.43 234.129 1879.37 233.018 Q1877.33 231.883 1875.99 229.569 M1890.48 220.518 Q1890.48 215.819 1888.54 213.157 Q1886.61 210.472 1883.23 210.472 Q1879.86 210.472 1877.91 213.157 Q1875.99 215.819 1875.99 220.518 Q1875.99 225.217 1877.91 227.902 Q1879.86 230.564 1883.23 230.564 Q1886.61 230.564 1888.54 227.902 Q1890.48 225.217 1890.48 220.518 Z\" fill=\"#000000\" fill-rule=\"evenodd\" fill-opacity=\"1\" /><path clip-path=\"url(#clip960)\" d=\"M 0 0 M1920.92 217.809 L1920.92 233.458 L1916.66 233.458 L1916.66 217.948 Q1916.66 214.268 1915.23 212.439 Q1913.79 210.61 1910.92 210.61 Q1907.47 210.61 1905.48 212.81 Q1903.49 215.009 1903.49 218.805 L1903.49 233.458 L1899.21 233.458 L1899.21 197.439 L1903.49 197.439 L1903.49 211.56 Q1905.02 209.222 1907.08 208.064 Q1909.16 206.907 1911.87 206.907 Q1916.34 206.907 1918.63 209.685 Q1920.92 212.439 1920.92 217.809 Z\" fill=\"#000000\" fill-rule=\"evenodd\" fill-opacity=\"1\" /><path clip-path=\"url(#clip960)\" d=\"M 0 0 M1937.17 220.425 Q1932.01 220.425 1930.02 221.606 Q1928.03 222.786 1928.03 225.634 Q1928.03 227.902 1929.51 229.245 Q1931.01 230.564 1933.58 230.564 Q1937.12 230.564 1939.25 228.064 Q1941.41 225.541 1941.41 221.374 L1941.41 220.425 L1937.17 220.425 M1945.67 218.666 L1945.67 233.458 L1941.41 233.458 L1941.41 229.522 Q1939.95 231.883 1937.77 233.018 Q1935.6 234.129 1932.45 234.129 Q1928.47 234.129 1926.11 231.907 Q1923.77 229.661 1923.77 225.911 Q1923.77 221.536 1926.68 219.314 Q1929.62 217.092 1935.43 217.092 L1941.41 217.092 L1941.41 216.675 Q1941.41 213.735 1939.46 212.138 Q1937.54 210.518 1934.04 210.518 Q1931.82 210.518 1929.72 211.05 Q1927.61 211.583 1925.67 212.647 L1925.67 208.712 Q1928 207.81 1930.2 207.37 Q1932.4 206.907 1934.48 206.907 Q1940.11 206.907 1942.89 209.823 Q1945.67 212.74 1945.67 218.666 Z\" fill=\"#000000\" fill-rule=\"evenodd\" fill-opacity=\"1\" /><path clip-path=\"url(#clip960)\" d=\"M 0 0 M1950.69 211.93 L1980.36 211.93 L1980.36 215.819 L1950.69 215.819 L1950.69 211.93 M1950.69 221.374 L1980.36 221.374 L1980.36 225.309 L1950.69 225.309 L1950.69 221.374 Z\" fill=\"#000000\" fill-rule=\"evenodd\" fill-opacity=\"1\" /><path clip-path=\"url(#clip960)\" d=\"M 0 0 M1986.24 229.522 L1993.88 229.522 L1993.88 203.157 L1985.57 204.823 L1985.57 200.564 L1993.84 198.898 L1998.51 198.898 L1998.51 229.522 L2006.15 229.522 L2006.15 233.458 L1986.24 233.458 L1986.24 229.522 Z\" fill=\"#000000\" fill-rule=\"evenodd\" fill-opacity=\"1\" /><path clip-path=\"url(#clip960)\" d=\"M 0 0 M2011.22 227.578 L2016.1 227.578 L2016.1 233.458 L2011.22 233.458 L2011.22 227.578 Z\" fill=\"#000000\" fill-rule=\"evenodd\" fill-opacity=\"1\" /><path clip-path=\"url(#clip960)\" d=\"M 0 0 M2031.17 201.976 Q2027.56 201.976 2025.73 205.541 Q2023.93 209.083 2023.93 216.212 Q2023.93 223.319 2025.73 226.884 Q2027.56 230.425 2031.17 230.425 Q2034.81 230.425 2036.61 226.884 Q2038.44 223.319 2038.44 216.212 Q2038.44 209.083 2036.61 205.541 Q2034.81 201.976 2031.17 201.976 M2031.17 198.273 Q2036.98 198.273 2040.04 202.879 Q2043.12 207.462 2043.12 216.212 Q2043.12 224.939 2040.04 229.546 Q2036.98 234.129 2031.17 234.129 Q2025.36 234.129 2022.29 229.546 Q2019.23 224.939 2019.23 216.212 Q2019.23 207.462 2022.29 202.879 Q2025.36 198.273 2031.17 198.273 Z\" fill=\"#000000\" fill-rule=\"evenodd\" fill-opacity=\"1\" /><path clip-path=\"url(#clip960)\" d=\"M 0 0 M2048.67 227.578 L2053.56 227.578 L2053.56 231.559 L2049.76 238.967 L2046.78 238.967 L2048.67 231.559 L2048.67 227.578 Z\" fill=\"#000000\" fill-rule=\"evenodd\" fill-opacity=\"1\" /><path clip-path=\"url(#clip960)\" d=\"M 0 0 M2077.96 216.953 L2077.96 229.615 L2085.46 229.615 Q2089.23 229.615 2091.03 228.064 Q2092.86 226.49 2092.86 223.272 Q2092.86 220.032 2091.03 218.504 Q2089.23 216.953 2085.46 216.953 L2077.96 216.953 M2077.96 202.74 L2077.96 213.157 L2084.88 213.157 Q2088.3 213.157 2089.97 211.884 Q2091.66 210.587 2091.66 207.948 Q2091.66 205.333 2089.97 204.036 Q2088.3 202.74 2084.88 202.74 L2077.96 202.74 M2073.28 198.898 L2085.22 198.898 Q2090.57 198.898 2093.47 201.12 Q2096.36 203.342 2096.36 207.439 Q2096.36 210.61 2094.88 212.485 Q2093.4 214.36 2090.53 214.823 Q2093.97 215.564 2095.87 217.925 Q2097.79 220.263 2097.79 223.782 Q2097.79 228.411 2094.65 230.934 Q2091.5 233.458 2085.69 233.458 L2073.28 233.458 L2073.28 198.898 Z\" fill=\"#000000\" fill-rule=\"evenodd\" fill-opacity=\"1\" /><path clip-path=\"url(#clip960)\" d=\"M 0 0 M2124.44 219.43 L2124.44 221.513 L2104.85 221.513 Q2105.13 225.911 2107.49 228.226 Q2109.88 230.518 2114.11 230.518 Q2116.57 230.518 2118.86 229.916 Q2121.17 229.314 2123.44 228.11 L2123.44 232.138 Q2121.15 233.11 2118.74 233.62 Q2116.34 234.129 2113.86 234.129 Q2107.65 234.129 2104.02 230.518 Q2100.41 226.907 2100.41 220.749 Q2100.41 214.384 2103.84 210.657 Q2107.28 206.907 2113.12 206.907 Q2118.35 206.907 2121.38 210.286 Q2124.44 213.643 2124.44 219.43 M2120.18 218.18 Q2120.13 214.685 2118.21 212.601 Q2116.31 210.518 2113.16 210.518 Q2109.6 210.518 2107.45 212.532 Q2105.32 214.546 2104.99 218.203 L2120.18 218.18 Z\" fill=\"#000000\" fill-rule=\"evenodd\" fill-opacity=\"1\" /><path clip-path=\"url(#clip960)\" d=\"M 0 0 M2133.12 200.171 L2133.12 207.532 L2141.89 207.532 L2141.89 210.842 L2133.12 210.842 L2133.12 224.916 Q2133.12 228.087 2133.97 228.99 Q2134.85 229.893 2137.52 229.893 L2141.89 229.893 L2141.89 233.458 L2137.52 233.458 Q2132.59 233.458 2130.71 231.629 Q2128.84 229.777 2128.84 224.916 L2128.84 210.842 L2125.71 210.842 L2125.71 207.532 L2128.84 207.532 L2128.84 200.171 L2133.12 200.171 Z\" fill=\"#000000\" fill-rule=\"evenodd\" fill-opacity=\"1\" /><path clip-path=\"url(#clip960)\" d=\"M 0 0 M2158.14 220.425 Q2152.98 220.425 2150.99 221.606 Q2149 222.786 2149 225.634 Q2149 227.902 2150.48 229.245 Q2151.98 230.564 2154.55 230.564 Q2158.09 230.564 2160.22 228.064 Q2162.38 225.541 2162.38 221.374 L2162.38 220.425 L2158.14 220.425 M2166.64 218.666 L2166.64 233.458 L2162.38 233.458 L2162.38 229.522 Q2160.92 231.883 2158.74 233.018 Q2156.57 234.129 2153.42 234.129 Q2149.44 234.129 2147.08 231.907 Q2144.74 229.661 2144.74 225.911 Q2144.74 221.536 2147.65 219.314 Q2150.59 217.092 2156.4 217.092 L2162.38 217.092 L2162.38 216.675 Q2162.38 213.735 2160.43 212.138 Q2158.51 210.518 2155.02 210.518 Q2152.79 210.518 2150.69 211.05 Q2148.58 211.583 2146.64 212.647 L2146.64 208.712 Q2148.97 207.81 2151.17 207.37 Q2153.37 206.907 2155.46 206.907 Q2161.08 206.907 2163.86 209.823 Q2166.64 212.74 2166.64 218.666 Z\" fill=\"#000000\" fill-rule=\"evenodd\" fill-opacity=\"1\" /><path clip-path=\"url(#clip960)\" d=\"M 0 0 M2171.66 211.93 L2201.34 211.93 L2201.34 215.819 L2171.66 215.819 L2171.66 211.93 M2171.66 221.374 L2201.34 221.374 L2201.34 225.309 L2171.66 225.309 L2171.66 221.374 Z\" fill=\"#000000\" fill-rule=\"evenodd\" fill-opacity=\"1\" /><path clip-path=\"url(#clip960)\" d=\"M 0 0 M2220.57 214.823 Q2223.93 215.541 2225.8 217.809 Q2227.7 220.078 2227.7 223.411 Q2227.7 228.527 2224.18 231.328 Q2220.66 234.129 2214.18 234.129 Q2212.01 234.129 2209.69 233.689 Q2207.4 233.272 2204.95 232.416 L2204.95 227.902 Q2206.89 229.036 2209.21 229.615 Q2211.52 230.194 2214.04 230.194 Q2218.44 230.194 2220.73 228.458 Q2223.05 226.721 2223.05 223.411 Q2223.05 220.356 2220.9 218.643 Q2218.77 216.907 2214.95 216.907 L2210.92 216.907 L2210.92 213.064 L2215.13 213.064 Q2218.58 213.064 2220.41 211.698 Q2222.24 210.31 2222.24 207.717 Q2222.24 205.055 2220.34 203.643 Q2218.46 202.208 2214.95 202.208 Q2213.02 202.208 2210.83 202.624 Q2208.63 203.041 2205.99 203.921 L2205.99 199.754 Q2208.65 199.013 2210.96 198.643 Q2213.3 198.273 2215.36 198.273 Q2220.69 198.273 2223.79 200.703 Q2226.89 203.11 2226.89 207.231 Q2226.89 210.101 2225.25 212.092 Q2223.6 214.06 2220.57 214.823 Z\" fill=\"#000000\" fill-rule=\"evenodd\" fill-opacity=\"1\" /><polyline clip-path=\"url(#clip960)\" style=\"stroke:#3da44d; stroke-width:4; stroke-opacity:1; fill:none\" points=\"\n",
       "  1652.74,276.658 1802.11,276.658 \n",
       "  \"/>\n",
       "<path clip-path=\"url(#clip960)\" d=\"M 0 0 M1842.84 263.984 L1836.5 281.183 L1849.21 281.183 L1842.84 263.984 M1840.2 259.378 L1845.5 259.378 L1858.67 293.938 L1853.81 293.938 L1850.67 285.072 L1835.09 285.072 L1831.94 293.938 L1827.01 293.938 L1840.2 259.378 Z\" fill=\"#000000\" fill-rule=\"evenodd\" fill-opacity=\"1\" /><path clip-path=\"url(#clip960)\" d=\"M 0 0 M1863.14 257.919 L1867.4 257.919 L1867.4 293.938 L1863.14 293.938 L1863.14 257.919 Z\" fill=\"#000000\" fill-rule=\"evenodd\" fill-opacity=\"1\" /><path clip-path=\"url(#clip960)\" d=\"M 0 0 M1875.99 290.049 L1875.99 303.799 L1871.71 303.799 L1871.71 268.012 L1875.99 268.012 L1875.99 271.947 Q1877.33 269.632 1879.37 268.521 Q1881.43 267.387 1884.28 267.387 Q1889 267.387 1891.94 271.137 Q1894.9 274.887 1894.9 280.998 Q1894.9 287.109 1891.94 290.859 Q1889 294.609 1884.28 294.609 Q1881.43 294.609 1879.37 293.498 Q1877.33 292.363 1875.99 290.049 M1890.48 280.998 Q1890.48 276.299 1888.54 273.637 Q1886.61 270.952 1883.23 270.952 Q1879.86 270.952 1877.91 273.637 Q1875.99 276.299 1875.99 280.998 Q1875.99 285.697 1877.91 288.382 Q1879.86 291.044 1883.23 291.044 Q1886.61 291.044 1888.54 288.382 Q1890.48 285.697 1890.48 280.998 Z\" fill=\"#000000\" fill-rule=\"evenodd\" fill-opacity=\"1\" /><path clip-path=\"url(#clip960)\" d=\"M 0 0 M1920.92 278.289 L1920.92 293.938 L1916.66 293.938 L1916.66 278.428 Q1916.66 274.748 1915.23 272.919 Q1913.79 271.09 1910.92 271.09 Q1907.47 271.09 1905.48 273.29 Q1903.49 275.489 1903.49 279.285 L1903.49 293.938 L1899.21 293.938 L1899.21 257.919 L1903.49 257.919 L1903.49 272.04 Q1905.02 269.702 1907.08 268.544 Q1909.16 267.387 1911.87 267.387 Q1916.34 267.387 1918.63 270.165 Q1920.92 272.919 1920.92 278.289 Z\" fill=\"#000000\" fill-rule=\"evenodd\" fill-opacity=\"1\" /><path clip-path=\"url(#clip960)\" d=\"M 0 0 M1937.17 280.905 Q1932.01 280.905 1930.02 282.086 Q1928.03 283.266 1928.03 286.114 Q1928.03 288.382 1929.51 289.725 Q1931.01 291.044 1933.58 291.044 Q1937.12 291.044 1939.25 288.544 Q1941.41 286.021 1941.41 281.854 L1941.41 280.905 L1937.17 280.905 M1945.67 279.146 L1945.67 293.938 L1941.41 293.938 L1941.41 290.002 Q1939.95 292.363 1937.77 293.498 Q1935.6 294.609 1932.45 294.609 Q1928.47 294.609 1926.11 292.387 Q1923.77 290.141 1923.77 286.391 Q1923.77 282.016 1926.68 279.794 Q1929.62 277.572 1935.43 277.572 L1941.41 277.572 L1941.41 277.155 Q1941.41 274.215 1939.46 272.618 Q1937.54 270.998 1934.04 270.998 Q1931.82 270.998 1929.72 271.53 Q1927.61 272.063 1925.67 273.127 L1925.67 269.192 Q1928 268.29 1930.2 267.85 Q1932.4 267.387 1934.48 267.387 Q1940.11 267.387 1942.89 270.303 Q1945.67 273.22 1945.67 279.146 Z\" fill=\"#000000\" fill-rule=\"evenodd\" fill-opacity=\"1\" /><path clip-path=\"url(#clip960)\" d=\"M 0 0 M1950.69 272.41 L1980.36 272.41 L1980.36 276.299 L1950.69 276.299 L1950.69 272.41 M1950.69 281.854 L1980.36 281.854 L1980.36 285.789 L1950.69 285.789 L1950.69 281.854 Z\" fill=\"#000000\" fill-rule=\"evenodd\" fill-opacity=\"1\" /><path clip-path=\"url(#clip960)\" d=\"M 0 0 M1999.6 275.303 Q2002.96 276.021 2004.83 278.289 Q2006.73 280.558 2006.73 283.891 Q2006.73 289.007 2003.21 291.808 Q1999.69 294.609 1993.21 294.609 Q1991.04 294.609 1988.72 294.169 Q1986.43 293.752 1983.98 292.896 L1983.98 288.382 Q1985.92 289.516 1988.23 290.095 Q1990.55 290.674 1993.07 290.674 Q1997.47 290.674 1999.76 288.938 Q2002.08 287.201 2002.08 283.891 Q2002.08 280.836 1999.92 279.123 Q1997.79 277.387 1993.98 277.387 L1989.95 277.387 L1989.95 273.544 L1994.16 273.544 Q1997.61 273.544 1999.44 272.178 Q2001.27 270.79 2001.27 268.197 Q2001.27 265.535 1999.37 264.123 Q1997.49 262.688 1993.98 262.688 Q1992.05 262.688 1989.85 263.104 Q1987.66 263.521 1985.02 264.401 L1985.02 260.234 Q1987.68 259.493 1989.99 259.123 Q1992.33 258.753 1994.39 258.753 Q1999.72 258.753 2002.82 261.183 Q2005.92 263.59 2005.92 267.711 Q2005.92 270.581 2004.28 272.572 Q2002.63 274.54 1999.6 275.303 Z\" fill=\"#000000\" fill-rule=\"evenodd\" fill-opacity=\"1\" /><path clip-path=\"url(#clip960)\" d=\"M 0 0 M2011.8 288.058 L2016.68 288.058 L2016.68 293.938 L2011.8 293.938 L2011.8 288.058 Z\" fill=\"#000000\" fill-rule=\"evenodd\" fill-opacity=\"1\" /><path clip-path=\"url(#clip960)\" d=\"M 0 0 M2031.75 262.456 Q2028.14 262.456 2026.31 266.021 Q2024.51 269.563 2024.51 276.692 Q2024.51 283.799 2026.31 287.364 Q2028.14 290.905 2031.75 290.905 Q2035.39 290.905 2037.19 287.364 Q2039.02 283.799 2039.02 276.692 Q2039.02 269.563 2037.19 266.021 Q2035.39 262.456 2031.75 262.456 M2031.75 258.753 Q2037.56 258.753 2040.62 263.359 Q2043.7 267.942 2043.7 276.692 Q2043.7 285.419 2040.62 290.026 Q2037.56 294.609 2031.75 294.609 Q2025.94 294.609 2022.86 290.026 Q2019.81 285.419 2019.81 276.692 Q2019.81 267.942 2022.86 263.359 Q2025.94 258.753 2031.75 258.753 Z\" fill=\"#000000\" fill-rule=\"evenodd\" fill-opacity=\"1\" /><path clip-path=\"url(#clip960)\" d=\"M 0 0 M2049.25 288.058 L2054.14 288.058 L2054.14 292.039 L2050.34 299.447 L2047.35 299.447 L2049.25 292.039 L2049.25 288.058 Z\" fill=\"#000000\" fill-rule=\"evenodd\" fill-opacity=\"1\" /><path clip-path=\"url(#clip960)\" d=\"M 0 0 M2078.53 277.433 L2078.53 290.095 L2086.03 290.095 Q2089.81 290.095 2091.61 288.544 Q2093.44 286.97 2093.44 283.752 Q2093.44 280.512 2091.61 278.984 Q2089.81 277.433 2086.03 277.433 L2078.53 277.433 M2078.53 263.22 L2078.53 273.637 L2085.46 273.637 Q2088.88 273.637 2090.55 272.364 Q2092.24 271.067 2092.24 268.428 Q2092.24 265.813 2090.55 264.516 Q2088.88 263.22 2085.46 263.22 L2078.53 263.22 M2073.86 259.378 L2085.8 259.378 Q2091.15 259.378 2094.04 261.6 Q2096.94 263.822 2096.94 267.919 Q2096.94 271.09 2095.46 272.965 Q2093.97 274.84 2091.1 275.303 Q2094.55 276.044 2096.45 278.405 Q2098.37 280.743 2098.37 284.262 Q2098.37 288.891 2095.22 291.414 Q2092.08 293.938 2086.27 293.938 L2073.86 293.938 L2073.86 259.378 Z\" fill=\"#000000\" fill-rule=\"evenodd\" fill-opacity=\"1\" /><path clip-path=\"url(#clip960)\" d=\"M 0 0 M2125.02 279.91 L2125.02 281.993 L2105.43 281.993 Q2105.71 286.391 2108.07 288.706 Q2110.46 290.998 2114.69 290.998 Q2117.15 290.998 2119.44 290.396 Q2121.75 289.794 2124.02 288.59 L2124.02 292.618 Q2121.73 293.59 2119.32 294.1 Q2116.91 294.609 2114.44 294.609 Q2108.23 294.609 2104.6 290.998 Q2100.99 287.387 2100.99 281.229 Q2100.99 274.864 2104.41 271.137 Q2107.86 267.387 2113.7 267.387 Q2118.93 267.387 2121.96 270.766 Q2125.02 274.123 2125.02 279.91 M2120.76 278.66 Q2120.71 275.165 2118.79 273.081 Q2116.89 270.998 2113.74 270.998 Q2110.18 270.998 2108.03 273.012 Q2105.9 275.026 2105.57 278.683 L2120.76 278.66 Z\" fill=\"#000000\" fill-rule=\"evenodd\" fill-opacity=\"1\" /><path clip-path=\"url(#clip960)\" d=\"M 0 0 M2133.7 260.651 L2133.7 268.012 L2142.47 268.012 L2142.47 271.322 L2133.7 271.322 L2133.7 285.396 Q2133.7 288.567 2134.55 289.47 Q2135.43 290.373 2138.09 290.373 L2142.47 290.373 L2142.47 293.938 L2138.09 293.938 Q2133.16 293.938 2131.29 292.109 Q2129.41 290.257 2129.41 285.396 L2129.41 271.322 L2126.29 271.322 L2126.29 268.012 L2129.41 268.012 L2129.41 260.651 L2133.7 260.651 Z\" fill=\"#000000\" fill-rule=\"evenodd\" fill-opacity=\"1\" /><path clip-path=\"url(#clip960)\" d=\"M 0 0 M2158.72 280.905 Q2153.56 280.905 2151.57 282.086 Q2149.58 283.266 2149.58 286.114 Q2149.58 288.382 2151.06 289.725 Q2152.56 291.044 2155.13 291.044 Q2158.67 291.044 2160.8 288.544 Q2162.96 286.021 2162.96 281.854 L2162.96 280.905 L2158.72 280.905 M2167.21 279.146 L2167.21 293.938 L2162.96 293.938 L2162.96 290.002 Q2161.5 292.363 2159.32 293.498 Q2157.15 294.609 2154 294.609 Q2150.02 294.609 2147.65 292.387 Q2145.32 290.141 2145.32 286.391 Q2145.32 282.016 2148.23 279.794 Q2151.17 277.572 2156.98 277.572 L2162.96 277.572 L2162.96 277.155 Q2162.96 274.215 2161.01 272.618 Q2159.09 270.998 2155.59 270.998 Q2153.37 270.998 2151.27 271.53 Q2149.16 272.063 2147.21 273.127 L2147.21 269.192 Q2149.55 268.29 2151.75 267.85 Q2153.95 267.387 2156.03 267.387 Q2161.66 267.387 2164.44 270.303 Q2167.21 273.22 2167.21 279.146 Z\" fill=\"#000000\" fill-rule=\"evenodd\" fill-opacity=\"1\" /><path clip-path=\"url(#clip960)\" d=\"M 0 0 M2172.24 272.41 L2201.91 272.41 L2201.91 276.299 L2172.24 276.299 L2172.24 272.41 M2172.24 281.854 L2201.91 281.854 L2201.91 285.789 L2172.24 285.789 L2172.24 281.854 Z\" fill=\"#000000\" fill-rule=\"evenodd\" fill-opacity=\"1\" /><path clip-path=\"url(#clip960)\" d=\"M 0 0 M2221.15 275.303 Q2224.51 276.021 2226.38 278.289 Q2228.28 280.558 2228.28 283.891 Q2228.28 289.007 2224.76 291.808 Q2221.24 294.609 2214.76 294.609 Q2212.58 294.609 2210.27 294.169 Q2207.98 293.752 2205.52 292.896 L2205.52 288.382 Q2207.47 289.516 2209.78 290.095 Q2212.1 290.674 2214.62 290.674 Q2219.02 290.674 2221.31 288.938 Q2223.63 287.201 2223.63 283.891 Q2223.63 280.836 2221.47 279.123 Q2219.34 277.387 2215.52 277.387 L2211.5 277.387 L2211.5 273.544 L2215.71 273.544 Q2219.16 273.544 2220.99 272.178 Q2222.82 270.79 2222.82 268.197 Q2222.82 265.535 2220.92 264.123 Q2219.04 262.688 2215.52 262.688 Q2213.6 262.688 2211.4 263.104 Q2209.21 263.521 2206.57 264.401 L2206.57 260.234 Q2209.23 259.493 2211.54 259.123 Q2213.88 258.753 2215.94 258.753 Q2221.27 258.753 2224.37 261.183 Q2227.47 263.59 2227.47 267.711 Q2227.47 270.581 2225.83 272.572 Q2224.18 274.54 2221.15 275.303 Z\" fill=\"#000000\" fill-rule=\"evenodd\" fill-opacity=\"1\" /><polyline clip-path=\"url(#clip960)\" style=\"stroke:#c271d2; stroke-width:4; stroke-opacity:1; fill:none\" points=\"\n",
       "  1652.74,337.138 1802.11,337.138 \n",
       "  \"/>\n",
       "<path clip-path=\"url(#clip960)\" d=\"M 0 0 M1842.84 324.464 L1836.5 341.663 L1849.21 341.663 L1842.84 324.464 M1840.2 319.858 L1845.5 319.858 L1858.67 354.418 L1853.81 354.418 L1850.67 345.552 L1835.09 345.552 L1831.94 354.418 L1827.01 354.418 L1840.2 319.858 Z\" fill=\"#000000\" fill-rule=\"evenodd\" fill-opacity=\"1\" /><path clip-path=\"url(#clip960)\" d=\"M 0 0 M1863.14 318.399 L1867.4 318.399 L1867.4 354.418 L1863.14 354.418 L1863.14 318.399 Z\" fill=\"#000000\" fill-rule=\"evenodd\" fill-opacity=\"1\" /><path clip-path=\"url(#clip960)\" d=\"M 0 0 M1875.99 350.529 L1875.99 364.279 L1871.71 364.279 L1871.71 328.492 L1875.99 328.492 L1875.99 332.427 Q1877.33 330.112 1879.37 329.001 Q1881.43 327.867 1884.28 327.867 Q1889 327.867 1891.94 331.617 Q1894.9 335.367 1894.9 341.478 Q1894.9 347.589 1891.94 351.339 Q1889 355.089 1884.28 355.089 Q1881.43 355.089 1879.37 353.978 Q1877.33 352.843 1875.99 350.529 M1890.48 341.478 Q1890.48 336.779 1888.54 334.117 Q1886.61 331.432 1883.23 331.432 Q1879.86 331.432 1877.91 334.117 Q1875.99 336.779 1875.99 341.478 Q1875.99 346.177 1877.91 348.862 Q1879.86 351.524 1883.23 351.524 Q1886.61 351.524 1888.54 348.862 Q1890.48 346.177 1890.48 341.478 Z\" fill=\"#000000\" fill-rule=\"evenodd\" fill-opacity=\"1\" /><path clip-path=\"url(#clip960)\" d=\"M 0 0 M1920.92 338.769 L1920.92 354.418 L1916.66 354.418 L1916.66 338.908 Q1916.66 335.228 1915.23 333.399 Q1913.79 331.57 1910.92 331.57 Q1907.47 331.57 1905.48 333.77 Q1903.49 335.969 1903.49 339.765 L1903.49 354.418 L1899.21 354.418 L1899.21 318.399 L1903.49 318.399 L1903.49 332.52 Q1905.02 330.182 1907.08 329.024 Q1909.16 327.867 1911.87 327.867 Q1916.34 327.867 1918.63 330.645 Q1920.92 333.399 1920.92 338.769 Z\" fill=\"#000000\" fill-rule=\"evenodd\" fill-opacity=\"1\" /><path clip-path=\"url(#clip960)\" d=\"M 0 0 M1937.17 341.385 Q1932.01 341.385 1930.02 342.566 Q1928.03 343.746 1928.03 346.594 Q1928.03 348.862 1929.51 350.205 Q1931.01 351.524 1933.58 351.524 Q1937.12 351.524 1939.25 349.024 Q1941.41 346.501 1941.41 342.334 L1941.41 341.385 L1937.17 341.385 M1945.67 339.626 L1945.67 354.418 L1941.41 354.418 L1941.41 350.482 Q1939.95 352.843 1937.77 353.978 Q1935.6 355.089 1932.45 355.089 Q1928.47 355.089 1926.11 352.867 Q1923.77 350.621 1923.77 346.871 Q1923.77 342.496 1926.68 340.274 Q1929.62 338.052 1935.43 338.052 L1941.41 338.052 L1941.41 337.635 Q1941.41 334.695 1939.46 333.098 Q1937.54 331.478 1934.04 331.478 Q1931.82 331.478 1929.72 332.01 Q1927.61 332.543 1925.67 333.607 L1925.67 329.672 Q1928 328.77 1930.2 328.33 Q1932.4 327.867 1934.48 327.867 Q1940.11 327.867 1942.89 330.783 Q1945.67 333.7 1945.67 339.626 Z\" fill=\"#000000\" fill-rule=\"evenodd\" fill-opacity=\"1\" /><path clip-path=\"url(#clip960)\" d=\"M 0 0 M1950.69 332.89 L1980.36 332.89 L1980.36 336.779 L1950.69 336.779 L1950.69 332.89 M1950.69 342.334 L1980.36 342.334 L1980.36 346.269 L1950.69 346.269 L1950.69 342.334 Z\" fill=\"#000000\" fill-rule=\"evenodd\" fill-opacity=\"1\" /><path clip-path=\"url(#clip960)\" d=\"M 0 0 M1985.48 319.858 L2003.84 319.858 L2003.84 323.793 L1989.76 323.793 L1989.76 332.265 Q1990.78 331.918 1991.8 331.756 Q1992.82 331.57 1993.84 331.57 Q1999.62 331.57 2003 334.742 Q2006.38 337.913 2006.38 343.33 Q2006.38 348.908 2002.91 352.01 Q1999.44 355.089 1993.12 355.089 Q1990.94 355.089 1988.67 354.718 Q1986.43 354.348 1984.02 353.607 L1984.02 348.908 Q1986.1 350.043 1988.33 350.598 Q1990.55 351.154 1993.03 351.154 Q1997.03 351.154 1999.37 349.047 Q2001.71 346.941 2001.71 343.33 Q2001.71 339.719 1999.37 337.612 Q1997.03 335.506 1993.03 335.506 Q1991.15 335.506 1989.28 335.922 Q1987.42 336.339 1985.48 337.219 L1985.48 319.858 Z\" fill=\"#000000\" fill-rule=\"evenodd\" fill-opacity=\"1\" /><path clip-path=\"url(#clip960)\" d=\"M 0 0 M2011.45 348.538 L2016.34 348.538 L2016.34 354.418 L2011.45 354.418 L2011.45 348.538 Z\" fill=\"#000000\" fill-rule=\"evenodd\" fill-opacity=\"1\" /><path clip-path=\"url(#clip960)\" d=\"M 0 0 M2031.41 322.936 Q2027.79 322.936 2025.97 326.501 Q2024.16 330.043 2024.16 337.172 Q2024.16 344.279 2025.97 347.844 Q2027.79 351.385 2031.41 351.385 Q2035.04 351.385 2036.85 347.844 Q2038.67 344.279 2038.67 337.172 Q2038.67 330.043 2036.85 326.501 Q2035.04 322.936 2031.41 322.936 M2031.41 319.233 Q2037.22 319.233 2040.27 323.839 Q2043.35 328.422 2043.35 337.172 Q2043.35 345.899 2040.27 350.506 Q2037.22 355.089 2031.41 355.089 Q2025.6 355.089 2022.52 350.506 Q2019.46 345.899 2019.46 337.172 Q2019.46 328.422 2022.52 323.839 Q2025.6 319.233 2031.41 319.233 Z\" fill=\"#000000\" fill-rule=\"evenodd\" fill-opacity=\"1\" /><path clip-path=\"url(#clip960)\" d=\"M 0 0 M2048.91 348.538 L2053.79 348.538 L2053.79 352.519 L2049.99 359.927 L2047.01 359.927 L2048.91 352.519 L2048.91 348.538 Z\" fill=\"#000000\" fill-rule=\"evenodd\" fill-opacity=\"1\" /><path clip-path=\"url(#clip960)\" d=\"M 0 0 M2078.19 337.913 L2078.19 350.575 L2085.69 350.575 Q2089.46 350.575 2091.27 349.024 Q2093.09 347.45 2093.09 344.232 Q2093.09 340.992 2091.27 339.464 Q2089.46 337.913 2085.69 337.913 L2078.19 337.913 M2078.19 323.7 L2078.19 334.117 L2085.11 334.117 Q2088.53 334.117 2090.2 332.844 Q2091.89 331.547 2091.89 328.908 Q2091.89 326.293 2090.2 324.996 Q2088.53 323.7 2085.11 323.7 L2078.19 323.7 M2073.51 319.858 L2085.46 319.858 Q2090.8 319.858 2093.7 322.08 Q2096.59 324.302 2096.59 328.399 Q2096.59 331.57 2095.11 333.445 Q2093.63 335.32 2090.76 335.783 Q2094.21 336.524 2096.1 338.885 Q2098.03 341.223 2098.03 344.742 Q2098.03 349.371 2094.88 351.894 Q2091.73 354.418 2085.92 354.418 L2073.51 354.418 L2073.51 319.858 Z\" fill=\"#000000\" fill-rule=\"evenodd\" fill-opacity=\"1\" /><path clip-path=\"url(#clip960)\" d=\"M 0 0 M2124.67 340.39 L2124.67 342.473 L2105.09 342.473 Q2105.36 346.871 2107.72 349.186 Q2110.11 351.478 2114.34 351.478 Q2116.8 351.478 2119.09 350.876 Q2121.4 350.274 2123.67 349.07 L2123.67 353.098 Q2121.38 354.07 2118.97 354.58 Q2116.57 355.089 2114.09 355.089 Q2107.89 355.089 2104.25 351.478 Q2100.64 347.867 2100.64 341.709 Q2100.64 335.344 2104.07 331.617 Q2107.52 327.867 2113.35 327.867 Q2118.58 327.867 2121.61 331.246 Q2124.67 334.603 2124.67 340.39 M2120.41 339.14 Q2120.36 335.645 2118.44 333.561 Q2116.54 331.478 2113.4 331.478 Q2109.83 331.478 2107.68 333.492 Q2105.55 335.506 2105.22 339.163 L2120.41 339.14 Z\" fill=\"#000000\" fill-rule=\"evenodd\" fill-opacity=\"1\" /><path clip-path=\"url(#clip960)\" d=\"M 0 0 M2133.35 321.131 L2133.35 328.492 L2142.12 328.492 L2142.12 331.802 L2133.35 331.802 L2133.35 345.876 Q2133.35 349.047 2134.21 349.95 Q2135.09 350.853 2137.75 350.853 L2142.12 350.853 L2142.12 354.418 L2137.75 354.418 Q2132.82 354.418 2130.94 352.589 Q2129.07 350.737 2129.07 345.876 L2129.07 331.802 L2125.94 331.802 L2125.94 328.492 L2129.07 328.492 L2129.07 321.131 L2133.35 321.131 Z\" fill=\"#000000\" fill-rule=\"evenodd\" fill-opacity=\"1\" /><path clip-path=\"url(#clip960)\" d=\"M 0 0 M2158.37 341.385 Q2153.21 341.385 2151.22 342.566 Q2149.23 343.746 2149.23 346.594 Q2149.23 348.862 2150.71 350.205 Q2152.21 351.524 2154.78 351.524 Q2158.33 351.524 2160.46 349.024 Q2162.61 346.501 2162.61 342.334 L2162.61 341.385 L2158.37 341.385 M2166.87 339.626 L2166.87 354.418 L2162.61 354.418 L2162.61 350.482 Q2161.15 352.843 2158.97 353.978 Q2156.8 355.089 2153.65 355.089 Q2149.67 355.089 2147.31 352.867 Q2144.97 350.621 2144.97 346.871 Q2144.97 342.496 2147.89 340.274 Q2150.83 338.052 2156.64 338.052 L2162.61 338.052 L2162.61 337.635 Q2162.61 334.695 2160.66 333.098 Q2158.74 331.478 2155.25 331.478 Q2153.03 331.478 2150.92 332.01 Q2148.81 332.543 2146.87 333.607 L2146.87 329.672 Q2149.21 328.77 2151.4 328.33 Q2153.6 327.867 2155.69 327.867 Q2161.31 327.867 2164.09 330.783 Q2166.87 333.7 2166.87 339.626 Z\" fill=\"#000000\" fill-rule=\"evenodd\" fill-opacity=\"1\" /><path clip-path=\"url(#clip960)\" d=\"M 0 0 M2171.89 332.89 L2201.57 332.89 L2201.57 336.779 L2171.89 336.779 L2171.89 332.89 M2171.89 342.334 L2201.57 342.334 L2201.57 346.269 L2171.89 346.269 L2171.89 342.334 Z\" fill=\"#000000\" fill-rule=\"evenodd\" fill-opacity=\"1\" /><path clip-path=\"url(#clip960)\" d=\"M 0 0 M2220.8 335.783 Q2224.16 336.501 2226.03 338.769 Q2227.93 341.038 2227.93 344.371 Q2227.93 349.487 2224.41 352.288 Q2220.9 355.089 2214.41 355.089 Q2212.24 355.089 2209.92 354.649 Q2207.63 354.232 2205.18 353.376 L2205.18 348.862 Q2207.12 349.996 2209.44 350.575 Q2211.75 351.154 2214.27 351.154 Q2218.67 351.154 2220.96 349.418 Q2223.28 347.681 2223.28 344.371 Q2223.28 341.316 2221.13 339.603 Q2219 337.867 2215.18 337.867 L2211.15 337.867 L2211.15 334.024 L2215.36 334.024 Q2218.81 334.024 2220.64 332.658 Q2222.47 331.27 2222.47 328.677 Q2222.47 326.015 2220.57 324.603 Q2218.7 323.168 2215.18 323.168 Q2213.26 323.168 2211.06 323.584 Q2208.86 324.001 2206.22 324.881 L2206.22 320.714 Q2208.88 319.973 2211.2 319.603 Q2213.53 319.233 2215.59 319.233 Q2220.92 319.233 2224.02 321.663 Q2227.12 324.07 2227.12 328.191 Q2227.12 331.061 2225.48 333.052 Q2223.83 335.02 2220.8 335.783 Z\" fill=\"#000000\" fill-rule=\"evenodd\" fill-opacity=\"1\" /></svg>\n"
      ]
     },
     "execution_count": 134,
     "metadata": {},
     "output_type": "execute_result"
    }
   ],
   "source": [
    "alphas = [0.5, 1, 3, 5]\n",
    "betas= 3\n",
    "\n",
    "dist=[Beta.(a,betas) for a in alphas]\n",
    "xGrid = 0.01:0.01:1\n",
    "L = [\"Alpha=\"*string.(alphas[i])*\", Beta=\"*string(betas) for i=1:length(alphas)]\n",
    "\n",
    "plot(xGrid, [pdf.(i,xGrid) for i in dist], label=reshape(L, 1,:))\n",
    "#plot(pdf.(dist, xGrid), xlabel=\"x\",\n",
    "#ylabel=\"p(x)\", xlims=(0,1), ylims=(0,15))"
   ]
  },
  {
   "cell_type": "markdown",
   "metadata": {},
   "source": [
    "# Beta-binomial Model"
   ]
  },
  {
   "cell_type": "markdown",
   "metadata": {},
   "source": [
    "## Modeling\n",
    "We are interested in modeling the rate of success in n trials and providing uncertainty evaluation in our estimates. Modeling process is shown in a figure below. It consists of the following steps:\n",
    "* Modeling which includes determining the likelihood (how data is generated) and prior\n",
    "* Inference which will be performed in two ways:\n",
    "    * Analytically\n",
    "    * Using Monte Carlo simulations\n",
    "* Summarizing the results\n",
    "Again, the goal of inference is to determine the posterior distribution of the parameter of interest.\n",
    "\n",
    "![title](images/ProbabilisticModel.png)"
   ]
  },
  {
   "cell_type": "markdown",
   "metadata": {},
   "source": [
    "## Graphical models\n",
    "The model will be presented in 2 ways:\n",
    "* Graphical model \n",
    "* Representation that shows how random variables are sampled\n",
    "\n",
    "Graphical model represent dependencies between random variables. Nodes represent variables and arrows their dependencies. Arrows are in the direction of how the data is generated. There are different representation that are used. Here, the following conventions is used:\n",
    "* Observed variables are shaded\n",
    "* Unobserved latent variables are not shaded\n",
    "* Sometimes, circular nodes represent continuous and rectangular nodes represent the discrete distributions.\n",
    "\n",
    "Notation $\\sim$ means that the random variable is sampled from a specific distribution. \n"
   ]
  },
  {
   "cell_type": "markdown",
   "metadata": {},
   "source": [
    "## Modeling success rates\n",
    "The goal of inference in the graphical model is to determine the posterior distribution of the rate $\\theta$, where $\\theta$ represents the percentage of successes. \n",
    "Observations: \n",
    "* k successes \n",
    "* n trials. \n",
    "\n",
    "Let us start with defining the prior. Let us assume that the all possible rates between 0 and 1 are equally likely. In this case the prior can be represented as:\n",
    "$\\theta \\sim Uniform(0,1)$\n",
    "\n",
    "This is equivalent to modeling the prior using Beta distribution $\\theta \\sim Beta(1,1)$. Beta distribution is useful here because it allows us to easily change the prior and to observe the effects of changing the prior.\n",
    "\n",
    "Likelihood is modeled using Binomial distribution: $k \\sim Binomial(\\theta, n)$.\n"
   ]
  },
  {
   "cell_type": "markdown",
   "metadata": {},
   "source": [
    "## Determining the posterior distribution analytically\n",
    "\n",
    "\\begin{equation}\n",
    "p(\\theta\\mid k) = \\frac{p(\\theta)p(k\\mid\\theta)}{p(k)} \n",
    "\\end{equation}\n",
    "\n",
    "Let us plug in probability distributions for the prior and the likelihood. We will ignore the evidence $p(k)$ at the moment.\n",
    "\\begin{equation}\n",
    "p(\\theta\\mid k) =  \\theta^k (1-\\theta)^{n-k} \\cdot \\theta^{\\alpha-1} (1-\\theta)^{\\beta-1}=\\theta^{k+\\alpha-1}(1-\\theta)^{n-k+\\beta-1}\n",
    "\\end{equation}\n",
    " \n",
    "We see that this distributions resamples Beta distribution with parameters $Beta(\\alpha^*, \\beta^*)$: \\\n",
    "$$\\alpha^*=k+\\alpha $$\n",
    "$$\\beta^*= n-k+\\beta$$\n",
    "\n",
    "Mode of Beta distribution is then $mode=\\frac{k+\\alpha-1}{n+\\alpha+\\beta-2}$."
   ]
  },
  {
   "cell_type": "markdown",
   "metadata": {},
   "source": [
    "## Probabilistic program\n",
    "Let us write a program where we will go through all 3 steps of modeling, inference and evaluating the results."
   ]
  },
  {
   "cell_type": "markdown",
   "metadata": {},
   "source": [
    "#### Modeling"
   ]
  },
  {
   "cell_type": "code",
   "execution_count": 135,
   "metadata": {},
   "outputs": [],
   "source": [
    "using Random, Plots, Distributions, Turing, MCMCChains\n",
    "\n",
    "k=0;\n",
    "n=1;\n",
    "α=1\n",
    "β=1\n",
    "##\n",
    "@model infer_rate(k,n) = begin\n",
    "    # Our prior belief about the probability of heads in a coin.\n",
    "    θ ~ Beta(α, β)\n",
    "    # Heads or tails of a coin are drawn from a Bernoulli distribution.\n",
    "    k ~ Binomial(n, θ)\n",
    "end;"
   ]
  },
  {
   "cell_type": "markdown",
   "metadata": {},
   "source": [
    "#### Inference\n",
    "We will sample using Monte Carlo sampling. There samples can be then represented using the empirical distribution shown in the Figure below. "
   ]
  },
  {
   "cell_type": "code",
   "execution_count": 136,
   "metadata": {},
   "outputs": [
    {
     "name": "stderr",
     "output_type": "stream",
     "text": [
      "\u001b[32mSampling: 100%|█████████████████████████████████████████| Time: 0:00:00\u001b[39m\n"
     ]
    }
   ],
   "source": [
    "# Sampling from the model and indering the posterior distribution\n",
    "chain = sample(infer_rate(k,n), HMC(0.05, 10), 2000);"
   ]
  },
  {
   "cell_type": "markdown",
   "metadata": {},
   "source": [
    "#### Plotting the posterior"
   ]
  },
  {
   "cell_type": "code",
   "execution_count": 137,
   "metadata": {},
   "outputs": [
    {
     "data": {
      "image/svg+xml": [
       "<?xml version=\"1.0\" encoding=\"utf-8\"?>\n",
       "<svg xmlns=\"http://www.w3.org/2000/svg\" xmlns:xlink=\"http://www.w3.org/1999/xlink\" width=\"600\" height=\"400\" viewBox=\"0 0 2400 1600\">\n",
       "<defs>\n",
       "  <clipPath id=\"clip000\">\n",
       "    <rect x=\"0\" y=\"0\" width=\"2400\" height=\"1600\"/>\n",
       "  </clipPath>\n",
       "</defs>\n",
       "<path clip-path=\"url(#clip000)\" d=\"\n",
       "M0 1600 L2400 1600 L2400 0 L0 0  Z\n",
       "  \" fill=\"#ffffff\" fill-rule=\"evenodd\" fill-opacity=\"1\"/>\n",
       "<defs>\n",
       "  <clipPath id=\"clip001\">\n",
       "    <rect x=\"480\" y=\"0\" width=\"1681\" height=\"1600\"/>\n",
       "  </clipPath>\n",
       "</defs>\n",
       "<path clip-path=\"url(#clip000)\" d=\"\n",
       "M211.116 1423.18 L2352.76 1423.18 L2352.76 47.2441 L211.116 47.2441  Z\n",
       "  \" fill=\"#ffffff\" fill-rule=\"evenodd\" fill-opacity=\"1\"/>\n",
       "<defs>\n",
       "  <clipPath id=\"clip002\">\n",
       "    <rect x=\"211\" y=\"47\" width=\"2143\" height=\"1377\"/>\n",
       "  </clipPath>\n",
       "</defs>\n",
       "<polyline clip-path=\"url(#clip002)\" style=\"stroke:#000000; stroke-width:2; stroke-opacity:0.1; fill:none\" points=\"\n",
       "  327.715,1423.18 327.715,47.2441 \n",
       "  \"/>\n",
       "<polyline clip-path=\"url(#clip002)\" style=\"stroke:#000000; stroke-width:2; stroke-opacity:0.1; fill:none\" points=\"\n",
       "  818.822,1423.18 818.822,47.2441 \n",
       "  \"/>\n",
       "<polyline clip-path=\"url(#clip002)\" style=\"stroke:#000000; stroke-width:2; stroke-opacity:0.1; fill:none\" points=\"\n",
       "  1309.93,1423.18 1309.93,47.2441 \n",
       "  \"/>\n",
       "<polyline clip-path=\"url(#clip002)\" style=\"stroke:#000000; stroke-width:2; stroke-opacity:0.1; fill:none\" points=\"\n",
       "  1801.04,1423.18 1801.04,47.2441 \n",
       "  \"/>\n",
       "<polyline clip-path=\"url(#clip002)\" style=\"stroke:#000000; stroke-width:2; stroke-opacity:0.1; fill:none\" points=\"\n",
       "  2292.14,1423.18 2292.14,47.2441 \n",
       "  \"/>\n",
       "<polyline clip-path=\"url(#clip000)\" style=\"stroke:#000000; stroke-width:4; stroke-opacity:1; fill:none\" points=\"\n",
       "  211.116,1423.18 2352.76,1423.18 \n",
       "  \"/>\n",
       "<polyline clip-path=\"url(#clip000)\" style=\"stroke:#000000; stroke-width:4; stroke-opacity:1; fill:none\" points=\"\n",
       "  327.715,1423.18 327.715,1406.67 \n",
       "  \"/>\n",
       "<polyline clip-path=\"url(#clip000)\" style=\"stroke:#000000; stroke-width:4; stroke-opacity:1; fill:none\" points=\"\n",
       "  818.822,1423.18 818.822,1406.67 \n",
       "  \"/>\n",
       "<polyline clip-path=\"url(#clip000)\" style=\"stroke:#000000; stroke-width:4; stroke-opacity:1; fill:none\" points=\"\n",
       "  1309.93,1423.18 1309.93,1406.67 \n",
       "  \"/>\n",
       "<polyline clip-path=\"url(#clip000)\" style=\"stroke:#000000; stroke-width:4; stroke-opacity:1; fill:none\" points=\"\n",
       "  1801.04,1423.18 1801.04,1406.67 \n",
       "  \"/>\n",
       "<polyline clip-path=\"url(#clip000)\" style=\"stroke:#000000; stroke-width:4; stroke-opacity:1; fill:none\" points=\"\n",
       "  2292.14,1423.18 2292.14,1406.67 \n",
       "  \"/>\n",
       "<path clip-path=\"url(#clip000)\" d=\"M 0 0 M295.724 1452.37 Q292.113 1452.37 290.285 1455.94 Q288.479 1459.48 288.479 1466.61 Q288.479 1473.71 290.285 1477.28 Q292.113 1480.82 295.724 1480.82 Q299.359 1480.82 301.164 1477.28 Q302.993 1473.71 302.993 1466.61 Q302.993 1459.48 301.164 1455.94 Q299.359 1452.37 295.724 1452.37 M295.724 1448.67 Q301.535 1448.67 304.59 1453.27 Q307.669 1457.86 307.669 1466.61 Q307.669 1475.33 304.59 1479.94 Q301.535 1484.52 295.724 1484.52 Q289.914 1484.52 286.836 1479.94 Q283.78 1475.33 283.78 1466.61 Q283.78 1457.86 286.836 1453.27 Q289.914 1448.67 295.724 1448.67 Z\" fill=\"#000000\" fill-rule=\"evenodd\" fill-opacity=\"1\" /><path clip-path=\"url(#clip000)\" d=\"M 0 0 M312.738 1477.97 L317.622 1477.97 L317.622 1483.85 L312.738 1483.85 L312.738 1477.97 Z\" fill=\"#000000\" fill-rule=\"evenodd\" fill-opacity=\"1\" /><path clip-path=\"url(#clip000)\" d=\"M 0 0 M332.692 1452.37 Q329.081 1452.37 327.252 1455.94 Q325.446 1459.48 325.446 1466.61 Q325.446 1473.71 327.252 1477.28 Q329.081 1480.82 332.692 1480.82 Q336.326 1480.82 338.132 1477.28 Q339.96 1473.71 339.96 1466.61 Q339.96 1459.48 338.132 1455.94 Q336.326 1452.37 332.692 1452.37 M332.692 1448.67 Q338.502 1448.67 341.557 1453.27 Q344.636 1457.86 344.636 1466.61 Q344.636 1475.33 341.557 1479.94 Q338.502 1484.52 332.692 1484.52 Q326.882 1484.52 323.803 1479.94 Q320.747 1475.33 320.747 1466.61 Q320.747 1457.86 323.803 1453.27 Q326.882 1448.67 332.692 1448.67 Z\" fill=\"#000000\" fill-rule=\"evenodd\" fill-opacity=\"1\" /><path clip-path=\"url(#clip000)\" d=\"M 0 0 M359.706 1452.37 Q356.094 1452.37 354.266 1455.94 Q352.46 1459.48 352.46 1466.61 Q352.46 1473.71 354.266 1477.28 Q356.094 1480.82 359.706 1480.82 Q363.34 1480.82 365.145 1477.28 Q366.974 1473.71 366.974 1466.61 Q366.974 1459.48 365.145 1455.94 Q363.34 1452.37 359.706 1452.37 M359.706 1448.67 Q365.516 1448.67 368.571 1453.27 Q371.65 1457.86 371.65 1466.61 Q371.65 1475.33 368.571 1479.94 Q365.516 1484.52 359.706 1484.52 Q353.895 1484.52 350.817 1479.94 Q347.761 1475.33 347.761 1466.61 Q347.761 1457.86 350.817 1453.27 Q353.895 1448.67 359.706 1448.67 Z\" fill=\"#000000\" fill-rule=\"evenodd\" fill-opacity=\"1\" /><path clip-path=\"url(#clip000)\" d=\"M 0 0 M788.128 1452.37 Q784.517 1452.37 782.688 1455.94 Q780.882 1459.48 780.882 1466.61 Q780.882 1473.71 782.688 1477.28 Q784.517 1480.82 788.128 1480.82 Q791.762 1480.82 793.568 1477.28 Q795.396 1473.71 795.396 1466.61 Q795.396 1459.48 793.568 1455.94 Q791.762 1452.37 788.128 1452.37 M788.128 1448.67 Q793.938 1448.67 796.994 1453.27 Q800.072 1457.86 800.072 1466.61 Q800.072 1475.33 796.994 1479.94 Q793.938 1484.52 788.128 1484.52 Q782.318 1484.52 779.239 1479.94 Q776.183 1475.33 776.183 1466.61 Q776.183 1457.86 779.239 1453.27 Q782.318 1448.67 788.128 1448.67 Z\" fill=\"#000000\" fill-rule=\"evenodd\" fill-opacity=\"1\" /><path clip-path=\"url(#clip000)\" d=\"M 0 0 M805.142 1477.97 L810.026 1477.97 L810.026 1483.85 L805.142 1483.85 L805.142 1477.97 Z\" fill=\"#000000\" fill-rule=\"evenodd\" fill-opacity=\"1\" /><path clip-path=\"url(#clip000)\" d=\"M 0 0 M819.123 1479.92 L835.442 1479.92 L835.442 1483.85 L813.498 1483.85 L813.498 1479.92 Q816.16 1477.16 820.743 1472.53 Q825.35 1467.88 826.53 1466.54 Q828.776 1464.01 829.655 1462.28 Q830.558 1460.52 830.558 1458.83 Q830.558 1456.07 828.614 1454.34 Q826.692 1452.6 823.591 1452.6 Q821.392 1452.6 818.938 1453.37 Q816.507 1454.13 813.73 1455.68 L813.73 1450.96 Q816.554 1449.82 819.007 1449.25 Q821.461 1448.67 823.498 1448.67 Q828.868 1448.67 832.063 1451.35 Q835.257 1454.04 835.257 1458.53 Q835.257 1460.66 834.447 1462.58 Q833.66 1464.48 831.554 1467.07 Q830.975 1467.74 827.873 1470.96 Q824.771 1474.15 819.123 1479.92 Z\" fill=\"#000000\" fill-rule=\"evenodd\" fill-opacity=\"1\" /><path clip-path=\"url(#clip000)\" d=\"M 0 0 M840.558 1449.29 L858.914 1449.29 L858.914 1453.23 L844.84 1453.23 L844.84 1461.7 Q845.859 1461.35 846.877 1461.19 Q847.896 1461 848.915 1461 Q854.702 1461 858.081 1464.18 Q861.461 1467.35 861.461 1472.76 Q861.461 1478.34 857.989 1481.44 Q854.516 1484.52 848.197 1484.52 Q846.021 1484.52 843.753 1484.15 Q841.507 1483.78 839.1 1483.04 L839.1 1478.34 Q841.183 1479.48 843.405 1480.03 Q845.628 1480.59 848.104 1480.59 Q852.109 1480.59 854.447 1478.48 Q856.785 1476.38 856.785 1472.76 Q856.785 1469.15 854.447 1467.05 Q852.109 1464.94 848.104 1464.94 Q846.229 1464.94 844.354 1465.36 Q842.503 1465.77 840.558 1466.65 L840.558 1449.29 Z\" fill=\"#000000\" fill-rule=\"evenodd\" fill-opacity=\"1\" /><path clip-path=\"url(#clip000)\" d=\"M 0 0 M1278.44 1452.37 Q1274.83 1452.37 1273 1455.94 Q1271.19 1459.48 1271.19 1466.61 Q1271.19 1473.71 1273 1477.28 Q1274.83 1480.82 1278.44 1480.82 Q1282.07 1480.82 1283.88 1477.28 Q1285.7 1473.71 1285.7 1466.61 Q1285.7 1459.48 1283.88 1455.94 Q1282.07 1452.37 1278.44 1452.37 M1278.44 1448.67 Q1284.25 1448.67 1287.3 1453.27 Q1290.38 1457.86 1290.38 1466.61 Q1290.38 1475.33 1287.3 1479.94 Q1284.25 1484.52 1278.44 1484.52 Q1272.63 1484.52 1269.55 1479.94 Q1266.49 1475.33 1266.49 1466.61 Q1266.49 1457.86 1269.55 1453.27 Q1272.63 1448.67 1278.44 1448.67 Z\" fill=\"#000000\" fill-rule=\"evenodd\" fill-opacity=\"1\" /><path clip-path=\"url(#clip000)\" d=\"M 0 0 M1295.45 1477.97 L1300.33 1477.97 L1300.33 1483.85 L1295.45 1483.85 L1295.45 1477.97 Z\" fill=\"#000000\" fill-rule=\"evenodd\" fill-opacity=\"1\" /><path clip-path=\"url(#clip000)\" d=\"M 0 0 M1305.45 1449.29 L1323.81 1449.29 L1323.81 1453.23 L1309.73 1453.23 L1309.73 1461.7 Q1310.75 1461.35 1311.77 1461.19 Q1312.79 1461 1313.81 1461 Q1319.59 1461 1322.97 1464.18 Q1326.35 1467.35 1326.35 1472.76 Q1326.35 1478.34 1322.88 1481.44 Q1319.41 1484.52 1313.09 1484.52 Q1310.91 1484.52 1308.64 1484.15 Q1306.4 1483.78 1303.99 1483.04 L1303.99 1478.34 Q1306.08 1479.48 1308.3 1480.03 Q1310.52 1480.59 1313 1480.59 Q1317 1480.59 1319.34 1478.48 Q1321.68 1476.38 1321.68 1472.76 Q1321.68 1469.15 1319.34 1467.05 Q1317 1464.94 1313 1464.94 Q1311.12 1464.94 1309.25 1465.36 Q1307.39 1465.77 1305.45 1466.65 L1305.45 1449.29 Z\" fill=\"#000000\" fill-rule=\"evenodd\" fill-opacity=\"1\" /><path clip-path=\"url(#clip000)\" d=\"M 0 0 M1341.42 1452.37 Q1337.81 1452.37 1335.98 1455.94 Q1334.18 1459.48 1334.18 1466.61 Q1334.18 1473.71 1335.98 1477.28 Q1337.81 1480.82 1341.42 1480.82 Q1345.06 1480.82 1346.86 1477.28 Q1348.69 1473.71 1348.69 1466.61 Q1348.69 1459.48 1346.86 1455.94 Q1345.06 1452.37 1341.42 1452.37 M1341.42 1448.67 Q1347.23 1448.67 1350.29 1453.27 Q1353.37 1457.86 1353.37 1466.61 Q1353.37 1475.33 1350.29 1479.94 Q1347.23 1484.52 1341.42 1484.52 Q1335.61 1484.52 1332.53 1479.94 Q1329.48 1475.33 1329.48 1466.61 Q1329.48 1457.86 1332.53 1453.27 Q1335.61 1448.67 1341.42 1448.67 Z\" fill=\"#000000\" fill-rule=\"evenodd\" fill-opacity=\"1\" /><path clip-path=\"url(#clip000)\" d=\"M 0 0 M1769.99 1452.37 Q1766.38 1452.37 1764.56 1455.94 Q1762.75 1459.48 1762.75 1466.61 Q1762.75 1473.71 1764.56 1477.28 Q1766.38 1480.82 1769.99 1480.82 Q1773.63 1480.82 1775.43 1477.28 Q1777.26 1473.71 1777.26 1466.61 Q1777.26 1459.48 1775.43 1455.94 Q1773.63 1452.37 1769.99 1452.37 M1769.99 1448.67 Q1775.8 1448.67 1778.86 1453.27 Q1781.94 1457.86 1781.94 1466.61 Q1781.94 1475.33 1778.86 1479.94 Q1775.8 1484.52 1769.99 1484.52 Q1764.18 1484.52 1761.11 1479.94 Q1758.05 1475.33 1758.05 1466.61 Q1758.05 1457.86 1761.11 1453.27 Q1764.18 1448.67 1769.99 1448.67 Z\" fill=\"#000000\" fill-rule=\"evenodd\" fill-opacity=\"1\" /><path clip-path=\"url(#clip000)\" d=\"M 0 0 M1787.01 1477.97 L1791.89 1477.97 L1791.89 1483.85 L1787.01 1483.85 L1787.01 1477.97 Z\" fill=\"#000000\" fill-rule=\"evenodd\" fill-opacity=\"1\" /><path clip-path=\"url(#clip000)\" d=\"M 0 0 M1795.78 1449.29 L1818 1449.29 L1818 1451.28 L1805.46 1483.85 L1800.57 1483.85 L1812.38 1453.23 L1795.78 1453.23 L1795.78 1449.29 Z\" fill=\"#000000\" fill-rule=\"evenodd\" fill-opacity=\"1\" /><path clip-path=\"url(#clip000)\" d=\"M 0 0 M1823.12 1449.29 L1841.48 1449.29 L1841.48 1453.23 L1827.4 1453.23 L1827.4 1461.7 Q1828.42 1461.35 1829.44 1461.19 Q1830.46 1461 1831.48 1461 Q1837.26 1461 1840.64 1464.18 Q1844.02 1467.35 1844.02 1472.76 Q1844.02 1478.34 1840.55 1481.44 Q1837.08 1484.52 1830.76 1484.52 Q1828.58 1484.52 1826.31 1484.15 Q1824.07 1483.78 1821.66 1483.04 L1821.66 1478.34 Q1823.74 1479.48 1825.97 1480.03 Q1828.19 1480.59 1830.67 1480.59 Q1834.67 1480.59 1837.01 1478.48 Q1839.35 1476.38 1839.35 1472.76 Q1839.35 1469.15 1837.01 1467.05 Q1834.67 1464.94 1830.67 1464.94 Q1828.79 1464.94 1826.92 1465.36 Q1825.06 1465.77 1823.12 1466.65 L1823.12 1449.29 Z\" fill=\"#000000\" fill-rule=\"evenodd\" fill-opacity=\"1\" /><path clip-path=\"url(#clip000)\" d=\"M 0 0 M2250.53 1479.92 L2258.17 1479.92 L2258.17 1453.55 L2249.86 1455.22 L2249.86 1450.96 L2258.13 1449.29 L2262.8 1449.29 L2262.8 1479.92 L2270.44 1479.92 L2270.44 1483.85 L2250.53 1483.85 L2250.53 1479.92 Z\" fill=\"#000000\" fill-rule=\"evenodd\" fill-opacity=\"1\" /><path clip-path=\"url(#clip000)\" d=\"M 0 0 M2275.51 1477.97 L2280.4 1477.97 L2280.4 1483.85 L2275.51 1483.85 L2275.51 1477.97 Z\" fill=\"#000000\" fill-rule=\"evenodd\" fill-opacity=\"1\" /><path clip-path=\"url(#clip000)\" d=\"M 0 0 M2295.47 1452.37 Q2291.85 1452.37 2290.03 1455.94 Q2288.22 1459.48 2288.22 1466.61 Q2288.22 1473.71 2290.03 1477.28 Q2291.85 1480.82 2295.47 1480.82 Q2299.1 1480.82 2300.9 1477.28 Q2302.73 1473.71 2302.73 1466.61 Q2302.73 1459.48 2300.9 1455.94 Q2299.1 1452.37 2295.47 1452.37 M2295.47 1448.67 Q2301.28 1448.67 2304.33 1453.27 Q2307.41 1457.86 2307.41 1466.61 Q2307.41 1475.33 2304.33 1479.94 Q2301.28 1484.52 2295.47 1484.52 Q2289.66 1484.52 2286.58 1479.94 Q2283.52 1475.33 2283.52 1466.61 Q2283.52 1457.86 2286.58 1453.27 Q2289.66 1448.67 2295.47 1448.67 Z\" fill=\"#000000\" fill-rule=\"evenodd\" fill-opacity=\"1\" /><path clip-path=\"url(#clip000)\" d=\"M 0 0 M2322.48 1452.37 Q2318.87 1452.37 2317.04 1455.94 Q2315.23 1459.48 2315.23 1466.61 Q2315.23 1473.71 2317.04 1477.28 Q2318.87 1480.82 2322.48 1480.82 Q2326.11 1480.82 2327.92 1477.28 Q2329.75 1473.71 2329.75 1466.61 Q2329.75 1459.48 2327.92 1455.94 Q2326.11 1452.37 2322.48 1452.37 M2322.48 1448.67 Q2328.29 1448.67 2331.34 1453.27 Q2334.42 1457.86 2334.42 1466.61 Q2334.42 1475.33 2331.34 1479.94 Q2328.29 1484.52 2322.48 1484.52 Q2316.67 1484.52 2313.59 1479.94 Q2310.53 1475.33 2310.53 1466.61 Q2310.53 1457.86 2313.59 1453.27 Q2316.67 1448.67 2322.48 1448.67 Z\" fill=\"#000000\" fill-rule=\"evenodd\" fill-opacity=\"1\" /><path clip-path=\"url(#clip000)\" d=\"M 0 0 M1292.06 1533.45 L1271.78 1533.45 Q1272.26 1542.96 1274.46 1547 Q1277.19 1551.97 1281.94 1551.97 Q1286.71 1551.97 1289.35 1546.97 Q1291.68 1542.58 1292.06 1533.45 M1291.96 1528.03 Q1291.07 1519 1289.35 1515.81 Q1286.61 1510.78 1281.94 1510.78 Q1277.07 1510.78 1274.49 1515.75 Q1272.45 1519.76 1271.85 1528.03 L1291.96 1528.03 M1281.94 1506.01 Q1289.57 1506.01 1293.94 1512.76 Q1298.3 1519.47 1298.3 1531.38 Q1298.3 1543.25 1293.94 1550 Q1289.57 1556.78 1281.94 1556.78 Q1274.27 1556.78 1269.94 1550 Q1265.58 1543.25 1265.58 1531.38 Q1265.58 1519.47 1269.94 1512.76 Q1274.27 1506.01 1281.94 1506.01 Z\" fill=\"#000000\" fill-rule=\"evenodd\" fill-opacity=\"1\" /><polyline clip-path=\"url(#clip002)\" style=\"stroke:#000000; stroke-width:2; stroke-opacity:0.1; fill:none\" points=\"\n",
       "  211.116,1384.24 2352.76,1384.24 \n",
       "  \"/>\n",
       "<polyline clip-path=\"url(#clip002)\" style=\"stroke:#000000; stroke-width:2; stroke-opacity:0.1; fill:none\" points=\"\n",
       "  211.116,1061.34 2352.76,1061.34 \n",
       "  \"/>\n",
       "<polyline clip-path=\"url(#clip002)\" style=\"stroke:#000000; stroke-width:2; stroke-opacity:0.1; fill:none\" points=\"\n",
       "  211.116,738.441 2352.76,738.441 \n",
       "  \"/>\n",
       "<polyline clip-path=\"url(#clip002)\" style=\"stroke:#000000; stroke-width:2; stroke-opacity:0.1; fill:none\" points=\"\n",
       "  211.116,415.542 2352.76,415.542 \n",
       "  \"/>\n",
       "<polyline clip-path=\"url(#clip002)\" style=\"stroke:#000000; stroke-width:2; stroke-opacity:0.1; fill:none\" points=\"\n",
       "  211.116,92.6436 2352.76,92.6436 \n",
       "  \"/>\n",
       "<polyline clip-path=\"url(#clip000)\" style=\"stroke:#000000; stroke-width:4; stroke-opacity:1; fill:none\" points=\"\n",
       "  211.116,1423.18 211.116,47.2441 \n",
       "  \"/>\n",
       "<polyline clip-path=\"url(#clip000)\" style=\"stroke:#000000; stroke-width:4; stroke-opacity:1; fill:none\" points=\"\n",
       "  211.116,1384.24 236.816,1384.24 \n",
       "  \"/>\n",
       "<polyline clip-path=\"url(#clip000)\" style=\"stroke:#000000; stroke-width:4; stroke-opacity:1; fill:none\" points=\"\n",
       "  211.116,1061.34 236.816,1061.34 \n",
       "  \"/>\n",
       "<polyline clip-path=\"url(#clip000)\" style=\"stroke:#000000; stroke-width:4; stroke-opacity:1; fill:none\" points=\"\n",
       "  211.116,738.441 236.816,738.441 \n",
       "  \"/>\n",
       "<polyline clip-path=\"url(#clip000)\" style=\"stroke:#000000; stroke-width:4; stroke-opacity:1; fill:none\" points=\"\n",
       "  211.116,415.542 236.816,415.542 \n",
       "  \"/>\n",
       "<polyline clip-path=\"url(#clip000)\" style=\"stroke:#000000; stroke-width:4; stroke-opacity:1; fill:none\" points=\"\n",
       "  211.116,92.6436 236.816,92.6436 \n",
       "  \"/>\n",
       "<path clip-path=\"url(#clip000)\" d=\"M 0 0 M126.205 1370.04 Q122.593 1370.04 120.765 1373.6 Q118.959 1377.14 118.959 1384.27 Q118.959 1391.38 120.765 1394.94 Q122.593 1398.49 126.205 1398.49 Q129.839 1398.49 131.644 1394.94 Q133.473 1391.38 133.473 1384.27 Q133.473 1377.14 131.644 1373.6 Q129.839 1370.04 126.205 1370.04 M126.205 1366.33 Q132.015 1366.33 135.07 1370.94 Q138.149 1375.52 138.149 1384.27 Q138.149 1393 135.07 1397.61 Q132.015 1402.19 126.205 1402.19 Q120.394 1402.19 117.316 1397.61 Q114.26 1393 114.26 1384.27 Q114.26 1375.52 117.316 1370.94 Q120.394 1366.33 126.205 1366.33 Z\" fill=\"#000000\" fill-rule=\"evenodd\" fill-opacity=\"1\" /><path clip-path=\"url(#clip000)\" d=\"M 0 0 M143.218 1395.64 L148.103 1395.64 L148.103 1401.52 L143.218 1401.52 L143.218 1395.64 Z\" fill=\"#000000\" fill-rule=\"evenodd\" fill-opacity=\"1\" /><path clip-path=\"url(#clip000)\" d=\"M 0 0 M163.172 1370.04 Q159.561 1370.04 157.732 1373.6 Q155.927 1377.14 155.927 1384.27 Q155.927 1391.38 157.732 1394.94 Q159.561 1398.49 163.172 1398.49 Q166.806 1398.49 168.612 1394.94 Q170.44 1391.38 170.44 1384.27 Q170.44 1377.14 168.612 1373.6 Q166.806 1370.04 163.172 1370.04 M163.172 1366.33 Q168.982 1366.33 172.038 1370.94 Q175.116 1375.52 175.116 1384.27 Q175.116 1393 172.038 1397.61 Q168.982 1402.19 163.172 1402.19 Q157.362 1402.19 154.283 1397.61 Q151.228 1393 151.228 1384.27 Q151.228 1375.52 154.283 1370.94 Q157.362 1366.33 163.172 1366.33 Z\" fill=\"#000000\" fill-rule=\"evenodd\" fill-opacity=\"1\" /><path clip-path=\"url(#clip000)\" d=\"M 0 0 M127.2 1047.14 Q123.589 1047.14 121.76 1050.7 Q119.955 1054.24 119.955 1061.37 Q119.955 1068.48 121.76 1072.05 Q123.589 1075.59 127.2 1075.59 Q130.834 1075.59 132.64 1072.05 Q134.468 1068.48 134.468 1061.37 Q134.468 1054.24 132.64 1050.7 Q130.834 1047.14 127.2 1047.14 M127.2 1043.43 Q133.01 1043.43 136.066 1048.04 Q139.144 1052.62 139.144 1061.37 Q139.144 1070.1 136.066 1074.71 Q133.01 1079.29 127.2 1079.29 Q121.39 1079.29 118.311 1074.71 Q115.256 1070.1 115.256 1061.37 Q115.256 1052.62 118.311 1048.04 Q121.39 1043.43 127.2 1043.43 Z\" fill=\"#000000\" fill-rule=\"evenodd\" fill-opacity=\"1\" /><path clip-path=\"url(#clip000)\" d=\"M 0 0 M144.214 1072.74 L149.098 1072.74 L149.098 1078.62 L144.214 1078.62 L144.214 1072.74 Z\" fill=\"#000000\" fill-rule=\"evenodd\" fill-opacity=\"1\" /><path clip-path=\"url(#clip000)\" d=\"M 0 0 M154.214 1044.06 L172.57 1044.06 L172.57 1047.99 L158.496 1047.99 L158.496 1056.47 Q159.515 1056.12 160.533 1055.96 Q161.552 1055.77 162.57 1055.77 Q168.357 1055.77 171.737 1058.94 Q175.116 1062.12 175.116 1067.53 Q175.116 1073.11 171.644 1076.21 Q168.172 1079.29 161.852 1079.29 Q159.677 1079.29 157.408 1078.92 Q155.163 1078.55 152.755 1077.81 L152.755 1073.11 Q154.839 1074.24 157.061 1074.8 Q159.283 1075.36 161.76 1075.36 Q165.765 1075.36 168.102 1073.25 Q170.44 1071.14 170.44 1067.53 Q170.44 1063.92 168.102 1061.81 Q165.765 1059.71 161.76 1059.71 Q159.885 1059.71 158.01 1060.12 Q156.158 1060.54 154.214 1061.42 L154.214 1044.06 Z\" fill=\"#000000\" fill-rule=\"evenodd\" fill-opacity=\"1\" /><path clip-path=\"url(#clip000)\" d=\"M 0 0 M118.242 751.786 L125.88 751.786 L125.88 725.42 L117.57 727.087 L117.57 722.828 L125.834 721.161 L130.51 721.161 L130.51 751.786 L138.149 751.786 L138.149 755.721 L118.242 755.721 L118.242 751.786 Z\" fill=\"#000000\" fill-rule=\"evenodd\" fill-opacity=\"1\" /><path clip-path=\"url(#clip000)\" d=\"M 0 0 M143.218 749.841 L148.103 749.841 L148.103 755.721 L143.218 755.721 L143.218 749.841 Z\" fill=\"#000000\" fill-rule=\"evenodd\" fill-opacity=\"1\" /><path clip-path=\"url(#clip000)\" d=\"M 0 0 M163.172 724.24 Q159.561 724.24 157.732 727.804 Q155.927 731.346 155.927 738.476 Q155.927 745.582 157.732 749.147 Q159.561 752.689 163.172 752.689 Q166.806 752.689 168.612 749.147 Q170.44 745.582 170.44 738.476 Q170.44 731.346 168.612 727.804 Q166.806 724.24 163.172 724.24 M163.172 720.536 Q168.982 720.536 172.038 725.142 Q175.116 729.726 175.116 738.476 Q175.116 747.202 172.038 751.809 Q168.982 756.392 163.172 756.392 Q157.362 756.392 154.283 751.809 Q151.228 747.202 151.228 738.476 Q151.228 729.726 154.283 725.142 Q157.362 720.536 163.172 720.536 Z\" fill=\"#000000\" fill-rule=\"evenodd\" fill-opacity=\"1\" /><path clip-path=\"url(#clip000)\" d=\"M 0 0 M119.237 428.887 L126.876 428.887 L126.876 402.522 L118.566 404.188 L118.566 399.929 L126.83 398.262 L131.505 398.262 L131.505 428.887 L139.144 428.887 L139.144 432.822 L119.237 432.822 L119.237 428.887 Z\" fill=\"#000000\" fill-rule=\"evenodd\" fill-opacity=\"1\" /><path clip-path=\"url(#clip000)\" d=\"M 0 0 M144.214 426.943 L149.098 426.943 L149.098 432.822 L144.214 432.822 L144.214 426.943 Z\" fill=\"#000000\" fill-rule=\"evenodd\" fill-opacity=\"1\" /><path clip-path=\"url(#clip000)\" d=\"M 0 0 M154.214 398.262 L172.57 398.262 L172.57 402.197 L158.496 402.197 L158.496 410.67 Q159.515 410.322 160.533 410.16 Q161.552 409.975 162.57 409.975 Q168.357 409.975 171.737 413.146 Q175.116 416.318 175.116 421.734 Q175.116 427.313 171.644 430.415 Q168.172 433.494 161.852 433.494 Q159.677 433.494 157.408 433.123 Q155.163 432.753 152.755 432.012 L152.755 427.313 Q154.839 428.447 157.061 429.003 Q159.283 429.558 161.76 429.558 Q165.765 429.558 168.102 427.452 Q170.44 425.345 170.44 421.734 Q170.44 418.123 168.102 416.017 Q165.765 413.91 161.76 413.91 Q159.885 413.91 158.01 414.327 Q156.158 414.744 154.214 415.623 L154.214 398.262 Z\" fill=\"#000000\" fill-rule=\"evenodd\" fill-opacity=\"1\" /><path clip-path=\"url(#clip000)\" d=\"M 0 0 M121.83 105.988 L138.149 105.988 L138.149 109.924 L116.205 109.924 L116.205 105.988 Q118.867 103.234 123.45 98.6043 Q128.056 93.9515 129.237 92.6089 Q131.482 90.0858 132.362 88.3497 Q133.265 86.5904 133.265 84.9006 Q133.265 82.146 131.32 80.4099 Q129.399 78.6738 126.297 78.6738 Q124.098 78.6738 121.644 79.4377 Q119.214 80.2016 116.436 81.7525 L116.436 77.0303 Q119.26 75.896 121.714 75.3173 Q124.168 74.7386 126.205 74.7386 Q131.575 74.7386 134.769 77.4238 Q137.964 80.109 137.964 84.5997 Q137.964 86.7293 137.154 88.6506 Q136.367 90.5487 134.26 93.1413 Q133.681 93.8126 130.58 97.0302 Q127.478 100.225 121.83 105.988 Z\" fill=\"#000000\" fill-rule=\"evenodd\" fill-opacity=\"1\" /><path clip-path=\"url(#clip000)\" d=\"M 0 0 M143.218 104.044 L148.103 104.044 L148.103 109.924 L143.218 109.924 L143.218 104.044 Z\" fill=\"#000000\" fill-rule=\"evenodd\" fill-opacity=\"1\" /><path clip-path=\"url(#clip000)\" d=\"M 0 0 M163.172 78.4423 Q159.561 78.4423 157.732 82.0071 Q155.927 85.5488 155.927 92.6784 Q155.927 99.7848 157.732 103.35 Q159.561 106.891 163.172 106.891 Q166.806 106.891 168.612 103.35 Q170.44 99.7848 170.44 92.6784 Q170.44 85.5488 168.612 82.0071 Q166.806 78.4423 163.172 78.4423 M163.172 74.7386 Q168.982 74.7386 172.038 79.3451 Q175.116 83.9284 175.116 92.6784 Q175.116 101.405 172.038 106.012 Q168.982 110.595 163.172 110.595 Q157.362 110.595 154.283 106.012 Q151.228 101.405 151.228 92.6784 Q151.228 83.9284 154.283 79.3451 Q157.362 74.7386 163.172 74.7386 Z\" fill=\"#000000\" fill-rule=\"evenodd\" fill-opacity=\"1\" /><path clip-path=\"url(#clip000)\" d=\"M 0 0 M82.657 783.448 L101.563 783.448 L101.563 789.336 L52.3562 789.336 L52.3562 783.448 L57.7671 783.448 Q54.5842 781.602 53.0564 778.801 Q51.4968 775.968 51.4968 772.053 Q51.4968 765.56 56.6531 761.518 Q61.8093 757.444 70.212 757.444 Q78.6147 757.444 83.771 761.518 Q88.9272 765.56 88.9272 772.053 Q88.9272 775.968 87.3994 778.801 Q85.8398 781.602 82.657 783.448 M70.212 763.523 Q63.7508 763.523 60.0905 766.197 Q56.3984 768.839 56.3984 773.486 Q56.3984 778.133 60.0905 780.806 Q63.7508 783.448 70.212 783.448 Q76.6732 783.448 80.3653 780.806 Q84.0256 778.133 84.0256 773.486 Q84.0256 768.839 80.3653 766.197 Q76.6732 763.523 70.212 763.523 Z\" fill=\"#000000\" fill-rule=\"evenodd\" fill-opacity=\"1\" /><path clip-path=\"url(#clip000)\" d=\"M 0 0 M38.5426 737.233 Q45.8632 741.498 53.0246 743.567 Q60.186 745.636 67.5384 745.636 Q74.8908 745.636 82.1159 743.567 Q89.3091 741.466 96.5979 737.233 L96.5979 742.326 Q89.1182 747.1 81.8931 749.487 Q74.668 751.842 67.5384 751.842 Q60.4406 751.842 53.2474 749.487 Q46.0542 747.132 38.5426 742.326 L38.5426 737.233 Z\" fill=\"#000000\" fill-rule=\"evenodd\" fill-opacity=\"1\" /><path clip-path=\"url(#clip000)\" d=\"M 0 0 M65.4059 707.155 L65.4059 727.43 Q74.9226 726.952 78.9649 724.756 Q83.9301 722.019 83.9301 717.277 Q83.9301 712.502 78.933 709.861 Q74.5407 707.537 65.4059 707.155 M59.995 707.251 Q50.9557 708.142 47.7729 709.861 Q42.744 712.598 42.744 717.277 Q42.744 722.146 47.7092 724.724 Q51.7196 726.761 59.995 727.366 L59.995 707.251 M37.9697 717.277 Q37.9697 709.638 44.7174 705.277 Q51.4332 700.917 63.337 700.917 Q75.2091 700.917 81.9567 705.277 Q88.7362 709.638 88.7362 717.277 Q88.7362 724.947 81.9567 729.276 Q75.2091 733.636 63.337 733.636 Q51.4332 733.636 44.7174 729.276 Q37.9697 724.947 37.9697 717.277 Z\" fill=\"#000000\" fill-rule=\"evenodd\" fill-opacity=\"1\" /><path clip-path=\"url(#clip000)\" d=\"M 0 0 M38.5426 695.697 L38.5426 690.604 Q46.0542 685.83 53.2474 683.475 Q60.4406 681.088 67.5384 681.088 Q74.668 681.088 81.8931 683.475 Q89.1182 685.83 96.5979 690.604 L96.5979 695.697 Q89.3091 691.464 82.1159 689.395 Q74.8908 687.294 67.5384 687.294 Q60.186 687.294 53.0246 689.395 Q45.8632 691.464 38.5426 695.697 Z\" fill=\"#000000\" fill-rule=\"evenodd\" fill-opacity=\"1\" /><path clip-path=\"url(#clip002)\" d=\"\n",
       "M327.715 86.1857 L327.715 1384.24 L425.936 1384.24 L425.936 86.1857 L327.715 86.1857 L327.715 86.1857  Z\n",
       "  \" fill=\"#009af9\" fill-rule=\"evenodd\" fill-opacity=\"1\"/>\n",
       "<polyline clip-path=\"url(#clip002)\" style=\"stroke:#000000; stroke-width:4; stroke-opacity:1; fill:none\" points=\"\n",
       "  327.715,86.1857 327.715,1384.24 425.936,1384.24 425.936,86.1857 327.715,86.1857 \n",
       "  \"/>\n",
       "<path clip-path=\"url(#clip002)\" d=\"\n",
       "M425.936 215.345 L425.936 1384.24 L524.158 1384.24 L524.158 215.345 L425.936 215.345 L425.936 215.345  Z\n",
       "  \" fill=\"#009af9\" fill-rule=\"evenodd\" fill-opacity=\"1\"/>\n",
       "<polyline clip-path=\"url(#clip002)\" style=\"stroke:#000000; stroke-width:4; stroke-opacity:1; fill:none\" points=\"\n",
       "  425.936,215.345 425.936,1384.24 524.158,1384.24 524.158,215.345 425.936,215.345 \n",
       "  \"/>\n",
       "<path clip-path=\"url(#clip002)\" d=\"\n",
       "M524.158 99.1016 L524.158 1384.24 L622.379 1384.24 L622.379 99.1016 L524.158 99.1016 L524.158 99.1016  Z\n",
       "  \" fill=\"#009af9\" fill-rule=\"evenodd\" fill-opacity=\"1\"/>\n",
       "<polyline clip-path=\"url(#clip002)\" style=\"stroke:#000000; stroke-width:4; stroke-opacity:1; fill:none\" points=\"\n",
       "  524.158,99.1016 524.158,1384.24 622.379,1384.24 622.379,99.1016 524.158,99.1016 \n",
       "  \"/>\n",
       "<path clip-path=\"url(#clip002)\" d=\"\n",
       "M622.379 86.1857 L622.379 1384.24 L720.601 1384.24 L720.601 86.1857 L622.379 86.1857 L622.379 86.1857  Z\n",
       "  \" fill=\"#009af9\" fill-rule=\"evenodd\" fill-opacity=\"1\"/>\n",
       "<polyline clip-path=\"url(#clip002)\" style=\"stroke:#000000; stroke-width:4; stroke-opacity:1; fill:none\" points=\"\n",
       "  622.379,86.1857 622.379,1384.24 720.601,1384.24 720.601,86.1857 622.379,86.1857 \n",
       "  \"/>\n",
       "<path clip-path=\"url(#clip002)\" d=\"\n",
       "M720.601 118.476 L720.601 1384.24 L818.822 1384.24 L818.822 118.476 L720.601 118.476 L720.601 118.476  Z\n",
       "  \" fill=\"#009af9\" fill-rule=\"evenodd\" fill-opacity=\"1\"/>\n",
       "<polyline clip-path=\"url(#clip002)\" style=\"stroke:#000000; stroke-width:4; stroke-opacity:1; fill:none\" points=\"\n",
       "  720.601,118.476 720.601,1384.24 818.822,1384.24 818.822,118.476 720.601,118.476 \n",
       "  \"/>\n",
       "<path clip-path=\"url(#clip002)\" d=\"\n",
       "M818.822 292.841 L818.822 1384.24 L917.044 1384.24 L917.044 292.841 L818.822 292.841 L818.822 292.841  Z\n",
       "  \" fill=\"#009af9\" fill-rule=\"evenodd\" fill-opacity=\"1\"/>\n",
       "<polyline clip-path=\"url(#clip002)\" style=\"stroke:#000000; stroke-width:4; stroke-opacity:1; fill:none\" points=\"\n",
       "  818.822,292.841 818.822,1384.24 917.044,1384.24 917.044,292.841 818.822,292.841 \n",
       "  \"/>\n",
       "<path clip-path=\"url(#clip002)\" d=\"\n",
       "M917.044 493.038 L917.044 1384.24 L1015.26 1384.24 L1015.26 493.038 L917.044 493.038 L917.044 493.038  Z\n",
       "  \" fill=\"#009af9\" fill-rule=\"evenodd\" fill-opacity=\"1\"/>\n",
       "<polyline clip-path=\"url(#clip002)\" style=\"stroke:#000000; stroke-width:4; stroke-opacity:1; fill:none\" points=\"\n",
       "  917.044,493.038 917.044,1384.24 1015.26,1384.24 1015.26,493.038 917.044,493.038 \n",
       "  \"/>\n",
       "<path clip-path=\"url(#clip002)\" d=\"\n",
       "M1015.26 576.992 L1015.26 1384.24 L1113.49 1384.24 L1113.49 576.992 L1015.26 576.992 L1015.26 576.992  Z\n",
       "  \" fill=\"#009af9\" fill-rule=\"evenodd\" fill-opacity=\"1\"/>\n",
       "<polyline clip-path=\"url(#clip002)\" style=\"stroke:#000000; stroke-width:4; stroke-opacity:1; fill:none\" points=\"\n",
       "  1015.26,576.992 1015.26,1384.24 1113.49,1384.24 1113.49,576.992 1015.26,576.992 \n",
       "  \"/>\n",
       "<path clip-path=\"url(#clip002)\" d=\"\n",
       "M1113.49 673.861 L1113.49 1384.24 L1211.71 1384.24 L1211.71 673.861 L1113.49 673.861 L1113.49 673.861  Z\n",
       "  \" fill=\"#009af9\" fill-rule=\"evenodd\" fill-opacity=\"1\"/>\n",
       "<polyline clip-path=\"url(#clip002)\" style=\"stroke:#000000; stroke-width:4; stroke-opacity:1; fill:none\" points=\"\n",
       "  1113.49,673.861 1113.49,1384.24 1211.71,1384.24 1211.71,673.861 1113.49,673.861 \n",
       "  \"/>\n",
       "<path clip-path=\"url(#clip002)\" d=\"\n",
       "M1211.71 841.769 L1211.71 1384.24 L1309.93 1384.24 L1309.93 841.769 L1211.71 841.769 L1211.71 841.769  Z\n",
       "  \" fill=\"#009af9\" fill-rule=\"evenodd\" fill-opacity=\"1\"/>\n",
       "<polyline clip-path=\"url(#clip002)\" style=\"stroke:#000000; stroke-width:4; stroke-opacity:1; fill:none\" points=\"\n",
       "  1211.71,841.769 1211.71,1384.24 1309.93,1384.24 1309.93,841.769 1211.71,841.769 \n",
       "  \"/>\n",
       "<path clip-path=\"url(#clip002)\" d=\"\n",
       "M1309.93 809.479 L1309.93 1384.24 L1408.15 1384.24 L1408.15 809.479 L1309.93 809.479 L1309.93 809.479  Z\n",
       "  \" fill=\"#009af9\" fill-rule=\"evenodd\" fill-opacity=\"1\"/>\n",
       "<polyline clip-path=\"url(#clip002)\" style=\"stroke:#000000; stroke-width:4; stroke-opacity:1; fill:none\" points=\"\n",
       "  1309.93,809.479 1309.93,1384.24 1408.15,1384.24 1408.15,809.479 1309.93,809.479 \n",
       "  \"/>\n",
       "<path clip-path=\"url(#clip002)\" d=\"\n",
       "M1408.15 861.142 L1408.15 1384.24 L1506.37 1384.24 L1506.37 861.142 L1408.15 861.142 L1408.15 861.142  Z\n",
       "  \" fill=\"#009af9\" fill-rule=\"evenodd\" fill-opacity=\"1\"/>\n",
       "<polyline clip-path=\"url(#clip002)\" style=\"stroke:#000000; stroke-width:4; stroke-opacity:1; fill:none\" points=\"\n",
       "  1408.15,861.142 1408.15,1384.24 1506.37,1384.24 1506.37,861.142 1408.15,861.142 \n",
       "  \"/>\n",
       "<path clip-path=\"url(#clip002)\" d=\"\n",
       "M1506.37 1009.68 L1506.37 1384.24 L1604.59 1384.24 L1604.59 1009.68 L1506.37 1009.68 L1506.37 1009.68  Z\n",
       "  \" fill=\"#009af9\" fill-rule=\"evenodd\" fill-opacity=\"1\"/>\n",
       "<polyline clip-path=\"url(#clip002)\" style=\"stroke:#000000; stroke-width:4; stroke-opacity:1; fill:none\" points=\"\n",
       "  1506.37,1009.68 1506.37,1384.24 1604.59,1384.24 1604.59,1009.68 1506.37,1009.68 \n",
       "  \"/>\n",
       "<path clip-path=\"url(#clip002)\" d=\"\n",
       "M1604.59 970.928 L1604.59 1384.24 L1702.81 1384.24 L1702.81 970.928 L1604.59 970.928 L1604.59 970.928  Z\n",
       "  \" fill=\"#009af9\" fill-rule=\"evenodd\" fill-opacity=\"1\"/>\n",
       "<polyline clip-path=\"url(#clip002)\" style=\"stroke:#000000; stroke-width:4; stroke-opacity:1; fill:none\" points=\"\n",
       "  1604.59,970.928 1604.59,1384.24 1702.81,1384.24 1702.81,970.928 1604.59,970.928 \n",
       "  \"/>\n",
       "<path clip-path=\"url(#clip002)\" d=\"\n",
       "M1702.81 1022.59 L1702.81 1384.24 L1801.04 1384.24 L1801.04 1022.59 L1702.81 1022.59 L1702.81 1022.59  Z\n",
       "  \" fill=\"#009af9\" fill-rule=\"evenodd\" fill-opacity=\"1\"/>\n",
       "<polyline clip-path=\"url(#clip002)\" style=\"stroke:#000000; stroke-width:4; stroke-opacity:1; fill:none\" points=\"\n",
       "  1702.81,1022.59 1702.81,1384.24 1801.04,1384.24 1801.04,1022.59 1702.81,1022.59 \n",
       "  \"/>\n",
       "<path clip-path=\"url(#clip002)\" d=\"\n",
       "M1801.04 1255.08 L1801.04 1384.24 L1899.26 1384.24 L1899.26 1255.08 L1801.04 1255.08 L1801.04 1255.08  Z\n",
       "  \" fill=\"#009af9\" fill-rule=\"evenodd\" fill-opacity=\"1\"/>\n",
       "<polyline clip-path=\"url(#clip002)\" style=\"stroke:#000000; stroke-width:4; stroke-opacity:1; fill:none\" points=\"\n",
       "  1801.04,1255.08 1801.04,1384.24 1899.26,1384.24 1899.26,1255.08 1801.04,1255.08 \n",
       "  \"/>\n",
       "<path clip-path=\"url(#clip002)\" d=\"\n",
       "M1899.26 1255.08 L1899.26 1384.24 L1997.48 1384.24 L1997.48 1255.08 L1899.26 1255.08 L1899.26 1255.08  Z\n",
       "  \" fill=\"#009af9\" fill-rule=\"evenodd\" fill-opacity=\"1\"/>\n",
       "<polyline clip-path=\"url(#clip002)\" style=\"stroke:#000000; stroke-width:4; stroke-opacity:1; fill:none\" points=\"\n",
       "  1899.26,1255.08 1899.26,1384.24 1997.48,1384.24 1997.48,1255.08 1899.26,1255.08 \n",
       "  \"/>\n",
       "<path clip-path=\"url(#clip002)\" d=\"\n",
       "M1997.48 1339.03 L1997.48 1384.24 L2095.7 1384.24 L2095.7 1339.03 L1997.48 1339.03 L1997.48 1339.03  Z\n",
       "  \" fill=\"#009af9\" fill-rule=\"evenodd\" fill-opacity=\"1\"/>\n",
       "<polyline clip-path=\"url(#clip002)\" style=\"stroke:#000000; stroke-width:4; stroke-opacity:1; fill:none\" points=\"\n",
       "  1997.48,1339.03 1997.48,1384.24 2095.7,1384.24 2095.7,1339.03 1997.48,1339.03 \n",
       "  \"/>\n",
       "<path clip-path=\"url(#clip002)\" d=\"\n",
       "M2095.7 1377.78 L2095.7 1384.24 L2193.92 1384.24 L2193.92 1377.78 L2095.7 1377.78 L2095.7 1377.78  Z\n",
       "  \" fill=\"#009af9\" fill-rule=\"evenodd\" fill-opacity=\"1\"/>\n",
       "<polyline clip-path=\"url(#clip002)\" style=\"stroke:#000000; stroke-width:4; stroke-opacity:1; fill:none\" points=\"\n",
       "  2095.7,1377.78 2095.7,1384.24 2193.92,1384.24 2193.92,1377.78 2095.7,1377.78 \n",
       "  \"/>\n",
       "<polyline clip-path=\"url(#clip002)\" style=\"stroke:#ff0000; stroke-width:16; stroke-opacity:1; fill:none\" points=\"\n",
       "  347.359,105.56 367.004,118.476 386.648,131.391 406.292,144.307 425.936,157.223 445.581,170.139 465.225,183.055 484.869,195.971 504.514,208.887 524.158,221.803 \n",
       "  543.802,234.719 563.446,247.635 583.091,260.551 602.735,273.467 622.379,286.383 642.024,299.299 661.668,312.215 681.312,325.131 700.956,338.047 720.601,350.963 \n",
       "  740.245,363.879 759.889,376.794 779.534,389.71 799.178,402.626 818.822,415.542 838.466,428.458 858.111,441.374 877.755,454.29 897.399,467.206 917.044,480.122 \n",
       "  936.688,493.038 956.332,505.954 975.976,518.87 995.621,531.786 1015.26,544.702 1034.91,557.618 1054.55,570.534 1074.2,583.45 1093.84,596.366 1113.49,609.281 \n",
       "  1133.13,622.197 1152.77,635.113 1172.42,648.029 1192.06,660.945 1211.71,673.861 1231.35,686.777 1251,699.693 1270.64,712.609 1290.28,725.525 1309.93,738.441 \n",
       "  1329.57,751.357 1349.22,764.273 1368.86,777.189 1388.51,790.105 1408.15,803.021 1427.79,815.937 1447.44,828.853 1467.08,841.769 1486.73,854.684 1506.37,867.6 \n",
       "  1526.02,880.516 1545.66,893.432 1565.3,906.348 1584.95,919.264 1604.59,932.18 1624.24,945.096 1643.88,958.012 1663.53,970.928 1683.17,983.844 1702.81,996.76 \n",
       "  1722.46,1009.68 1742.1,1022.59 1761.75,1035.51 1781.39,1048.42 1801.04,1061.34 1820.68,1074.26 1840.32,1087.17 1859.97,1100.09 1879.61,1113 1899.26,1125.92 \n",
       "  1918.9,1138.84 1938.55,1151.75 1958.19,1164.67 1977.83,1177.58 1997.48,1190.5 2017.12,1203.42 2036.77,1216.33 2056.41,1229.25 2076.06,1242.16 2095.7,1255.08 \n",
       "  2115.34,1267.99 2134.99,1280.91 2154.63,1293.83 2174.28,1306.74 2193.92,1319.66 2213.57,1332.57 2233.21,1345.49 2252.85,1358.41 2272.5,1371.32 2292.14,1384.24 \n",
       "  \n",
       "  \"/>\n",
       "<polyline clip-path=\"url(#clip002)\" style=\"stroke:#000000; stroke-width:16; stroke-opacity:1; fill:none\" points=\"\n",
       "  347.359,738.441 367.004,738.441 386.648,738.441 406.292,738.441 425.936,738.441 445.581,738.441 465.225,738.441 484.869,738.441 504.514,738.441 524.158,738.441 \n",
       "  543.802,738.441 563.446,738.441 583.091,738.441 602.735,738.441 622.379,738.441 642.024,738.441 661.668,738.441 681.312,738.441 700.956,738.441 720.601,738.441 \n",
       "  740.245,738.441 759.889,738.441 779.534,738.441 799.178,738.441 818.822,738.441 838.466,738.441 858.111,738.441 877.755,738.441 897.399,738.441 917.044,738.441 \n",
       "  936.688,738.441 956.332,738.441 975.976,738.441 995.621,738.441 1015.26,738.441 1034.91,738.441 1054.55,738.441 1074.2,738.441 1093.84,738.441 1113.49,738.441 \n",
       "  1133.13,738.441 1152.77,738.441 1172.42,738.441 1192.06,738.441 1211.71,738.441 1231.35,738.441 1251,738.441 1270.64,738.441 1290.28,738.441 1309.93,738.441 \n",
       "  1329.57,738.441 1349.22,738.441 1368.86,738.441 1388.51,738.441 1408.15,738.441 1427.79,738.441 1447.44,738.441 1467.08,738.441 1486.73,738.441 1506.37,738.441 \n",
       "  1526.02,738.441 1545.66,738.441 1565.3,738.441 1584.95,738.441 1604.59,738.441 1624.24,738.441 1643.88,738.441 1663.53,738.441 1683.17,738.441 1702.81,738.441 \n",
       "  1722.46,738.441 1742.1,738.441 1761.75,738.441 1781.39,738.441 1801.04,738.441 1820.68,738.441 1840.32,738.441 1859.97,738.441 1879.61,738.441 1899.26,738.441 \n",
       "  1918.9,738.441 1938.55,738.441 1958.19,738.441 1977.83,738.441 1997.48,738.441 2017.12,738.441 2036.77,738.441 2056.41,738.441 2076.06,738.441 2095.7,738.441 \n",
       "  2115.34,738.441 2134.99,738.441 2154.63,738.441 2174.28,738.441 2193.92,738.441 2213.57,738.441 2233.21,738.441 2252.85,738.441 2272.5,738.441 2292.14,738.441 \n",
       "  \n",
       "  \"/>\n",
       "<path clip-path=\"url(#clip000)\" d=\"\n",
       "M1386.65 335.029 L2281.37 335.029 L2281.37 93.1086 L1386.65 93.1086  Z\n",
       "  \" fill=\"#ffffff\" fill-rule=\"evenodd\" fill-opacity=\"1\"/>\n",
       "<polyline clip-path=\"url(#clip000)\" style=\"stroke:#000000; stroke-width:4; stroke-opacity:1; fill:none\" points=\"\n",
       "  1386.65,335.029 2281.37,335.029 2281.37,93.1086 1386.65,93.1086 1386.65,335.029 \n",
       "  \"/>\n",
       "<path clip-path=\"url(#clip000)\" d=\"\n",
       "M1410.45 177.781 L1553.22 177.781 L1553.22 129.397 L1410.45 129.397 L1410.45 177.781  Z\n",
       "  \" fill=\"#009af9\" fill-rule=\"evenodd\" fill-opacity=\"1\"/>\n",
       "<polyline clip-path=\"url(#clip000)\" style=\"stroke:#000000; stroke-width:4; stroke-opacity:1; fill:none\" points=\"\n",
       "  1410.45,177.781 1553.22,177.781 1553.22,129.397 1410.45,129.397 1410.45,177.781 \n",
       "  \"/>\n",
       "<path clip-path=\"url(#clip000)\" d=\"M 0 0 M1577.02 136.309 L1598.87 136.309 L1598.87 140.244 L1581.7 140.244 L1581.7 150.475 L1598.15 150.475 L1598.15 154.41 L1581.7 154.41 L1581.7 166.933 L1599.29 166.933 L1599.29 170.869 L1577.02 170.869 L1577.02 136.309 Z\" fill=\"#000000\" fill-rule=\"evenodd\" fill-opacity=\"1\" /><path clip-path=\"url(#clip000)\" d=\"M 0 0 M1623.94 149.92 Q1625.54 147.049 1627.76 145.684 Q1629.98 144.318 1632.99 144.318 Q1637.04 144.318 1639.24 147.165 Q1641.44 149.989 1641.44 155.221 L1641.44 170.869 L1637.16 170.869 L1637.16 155.359 Q1637.16 151.633 1635.84 149.827 Q1634.52 148.022 1631.81 148.022 Q1628.5 148.022 1626.58 150.221 Q1624.66 152.42 1624.66 156.216 L1624.66 170.869 L1620.38 170.869 L1620.38 155.359 Q1620.38 151.609 1619.06 149.827 Q1617.74 148.022 1614.98 148.022 Q1611.72 148.022 1609.8 150.244 Q1607.88 152.443 1607.88 156.216 L1607.88 170.869 L1603.59 170.869 L1603.59 144.943 L1607.88 144.943 L1607.88 148.971 Q1609.33 146.586 1611.37 145.452 Q1613.41 144.318 1616.21 144.318 Q1619.03 144.318 1621 145.753 Q1622.99 147.188 1623.94 149.92 Z\" fill=\"#000000\" fill-rule=\"evenodd\" fill-opacity=\"1\" /><path clip-path=\"url(#clip000)\" d=\"M 0 0 M1650.03 166.98 L1650.03 180.73 L1645.75 180.73 L1645.75 144.943 L1650.03 144.943 L1650.03 148.878 Q1651.37 146.563 1653.41 145.452 Q1655.47 144.318 1658.32 144.318 Q1663.04 144.318 1665.98 148.068 Q1668.94 151.818 1668.94 157.929 Q1668.94 164.04 1665.98 167.79 Q1663.04 171.54 1658.32 171.54 Q1655.47 171.54 1653.41 170.429 Q1651.37 169.295 1650.03 166.98 M1664.52 157.929 Q1664.52 153.23 1662.58 150.568 Q1660.65 147.883 1657.27 147.883 Q1653.89 147.883 1651.95 150.568 Q1650.03 153.23 1650.03 157.929 Q1650.03 162.628 1651.95 165.313 Q1653.89 167.975 1657.27 167.975 Q1660.65 167.975 1662.58 165.313 Q1664.52 162.628 1664.52 157.929 Z\" fill=\"#000000\" fill-rule=\"evenodd\" fill-opacity=\"1\" /><path clip-path=\"url(#clip000)\" d=\"M 0 0 M1673.41 144.943 L1677.67 144.943 L1677.67 170.869 L1673.41 170.869 L1673.41 144.943 M1673.41 134.85 L1677.67 134.85 L1677.67 140.244 L1673.41 140.244 L1673.41 134.85 Z\" fill=\"#000000\" fill-rule=\"evenodd\" fill-opacity=\"1\" /><path clip-path=\"url(#clip000)\" d=\"M 0 0 M1697.16 148.924 Q1696.44 148.508 1695.58 148.322 Q1694.75 148.114 1693.73 148.114 Q1690.12 148.114 1688.18 150.475 Q1686.26 152.813 1686.26 157.211 L1686.26 170.869 L1681.97 170.869 L1681.97 144.943 L1686.26 144.943 L1686.26 148.971 Q1687.6 146.609 1689.75 145.475 Q1691.9 144.318 1694.98 144.318 Q1695.42 144.318 1695.95 144.387 Q1696.49 144.434 1697.14 144.549 L1697.16 148.924 Z\" fill=\"#000000\" fill-rule=\"evenodd\" fill-opacity=\"1\" /><path clip-path=\"url(#clip000)\" d=\"M 0 0 M1701.63 144.943 L1705.89 144.943 L1705.89 170.869 L1701.63 170.869 L1701.63 144.943 M1701.63 134.85 L1705.89 134.85 L1705.89 140.244 L1701.63 140.244 L1701.63 134.85 Z\" fill=\"#000000\" fill-rule=\"evenodd\" fill-opacity=\"1\" /><path clip-path=\"url(#clip000)\" d=\"M 0 0 M1729.01 145.938 L1729.01 149.92 Q1727.2 148.924 1725.38 148.438 Q1723.57 147.929 1721.72 147.929 Q1717.57 147.929 1715.28 150.568 Q1712.99 153.184 1712.99 157.929 Q1712.99 162.674 1715.28 165.313 Q1717.57 167.929 1721.72 167.929 Q1723.57 167.929 1725.38 167.443 Q1727.2 166.933 1729.01 165.938 L1729.01 169.873 Q1727.23 170.707 1725.31 171.123 Q1723.41 171.54 1721.26 171.54 Q1715.4 171.54 1711.95 167.859 Q1708.5 164.179 1708.5 157.929 Q1708.5 151.586 1711.97 147.952 Q1715.47 144.318 1721.53 144.318 Q1723.5 144.318 1725.38 144.735 Q1727.25 145.128 1729.01 145.938 Z\" fill=\"#000000\" fill-rule=\"evenodd\" fill-opacity=\"1\" /><path clip-path=\"url(#clip000)\" d=\"M 0 0 M1745.26 157.836 Q1740.1 157.836 1738.11 159.017 Q1736.12 160.197 1736.12 163.045 Q1736.12 165.313 1737.6 166.656 Q1739.1 167.975 1741.67 167.975 Q1745.21 167.975 1747.34 165.475 Q1749.5 162.952 1749.5 158.785 L1749.5 157.836 L1745.26 157.836 M1753.76 156.077 L1753.76 170.869 L1749.5 170.869 L1749.5 166.933 Q1748.04 169.295 1745.86 170.429 Q1743.69 171.54 1740.54 171.54 Q1736.56 171.54 1734.2 169.318 Q1731.86 167.072 1731.86 163.322 Q1731.86 158.947 1734.77 156.725 Q1737.71 154.503 1743.52 154.503 L1749.5 154.503 L1749.5 154.086 Q1749.5 151.147 1747.55 149.549 Q1745.63 147.929 1742.14 147.929 Q1739.91 147.929 1737.81 148.461 Q1735.7 148.994 1733.76 150.059 L1733.76 146.123 Q1736.09 145.221 1738.29 144.781 Q1740.49 144.318 1742.57 144.318 Q1748.2 144.318 1750.98 147.234 Q1753.76 150.151 1753.76 156.077 Z\" fill=\"#000000\" fill-rule=\"evenodd\" fill-opacity=\"1\" /><path clip-path=\"url(#clip000)\" d=\"M 0 0 M1758.22 134.85 L1762.48 134.85 L1762.48 170.869 L1758.22 170.869 L1758.22 134.85 Z\" fill=\"#000000\" fill-rule=\"evenodd\" fill-opacity=\"1\" /><path clip-path=\"url(#clip000)\" d=\"M 0 0 M1786.88 140.151 L1786.88 153.137 L1792.76 153.137 Q1796.02 153.137 1797.81 151.447 Q1799.59 149.758 1799.59 146.633 Q1799.59 143.531 1797.81 141.841 Q1796.02 140.151 1792.76 140.151 L1786.88 140.151 M1782.2 136.309 L1792.76 136.309 Q1798.57 136.309 1801.53 138.947 Q1804.52 141.563 1804.52 146.633 Q1804.52 151.748 1801.53 154.364 Q1798.57 156.98 1792.76 156.98 L1786.88 156.98 L1786.88 170.869 L1782.2 170.869 L1782.2 136.309 Z\" fill=\"#000000\" fill-rule=\"evenodd\" fill-opacity=\"1\" /><path clip-path=\"url(#clip000)\" d=\"M 0 0 M1817.34 147.929 Q1813.92 147.929 1811.93 150.614 Q1809.94 153.276 1809.94 157.929 Q1809.94 162.582 1811.9 165.267 Q1813.89 167.929 1817.34 167.929 Q1820.75 167.929 1822.74 165.244 Q1824.73 162.558 1824.73 157.929 Q1824.73 153.322 1822.74 150.637 Q1820.75 147.929 1817.34 147.929 M1817.34 144.318 Q1822.9 144.318 1826.07 147.929 Q1829.24 151.54 1829.24 157.929 Q1829.24 164.295 1826.07 167.929 Q1822.9 171.54 1817.34 171.54 Q1811.76 171.54 1808.59 167.929 Q1805.44 164.295 1805.44 157.929 Q1805.44 151.54 1808.59 147.929 Q1811.76 144.318 1817.34 144.318 Z\" fill=\"#000000\" fill-rule=\"evenodd\" fill-opacity=\"1\" /><path clip-path=\"url(#clip000)\" d=\"M 0 0 M1850.24 145.707 L1850.24 149.734 Q1848.43 148.809 1846.49 148.346 Q1844.54 147.883 1842.46 147.883 Q1839.29 147.883 1837.69 148.855 Q1836.12 149.827 1836.12 151.771 Q1836.12 153.253 1837.25 154.109 Q1838.38 154.943 1841.81 155.707 L1843.27 156.031 Q1847.81 157.003 1849.7 158.785 Q1851.63 160.545 1851.63 163.716 Q1851.63 167.327 1848.75 169.433 Q1845.91 171.54 1840.91 171.54 Q1838.82 171.54 1836.56 171.123 Q1834.31 170.73 1831.81 169.92 L1831.81 165.521 Q1834.17 166.748 1836.46 167.373 Q1838.75 167.975 1841 167.975 Q1844.01 167.975 1845.63 166.957 Q1847.25 165.915 1847.25 164.04 Q1847.25 162.304 1846.07 161.378 Q1844.91 160.452 1840.95 159.596 L1839.47 159.248 Q1835.51 158.415 1833.75 156.702 Q1832 154.966 1832 151.957 Q1832 148.299 1834.59 146.309 Q1837.18 144.318 1841.95 144.318 Q1844.31 144.318 1846.39 144.665 Q1848.48 145.012 1850.24 145.707 Z\" fill=\"#000000\" fill-rule=\"evenodd\" fill-opacity=\"1\" /><path clip-path=\"url(#clip000)\" d=\"M 0 0 M1860.31 137.582 L1860.31 144.943 L1869.08 144.943 L1869.08 148.253 L1860.31 148.253 L1860.31 162.327 Q1860.31 165.498 1861.16 166.401 Q1862.04 167.304 1864.7 167.304 L1869.08 167.304 L1869.08 170.869 L1864.7 170.869 Q1859.77 170.869 1857.9 169.04 Q1856.02 167.188 1856.02 162.327 L1856.02 148.253 L1852.9 148.253 L1852.9 144.943 L1856.02 144.943 L1856.02 137.582 L1860.31 137.582 Z\" fill=\"#000000\" fill-rule=\"evenodd\" fill-opacity=\"1\" /><path clip-path=\"url(#clip000)\" d=\"M 0 0 M1895.72 156.841 L1895.72 158.924 L1876.14 158.924 Q1876.42 163.322 1878.78 165.637 Q1881.16 167.929 1885.4 167.929 Q1887.85 167.929 1890.14 167.327 Q1892.46 166.725 1894.73 165.521 L1894.73 169.549 Q1892.44 170.521 1890.03 171.031 Q1887.62 171.54 1885.14 171.54 Q1878.94 171.54 1875.31 167.929 Q1871.69 164.318 1871.69 158.16 Q1871.69 151.795 1875.12 148.068 Q1878.57 144.318 1884.4 144.318 Q1889.63 144.318 1892.67 147.697 Q1895.72 151.054 1895.72 156.841 M1891.46 155.591 Q1891.42 152.096 1889.5 150.012 Q1887.6 147.929 1884.45 147.929 Q1880.88 147.929 1878.73 149.943 Q1876.6 151.957 1876.28 155.614 L1891.46 155.591 Z\" fill=\"#000000\" fill-rule=\"evenodd\" fill-opacity=\"1\" /><path clip-path=\"url(#clip000)\" d=\"M 0 0 M1915.21 148.924 Q1914.5 148.508 1913.64 148.322 Q1912.81 148.114 1911.79 148.114 Q1908.18 148.114 1906.23 150.475 Q1904.31 152.813 1904.31 157.211 L1904.31 170.869 L1900.03 170.869 L1900.03 144.943 L1904.31 144.943 L1904.31 148.971 Q1905.65 146.609 1907.81 145.475 Q1909.96 144.318 1913.04 144.318 Q1913.48 144.318 1914.01 144.387 Q1914.54 144.434 1915.19 144.549 L1915.21 148.924 Z\" fill=\"#000000\" fill-rule=\"evenodd\" fill-opacity=\"1\" /><path clip-path=\"url(#clip000)\" d=\"M 0 0 M1919.68 144.943 L1923.94 144.943 L1923.94 170.869 L1919.68 170.869 L1919.68 144.943 M1919.68 134.85 L1923.94 134.85 L1923.94 140.244 L1919.68 140.244 L1919.68 134.85 Z\" fill=\"#000000\" fill-rule=\"evenodd\" fill-opacity=\"1\" /><path clip-path=\"url(#clip000)\" d=\"M 0 0 M1938.45 147.929 Q1935.03 147.929 1933.04 150.614 Q1931.05 153.276 1931.05 157.929 Q1931.05 162.582 1933.01 165.267 Q1935 167.929 1938.45 167.929 Q1941.86 167.929 1943.85 165.244 Q1945.84 162.558 1945.84 157.929 Q1945.84 153.322 1943.85 150.637 Q1941.86 147.929 1938.45 147.929 M1938.45 144.318 Q1944.01 144.318 1947.18 147.929 Q1950.35 151.54 1950.35 157.929 Q1950.35 164.295 1947.18 167.929 Q1944.01 171.54 1938.45 171.54 Q1932.87 171.54 1929.7 167.929 Q1926.56 164.295 1926.56 157.929 Q1926.56 151.54 1929.7 147.929 Q1932.87 144.318 1938.45 144.318 Z\" fill=\"#000000\" fill-rule=\"evenodd\" fill-opacity=\"1\" /><path clip-path=\"url(#clip000)\" d=\"M 0 0 M1976.37 155.221 L1976.37 170.869 L1972.11 170.869 L1972.11 155.359 Q1972.11 151.679 1970.68 149.85 Q1969.24 148.022 1966.37 148.022 Q1962.92 148.022 1960.93 150.221 Q1958.94 152.42 1958.94 156.216 L1958.94 170.869 L1954.66 170.869 L1954.66 144.943 L1958.94 144.943 L1958.94 148.971 Q1960.47 146.633 1962.53 145.475 Q1964.61 144.318 1967.32 144.318 Q1971.79 144.318 1974.08 147.096 Q1976.37 149.85 1976.37 155.221 Z\" fill=\"#000000\" fill-rule=\"evenodd\" fill-opacity=\"1\" /><path clip-path=\"url(#clip000)\" d=\"M 0 0 M2000.77 140.151 L2000.77 167.026 L2006.42 167.026 Q2013.57 167.026 2016.88 163.785 Q2020.21 160.545 2020.21 153.554 Q2020.21 146.609 2016.88 143.392 Q2013.57 140.151 2006.42 140.151 L2000.77 140.151 M1996.09 136.309 L2005.7 136.309 Q2015.74 136.309 2020.44 140.498 Q2025.14 144.665 2025.14 153.554 Q2025.14 162.489 2020.42 166.679 Q2015.7 170.869 2005.7 170.869 L1996.09 170.869 L1996.09 136.309 Z\" fill=\"#000000\" fill-rule=\"evenodd\" fill-opacity=\"1\" /><path clip-path=\"url(#clip000)\" d=\"M 0 0 M2029.61 144.943 L2033.87 144.943 L2033.87 170.869 L2029.61 170.869 L2029.61 144.943 M2029.61 134.85 L2033.87 134.85 L2033.87 140.244 L2029.61 140.244 L2029.61 134.85 Z\" fill=\"#000000\" fill-rule=\"evenodd\" fill-opacity=\"1\" /><path clip-path=\"url(#clip000)\" d=\"M 0 0 M2054.86 145.707 L2054.86 149.734 Q2053.06 148.809 2051.11 148.346 Q2049.17 147.883 2047.09 147.883 Q2043.92 147.883 2042.32 148.855 Q2040.74 149.827 2040.74 151.771 Q2040.74 153.253 2041.88 154.109 Q2043.01 154.943 2046.44 155.707 L2047.9 156.031 Q2052.43 157.003 2054.33 158.785 Q2056.25 160.545 2056.25 163.716 Q2056.25 167.327 2053.38 169.433 Q2050.54 171.54 2045.54 171.54 Q2043.45 171.54 2041.18 171.123 Q2038.94 170.73 2036.44 169.92 L2036.44 165.521 Q2038.8 166.748 2041.09 167.373 Q2043.38 167.975 2045.63 167.975 Q2048.64 167.975 2050.26 166.957 Q2051.88 165.915 2051.88 164.04 Q2051.88 162.304 2050.7 161.378 Q2049.54 160.452 2045.58 159.596 L2044.1 159.248 Q2040.14 158.415 2038.38 156.702 Q2036.62 154.966 2036.62 151.957 Q2036.62 148.299 2039.22 146.309 Q2041.81 144.318 2046.58 144.318 Q2048.94 144.318 2051.02 144.665 Q2053.11 145.012 2054.86 145.707 Z\" fill=\"#000000\" fill-rule=\"evenodd\" fill-opacity=\"1\" /><path clip-path=\"url(#clip000)\" d=\"M 0 0 M2064.93 137.582 L2064.93 144.943 L2073.71 144.943 L2073.71 148.253 L2064.93 148.253 L2064.93 162.327 Q2064.93 165.498 2065.79 166.401 Q2066.67 167.304 2069.33 167.304 L2073.71 167.304 L2073.71 170.869 L2069.33 170.869 Q2064.4 170.869 2062.53 169.04 Q2060.65 167.188 2060.65 162.327 L2060.65 148.253 L2057.53 148.253 L2057.53 144.943 L2060.65 144.943 L2060.65 137.582 L2064.93 137.582 Z\" fill=\"#000000\" fill-rule=\"evenodd\" fill-opacity=\"1\" /><path clip-path=\"url(#clip000)\" d=\"M 0 0 M2093.2 148.924 Q2092.48 148.508 2091.62 148.322 Q2090.79 148.114 2089.77 148.114 Q2086.16 148.114 2084.22 150.475 Q2082.3 152.813 2082.3 157.211 L2082.3 170.869 L2078.01 170.869 L2078.01 144.943 L2082.3 144.943 L2082.3 148.971 Q2083.64 146.609 2085.79 145.475 Q2087.94 144.318 2091.02 144.318 Q2091.46 144.318 2091.99 144.387 Q2092.53 144.434 2093.17 144.549 L2093.2 148.924 Z\" fill=\"#000000\" fill-rule=\"evenodd\" fill-opacity=\"1\" /><path clip-path=\"url(#clip000)\" d=\"M 0 0 M2097.67 144.943 L2101.92 144.943 L2101.92 170.869 L2097.67 170.869 L2097.67 144.943 M2097.67 134.85 L2101.92 134.85 L2101.92 140.244 L2097.67 140.244 L2097.67 134.85 Z\" fill=\"#000000\" fill-rule=\"evenodd\" fill-opacity=\"1\" /><path clip-path=\"url(#clip000)\" d=\"M 0 0 M2125 157.929 Q2125 153.23 2123.06 150.568 Q2121.14 147.883 2117.76 147.883 Q2114.38 147.883 2112.43 150.568 Q2110.51 153.23 2110.51 157.929 Q2110.51 162.628 2112.43 165.313 Q2114.38 167.975 2117.76 167.975 Q2121.14 167.975 2123.06 165.313 Q2125 162.628 2125 157.929 M2110.51 148.878 Q2111.86 146.563 2113.89 145.452 Q2115.95 144.318 2118.8 144.318 Q2123.52 144.318 2126.46 148.068 Q2129.42 151.818 2129.42 157.929 Q2129.42 164.04 2126.46 167.79 Q2123.52 171.54 2118.8 171.54 Q2115.95 171.54 2113.89 170.429 Q2111.86 169.295 2110.51 166.98 L2110.51 170.869 L2106.23 170.869 L2106.23 134.85 L2110.51 134.85 L2110.51 148.878 Z\" fill=\"#000000\" fill-rule=\"evenodd\" fill-opacity=\"1\" /><path clip-path=\"url(#clip000)\" d=\"M 0 0 M2133.45 160.637 L2133.45 144.943 L2137.71 144.943 L2137.71 160.475 Q2137.71 164.156 2139.15 166.008 Q2140.58 167.836 2143.45 167.836 Q2146.9 167.836 2148.89 165.637 Q2150.91 163.438 2150.91 159.642 L2150.91 144.943 L2155.17 144.943 L2155.17 170.869 L2150.91 170.869 L2150.91 166.887 Q2149.36 169.248 2147.29 170.406 Q2145.26 171.54 2142.55 171.54 Q2138.08 171.54 2135.77 168.762 Q2133.45 165.984 2133.45 160.637 M2144.17 144.318 L2144.17 144.318 Z\" fill=\"#000000\" fill-rule=\"evenodd\" fill-opacity=\"1\" /><path clip-path=\"url(#clip000)\" d=\"M 0 0 M2163.85 137.582 L2163.85 144.943 L2172.62 144.943 L2172.62 148.253 L2163.85 148.253 L2163.85 162.327 Q2163.85 165.498 2164.7 166.401 Q2165.58 167.304 2168.24 167.304 L2172.62 167.304 L2172.62 170.869 L2168.24 170.869 Q2163.31 170.869 2161.44 169.04 Q2159.56 167.188 2159.56 162.327 L2159.56 148.253 L2156.44 148.253 L2156.44 144.943 L2159.56 144.943 L2159.56 137.582 L2163.85 137.582 Z\" fill=\"#000000\" fill-rule=\"evenodd\" fill-opacity=\"1\" /><path clip-path=\"url(#clip000)\" d=\"M 0 0 M2177.09 144.943 L2181.35 144.943 L2181.35 170.869 L2177.09 170.869 L2177.09 144.943 M2177.09 134.85 L2181.35 134.85 L2181.35 140.244 L2177.09 140.244 L2177.09 134.85 Z\" fill=\"#000000\" fill-rule=\"evenodd\" fill-opacity=\"1\" /><path clip-path=\"url(#clip000)\" d=\"M 0 0 M2195.86 147.929 Q2192.43 147.929 2190.44 150.614 Q2188.45 153.276 2188.45 157.929 Q2188.45 162.582 2190.42 165.267 Q2192.41 167.929 2195.86 167.929 Q2199.26 167.929 2201.25 165.244 Q2203.24 162.558 2203.24 157.929 Q2203.24 153.322 2201.25 150.637 Q2199.26 147.929 2195.86 147.929 M2195.86 144.318 Q2201.41 144.318 2204.59 147.929 Q2207.76 151.54 2207.76 157.929 Q2207.76 164.295 2204.59 167.929 Q2201.41 171.54 2195.86 171.54 Q2190.28 171.54 2187.11 167.929 Q2183.96 164.295 2183.96 157.929 Q2183.96 151.54 2187.11 147.929 Q2190.28 144.318 2195.86 144.318 Z\" fill=\"#000000\" fill-rule=\"evenodd\" fill-opacity=\"1\" /><path clip-path=\"url(#clip000)\" d=\"M 0 0 M2233.78 155.221 L2233.78 170.869 L2229.52 170.869 L2229.52 155.359 Q2229.52 151.679 2228.08 149.85 Q2226.65 148.022 2223.78 148.022 Q2220.33 148.022 2218.34 150.221 Q2216.35 152.42 2216.35 156.216 L2216.35 170.869 L2212.06 170.869 L2212.06 144.943 L2216.35 144.943 L2216.35 148.971 Q2217.87 146.633 2219.93 145.475 Q2222.02 144.318 2224.73 144.318 Q2229.19 144.318 2231.48 147.096 Q2233.78 149.85 2233.78 155.221 Z\" fill=\"#000000\" fill-rule=\"evenodd\" fill-opacity=\"1\" /><polyline clip-path=\"url(#clip000)\" style=\"stroke:#ff0000; stroke-width:4; stroke-opacity:1; fill:none\" points=\"\n",
       "  1410.45,214.069 1553.22,214.069 \n",
       "  \"/>\n",
       "<path clip-path=\"url(#clip000)\" d=\"M 0 0 M1592.85 201.395 L1586.51 218.594 L1599.22 218.594 L1592.85 201.395 M1590.21 196.789 L1595.52 196.789 L1608.69 231.349 L1603.83 231.349 L1600.68 222.483 L1585.1 222.483 L1581.95 231.349 L1577.02 231.349 L1590.21 196.789 Z\" fill=\"#000000\" fill-rule=\"evenodd\" fill-opacity=\"1\" /><path clip-path=\"url(#clip000)\" d=\"M 0 0 M1634.71 215.701 L1634.71 231.349 L1630.45 231.349 L1630.45 215.839 Q1630.45 212.159 1629.01 210.33 Q1627.58 208.502 1624.71 208.502 Q1621.26 208.502 1619.27 210.701 Q1617.27 212.9 1617.27 216.696 L1617.27 231.349 L1612.99 231.349 L1612.99 205.423 L1617.27 205.423 L1617.27 209.451 Q1618.8 207.113 1620.86 205.955 Q1622.95 204.798 1625.65 204.798 Q1630.12 204.798 1632.41 207.576 Q1634.71 210.33 1634.71 215.701 Z\" fill=\"#000000\" fill-rule=\"evenodd\" fill-opacity=\"1\" /><path clip-path=\"url(#clip000)\" d=\"M 0 0 M1650.95 218.316 Q1645.79 218.316 1643.8 219.497 Q1641.81 220.677 1641.81 223.525 Q1641.81 225.793 1643.29 227.136 Q1644.8 228.455 1647.37 228.455 Q1650.91 228.455 1653.04 225.955 Q1655.19 223.432 1655.19 219.265 L1655.19 218.316 L1650.95 218.316 M1659.45 216.557 L1659.45 231.349 L1655.19 231.349 L1655.19 227.413 Q1653.73 229.775 1651.56 230.909 Q1649.38 232.02 1646.23 232.02 Q1642.25 232.02 1639.89 229.798 Q1637.55 227.552 1637.55 223.802 Q1637.55 219.427 1640.47 217.205 Q1643.41 214.983 1649.22 214.983 L1655.19 214.983 L1655.19 214.566 Q1655.19 211.627 1653.25 210.029 Q1651.33 208.409 1647.83 208.409 Q1645.61 208.409 1643.5 208.941 Q1641.39 209.474 1639.45 210.539 L1639.45 206.603 Q1641.79 205.701 1643.99 205.261 Q1646.19 204.798 1648.27 204.798 Q1653.89 204.798 1656.67 207.714 Q1659.45 210.631 1659.45 216.557 Z\" fill=\"#000000\" fill-rule=\"evenodd\" fill-opacity=\"1\" /><path clip-path=\"url(#clip000)\" d=\"M 0 0 M1663.92 195.33 L1668.18 195.33 L1668.18 231.349 L1663.92 231.349 L1663.92 195.33 Z\" fill=\"#000000\" fill-rule=\"evenodd\" fill-opacity=\"1\" /><path clip-path=\"url(#clip000)\" d=\"M 0 0 M1683.43 233.756 Q1681.63 238.386 1679.91 239.798 Q1678.2 241.21 1675.33 241.21 L1671.93 241.21 L1671.93 237.645 L1674.43 237.645 Q1676.19 237.645 1677.16 236.812 Q1678.13 235.978 1679.31 232.876 L1680.08 230.932 L1669.59 205.423 L1674.1 205.423 L1682.2 225.701 L1690.31 205.423 L1694.82 205.423 L1683.43 233.756 Z\" fill=\"#000000\" fill-rule=\"evenodd\" fill-opacity=\"1\" /><path clip-path=\"url(#clip000)\" d=\"M 0 0 M1703.5 198.062 L1703.5 205.423 L1712.27 205.423 L1712.27 208.733 L1703.5 208.733 L1703.5 222.807 Q1703.5 225.978 1704.36 226.881 Q1705.24 227.784 1707.9 227.784 L1712.27 227.784 L1712.27 231.349 L1707.9 231.349 Q1702.97 231.349 1701.09 229.52 Q1699.22 227.668 1699.22 222.807 L1699.22 208.733 L1696.09 208.733 L1696.09 205.423 L1699.22 205.423 L1699.22 198.062 L1703.5 198.062 Z\" fill=\"#000000\" fill-rule=\"evenodd\" fill-opacity=\"1\" /><path clip-path=\"url(#clip000)\" d=\"M 0 0 M1716.74 205.423 L1721 205.423 L1721 231.349 L1716.74 231.349 L1716.74 205.423 M1716.74 195.33 L1721 195.33 L1721 200.724 L1716.74 200.724 L1716.74 195.33 Z\" fill=\"#000000\" fill-rule=\"evenodd\" fill-opacity=\"1\" /><path clip-path=\"url(#clip000)\" d=\"M 0 0 M1744.13 206.418 L1744.13 210.4 Q1742.32 209.404 1740.49 208.918 Q1738.69 208.409 1736.83 208.409 Q1732.69 208.409 1730.4 211.048 Q1728.11 213.664 1728.11 218.409 Q1728.11 223.154 1730.4 225.793 Q1732.69 228.409 1736.83 228.409 Q1738.69 228.409 1740.49 227.923 Q1742.32 227.413 1744.13 226.418 L1744.13 230.353 Q1742.34 231.187 1740.42 231.603 Q1738.52 232.02 1736.37 232.02 Q1730.51 232.02 1727.07 228.339 Q1723.62 224.659 1723.62 218.409 Q1723.62 212.066 1727.09 208.432 Q1730.58 204.798 1736.65 204.798 Q1738.62 204.798 1740.49 205.215 Q1742.37 205.608 1744.13 206.418 Z\" fill=\"#000000\" fill-rule=\"evenodd\" fill-opacity=\"1\" /><path clip-path=\"url(#clip000)\" d=\"M 0 0 M1760.38 218.316 Q1755.21 218.316 1753.22 219.497 Q1751.23 220.677 1751.23 223.525 Q1751.23 225.793 1752.71 227.136 Q1754.22 228.455 1756.79 228.455 Q1760.33 228.455 1762.46 225.955 Q1764.61 223.432 1764.61 219.265 L1764.61 218.316 L1760.38 218.316 M1768.87 216.557 L1768.87 231.349 L1764.61 231.349 L1764.61 227.413 Q1763.15 229.775 1760.98 230.909 Q1758.8 232.02 1755.65 232.02 Q1751.67 232.02 1749.31 229.798 Q1746.97 227.552 1746.97 223.802 Q1746.97 219.427 1749.89 217.205 Q1752.83 214.983 1758.64 214.983 L1764.61 214.983 L1764.61 214.566 Q1764.61 211.627 1762.67 210.029 Q1760.75 208.409 1757.25 208.409 Q1755.03 208.409 1752.92 208.941 Q1750.82 209.474 1748.87 210.539 L1748.87 206.603 Q1751.21 205.701 1753.41 205.261 Q1755.61 204.798 1757.69 204.798 Q1763.32 204.798 1766.09 207.714 Q1768.87 210.631 1768.87 216.557 Z\" fill=\"#000000\" fill-rule=\"evenodd\" fill-opacity=\"1\" /><path clip-path=\"url(#clip000)\" d=\"M 0 0 M1773.34 195.33 L1777.6 195.33 L1777.6 231.349 L1773.34 231.349 L1773.34 195.33 Z\" fill=\"#000000\" fill-rule=\"evenodd\" fill-opacity=\"1\" /><path clip-path=\"url(#clip000)\" d=\"M 0 0 M1802 200.631 L1802 213.617 L1807.88 213.617 Q1811.14 213.617 1812.92 211.927 Q1814.7 210.238 1814.7 207.113 Q1814.7 204.011 1812.92 202.321 Q1811.14 200.631 1807.88 200.631 L1802 200.631 M1797.32 196.789 L1807.88 196.789 Q1813.69 196.789 1816.65 199.427 Q1819.63 202.043 1819.63 207.113 Q1819.63 212.228 1816.65 214.844 Q1813.69 217.46 1807.88 217.46 L1802 217.46 L1802 231.349 L1797.32 231.349 L1797.32 196.789 Z\" fill=\"#000000\" fill-rule=\"evenodd\" fill-opacity=\"1\" /><path clip-path=\"url(#clip000)\" d=\"M 0 0 M1832.46 208.409 Q1829.03 208.409 1827.04 211.094 Q1825.05 213.756 1825.05 218.409 Q1825.05 223.062 1827.02 225.747 Q1829.01 228.409 1832.46 228.409 Q1835.86 228.409 1837.85 225.724 Q1839.84 223.038 1839.84 218.409 Q1839.84 213.802 1837.85 211.117 Q1835.86 208.409 1832.46 208.409 M1832.46 204.798 Q1838.01 204.798 1841.19 208.409 Q1844.36 212.02 1844.36 218.409 Q1844.36 224.775 1841.19 228.409 Q1838.01 232.02 1832.46 232.02 Q1826.88 232.02 1823.71 228.409 Q1820.56 224.775 1820.56 218.409 Q1820.56 212.02 1823.71 208.409 Q1826.88 204.798 1832.46 204.798 Z\" fill=\"#000000\" fill-rule=\"evenodd\" fill-opacity=\"1\" /><path clip-path=\"url(#clip000)\" d=\"M 0 0 M1865.35 206.187 L1865.35 210.214 Q1863.55 209.289 1861.6 208.826 Q1859.66 208.363 1857.57 208.363 Q1854.4 208.363 1852.81 209.335 Q1851.23 210.307 1851.23 212.251 Q1851.23 213.733 1852.37 214.589 Q1853.5 215.423 1856.93 216.187 L1858.38 216.511 Q1862.92 217.483 1864.82 219.265 Q1866.74 221.025 1866.74 224.196 Q1866.74 227.807 1863.87 229.913 Q1861.02 232.02 1856.02 232.02 Q1853.94 232.02 1851.67 231.603 Q1849.43 231.21 1846.93 230.4 L1846.93 226.001 Q1849.29 227.228 1851.58 227.853 Q1853.87 228.455 1856.12 228.455 Q1859.13 228.455 1860.75 227.437 Q1862.37 226.395 1862.37 224.52 Q1862.37 222.784 1861.19 221.858 Q1860.03 220.932 1856.07 220.076 L1854.59 219.728 Q1850.63 218.895 1848.87 217.182 Q1847.11 215.446 1847.11 212.437 Q1847.11 208.779 1849.7 206.789 Q1852.3 204.798 1857.06 204.798 Q1859.43 204.798 1861.51 205.145 Q1863.59 205.492 1865.35 206.187 Z\" fill=\"#000000\" fill-rule=\"evenodd\" fill-opacity=\"1\" /><path clip-path=\"url(#clip000)\" d=\"M 0 0 M1875.42 198.062 L1875.42 205.423 L1884.19 205.423 L1884.19 208.733 L1875.42 208.733 L1875.42 222.807 Q1875.42 225.978 1876.28 226.881 Q1877.16 227.784 1879.82 227.784 L1884.19 227.784 L1884.19 231.349 L1879.82 231.349 Q1874.89 231.349 1873.01 229.52 Q1871.14 227.668 1871.14 222.807 L1871.14 208.733 L1868.01 208.733 L1868.01 205.423 L1871.14 205.423 L1871.14 198.062 L1875.42 198.062 Z\" fill=\"#000000\" fill-rule=\"evenodd\" fill-opacity=\"1\" /><path clip-path=\"url(#clip000)\" d=\"M 0 0 M1910.84 217.321 L1910.84 219.404 L1891.25 219.404 Q1891.53 223.802 1893.89 226.117 Q1896.28 228.409 1900.51 228.409 Q1902.97 228.409 1905.26 227.807 Q1907.57 227.205 1909.84 226.001 L1909.84 230.029 Q1907.55 231.001 1905.14 231.511 Q1902.74 232.02 1900.26 232.02 Q1894.06 232.02 1890.42 228.409 Q1886.81 224.798 1886.81 218.64 Q1886.81 212.275 1890.24 208.548 Q1893.69 204.798 1899.52 204.798 Q1904.75 204.798 1907.78 208.177 Q1910.84 211.534 1910.84 217.321 M1906.58 216.071 Q1906.53 212.576 1904.61 210.492 Q1902.71 208.409 1899.56 208.409 Q1896 208.409 1893.85 210.423 Q1891.72 212.437 1891.39 216.094 L1906.58 216.071 Z\" fill=\"#000000\" fill-rule=\"evenodd\" fill-opacity=\"1\" /><path clip-path=\"url(#clip000)\" d=\"M 0 0 M1930.33 209.404 Q1929.61 208.988 1928.75 208.802 Q1927.92 208.594 1926.9 208.594 Q1923.29 208.594 1921.35 210.955 Q1919.43 213.293 1919.43 217.691 L1919.43 231.349 L1915.14 231.349 L1915.14 205.423 L1919.43 205.423 L1919.43 209.451 Q1920.77 207.089 1922.92 205.955 Q1925.07 204.798 1928.15 204.798 Q1928.59 204.798 1929.12 204.867 Q1929.66 204.914 1930.31 205.029 L1930.33 209.404 Z\" fill=\"#000000\" fill-rule=\"evenodd\" fill-opacity=\"1\" /><path clip-path=\"url(#clip000)\" d=\"M 0 0 M1934.8 205.423 L1939.06 205.423 L1939.06 231.349 L1934.8 231.349 L1934.8 205.423 M1934.8 195.33 L1939.06 195.33 L1939.06 200.724 L1934.8 200.724 L1934.8 195.33 Z\" fill=\"#000000\" fill-rule=\"evenodd\" fill-opacity=\"1\" /><path clip-path=\"url(#clip000)\" d=\"M 0 0 M1953.57 208.409 Q1950.14 208.409 1948.15 211.094 Q1946.16 213.756 1946.16 218.409 Q1946.16 223.062 1948.13 225.747 Q1950.12 228.409 1953.57 228.409 Q1956.97 228.409 1958.96 225.724 Q1960.95 223.038 1960.95 218.409 Q1960.95 213.802 1958.96 211.117 Q1956.97 208.409 1953.57 208.409 M1953.57 204.798 Q1959.12 204.798 1962.3 208.409 Q1965.47 212.02 1965.47 218.409 Q1965.47 224.775 1962.3 228.409 Q1959.12 232.02 1953.57 232.02 Q1947.99 232.02 1944.82 228.409 Q1941.67 224.775 1941.67 218.409 Q1941.67 212.02 1944.82 208.409 Q1947.99 204.798 1953.57 204.798 Z\" fill=\"#000000\" fill-rule=\"evenodd\" fill-opacity=\"1\" /><path clip-path=\"url(#clip000)\" d=\"M 0 0 M1984.96 209.404 Q1984.24 208.988 1983.38 208.802 Q1982.55 208.594 1981.53 208.594 Q1977.92 208.594 1975.98 210.955 Q1974.06 213.293 1974.06 217.691 L1974.06 231.349 L1969.77 231.349 L1969.77 205.423 L1974.06 205.423 L1974.06 209.451 Q1975.4 207.089 1977.55 205.955 Q1979.7 204.798 1982.78 204.798 Q1983.22 204.798 1983.75 204.867 Q1984.29 204.914 1984.93 205.029 L1984.96 209.404 Z\" fill=\"#000000\" fill-rule=\"evenodd\" fill-opacity=\"1\" /><path clip-path=\"url(#clip000)\" d=\"M 0 0 M2009.36 200.631 L2009.36 227.506 L2015 227.506 Q2022.16 227.506 2025.47 224.265 Q2028.8 221.025 2028.8 214.034 Q2028.8 207.089 2025.47 203.872 Q2022.16 200.631 2015 200.631 L2009.36 200.631 M2004.68 196.789 L2014.29 196.789 Q2024.33 196.789 2029.03 200.978 Q2033.73 205.145 2033.73 214.034 Q2033.73 222.969 2029.01 227.159 Q2024.29 231.349 2014.29 231.349 L2004.68 231.349 L2004.68 196.789 Z\" fill=\"#000000\" fill-rule=\"evenodd\" fill-opacity=\"1\" /><path clip-path=\"url(#clip000)\" d=\"M 0 0 M2060.37 217.321 L2060.37 219.404 L2040.79 219.404 Q2041.07 223.802 2043.43 226.117 Q2045.81 228.409 2050.05 228.409 Q2052.5 228.409 2054.8 227.807 Q2057.11 227.205 2059.38 226.001 L2059.38 230.029 Q2057.09 231.001 2054.68 231.511 Q2052.27 232.02 2049.8 232.02 Q2043.59 232.02 2039.96 228.409 Q2036.35 224.798 2036.35 218.64 Q2036.35 212.275 2039.77 208.548 Q2043.22 204.798 2049.05 204.798 Q2054.29 204.798 2057.32 208.177 Q2060.37 211.534 2060.37 217.321 M2056.11 216.071 Q2056.07 212.576 2054.15 210.492 Q2052.25 208.409 2049.1 208.409 Q2045.54 208.409 2043.38 210.423 Q2041.25 212.437 2040.93 216.094 L2056.11 216.071 Z\" fill=\"#000000\" fill-rule=\"evenodd\" fill-opacity=\"1\" /><path clip-path=\"url(#clip000)\" d=\"M 0 0 M2086.39 215.701 L2086.39 231.349 L2082.13 231.349 L2082.13 215.839 Q2082.13 212.159 2080.7 210.33 Q2079.26 208.502 2076.39 208.502 Q2072.94 208.502 2070.95 210.701 Q2068.96 212.9 2068.96 216.696 L2068.96 231.349 L2064.68 231.349 L2064.68 205.423 L2068.96 205.423 L2068.96 209.451 Q2070.49 207.113 2072.55 205.955 Q2074.63 204.798 2077.34 204.798 Q2081.81 204.798 2084.1 207.576 Q2086.39 210.33 2086.39 215.701 Z\" fill=\"#000000\" fill-rule=\"evenodd\" fill-opacity=\"1\" /><path clip-path=\"url(#clip000)\" d=\"M 0 0 M2107.39 206.187 L2107.39 210.214 Q2105.58 209.289 2103.64 208.826 Q2101.69 208.363 2099.61 208.363 Q2096.44 208.363 2094.84 209.335 Q2093.27 210.307 2093.27 212.251 Q2093.27 213.733 2094.4 214.589 Q2095.54 215.423 2098.96 216.187 L2100.42 216.511 Q2104.96 217.483 2106.86 219.265 Q2108.78 221.025 2108.78 224.196 Q2108.78 227.807 2105.91 229.913 Q2103.06 232.02 2098.06 232.02 Q2095.98 232.02 2093.71 231.603 Q2091.46 231.21 2088.96 230.4 L2088.96 226.001 Q2091.32 227.228 2093.61 227.853 Q2095.91 228.455 2098.15 228.455 Q2101.16 228.455 2102.78 227.437 Q2104.4 226.395 2104.4 224.52 Q2104.4 222.784 2103.22 221.858 Q2102.06 220.932 2098.11 220.076 L2096.62 219.728 Q2092.67 218.895 2090.91 217.182 Q2089.15 215.446 2089.15 212.437 Q2089.15 208.779 2091.74 206.789 Q2094.33 204.798 2099.1 204.798 Q2101.46 204.798 2103.55 205.145 Q2105.63 205.492 2107.39 206.187 Z\" fill=\"#000000\" fill-rule=\"evenodd\" fill-opacity=\"1\" /><path clip-path=\"url(#clip000)\" d=\"M 0 0 M2113.24 205.423 L2117.5 205.423 L2117.5 231.349 L2113.24 231.349 L2113.24 205.423 M2113.24 195.33 L2117.5 195.33 L2117.5 200.724 L2113.24 200.724 L2113.24 195.33 Z\" fill=\"#000000\" fill-rule=\"evenodd\" fill-opacity=\"1\" /><path clip-path=\"url(#clip000)\" d=\"M 0 0 M2126.18 198.062 L2126.18 205.423 L2134.96 205.423 L2134.96 208.733 L2126.18 208.733 L2126.18 222.807 Q2126.18 225.978 2127.04 226.881 Q2127.92 227.784 2130.58 227.784 L2134.96 227.784 L2134.96 231.349 L2130.58 231.349 Q2125.65 231.349 2123.78 229.52 Q2121.9 227.668 2121.9 222.807 L2121.9 208.733 L2118.78 208.733 L2118.78 205.423 L2121.9 205.423 L2121.9 198.062 L2126.18 198.062 Z\" fill=\"#000000\" fill-rule=\"evenodd\" fill-opacity=\"1\" /><path clip-path=\"url(#clip000)\" d=\"M 0 0 M2150.21 233.756 Q2148.41 238.386 2146.69 239.798 Q2144.98 241.21 2142.11 241.21 L2138.71 241.21 L2138.71 237.645 L2141.21 237.645 Q2142.97 237.645 2143.94 236.812 Q2144.91 235.978 2146.09 232.876 L2146.86 230.932 L2136.37 205.423 L2140.88 205.423 L2148.98 225.701 L2157.09 205.423 L2161.6 205.423 L2150.21 233.756 Z\" fill=\"#000000\" fill-rule=\"evenodd\" fill-opacity=\"1\" /><polyline clip-path=\"url(#clip000)\" style=\"stroke:#000000; stroke-width:4; stroke-opacity:1; fill:none\" points=\"\n",
       "  1410.45,274.549 1553.22,274.549 \n",
       "  \"/>\n",
       "<path clip-path=\"url(#clip000)\" d=\"M 0 0 M1581.7 261.111 L1581.7 274.097 L1587.58 274.097 Q1590.84 274.097 1592.62 272.407 Q1594.4 270.718 1594.4 267.593 Q1594.4 264.491 1592.62 262.801 Q1590.84 261.111 1587.58 261.111 L1581.7 261.111 M1577.02 257.269 L1587.58 257.269 Q1593.39 257.269 1596.35 259.907 Q1599.33 262.523 1599.33 267.593 Q1599.33 272.708 1596.35 275.324 Q1593.39 277.94 1587.58 277.94 L1581.7 277.94 L1581.7 291.829 L1577.02 291.829 L1577.02 257.269 Z\" fill=\"#000000\" fill-rule=\"evenodd\" fill-opacity=\"1\" /><path clip-path=\"url(#clip000)\" d=\"M 0 0 M1617.99 269.884 Q1617.27 269.468 1616.42 269.282 Q1615.58 269.074 1614.57 269.074 Q1610.96 269.074 1609.01 271.435 Q1607.09 273.773 1607.09 278.171 L1607.09 291.829 L1602.81 291.829 L1602.81 265.903 L1607.09 265.903 L1607.09 269.931 Q1608.43 267.569 1610.58 266.435 Q1612.74 265.278 1615.82 265.278 Q1616.26 265.278 1616.79 265.347 Q1617.32 265.394 1617.97 265.509 L1617.99 269.884 Z\" fill=\"#000000\" fill-rule=\"evenodd\" fill-opacity=\"1\" /><path clip-path=\"url(#clip000)\" d=\"M 0 0 M1622.46 265.903 L1626.72 265.903 L1626.72 291.829 L1622.46 291.829 L1622.46 265.903 M1622.46 255.81 L1626.72 255.81 L1626.72 261.204 L1622.46 261.204 L1622.46 255.81 Z\" fill=\"#000000\" fill-rule=\"evenodd\" fill-opacity=\"1\" /><path clip-path=\"url(#clip000)\" d=\"M 0 0 M1641.23 268.889 Q1637.81 268.889 1635.82 271.574 Q1633.83 274.236 1633.83 278.889 Q1633.83 283.542 1635.79 286.227 Q1637.78 288.889 1641.23 288.889 Q1644.64 288.889 1646.63 286.204 Q1648.62 283.518 1648.62 278.889 Q1648.62 274.282 1646.63 271.597 Q1644.64 268.889 1641.23 268.889 M1641.23 265.278 Q1646.79 265.278 1649.96 268.889 Q1653.13 272.5 1653.13 278.889 Q1653.13 285.255 1649.96 288.889 Q1646.79 292.5 1641.23 292.5 Q1635.65 292.5 1632.48 288.889 Q1629.33 285.255 1629.33 278.889 Q1629.33 272.5 1632.48 268.889 Q1635.65 265.278 1641.23 265.278 Z\" fill=\"#000000\" fill-rule=\"evenodd\" fill-opacity=\"1\" /><path clip-path=\"url(#clip000)\" d=\"M 0 0 M1672.62 269.884 Q1671.9 269.468 1671.05 269.282 Q1670.21 269.074 1669.2 269.074 Q1665.58 269.074 1663.64 271.435 Q1661.72 273.773 1661.72 278.171 L1661.72 291.829 L1657.44 291.829 L1657.44 265.903 L1661.72 265.903 L1661.72 269.931 Q1663.06 267.569 1665.21 266.435 Q1667.37 265.278 1670.45 265.278 Q1670.89 265.278 1671.42 265.347 Q1671.95 265.394 1672.6 265.509 L1672.62 269.884 Z\" fill=\"#000000\" fill-rule=\"evenodd\" fill-opacity=\"1\" /></svg>\n"
      ]
     },
     "execution_count": 137,
     "metadata": {},
     "output_type": "execute_result"
    }
   ],
   "source": [
    "#Draw posterior distribution\n",
    "p_summary = chain[:θ]\n",
    "histogram(p_summary, xlabel=\"θ\", bins=40, normed=true, label=\"Empirical Posterion Distribution\")\n",
    "xGrid = 0.01:0.01:1\n",
    "dist=Beta.(k+α,n-k+β) \n",
    "dist_prior=Beta.(α,β) \n",
    "\n",
    "plot!( xGrid, pdf.(dist,xGrid), c=:red, lw=4, xlabel=\"θ\", label=\"Analytical Posterior Density\", ylabel = \"p(θ)\", legend=:topright)\n",
    "plot!( xGrid, pdf.(dist_prior,xGrid), c=:black, lw=4, xlabel=\"θ\", label=\"Prior\", ylabel = \"p(θ)\", legend=:topright)\n",
    "\n"
   ]
  },
  {
   "cell_type": "markdown",
   "metadata": {},
   "source": [
    "#### Summarizing the results"
   ]
  },
  {
   "cell_type": "code",
   "execution_count": 138,
   "metadata": {},
   "outputs": [
    {
     "name": "stdout",
     "output_type": "stream",
     "text": [
      "[0.1336428387738036, 0.436369213048198]\n"
     ]
    }
   ],
   "source": [
    "# Quantiles\n",
    "println(quantile!(p_summary[:,1], [0.25, 0.75]))"
   ]
  },
  {
   "cell_type": "code",
   "execution_count": 139,
   "metadata": {},
   "outputs": [
    {
     "data": {
      "text/plain": [
       "HPD\n",
       " \u001b[1m parameters \u001b[0m \u001b[1m   lower \u001b[0m \u001b[1m   upper \u001b[0m\n",
       " \u001b[90m     Symbol \u001b[0m \u001b[90m Float64 \u001b[0m \u001b[90m Float64 \u001b[0m\n",
       "\n",
       "           θ    0.0022    0.7033\n"
      ]
     },
     "metadata": {},
     "output_type": "display_data"
    }
   ],
   "source": [
    "# Determining hpd\n",
    "display(hpd(chain))"
   ]
  },
  {
   "cell_type": "code",
   "execution_count": 140,
   "metadata": {},
   "outputs": [
    {
     "data": {
      "text/plain": [
       "Chains MCMC chain (2000×10×1 Array{Float64,3}):\n",
       "\n",
       "Iterations        = 1:2000\n",
       "Thinning interval = 1\n",
       "Chains            = 1\n",
       "Samples per chain = 2000\n",
       "parameters        = θ\n",
       "internals         = acceptance_rate, hamiltonian_energy, hamiltonian_energy_error, is_accept, log_density, lp, n_steps, nom_step_size, step_size\n",
       "\n",
       "Summary Statistics\n",
       " \u001b[1m parameters \u001b[0m \u001b[1m    mean \u001b[0m \u001b[1m     std \u001b[0m \u001b[1m naive_se \u001b[0m \u001b[1m    mcse \u001b[0m \u001b[1m     ess \u001b[0m \u001b[1m    rhat \u001b[0m\n",
       " \u001b[90m     Symbol \u001b[0m \u001b[90m Float64 \u001b[0m \u001b[90m Float64 \u001b[0m \u001b[90m  Float64 \u001b[0m \u001b[90m Float64 \u001b[0m \u001b[90m Float64 \u001b[0m \u001b[90m Float64 \u001b[0m\n",
       "\n",
       "           θ    0.2990    0.2112     0.0047    0.0280   34.4090    1.0010\n",
       "\n",
       "Quantiles\n",
       " \u001b[1m parameters \u001b[0m \u001b[1m    2.5% \u001b[0m \u001b[1m   25.0% \u001b[0m \u001b[1m   50.0% \u001b[0m \u001b[1m   75.0% \u001b[0m \u001b[1m   97.5% \u001b[0m\n",
       " \u001b[90m     Symbol \u001b[0m \u001b[90m Float64 \u001b[0m \u001b[90m Float64 \u001b[0m \u001b[90m Float64 \u001b[0m \u001b[90m Float64 \u001b[0m \u001b[90m Float64 \u001b[0m\n",
       "\n",
       "           θ    0.0099    0.1336    0.2550    0.4364    0.7478\n"
      ]
     },
     "metadata": {},
     "output_type": "display_data"
    }
   ],
   "source": [
    "# Summarizing the chain\n",
    "display(chain)"
   ]
  },
  {
   "cell_type": "markdown",
   "metadata": {},
   "source": [
    "### Maximum Likelihood Estimate (MLE)\n",
    "\n",
    "The results can further be summarized by finding the maximum log likelihood. MLE is to calculate the parameters when likelihood get the maximum.\n",
    "\n",
    "Log likelihood:\n",
    "$$L(\\theta | X) = log(p(X | \\theta)) $$\n",
    "\n",
    "To simplify the calculation, we usually find the maximum of the log of the likelihood. We assume that the samples are independent and identically distributed.\n",
    "$$\\hat{\\theta}_{ML} = argmax_\\theta L(\\theta | X) = argmax_\\theta \\sum_{x \\in X}\\log p(x|\\theta)$$\n",
    "\n",
    "We could calculate the derivative of $\\theta$, let it equal to zero. The parameter which let the function get the maximum is what we need.\n",
    "\n",
    "e.g.\n",
    "\n",
    "The results of N times tossing coins follows binomial distribution. The parameter is $\\theta$ i.e. the probability of 'Head' occurs in a single trail.\n",
    "\n",
    "Likelihood:\n",
    "$$\\begin{aligned} L &= \\log(\\theta^k (1-\\theta)^{n-k})= k\\log\\theta +(n-k)\\log(1-\\theta) \\end{aligned}$$\n",
    "\n",
    "Then we calculate the maximum of likelihood:\n",
    "$$\\frac{\\partial{L}} {\\partial{\\theta}} = \\frac{k}{\\theta} - \\frac{n-k}{1-\\theta} = 0$$\n",
    "then:\n",
    "$$\\hat{\\theta}_{ML} = \\frac{k}{n}$$\n",
    "\n",
    "Therefore, the MLE estimate is exactly the rate $k/n$."
   ]
  },
  {
   "cell_type": "markdown",
   "metadata": {},
   "source": [
    "\n",
    "### Maximum a posteriori estimation (MAP)\n",
    "\n",
    "In MAP, we start with the Bayesian theorem.\n",
    "\n",
    "Here we want to calculate the maximum of posterior, i.e.\n",
    "$$\n",
    "\\begin{aligned} \\hat{\\theta}_{MAP} &= argmax_\\theta \\frac{p(X | \\theta) p(\\theta)}{p(X)}\\\\ &= argmax_\\theta p(X | \\theta)p(\\theta) \\\\ &= argmax_\\theta \\{L(\\theta|X) + \\log p(\\theta)\\}\\\\ & \\end{aligned}\n",
    "$$\n",
    "\n",
    "If we perform similar calculation as for the MLE, we obtain that the MAP is:\n",
    "$$\\hat{\\theta}_{ML} =\\frac{k+\\alpha-1}{n+\\alpha+\\beta-2}$$\n"
   ]
  },
  {
   "cell_type": "code",
   "execution_count": 141,
   "metadata": {},
   "outputs": [
    {
     "data": {
      "text/plain": [
       "ModeResult with maximized lp of -0.00\n",
       "1-element Named Array{Float64,1}\n",
       "A  │ \n",
       "───┼─────────────\n",
       ":θ │ 2.68432e-207"
      ]
     },
     "metadata": {},
     "output_type": "display_data"
    },
    {
     "data": {
      "text/plain": [
       "ModeResult with maximized lp of -0.00\n",
       "1-element Named Array{Float64,1}\n",
       "A  │ \n",
       "───┼────────────\n",
       ":θ │ 6.5716e-280"
      ]
     },
     "metadata": {},
     "output_type": "display_data"
    }
   ],
   "source": [
    "# Compute MLE\n",
    "model = infer_rate(k,n)\n",
    "mle_estimate = optimize(model, MLE())\n",
    "map_estimate = optimize(model, MAP())\n",
    "display(mle_estimate)\n",
    "display(map_estimate)"
   ]
  },
  {
   "cell_type": "code",
   "execution_count": 142,
   "metadata": {},
   "outputs": [
    {
     "data": {
      "text/plain": [
       "0.0"
      ]
     },
     "metadata": {},
     "output_type": "display_data"
    },
    {
     "data": {
      "text/plain": [
       "0.0"
      ]
     },
     "metadata": {},
     "output_type": "display_data"
    }
   ],
   "source": [
    "# Now we try to calculate MLE and MAP using formulas analitically\n",
    "MLE_a=k/n\n",
    "display(MLE_a)  \n",
    "MAP_a=(k+α-1)/(n+α+β-2)\n",
    "display(MAP_a) "
   ]
  },
  {
   "cell_type": "markdown",
   "metadata": {},
   "source": [
    "## Prior and posterior predictive densities\n",
    "we will start first with sampling from our model without having any data. This is sample_prior.\n",
    "After that, we will sample from the chain that correspond to the posterior: this is PPD."
   ]
  },
  {
   "cell_type": "code",
   "execution_count": 143,
   "metadata": {},
   "outputs": [
    {
     "data": {
      "image/svg+xml": [
       "<?xml version=\"1.0\" encoding=\"utf-8\"?>\n",
       "<svg xmlns=\"http://www.w3.org/2000/svg\" xmlns:xlink=\"http://www.w3.org/1999/xlink\" width=\"600\" height=\"400\" viewBox=\"0 0 2400 1600\">\n",
       "<defs>\n",
       "  <clipPath id=\"clip040\">\n",
       "    <rect x=\"0\" y=\"0\" width=\"2400\" height=\"1600\"/>\n",
       "  </clipPath>\n",
       "</defs>\n",
       "<path clip-path=\"url(#clip040)\" d=\"\n",
       "M0 1600 L2400 1600 L2400 0 L0 0  Z\n",
       "  \" fill=\"#ffffff\" fill-rule=\"evenodd\" fill-opacity=\"1\"/>\n",
       "<defs>\n",
       "  <clipPath id=\"clip041\">\n",
       "    <rect x=\"480\" y=\"0\" width=\"1681\" height=\"1600\"/>\n",
       "  </clipPath>\n",
       "</defs>\n",
       "<path clip-path=\"url(#clip040)\" d=\"\n",
       "M147.848 1423.18 L2352.76 1423.18 L2352.76 47.2441 L147.848 47.2441  Z\n",
       "  \" fill=\"#ffffff\" fill-rule=\"evenodd\" fill-opacity=\"1\"/>\n",
       "<defs>\n",
       "  <clipPath id=\"clip042\">\n",
       "    <rect x=\"147\" y=\"47\" width=\"2206\" height=\"1377\"/>\n",
       "  </clipPath>\n",
       "</defs>\n",
       "<polyline clip-path=\"url(#clip042)\" style=\"stroke:#000000; stroke-width:2; stroke-opacity:0.1; fill:none\" points=\"\n",
       "  327.397,1423.18 327.397,47.2441 \n",
       "  \"/>\n",
       "<polyline clip-path=\"url(#clip042)\" style=\"stroke:#000000; stroke-width:2; stroke-opacity:0.1; fill:none\" points=\"\n",
       "  591.5,1423.18 591.5,47.2441 \n",
       "  \"/>\n",
       "<polyline clip-path=\"url(#clip042)\" style=\"stroke:#000000; stroke-width:2; stroke-opacity:0.1; fill:none\" points=\"\n",
       "  855.604,1423.18 855.604,47.2441 \n",
       "  \"/>\n",
       "<polyline clip-path=\"url(#clip042)\" style=\"stroke:#000000; stroke-width:2; stroke-opacity:0.1; fill:none\" points=\"\n",
       "  1119.71,1423.18 1119.71,47.2441 \n",
       "  \"/>\n",
       "<polyline clip-path=\"url(#clip042)\" style=\"stroke:#000000; stroke-width:2; stroke-opacity:0.1; fill:none\" points=\"\n",
       "  1383.81,1423.18 1383.81,47.2441 \n",
       "  \"/>\n",
       "<polyline clip-path=\"url(#clip042)\" style=\"stroke:#000000; stroke-width:2; stroke-opacity:0.1; fill:none\" points=\"\n",
       "  1647.91,1423.18 1647.91,47.2441 \n",
       "  \"/>\n",
       "<polyline clip-path=\"url(#clip042)\" style=\"stroke:#000000; stroke-width:2; stroke-opacity:0.1; fill:none\" points=\"\n",
       "  1912.02,1423.18 1912.02,47.2441 \n",
       "  \"/>\n",
       "<polyline clip-path=\"url(#clip042)\" style=\"stroke:#000000; stroke-width:2; stroke-opacity:0.1; fill:none\" points=\"\n",
       "  2176.12,1423.18 2176.12,47.2441 \n",
       "  \"/>\n",
       "<polyline clip-path=\"url(#clip040)\" style=\"stroke:#000000; stroke-width:4; stroke-opacity:1; fill:none\" points=\"\n",
       "  147.848,1423.18 2352.76,1423.18 \n",
       "  \"/>\n",
       "<polyline clip-path=\"url(#clip040)\" style=\"stroke:#000000; stroke-width:4; stroke-opacity:1; fill:none\" points=\"\n",
       "  327.397,1423.18 327.397,1406.67 \n",
       "  \"/>\n",
       "<polyline clip-path=\"url(#clip040)\" style=\"stroke:#000000; stroke-width:4; stroke-opacity:1; fill:none\" points=\"\n",
       "  591.5,1423.18 591.5,1406.67 \n",
       "  \"/>\n",
       "<polyline clip-path=\"url(#clip040)\" style=\"stroke:#000000; stroke-width:4; stroke-opacity:1; fill:none\" points=\"\n",
       "  855.604,1423.18 855.604,1406.67 \n",
       "  \"/>\n",
       "<polyline clip-path=\"url(#clip040)\" style=\"stroke:#000000; stroke-width:4; stroke-opacity:1; fill:none\" points=\"\n",
       "  1119.71,1423.18 1119.71,1406.67 \n",
       "  \"/>\n",
       "<polyline clip-path=\"url(#clip040)\" style=\"stroke:#000000; stroke-width:4; stroke-opacity:1; fill:none\" points=\"\n",
       "  1383.81,1423.18 1383.81,1406.67 \n",
       "  \"/>\n",
       "<polyline clip-path=\"url(#clip040)\" style=\"stroke:#000000; stroke-width:4; stroke-opacity:1; fill:none\" points=\"\n",
       "  1647.91,1423.18 1647.91,1406.67 \n",
       "  \"/>\n",
       "<polyline clip-path=\"url(#clip040)\" style=\"stroke:#000000; stroke-width:4; stroke-opacity:1; fill:none\" points=\"\n",
       "  1912.02,1423.18 1912.02,1406.67 \n",
       "  \"/>\n",
       "<polyline clip-path=\"url(#clip040)\" style=\"stroke:#000000; stroke-width:4; stroke-opacity:1; fill:none\" points=\"\n",
       "  2176.12,1423.18 2176.12,1406.67 \n",
       "  \"/>\n",
       "<path clip-path=\"url(#clip040)\" d=\"M 0 0 M281.367 1467.02 L311.043 1467.02 L311.043 1470.96 L281.367 1470.96 L281.367 1467.02 Z\" fill=\"#000000\" fill-rule=\"evenodd\" fill-opacity=\"1\" /><path clip-path=\"url(#clip040)\" d=\"M 0 0 M326.112 1452.37 Q322.501 1452.37 320.672 1455.94 Q318.867 1459.48 318.867 1466.61 Q318.867 1473.71 320.672 1477.28 Q322.501 1480.82 326.112 1480.82 Q329.746 1480.82 331.552 1477.28 Q333.38 1473.71 333.38 1466.61 Q333.38 1459.48 331.552 1455.94 Q329.746 1452.37 326.112 1452.37 M326.112 1448.67 Q331.922 1448.67 334.978 1453.27 Q338.056 1457.86 338.056 1466.61 Q338.056 1475.33 334.978 1479.94 Q331.922 1484.52 326.112 1484.52 Q320.302 1484.52 317.223 1479.94 Q314.168 1475.33 314.168 1466.61 Q314.168 1457.86 317.223 1453.27 Q320.302 1448.67 326.112 1448.67 Z\" fill=\"#000000\" fill-rule=\"evenodd\" fill-opacity=\"1\" /><path clip-path=\"url(#clip040)\" d=\"M 0 0 M343.126 1477.97 L348.01 1477.97 L348.01 1483.85 L343.126 1483.85 L343.126 1477.97 Z\" fill=\"#000000\" fill-rule=\"evenodd\" fill-opacity=\"1\" /><path clip-path=\"url(#clip040)\" d=\"M 0 0 M357.107 1479.92 L373.427 1479.92 L373.427 1483.85 L351.482 1483.85 L351.482 1479.92 Q354.144 1477.16 358.728 1472.53 Q363.334 1467.88 364.515 1466.54 Q366.76 1464.01 367.64 1462.28 Q368.542 1460.52 368.542 1458.83 Q368.542 1456.07 366.598 1454.34 Q364.677 1452.6 361.575 1452.6 Q359.376 1452.6 356.922 1453.37 Q354.491 1454.13 351.714 1455.68 L351.714 1450.96 Q354.538 1449.82 356.991 1449.25 Q359.445 1448.67 361.482 1448.67 Q366.853 1448.67 370.047 1451.35 Q373.241 1454.04 373.241 1458.53 Q373.241 1460.66 372.431 1462.58 Q371.644 1464.48 369.538 1467.07 Q368.959 1467.74 365.857 1470.96 Q362.755 1474.15 357.107 1479.92 Z\" fill=\"#000000\" fill-rule=\"evenodd\" fill-opacity=\"1\" /><path clip-path=\"url(#clip040)\" d=\"M 0 0 M573.017 1452.37 Q569.405 1452.37 567.577 1455.94 Q565.771 1459.48 565.771 1466.61 Q565.771 1473.71 567.577 1477.28 Q569.405 1480.82 573.017 1480.82 Q576.651 1480.82 578.456 1477.28 Q580.285 1473.71 580.285 1466.61 Q580.285 1459.48 578.456 1455.94 Q576.651 1452.37 573.017 1452.37 M573.017 1448.67 Q578.827 1448.67 581.882 1453.27 Q584.961 1457.86 584.961 1466.61 Q584.961 1475.33 581.882 1479.94 Q578.827 1484.52 573.017 1484.52 Q567.206 1484.52 564.128 1479.94 Q561.072 1475.33 561.072 1466.61 Q561.072 1457.86 564.128 1453.27 Q567.206 1448.67 573.017 1448.67 Z\" fill=\"#000000\" fill-rule=\"evenodd\" fill-opacity=\"1\" /><path clip-path=\"url(#clip040)\" d=\"M 0 0 M590.03 1477.97 L594.915 1477.97 L594.915 1483.85 L590.03 1483.85 L590.03 1477.97 Z\" fill=\"#000000\" fill-rule=\"evenodd\" fill-opacity=\"1\" /><path clip-path=\"url(#clip040)\" d=\"M 0 0 M609.984 1452.37 Q606.373 1452.37 604.544 1455.94 Q602.739 1459.48 602.739 1466.61 Q602.739 1473.71 604.544 1477.28 Q606.373 1480.82 609.984 1480.82 Q613.618 1480.82 615.424 1477.28 Q617.252 1473.71 617.252 1466.61 Q617.252 1459.48 615.424 1455.94 Q613.618 1452.37 609.984 1452.37 M609.984 1448.67 Q615.794 1448.67 618.85 1453.27 Q621.928 1457.86 621.928 1466.61 Q621.928 1475.33 618.85 1479.94 Q615.794 1484.52 609.984 1484.52 Q604.174 1484.52 601.095 1479.94 Q598.04 1475.33 598.04 1466.61 Q598.04 1457.86 601.095 1453.27 Q604.174 1448.67 609.984 1448.67 Z\" fill=\"#000000\" fill-rule=\"evenodd\" fill-opacity=\"1\" /><path clip-path=\"url(#clip040)\" d=\"M 0 0 M837.919 1452.37 Q834.308 1452.37 832.479 1455.94 Q830.673 1459.48 830.673 1466.61 Q830.673 1473.71 832.479 1477.28 Q834.308 1480.82 837.919 1480.82 Q841.553 1480.82 843.358 1477.28 Q845.187 1473.71 845.187 1466.61 Q845.187 1459.48 843.358 1455.94 Q841.553 1452.37 837.919 1452.37 M837.919 1448.67 Q843.729 1448.67 846.784 1453.27 Q849.863 1457.86 849.863 1466.61 Q849.863 1475.33 846.784 1479.94 Q843.729 1484.52 837.919 1484.52 Q832.109 1484.52 829.03 1479.94 Q825.974 1475.33 825.974 1466.61 Q825.974 1457.86 829.03 1453.27 Q832.109 1448.67 837.919 1448.67 Z\" fill=\"#000000\" fill-rule=\"evenodd\" fill-opacity=\"1\" /><path clip-path=\"url(#clip040)\" d=\"M 0 0 M854.932 1477.97 L859.817 1477.97 L859.817 1483.85 L854.932 1483.85 L854.932 1477.97 Z\" fill=\"#000000\" fill-rule=\"evenodd\" fill-opacity=\"1\" /><path clip-path=\"url(#clip040)\" d=\"M 0 0 M868.914 1479.92 L885.233 1479.92 L885.233 1483.85 L863.289 1483.85 L863.289 1479.92 Q865.951 1477.16 870.534 1472.53 Q875.141 1467.88 876.321 1466.54 Q878.567 1464.01 879.446 1462.28 Q880.349 1460.52 880.349 1458.83 Q880.349 1456.07 878.405 1454.34 Q876.483 1452.6 873.381 1452.6 Q871.182 1452.6 868.729 1453.37 Q866.298 1454.13 863.52 1455.68 L863.52 1450.96 Q866.344 1449.82 868.798 1449.25 Q871.252 1448.67 873.289 1448.67 Q878.659 1448.67 881.854 1451.35 Q885.048 1454.04 885.048 1458.53 Q885.048 1460.66 884.238 1462.58 Q883.451 1464.48 881.344 1467.07 Q880.766 1467.74 877.664 1470.96 Q874.562 1474.15 868.914 1479.92 Z\" fill=\"#000000\" fill-rule=\"evenodd\" fill-opacity=\"1\" /><path clip-path=\"url(#clip040)\" d=\"M 0 0 M1100.98 1452.37 Q1097.37 1452.37 1095.54 1455.94 Q1093.74 1459.48 1093.74 1466.61 Q1093.74 1473.71 1095.54 1477.28 Q1097.37 1480.82 1100.98 1480.82 Q1104.61 1480.82 1106.42 1477.28 Q1108.25 1473.71 1108.25 1466.61 Q1108.25 1459.48 1106.42 1455.94 Q1104.61 1452.37 1100.98 1452.37 M1100.98 1448.67 Q1106.79 1448.67 1109.85 1453.27 Q1112.92 1457.86 1112.92 1466.61 Q1112.92 1475.33 1109.85 1479.94 Q1106.79 1484.52 1100.98 1484.52 Q1095.17 1484.52 1092.09 1479.94 Q1089.04 1475.33 1089.04 1466.61 Q1089.04 1457.86 1092.09 1453.27 Q1095.17 1448.67 1100.98 1448.67 Z\" fill=\"#000000\" fill-rule=\"evenodd\" fill-opacity=\"1\" /><path clip-path=\"url(#clip040)\" d=\"M 0 0 M1117.99 1477.97 L1122.88 1477.97 L1122.88 1483.85 L1117.99 1483.85 L1117.99 1477.97 Z\" fill=\"#000000\" fill-rule=\"evenodd\" fill-opacity=\"1\" /><path clip-path=\"url(#clip040)\" d=\"M 0 0 M1140.8 1453.37 L1128.99 1471.81 L1140.8 1471.81 L1140.8 1453.37 M1139.57 1449.29 L1145.45 1449.29 L1145.45 1471.81 L1150.38 1471.81 L1150.38 1475.7 L1145.45 1475.7 L1145.45 1483.85 L1140.8 1483.85 L1140.8 1475.7 L1125.19 1475.7 L1125.19 1471.19 L1139.57 1449.29 Z\" fill=\"#000000\" fill-rule=\"evenodd\" fill-opacity=\"1\" /><path clip-path=\"url(#clip040)\" d=\"M 0 0 M1365.25 1452.37 Q1361.63 1452.37 1359.81 1455.94 Q1358 1459.48 1358 1466.61 Q1358 1473.71 1359.81 1477.28 Q1361.63 1480.82 1365.25 1480.82 Q1368.88 1480.82 1370.69 1477.28 Q1372.51 1473.71 1372.51 1466.61 Q1372.51 1459.48 1370.69 1455.94 Q1368.88 1452.37 1365.25 1452.37 M1365.25 1448.67 Q1371.06 1448.67 1374.11 1453.27 Q1377.19 1457.86 1377.19 1466.61 Q1377.19 1475.33 1374.11 1479.94 Q1371.06 1484.52 1365.25 1484.52 Q1359.44 1484.52 1356.36 1479.94 Q1353.3 1475.33 1353.3 1466.61 Q1353.3 1457.86 1356.36 1453.27 Q1359.44 1448.67 1365.25 1448.67 Z\" fill=\"#000000\" fill-rule=\"evenodd\" fill-opacity=\"1\" /><path clip-path=\"url(#clip040)\" d=\"M 0 0 M1382.26 1477.97 L1387.14 1477.97 L1387.14 1483.85 L1382.26 1483.85 L1382.26 1477.97 Z\" fill=\"#000000\" fill-rule=\"evenodd\" fill-opacity=\"1\" /><path clip-path=\"url(#clip040)\" d=\"M 0 0 M1402.79 1464.71 Q1399.64 1464.71 1397.79 1466.86 Q1395.96 1469.01 1395.96 1472.76 Q1395.96 1476.49 1397.79 1478.67 Q1399.64 1480.82 1402.79 1480.82 Q1405.94 1480.82 1407.77 1478.67 Q1409.62 1476.49 1409.62 1472.76 Q1409.62 1469.01 1407.77 1466.86 Q1405.94 1464.71 1402.79 1464.71 M1412.07 1450.06 L1412.07 1454.31 Q1410.32 1453.48 1408.51 1453.04 Q1406.73 1452.6 1404.97 1452.6 Q1400.34 1452.6 1397.88 1455.73 Q1395.45 1458.85 1395.11 1465.17 Q1396.47 1463.16 1398.53 1462.09 Q1400.59 1461 1403.07 1461 Q1408.28 1461 1411.29 1464.18 Q1414.32 1467.32 1414.32 1472.76 Q1414.32 1478.09 1411.17 1481.31 Q1408.02 1484.52 1402.79 1484.52 Q1396.8 1484.52 1393.63 1479.94 Q1390.45 1475.33 1390.45 1466.61 Q1390.45 1458.41 1394.34 1453.55 Q1398.23 1448.67 1404.78 1448.67 Q1406.54 1448.67 1408.32 1449.01 Q1410.13 1449.36 1412.07 1450.06 Z\" fill=\"#000000\" fill-rule=\"evenodd\" fill-opacity=\"1\" /><path clip-path=\"url(#clip040)\" d=\"M 0 0 M1629.48 1452.37 Q1625.87 1452.37 1624.04 1455.94 Q1622.23 1459.48 1622.23 1466.61 Q1622.23 1473.71 1624.04 1477.28 Q1625.87 1480.82 1629.48 1480.82 Q1633.11 1480.82 1634.92 1477.28 Q1636.75 1473.71 1636.75 1466.61 Q1636.75 1459.48 1634.92 1455.94 Q1633.11 1452.37 1629.48 1452.37 M1629.48 1448.67 Q1635.29 1448.67 1638.34 1453.27 Q1641.42 1457.86 1641.42 1466.61 Q1641.42 1475.33 1638.34 1479.94 Q1635.29 1484.52 1629.48 1484.52 Q1623.67 1484.52 1620.59 1479.94 Q1617.53 1475.33 1617.53 1466.61 Q1617.53 1457.86 1620.59 1453.27 Q1623.67 1448.67 1629.48 1448.67 Z\" fill=\"#000000\" fill-rule=\"evenodd\" fill-opacity=\"1\" /><path clip-path=\"url(#clip040)\" d=\"M 0 0 M1646.49 1477.97 L1651.37 1477.97 L1651.37 1483.85 L1646.49 1483.85 L1646.49 1477.97 Z\" fill=\"#000000\" fill-rule=\"evenodd\" fill-opacity=\"1\" /><path clip-path=\"url(#clip040)\" d=\"M 0 0 M1666.44 1467.44 Q1663.11 1467.44 1661.19 1469.22 Q1659.29 1471 1659.29 1474.13 Q1659.29 1477.25 1661.19 1479.04 Q1663.11 1480.82 1666.44 1480.82 Q1669.78 1480.82 1671.7 1479.04 Q1673.62 1477.23 1673.62 1474.13 Q1673.62 1471 1671.7 1469.22 Q1669.8 1467.44 1666.44 1467.44 M1661.77 1465.45 Q1658.76 1464.71 1657.07 1462.65 Q1655.4 1460.59 1655.4 1457.63 Q1655.4 1453.48 1658.34 1451.07 Q1661.31 1448.67 1666.44 1448.67 Q1671.61 1448.67 1674.55 1451.07 Q1677.49 1453.48 1677.49 1457.63 Q1677.49 1460.59 1675.8 1462.65 Q1674.13 1464.71 1671.14 1465.45 Q1674.52 1466.24 1676.4 1468.53 Q1678.3 1470.82 1678.3 1474.13 Q1678.3 1479.15 1675.22 1481.84 Q1672.16 1484.52 1666.44 1484.52 Q1660.73 1484.52 1657.65 1481.84 Q1654.59 1479.15 1654.59 1474.13 Q1654.59 1470.82 1656.49 1468.53 Q1658.39 1466.24 1661.77 1465.45 M1660.06 1458.06 Q1660.06 1460.75 1661.72 1462.25 Q1663.41 1463.76 1666.44 1463.76 Q1669.45 1463.76 1671.14 1462.25 Q1672.86 1460.75 1672.86 1458.06 Q1672.86 1455.38 1671.14 1453.88 Q1669.45 1452.37 1666.44 1452.37 Q1663.41 1452.37 1661.72 1453.88 Q1660.06 1455.38 1660.06 1458.06 Z\" fill=\"#000000\" fill-rule=\"evenodd\" fill-opacity=\"1\" /><path clip-path=\"url(#clip040)\" d=\"M 0 0 M1883.92 1479.92 L1891.55 1479.92 L1891.55 1453.55 L1883.24 1455.22 L1883.24 1450.96 L1891.51 1449.29 L1896.18 1449.29 L1896.18 1479.92 L1903.82 1479.92 L1903.82 1483.85 L1883.92 1483.85 L1883.92 1479.92 Z\" fill=\"#000000\" fill-rule=\"evenodd\" fill-opacity=\"1\" /><path clip-path=\"url(#clip040)\" d=\"M 0 0 M1908.89 1477.97 L1913.78 1477.97 L1913.78 1483.85 L1908.89 1483.85 L1908.89 1477.97 Z\" fill=\"#000000\" fill-rule=\"evenodd\" fill-opacity=\"1\" /><path clip-path=\"url(#clip040)\" d=\"M 0 0 M1928.85 1452.37 Q1925.24 1452.37 1923.41 1455.94 Q1921.6 1459.48 1921.6 1466.61 Q1921.6 1473.71 1923.41 1477.28 Q1925.24 1480.82 1928.85 1480.82 Q1932.48 1480.82 1934.29 1477.28 Q1936.11 1473.71 1936.11 1466.61 Q1936.11 1459.48 1934.29 1455.94 Q1932.48 1452.37 1928.85 1452.37 M1928.85 1448.67 Q1934.66 1448.67 1937.71 1453.27 Q1940.79 1457.86 1940.79 1466.61 Q1940.79 1475.33 1937.71 1479.94 Q1934.66 1484.52 1928.85 1484.52 Q1923.04 1484.52 1919.96 1479.94 Q1916.9 1475.33 1916.9 1466.61 Q1916.9 1457.86 1919.96 1453.27 Q1923.04 1448.67 1928.85 1448.67 Z\" fill=\"#000000\" fill-rule=\"evenodd\" fill-opacity=\"1\" /><path clip-path=\"url(#clip040)\" d=\"M 0 0 M2148.82 1479.92 L2156.46 1479.92 L2156.46 1453.55 L2148.15 1455.22 L2148.15 1450.96 L2156.41 1449.29 L2161.09 1449.29 L2161.09 1479.92 L2168.73 1479.92 L2168.73 1483.85 L2148.82 1483.85 L2148.82 1479.92 Z\" fill=\"#000000\" fill-rule=\"evenodd\" fill-opacity=\"1\" /><path clip-path=\"url(#clip040)\" d=\"M 0 0 M2173.79 1477.97 L2178.68 1477.97 L2178.68 1483.85 L2173.79 1483.85 L2173.79 1477.97 Z\" fill=\"#000000\" fill-rule=\"evenodd\" fill-opacity=\"1\" /><path clip-path=\"url(#clip040)\" d=\"M 0 0 M2187.78 1479.92 L2204.1 1479.92 L2204.1 1483.85 L2182.15 1483.85 L2182.15 1479.92 Q2184.81 1477.16 2189.4 1472.53 Q2194 1467.88 2195.18 1466.54 Q2197.43 1464.01 2198.31 1462.28 Q2199.21 1460.52 2199.21 1458.83 Q2199.21 1456.07 2197.27 1454.34 Q2195.35 1452.6 2192.24 1452.6 Q2190.04 1452.6 2187.59 1453.37 Q2185.16 1454.13 2182.38 1455.68 L2182.38 1450.96 Q2185.21 1449.82 2187.66 1449.25 Q2190.11 1448.67 2192.15 1448.67 Q2197.52 1448.67 2200.72 1451.35 Q2203.91 1454.04 2203.91 1458.53 Q2203.91 1460.66 2203.1 1462.58 Q2202.31 1464.48 2200.21 1467.07 Q2199.63 1467.74 2196.53 1470.96 Q2193.42 1474.15 2187.78 1479.92 Z\" fill=\"#000000\" fill-rule=\"evenodd\" fill-opacity=\"1\" /><path clip-path=\"url(#clip040)\" d=\"M 0 0 M1260.42 1533.45 L1240.15 1533.45 Q1240.63 1542.96 1242.82 1547 Q1245.56 1551.97 1250.3 1551.97 Q1255.08 1551.97 1257.72 1546.97 Q1260.04 1542.58 1260.42 1533.45 M1260.33 1528.03 Q1259.44 1519 1257.72 1515.81 Q1254.98 1510.78 1250.3 1510.78 Q1245.43 1510.78 1242.85 1515.75 Q1240.82 1519.76 1240.21 1528.03 L1260.33 1528.03 M1250.3 1506.01 Q1257.94 1506.01 1262.3 1512.76 Q1266.66 1519.47 1266.66 1531.38 Q1266.66 1543.25 1262.3 1550 Q1257.94 1556.78 1250.3 1556.78 Q1242.63 1556.78 1238.3 1550 Q1233.94 1543.25 1233.94 1531.38 Q1233.94 1519.47 1238.3 1512.76 Q1242.63 1506.01 1250.3 1506.01 Z\" fill=\"#000000\" fill-rule=\"evenodd\" fill-opacity=\"1\" /><polyline clip-path=\"url(#clip042)\" style=\"stroke:#000000; stroke-width:2; stroke-opacity:0.1; fill:none\" points=\"\n",
       "  147.848,1384.24 2352.76,1384.24 \n",
       "  \"/>\n",
       "<polyline clip-path=\"url(#clip042)\" style=\"stroke:#000000; stroke-width:2; stroke-opacity:0.1; fill:none\" points=\"\n",
       "  147.848,1160.44 2352.76,1160.44 \n",
       "  \"/>\n",
       "<polyline clip-path=\"url(#clip042)\" style=\"stroke:#000000; stroke-width:2; stroke-opacity:0.1; fill:none\" points=\"\n",
       "  147.848,936.634 2352.76,936.634 \n",
       "  \"/>\n",
       "<polyline clip-path=\"url(#clip042)\" style=\"stroke:#000000; stroke-width:2; stroke-opacity:0.1; fill:none\" points=\"\n",
       "  147.848,712.832 2352.76,712.832 \n",
       "  \"/>\n",
       "<polyline clip-path=\"url(#clip042)\" style=\"stroke:#000000; stroke-width:2; stroke-opacity:0.1; fill:none\" points=\"\n",
       "  147.848,489.03 2352.76,489.03 \n",
       "  \"/>\n",
       "<polyline clip-path=\"url(#clip042)\" style=\"stroke:#000000; stroke-width:2; stroke-opacity:0.1; fill:none\" points=\"\n",
       "  147.848,265.227 2352.76,265.227 \n",
       "  \"/>\n",
       "<polyline clip-path=\"url(#clip040)\" style=\"stroke:#000000; stroke-width:4; stroke-opacity:1; fill:none\" points=\"\n",
       "  147.848,1423.18 147.848,47.2441 \n",
       "  \"/>\n",
       "<polyline clip-path=\"url(#clip040)\" style=\"stroke:#000000; stroke-width:4; stroke-opacity:1; fill:none\" points=\"\n",
       "  147.848,1384.24 174.307,1384.24 \n",
       "  \"/>\n",
       "<polyline clip-path=\"url(#clip040)\" style=\"stroke:#000000; stroke-width:4; stroke-opacity:1; fill:none\" points=\"\n",
       "  147.848,1160.44 174.307,1160.44 \n",
       "  \"/>\n",
       "<polyline clip-path=\"url(#clip040)\" style=\"stroke:#000000; stroke-width:4; stroke-opacity:1; fill:none\" points=\"\n",
       "  147.848,936.634 174.307,936.634 \n",
       "  \"/>\n",
       "<polyline clip-path=\"url(#clip040)\" style=\"stroke:#000000; stroke-width:4; stroke-opacity:1; fill:none\" points=\"\n",
       "  147.848,712.832 174.307,712.832 \n",
       "  \"/>\n",
       "<polyline clip-path=\"url(#clip040)\" style=\"stroke:#000000; stroke-width:4; stroke-opacity:1; fill:none\" points=\"\n",
       "  147.848,489.03 174.307,489.03 \n",
       "  \"/>\n",
       "<polyline clip-path=\"url(#clip040)\" style=\"stroke:#000000; stroke-width:4; stroke-opacity:1; fill:none\" points=\"\n",
       "  147.848,265.227 174.307,265.227 \n",
       "  \"/>\n",
       "<path clip-path=\"url(#clip040)\" d=\"M 0 0 M62.9365 1370.04 Q59.3254 1370.04 57.4967 1373.6 Q55.6912 1377.14 55.6912 1384.27 Q55.6912 1391.38 57.4967 1394.94 Q59.3254 1398.49 62.9365 1398.49 Q66.5707 1398.49 68.3763 1394.94 Q70.205 1391.38 70.205 1384.27 Q70.205 1377.14 68.3763 1373.6 Q66.5707 1370.04 62.9365 1370.04 M62.9365 1366.33 Q68.7467 1366.33 71.8022 1370.94 Q74.8809 1375.52 74.8809 1384.27 Q74.8809 1393 71.8022 1397.61 Q68.7467 1402.19 62.9365 1402.19 Q57.1264 1402.19 54.0477 1397.61 Q50.9921 1393 50.9921 1384.27 Q50.9921 1375.52 54.0477 1370.94 Q57.1264 1366.33 62.9365 1366.33 Z\" fill=\"#000000\" fill-rule=\"evenodd\" fill-opacity=\"1\" /><path clip-path=\"url(#clip040)\" d=\"M 0 0 M79.9503 1395.64 L84.8345 1395.64 L84.8345 1401.52 L79.9503 1401.52 L79.9503 1395.64 Z\" fill=\"#000000\" fill-rule=\"evenodd\" fill-opacity=\"1\" /><path clip-path=\"url(#clip040)\" d=\"M 0 0 M99.9039 1370.04 Q96.2928 1370.04 94.4641 1373.6 Q92.6586 1377.14 92.6586 1384.27 Q92.6586 1391.38 94.4641 1394.94 Q96.2928 1398.49 99.9039 1398.49 Q103.538 1398.49 105.344 1394.94 Q107.172 1391.38 107.172 1384.27 Q107.172 1377.14 105.344 1373.6 Q103.538 1370.04 99.9039 1370.04 M99.9039 1366.33 Q105.714 1366.33 108.77 1370.94 Q111.848 1375.52 111.848 1384.27 Q111.848 1393 108.77 1397.61 Q105.714 1402.19 99.9039 1402.19 Q94.0937 1402.19 91.0151 1397.61 Q87.9595 1393 87.9595 1384.27 Q87.9595 1375.52 91.0151 1370.94 Q94.0937 1366.33 99.9039 1366.33 Z\" fill=\"#000000\" fill-rule=\"evenodd\" fill-opacity=\"1\" /><path clip-path=\"url(#clip040)\" d=\"M 0 0 M63.9319 1146.23 Q60.3208 1146.23 58.4921 1149.8 Q56.6865 1153.34 56.6865 1160.47 Q56.6865 1167.58 58.4921 1171.14 Q60.3208 1174.68 63.9319 1174.68 Q67.5661 1174.68 69.3717 1171.14 Q71.2004 1167.58 71.2004 1160.47 Q71.2004 1153.34 69.3717 1149.8 Q67.5661 1146.23 63.9319 1146.23 M63.9319 1142.53 Q69.742 1142.53 72.7976 1147.14 Q75.8763 1151.72 75.8763 1160.47 Q75.8763 1169.2 72.7976 1173.8 Q69.742 1178.39 63.9319 1178.39 Q58.1217 1178.39 55.043 1173.8 Q51.9875 1169.2 51.9875 1160.47 Q51.9875 1151.72 55.043 1147.14 Q58.1217 1142.53 63.9319 1142.53 Z\" fill=\"#000000\" fill-rule=\"evenodd\" fill-opacity=\"1\" /><path clip-path=\"url(#clip040)\" d=\"M 0 0 M80.9457 1171.84 L85.8299 1171.84 L85.8299 1177.72 L80.9457 1177.72 L80.9457 1171.84 Z\" fill=\"#000000\" fill-rule=\"evenodd\" fill-opacity=\"1\" /><path clip-path=\"url(#clip040)\" d=\"M 0 0 M90.9456 1143.16 L109.302 1143.16 L109.302 1147.09 L95.228 1147.09 L95.228 1155.56 Q96.2465 1155.22 97.265 1155.05 Q98.2835 1154.87 99.3021 1154.87 Q105.089 1154.87 108.469 1158.04 Q111.848 1161.21 111.848 1166.63 Q111.848 1172.21 108.376 1175.31 Q104.904 1178.39 98.5845 1178.39 Q96.4085 1178.39 94.14 1178.02 Q91.8947 1177.65 89.4873 1176.91 L89.4873 1172.21 Q91.5706 1173.34 93.7928 1173.9 Q96.015 1174.45 98.4919 1174.45 Q102.496 1174.45 104.834 1172.35 Q107.172 1170.24 107.172 1166.63 Q107.172 1163.02 104.834 1160.91 Q102.496 1158.8 98.4919 1158.8 Q96.6169 1158.8 94.7419 1159.22 Q92.89 1159.64 90.9456 1160.52 L90.9456 1143.16 Z\" fill=\"#000000\" fill-rule=\"evenodd\" fill-opacity=\"1\" /><path clip-path=\"url(#clip040)\" d=\"M 0 0 M54.9736 949.979 L62.6124 949.979 L62.6124 923.613 L54.3023 925.28 L54.3023 921.021 L62.5661 919.354 L67.242 919.354 L67.242 949.979 L74.8809 949.979 L74.8809 953.914 L54.9736 953.914 L54.9736 949.979 Z\" fill=\"#000000\" fill-rule=\"evenodd\" fill-opacity=\"1\" /><path clip-path=\"url(#clip040)\" d=\"M 0 0 M79.9503 948.034 L84.8345 948.034 L84.8345 953.914 L79.9503 953.914 L79.9503 948.034 Z\" fill=\"#000000\" fill-rule=\"evenodd\" fill-opacity=\"1\" /><path clip-path=\"url(#clip040)\" d=\"M 0 0 M99.9039 922.433 Q96.2928 922.433 94.4641 925.997 Q92.6586 929.539 92.6586 936.669 Q92.6586 943.775 94.4641 947.34 Q96.2928 950.882 99.9039 950.882 Q103.538 950.882 105.344 947.34 Q107.172 943.775 107.172 936.669 Q107.172 929.539 105.344 925.997 Q103.538 922.433 99.9039 922.433 M99.9039 918.729 Q105.714 918.729 108.77 923.335 Q111.848 927.919 111.848 936.669 Q111.848 945.395 108.77 950.002 Q105.714 954.585 99.9039 954.585 Q94.0937 954.585 91.0151 950.002 Q87.9595 945.395 87.9595 936.669 Q87.9595 927.919 91.0151 923.335 Q94.0937 918.729 99.9039 918.729 Z\" fill=\"#000000\" fill-rule=\"evenodd\" fill-opacity=\"1\" /><path clip-path=\"url(#clip040)\" d=\"M 0 0 M55.969 726.177 L63.6078 726.177 L63.6078 699.811 L55.2977 701.478 L55.2977 697.218 L63.5615 695.552 L68.2374 695.552 L68.2374 726.177 L75.8763 726.177 L75.8763 730.112 L55.969 730.112 L55.969 726.177 Z\" fill=\"#000000\" fill-rule=\"evenodd\" fill-opacity=\"1\" /><path clip-path=\"url(#clip040)\" d=\"M 0 0 M80.9457 724.232 L85.8299 724.232 L85.8299 730.112 L80.9457 730.112 L80.9457 724.232 Z\" fill=\"#000000\" fill-rule=\"evenodd\" fill-opacity=\"1\" /><path clip-path=\"url(#clip040)\" d=\"M 0 0 M90.9456 695.552 L109.302 695.552 L109.302 699.487 L95.228 699.487 L95.228 707.959 Q96.2465 707.612 97.265 707.45 Q98.2835 707.265 99.3021 707.265 Q105.089 707.265 108.469 710.436 Q111.848 713.607 111.848 719.024 Q111.848 724.603 108.376 727.704 Q104.904 730.783 98.5845 730.783 Q96.4085 730.783 94.14 730.413 Q91.8947 730.042 89.4873 729.302 L89.4873 724.603 Q91.5706 725.737 93.7928 726.292 Q96.015 726.848 98.4919 726.848 Q102.496 726.848 104.834 724.741 Q107.172 722.635 107.172 719.024 Q107.172 715.413 104.834 713.306 Q102.496 711.2 98.4919 711.2 Q96.6169 711.2 94.7419 711.616 Q92.89 712.033 90.9456 712.913 L90.9456 695.552 Z\" fill=\"#000000\" fill-rule=\"evenodd\" fill-opacity=\"1\" /><path clip-path=\"url(#clip040)\" d=\"M 0 0 M58.5615 502.374 L74.8809 502.374 L74.8809 506.31 L52.9366 506.31 L52.9366 502.374 Q55.5986 499.62 60.1819 494.99 Q64.7883 490.337 65.9689 488.995 Q68.2143 486.472 69.0939 484.736 Q69.9967 482.976 69.9967 481.287 Q69.9967 478.532 68.0522 476.796 Q66.1309 475.06 63.0291 475.06 Q60.83 475.06 58.3763 475.824 Q55.9458 476.588 53.168 478.138 L53.168 473.416 Q55.9921 472.282 58.4458 471.703 Q60.8995 471.125 62.9365 471.125 Q68.3068 471.125 71.5013 473.81 Q74.6957 476.495 74.6957 480.986 Q74.6957 483.115 73.8855 485.037 Q73.0985 486.935 70.992 489.527 Q70.4133 490.199 67.3115 493.416 Q64.2096 496.611 58.5615 502.374 Z\" fill=\"#000000\" fill-rule=\"evenodd\" fill-opacity=\"1\" /><path clip-path=\"url(#clip040)\" d=\"M 0 0 M79.9503 500.43 L84.8345 500.43 L84.8345 506.31 L79.9503 506.31 L79.9503 500.43 Z\" fill=\"#000000\" fill-rule=\"evenodd\" fill-opacity=\"1\" /><path clip-path=\"url(#clip040)\" d=\"M 0 0 M99.9039 474.828 Q96.2928 474.828 94.4641 478.393 Q92.6586 481.935 92.6586 489.064 Q92.6586 496.171 94.4641 499.736 Q96.2928 503.277 99.9039 503.277 Q103.538 503.277 105.344 499.736 Q107.172 496.171 107.172 489.064 Q107.172 481.935 105.344 478.393 Q103.538 474.828 99.9039 474.828 M99.9039 471.125 Q105.714 471.125 108.77 475.731 Q111.848 480.314 111.848 489.064 Q111.848 497.791 108.77 502.398 Q105.714 506.981 99.9039 506.981 Q94.0937 506.981 91.0151 502.398 Q87.9595 497.791 87.9595 489.064 Q87.9595 480.314 91.0151 475.731 Q94.0937 471.125 99.9039 471.125 Z\" fill=\"#000000\" fill-rule=\"evenodd\" fill-opacity=\"1\" /><path clip-path=\"url(#clip040)\" d=\"M 0 0 M59.5569 278.572 L75.8763 278.572 L75.8763 282.507 L53.9319 282.507 L53.9319 278.572 Q56.5939 275.818 61.1773 271.188 Q65.7837 266.535 66.9643 265.193 Q69.2096 262.67 70.0892 260.933 Q70.992 259.174 70.992 257.484 Q70.992 254.73 69.0476 252.994 Q67.1263 251.258 64.0245 251.258 Q61.8254 251.258 59.3717 252.021 Q56.9412 252.785 54.1634 254.336 L54.1634 249.614 Q56.9875 248.48 59.4412 247.901 Q61.8948 247.322 63.9319 247.322 Q69.3022 247.322 72.4966 250.008 Q75.6911 252.693 75.6911 257.183 Q75.6911 259.313 74.8809 261.234 Q74.0939 263.133 71.9874 265.725 Q71.4087 266.396 68.3068 269.614 Q65.205 272.808 59.5569 278.572 Z\" fill=\"#000000\" fill-rule=\"evenodd\" fill-opacity=\"1\" /><path clip-path=\"url(#clip040)\" d=\"M 0 0 M80.9457 276.628 L85.8299 276.628 L85.8299 282.507 L80.9457 282.507 L80.9457 276.628 Z\" fill=\"#000000\" fill-rule=\"evenodd\" fill-opacity=\"1\" /><path clip-path=\"url(#clip040)\" d=\"M 0 0 M90.9456 247.947 L109.302 247.947 L109.302 251.883 L95.228 251.883 L95.228 260.355 Q96.2465 260.008 97.265 259.845 Q98.2835 259.66 99.3021 259.66 Q105.089 259.66 108.469 262.832 Q111.848 266.003 111.848 271.42 Q111.848 276.998 108.376 280.1 Q104.904 283.179 98.5845 283.179 Q96.4085 283.179 94.14 282.808 Q91.8947 282.438 89.4873 281.697 L89.4873 276.998 Q91.5706 278.132 93.7928 278.688 Q96.015 279.244 98.4919 279.244 Q102.496 279.244 104.834 277.137 Q107.172 275.031 107.172 271.42 Q107.172 267.808 104.834 265.702 Q102.496 263.595 98.4919 263.595 Q96.6169 263.595 94.7419 264.012 Q92.89 264.429 90.9456 265.308 L90.9456 247.947 Z\" fill=\"#000000\" fill-rule=\"evenodd\" fill-opacity=\"1\" /><path clip-path=\"url(#clip042)\" d=\"\n",
       "M591.5 847.113 L591.5 1384.24 L617.911 1384.24 L617.911 847.113 L591.5 847.113 L591.5 847.113  Z\n",
       "  \" fill=\"#009af9\" fill-rule=\"evenodd\" fill-opacity=\"1\"/>\n",
       "<polyline clip-path=\"url(#clip042)\" style=\"stroke:#000000; stroke-width:4; stroke-opacity:1; fill:none\" points=\"\n",
       "  591.5,847.113 591.5,1384.24 617.911,1384.24 617.911,847.113 591.5,847.113 \n",
       "  \"/>\n",
       "<path clip-path=\"url(#clip042)\" d=\"\n",
       "M617.911 1070.92 L617.911 1384.24 L644.321 1384.24 L644.321 1070.92 L617.911 1070.92 L617.911 1070.92  Z\n",
       "  \" fill=\"#009af9\" fill-rule=\"evenodd\" fill-opacity=\"1\"/>\n",
       "<polyline clip-path=\"url(#clip042)\" style=\"stroke:#000000; stroke-width:4; stroke-opacity:1; fill:none\" points=\"\n",
       "  617.911,1070.92 617.911,1384.24 644.321,1384.24 644.321,1070.92 617.911,1070.92 \n",
       "  \"/>\n",
       "<path clip-path=\"url(#clip042)\" d=\"\n",
       "M644.321 1026.15 L644.321 1384.24 L670.731 1384.24 L670.731 1026.15 L644.321 1026.15 L644.321 1026.15  Z\n",
       "  \" fill=\"#009af9\" fill-rule=\"evenodd\" fill-opacity=\"1\"/>\n",
       "<polyline clip-path=\"url(#clip042)\" style=\"stroke:#000000; stroke-width:4; stroke-opacity:1; fill:none\" points=\"\n",
       "  644.321,1026.15 644.321,1384.24 670.731,1384.24 670.731,1026.15 644.321,1026.15 \n",
       "  \"/>\n",
       "<path clip-path=\"url(#clip042)\" d=\"\n",
       "M670.731 936.634 L670.731 1384.24 L697.142 1384.24 L697.142 936.634 L670.731 936.634 L670.731 936.634  Z\n",
       "  \" fill=\"#009af9\" fill-rule=\"evenodd\" fill-opacity=\"1\"/>\n",
       "<polyline clip-path=\"url(#clip042)\" style=\"stroke:#000000; stroke-width:4; stroke-opacity:1; fill:none\" points=\"\n",
       "  670.731,936.634 670.731,1384.24 697.142,1384.24 697.142,936.634 670.731,936.634 \n",
       "  \"/>\n",
       "<path clip-path=\"url(#clip042)\" d=\"\n",
       "M697.142 623.311 L697.142 1384.24 L723.552 1384.24 L723.552 623.311 L697.142 623.311 L697.142 623.311  Z\n",
       "  \" fill=\"#009af9\" fill-rule=\"evenodd\" fill-opacity=\"1\"/>\n",
       "<polyline clip-path=\"url(#clip042)\" style=\"stroke:#000000; stroke-width:4; stroke-opacity:1; fill:none\" points=\"\n",
       "  697.142,623.311 697.142,1384.24 723.552,1384.24 723.552,623.311 697.142,623.311 \n",
       "  \"/>\n",
       "<path clip-path=\"url(#clip042)\" d=\"\n",
       "M723.552 1115.68 L723.552 1384.24 L749.962 1384.24 L749.962 1115.68 L723.552 1115.68 L723.552 1115.68  Z\n",
       "  \" fill=\"#009af9\" fill-rule=\"evenodd\" fill-opacity=\"1\"/>\n",
       "<polyline clip-path=\"url(#clip042)\" style=\"stroke:#000000; stroke-width:4; stroke-opacity:1; fill:none\" points=\"\n",
       "  723.552,1115.68 723.552,1384.24 749.962,1384.24 749.962,1115.68 723.552,1115.68 \n",
       "  \"/>\n",
       "<path clip-path=\"url(#clip042)\" d=\"\n",
       "M749.962 1160.44 L749.962 1384.24 L776.373 1384.24 L776.373 1160.44 L749.962 1160.44 L749.962 1160.44  Z\n",
       "  \" fill=\"#009af9\" fill-rule=\"evenodd\" fill-opacity=\"1\"/>\n",
       "<polyline clip-path=\"url(#clip042)\" style=\"stroke:#000000; stroke-width:4; stroke-opacity:1; fill:none\" points=\"\n",
       "  749.962,1160.44 749.962,1384.24 776.373,1384.24 776.373,1160.44 749.962,1160.44 \n",
       "  \"/>\n",
       "<path clip-path=\"url(#clip042)\" d=\"\n",
       "M776.373 891.873 L776.373 1384.24 L802.783 1384.24 L802.783 891.873 L776.373 891.873 L776.373 891.873  Z\n",
       "  \" fill=\"#009af9\" fill-rule=\"evenodd\" fill-opacity=\"1\"/>\n",
       "<polyline clip-path=\"url(#clip042)\" style=\"stroke:#000000; stroke-width:4; stroke-opacity:1; fill:none\" points=\"\n",
       "  776.373,891.873 776.373,1384.24 802.783,1384.24 802.783,891.873 776.373,891.873 \n",
       "  \"/>\n",
       "<path clip-path=\"url(#clip042)\" d=\"\n",
       "M802.783 936.634 L802.783 1384.24 L829.193 1384.24 L829.193 936.634 L802.783 936.634 L802.783 936.634  Z\n",
       "  \" fill=\"#009af9\" fill-rule=\"evenodd\" fill-opacity=\"1\"/>\n",
       "<polyline clip-path=\"url(#clip042)\" style=\"stroke:#000000; stroke-width:4; stroke-opacity:1; fill:none\" points=\"\n",
       "  802.783,936.634 802.783,1384.24 829.193,1384.24 829.193,936.634 802.783,936.634 \n",
       "  \"/>\n",
       "<path clip-path=\"url(#clip042)\" d=\"\n",
       "M829.193 757.592 L829.193 1384.24 L855.604 1384.24 L855.604 757.592 L829.193 757.592 L829.193 757.592  Z\n",
       "  \" fill=\"#009af9\" fill-rule=\"evenodd\" fill-opacity=\"1\"/>\n",
       "<polyline clip-path=\"url(#clip042)\" style=\"stroke:#000000; stroke-width:4; stroke-opacity:1; fill:none\" points=\"\n",
       "  829.193,757.592 829.193,1384.24 855.604,1384.24 855.604,757.592 829.193,757.592 \n",
       "  \"/>\n",
       "<path clip-path=\"url(#clip042)\" d=\"\n",
       "M855.604 981.394 L855.604 1384.24 L882.014 1384.24 L882.014 981.394 L855.604 981.394 L855.604 981.394  Z\n",
       "  \" fill=\"#009af9\" fill-rule=\"evenodd\" fill-opacity=\"1\"/>\n",
       "<polyline clip-path=\"url(#clip042)\" style=\"stroke:#000000; stroke-width:4; stroke-opacity:1; fill:none\" points=\"\n",
       "  855.604,981.394 855.604,1384.24 882.014,1384.24 882.014,981.394 855.604,981.394 \n",
       "  \"/>\n",
       "<path clip-path=\"url(#clip042)\" d=\"\n",
       "M882.014 936.634 L882.014 1384.24 L908.424 1384.24 L908.424 936.634 L882.014 936.634 L882.014 936.634  Z\n",
       "  \" fill=\"#009af9\" fill-rule=\"evenodd\" fill-opacity=\"1\"/>\n",
       "<polyline clip-path=\"url(#clip042)\" style=\"stroke:#000000; stroke-width:4; stroke-opacity:1; fill:none\" points=\"\n",
       "  882.014,936.634 882.014,1384.24 908.424,1384.24 908.424,936.634 882.014,936.634 \n",
       "  \"/>\n",
       "<path clip-path=\"url(#clip042)\" d=\"\n",
       "M908.424 1160.44 L908.424 1384.24 L934.835 1384.24 L934.835 1160.44 L908.424 1160.44 L908.424 1160.44  Z\n",
       "  \" fill=\"#009af9\" fill-rule=\"evenodd\" fill-opacity=\"1\"/>\n",
       "<polyline clip-path=\"url(#clip042)\" style=\"stroke:#000000; stroke-width:4; stroke-opacity:1; fill:none\" points=\"\n",
       "  908.424,1160.44 908.424,1384.24 934.835,1384.24 934.835,1160.44 908.424,1160.44 \n",
       "  \"/>\n",
       "<path clip-path=\"url(#clip042)\" d=\"\n",
       "M934.835 757.592 L934.835 1384.24 L961.245 1384.24 L961.245 757.592 L934.835 757.592 L934.835 757.592  Z\n",
       "  \" fill=\"#009af9\" fill-rule=\"evenodd\" fill-opacity=\"1\"/>\n",
       "<polyline clip-path=\"url(#clip042)\" style=\"stroke:#000000; stroke-width:4; stroke-opacity:1; fill:none\" points=\"\n",
       "  934.835,757.592 934.835,1384.24 961.245,1384.24 961.245,757.592 934.835,757.592 \n",
       "  \"/>\n",
       "<path clip-path=\"url(#clip042)\" d=\"\n",
       "M961.245 802.353 L961.245 1384.24 L987.656 1384.24 L987.656 802.353 L961.245 802.353 L961.245 802.353  Z\n",
       "  \" fill=\"#009af9\" fill-rule=\"evenodd\" fill-opacity=\"1\"/>\n",
       "<polyline clip-path=\"url(#clip042)\" style=\"stroke:#000000; stroke-width:4; stroke-opacity:1; fill:none\" points=\"\n",
       "  961.245,802.353 961.245,1384.24 987.656,1384.24 987.656,802.353 961.245,802.353 \n",
       "  \"/>\n",
       "<path clip-path=\"url(#clip042)\" d=\"\n",
       "M987.656 668.071 L987.656 1384.24 L1014.07 1384.24 L1014.07 668.071 L987.656 668.071 L987.656 668.071  Z\n",
       "  \" fill=\"#009af9\" fill-rule=\"evenodd\" fill-opacity=\"1\"/>\n",
       "<polyline clip-path=\"url(#clip042)\" style=\"stroke:#000000; stroke-width:4; stroke-opacity:1; fill:none\" points=\"\n",
       "  987.656,668.071 987.656,1384.24 1014.07,1384.24 1014.07,668.071 987.656,668.071 \n",
       "  \"/>\n",
       "<path clip-path=\"url(#clip042)\" d=\"\n",
       "M1014.07 936.634 L1014.07 1384.24 L1040.48 1384.24 L1040.48 936.634 L1014.07 936.634 L1014.07 936.634  Z\n",
       "  \" fill=\"#009af9\" fill-rule=\"evenodd\" fill-opacity=\"1\"/>\n",
       "<polyline clip-path=\"url(#clip042)\" style=\"stroke:#000000; stroke-width:4; stroke-opacity:1; fill:none\" points=\"\n",
       "  1014.07,936.634 1014.07,1384.24 1040.48,1384.24 1040.48,936.634 1014.07,936.634 \n",
       "  \"/>\n",
       "<path clip-path=\"url(#clip042)\" d=\"\n",
       "M1040.48 936.634 L1040.48 1384.24 L1066.89 1384.24 L1066.89 936.634 L1040.48 936.634 L1040.48 936.634  Z\n",
       "  \" fill=\"#009af9\" fill-rule=\"evenodd\" fill-opacity=\"1\"/>\n",
       "<polyline clip-path=\"url(#clip042)\" style=\"stroke:#000000; stroke-width:4; stroke-opacity:1; fill:none\" points=\"\n",
       "  1040.48,936.634 1040.48,1384.24 1066.89,1384.24 1066.89,936.634 1040.48,936.634 \n",
       "  \"/>\n",
       "<path clip-path=\"url(#clip042)\" d=\"\n",
       "M1066.89 802.353 L1066.89 1384.24 L1093.3 1384.24 L1093.3 802.353 L1066.89 802.353 L1066.89 802.353  Z\n",
       "  \" fill=\"#009af9\" fill-rule=\"evenodd\" fill-opacity=\"1\"/>\n",
       "<polyline clip-path=\"url(#clip042)\" style=\"stroke:#000000; stroke-width:4; stroke-opacity:1; fill:none\" points=\"\n",
       "  1066.89,802.353 1066.89,1384.24 1093.3,1384.24 1093.3,802.353 1066.89,802.353 \n",
       "  \"/>\n",
       "<path clip-path=\"url(#clip042)\" d=\"\n",
       "M1093.3 802.353 L1093.3 1384.24 L1119.71 1384.24 L1119.71 802.353 L1093.3 802.353 L1093.3 802.353  Z\n",
       "  \" fill=\"#009af9\" fill-rule=\"evenodd\" fill-opacity=\"1\"/>\n",
       "<polyline clip-path=\"url(#clip042)\" style=\"stroke:#000000; stroke-width:4; stroke-opacity:1; fill:none\" points=\"\n",
       "  1093.3,802.353 1093.3,1384.24 1119.71,1384.24 1119.71,802.353 1093.3,802.353 \n",
       "  \"/>\n",
       "<path clip-path=\"url(#clip042)\" d=\"\n",
       "M1119.71 981.394 L1119.71 1384.24 L1146.12 1384.24 L1146.12 981.394 L1119.71 981.394 L1119.71 981.394  Z\n",
       "  \" fill=\"#009af9\" fill-rule=\"evenodd\" fill-opacity=\"1\"/>\n",
       "<polyline clip-path=\"url(#clip042)\" style=\"stroke:#000000; stroke-width:4; stroke-opacity:1; fill:none\" points=\"\n",
       "  1119.71,981.394 1119.71,1384.24 1146.12,1384.24 1146.12,981.394 1119.71,981.394 \n",
       "  \"/>\n",
       "<path clip-path=\"url(#clip042)\" d=\"\n",
       "M1146.12 891.873 L1146.12 1384.24 L1172.53 1384.24 L1172.53 891.873 L1146.12 891.873 L1146.12 891.873  Z\n",
       "  \" fill=\"#009af9\" fill-rule=\"evenodd\" fill-opacity=\"1\"/>\n",
       "<polyline clip-path=\"url(#clip042)\" style=\"stroke:#000000; stroke-width:4; stroke-opacity:1; fill:none\" points=\"\n",
       "  1146.12,891.873 1146.12,1384.24 1172.53,1384.24 1172.53,891.873 1146.12,891.873 \n",
       "  \"/>\n",
       "<path clip-path=\"url(#clip042)\" d=\"\n",
       "M1172.53 847.113 L1172.53 1384.24 L1198.94 1384.24 L1198.94 847.113 L1172.53 847.113 L1172.53 847.113  Z\n",
       "  \" fill=\"#009af9\" fill-rule=\"evenodd\" fill-opacity=\"1\"/>\n",
       "<polyline clip-path=\"url(#clip042)\" style=\"stroke:#000000; stroke-width:4; stroke-opacity:1; fill:none\" points=\"\n",
       "  1172.53,847.113 1172.53,1384.24 1198.94,1384.24 1198.94,847.113 1172.53,847.113 \n",
       "  \"/>\n",
       "<path clip-path=\"url(#clip042)\" d=\"\n",
       "M1198.94 981.394 L1198.94 1384.24 L1225.35 1384.24 L1225.35 981.394 L1198.94 981.394 L1198.94 981.394  Z\n",
       "  \" fill=\"#009af9\" fill-rule=\"evenodd\" fill-opacity=\"1\"/>\n",
       "<polyline clip-path=\"url(#clip042)\" style=\"stroke:#000000; stroke-width:4; stroke-opacity:1; fill:none\" points=\"\n",
       "  1198.94,981.394 1198.94,1384.24 1225.35,1384.24 1225.35,981.394 1198.94,981.394 \n",
       "  \"/>\n",
       "<path clip-path=\"url(#clip042)\" d=\"\n",
       "M1225.35 847.113 L1225.35 1384.24 L1251.76 1384.24 L1251.76 847.113 L1225.35 847.113 L1225.35 847.113  Z\n",
       "  \" fill=\"#009af9\" fill-rule=\"evenodd\" fill-opacity=\"1\"/>\n",
       "<polyline clip-path=\"url(#clip042)\" style=\"stroke:#000000; stroke-width:4; stroke-opacity:1; fill:none\" points=\"\n",
       "  1225.35,847.113 1225.35,1384.24 1251.76,1384.24 1251.76,847.113 1225.35,847.113 \n",
       "  \"/>\n",
       "<path clip-path=\"url(#clip042)\" d=\"\n",
       "M1251.76 1070.92 L1251.76 1384.24 L1278.17 1384.24 L1278.17 1070.92 L1251.76 1070.92 L1251.76 1070.92  Z\n",
       "  \" fill=\"#009af9\" fill-rule=\"evenodd\" fill-opacity=\"1\"/>\n",
       "<polyline clip-path=\"url(#clip042)\" style=\"stroke:#000000; stroke-width:4; stroke-opacity:1; fill:none\" points=\"\n",
       "  1251.76,1070.92 1251.76,1384.24 1278.17,1384.24 1278.17,1070.92 1251.76,1070.92 \n",
       "  \"/>\n",
       "<path clip-path=\"url(#clip042)\" d=\"\n",
       "M1278.17 1115.68 L1278.17 1384.24 L1304.58 1384.24 L1304.58 1115.68 L1278.17 1115.68 L1278.17 1115.68  Z\n",
       "  \" fill=\"#009af9\" fill-rule=\"evenodd\" fill-opacity=\"1\"/>\n",
       "<polyline clip-path=\"url(#clip042)\" style=\"stroke:#000000; stroke-width:4; stroke-opacity:1; fill:none\" points=\"\n",
       "  1278.17,1115.68 1278.17,1384.24 1304.58,1384.24 1304.58,1115.68 1278.17,1115.68 \n",
       "  \"/>\n",
       "<path clip-path=\"url(#clip042)\" d=\"\n",
       "M1304.58 802.353 L1304.58 1384.24 L1330.99 1384.24 L1330.99 802.353 L1304.58 802.353 L1304.58 802.353  Z\n",
       "  \" fill=\"#009af9\" fill-rule=\"evenodd\" fill-opacity=\"1\"/>\n",
       "<polyline clip-path=\"url(#clip042)\" style=\"stroke:#000000; stroke-width:4; stroke-opacity:1; fill:none\" points=\"\n",
       "  1304.58,802.353 1304.58,1384.24 1330.99,1384.24 1330.99,802.353 1304.58,802.353 \n",
       "  \"/>\n",
       "<path clip-path=\"url(#clip042)\" d=\"\n",
       "M1330.99 489.03 L1330.99 1384.24 L1357.4 1384.24 L1357.4 489.03 L1330.99 489.03 L1330.99 489.03  Z\n",
       "  \" fill=\"#009af9\" fill-rule=\"evenodd\" fill-opacity=\"1\"/>\n",
       "<polyline clip-path=\"url(#clip042)\" style=\"stroke:#000000; stroke-width:4; stroke-opacity:1; fill:none\" points=\"\n",
       "  1330.99,489.03 1330.99,1384.24 1357.4,1384.24 1357.4,489.03 1330.99,489.03 \n",
       "  \"/>\n",
       "<path clip-path=\"url(#clip042)\" d=\"\n",
       "M1357.4 981.394 L1357.4 1384.24 L1383.81 1384.24 L1383.81 981.394 L1357.4 981.394 L1357.4 981.394  Z\n",
       "  \" fill=\"#009af9\" fill-rule=\"evenodd\" fill-opacity=\"1\"/>\n",
       "<polyline clip-path=\"url(#clip042)\" style=\"stroke:#000000; stroke-width:4; stroke-opacity:1; fill:none\" points=\"\n",
       "  1357.4,981.394 1357.4,1384.24 1383.81,1384.24 1383.81,981.394 1357.4,981.394 \n",
       "  \"/>\n",
       "<path clip-path=\"url(#clip042)\" d=\"\n",
       "M1383.81 847.113 L1383.81 1384.24 L1410.22 1384.24 L1410.22 847.113 L1383.81 847.113 L1383.81 847.113  Z\n",
       "  \" fill=\"#009af9\" fill-rule=\"evenodd\" fill-opacity=\"1\"/>\n",
       "<polyline clip-path=\"url(#clip042)\" style=\"stroke:#000000; stroke-width:4; stroke-opacity:1; fill:none\" points=\"\n",
       "  1383.81,847.113 1383.81,1384.24 1410.22,1384.24 1410.22,847.113 1383.81,847.113 \n",
       "  \"/>\n",
       "<path clip-path=\"url(#clip042)\" d=\"\n",
       "M1410.22 623.311 L1410.22 1384.24 L1436.63 1384.24 L1436.63 623.311 L1410.22 623.311 L1410.22 623.311  Z\n",
       "  \" fill=\"#009af9\" fill-rule=\"evenodd\" fill-opacity=\"1\"/>\n",
       "<polyline clip-path=\"url(#clip042)\" style=\"stroke:#000000; stroke-width:4; stroke-opacity:1; fill:none\" points=\"\n",
       "  1410.22,623.311 1410.22,1384.24 1436.63,1384.24 1436.63,623.311 1410.22,623.311 \n",
       "  \"/>\n",
       "<path clip-path=\"url(#clip042)\" d=\"\n",
       "M1436.63 1160.44 L1436.63 1384.24 L1463.04 1384.24 L1463.04 1160.44 L1436.63 1160.44 L1436.63 1160.44  Z\n",
       "  \" fill=\"#009af9\" fill-rule=\"evenodd\" fill-opacity=\"1\"/>\n",
       "<polyline clip-path=\"url(#clip042)\" style=\"stroke:#000000; stroke-width:4; stroke-opacity:1; fill:none\" points=\"\n",
       "  1436.63,1160.44 1436.63,1384.24 1463.04,1384.24 1463.04,1160.44 1436.63,1160.44 \n",
       "  \"/>\n",
       "<path clip-path=\"url(#clip042)\" d=\"\n",
       "M1463.04 1160.44 L1463.04 1384.24 L1489.45 1384.24 L1489.45 1160.44 L1463.04 1160.44 L1463.04 1160.44  Z\n",
       "  \" fill=\"#009af9\" fill-rule=\"evenodd\" fill-opacity=\"1\"/>\n",
       "<polyline clip-path=\"url(#clip042)\" style=\"stroke:#000000; stroke-width:4; stroke-opacity:1; fill:none\" points=\"\n",
       "  1463.04,1160.44 1463.04,1384.24 1489.45,1384.24 1489.45,1160.44 1463.04,1160.44 \n",
       "  \"/>\n",
       "<path clip-path=\"url(#clip042)\" d=\"\n",
       "M1489.45 936.634 L1489.45 1384.24 L1515.86 1384.24 L1515.86 936.634 L1489.45 936.634 L1489.45 936.634  Z\n",
       "  \" fill=\"#009af9\" fill-rule=\"evenodd\" fill-opacity=\"1\"/>\n",
       "<polyline clip-path=\"url(#clip042)\" style=\"stroke:#000000; stroke-width:4; stroke-opacity:1; fill:none\" points=\"\n",
       "  1489.45,936.634 1489.45,1384.24 1515.86,1384.24 1515.86,936.634 1489.45,936.634 \n",
       "  \"/>\n",
       "<path clip-path=\"url(#clip042)\" d=\"\n",
       "M1515.86 757.592 L1515.86 1384.24 L1542.27 1384.24 L1542.27 757.592 L1515.86 757.592 L1515.86 757.592  Z\n",
       "  \" fill=\"#009af9\" fill-rule=\"evenodd\" fill-opacity=\"1\"/>\n",
       "<polyline clip-path=\"url(#clip042)\" style=\"stroke:#000000; stroke-width:4; stroke-opacity:1; fill:none\" points=\"\n",
       "  1515.86,757.592 1515.86,1384.24 1542.27,1384.24 1542.27,757.592 1515.86,757.592 \n",
       "  \"/>\n",
       "<path clip-path=\"url(#clip042)\" d=\"\n",
       "M1542.27 712.832 L1542.27 1384.24 L1568.68 1384.24 L1568.68 712.832 L1542.27 712.832 L1542.27 712.832  Z\n",
       "  \" fill=\"#009af9\" fill-rule=\"evenodd\" fill-opacity=\"1\"/>\n",
       "<polyline clip-path=\"url(#clip042)\" style=\"stroke:#000000; stroke-width:4; stroke-opacity:1; fill:none\" points=\"\n",
       "  1542.27,712.832 1542.27,1384.24 1568.68,1384.24 1568.68,712.832 1542.27,712.832 \n",
       "  \"/>\n",
       "<path clip-path=\"url(#clip042)\" d=\"\n",
       "M1568.68 981.394 L1568.68 1384.24 L1595.09 1384.24 L1595.09 981.394 L1568.68 981.394 L1568.68 981.394  Z\n",
       "  \" fill=\"#009af9\" fill-rule=\"evenodd\" fill-opacity=\"1\"/>\n",
       "<polyline clip-path=\"url(#clip042)\" style=\"stroke:#000000; stroke-width:4; stroke-opacity:1; fill:none\" points=\"\n",
       "  1568.68,981.394 1568.68,1384.24 1595.09,1384.24 1595.09,981.394 1568.68,981.394 \n",
       "  \"/>\n",
       "<path clip-path=\"url(#clip042)\" d=\"\n",
       "M1595.09 1249.96 L1595.09 1384.24 L1621.5 1384.24 L1621.5 1249.96 L1595.09 1249.96 L1595.09 1249.96  Z\n",
       "  \" fill=\"#009af9\" fill-rule=\"evenodd\" fill-opacity=\"1\"/>\n",
       "<polyline clip-path=\"url(#clip042)\" style=\"stroke:#000000; stroke-width:4; stroke-opacity:1; fill:none\" points=\"\n",
       "  1595.09,1249.96 1595.09,1384.24 1621.5,1384.24 1621.5,1249.96 1595.09,1249.96 \n",
       "  \"/>\n",
       "<path clip-path=\"url(#clip042)\" d=\"\n",
       "M1621.5 1205.2 L1621.5 1384.24 L1647.91 1384.24 L1647.91 1205.2 L1621.5 1205.2 L1621.5 1205.2  Z\n",
       "  \" fill=\"#009af9\" fill-rule=\"evenodd\" fill-opacity=\"1\"/>\n",
       "<polyline clip-path=\"url(#clip042)\" style=\"stroke:#000000; stroke-width:4; stroke-opacity:1; fill:none\" points=\"\n",
       "  1621.5,1205.2 1621.5,1384.24 1647.91,1384.24 1647.91,1205.2 1621.5,1205.2 \n",
       "  \"/>\n",
       "<path clip-path=\"url(#clip042)\" d=\"\n",
       "M1647.91 891.873 L1647.91 1384.24 L1674.32 1384.24 L1674.32 891.873 L1647.91 891.873 L1647.91 891.873  Z\n",
       "  \" fill=\"#009af9\" fill-rule=\"evenodd\" fill-opacity=\"1\"/>\n",
       "<polyline clip-path=\"url(#clip042)\" style=\"stroke:#000000; stroke-width:4; stroke-opacity:1; fill:none\" points=\"\n",
       "  1647.91,891.873 1647.91,1384.24 1674.32,1384.24 1674.32,891.873 1647.91,891.873 \n",
       "  \"/>\n",
       "<path clip-path=\"url(#clip042)\" d=\"\n",
       "M1674.32 1070.92 L1674.32 1384.24 L1700.73 1384.24 L1700.73 1070.92 L1674.32 1070.92 L1674.32 1070.92  Z\n",
       "  \" fill=\"#009af9\" fill-rule=\"evenodd\" fill-opacity=\"1\"/>\n",
       "<polyline clip-path=\"url(#clip042)\" style=\"stroke:#000000; stroke-width:4; stroke-opacity:1; fill:none\" points=\"\n",
       "  1674.32,1070.92 1674.32,1384.24 1700.73,1384.24 1700.73,1070.92 1674.32,1070.92 \n",
       "  \"/>\n",
       "<path clip-path=\"url(#clip042)\" d=\"\n",
       "M1700.73 1160.44 L1700.73 1384.24 L1727.15 1384.24 L1727.15 1160.44 L1700.73 1160.44 L1700.73 1160.44  Z\n",
       "  \" fill=\"#009af9\" fill-rule=\"evenodd\" fill-opacity=\"1\"/>\n",
       "<polyline clip-path=\"url(#clip042)\" style=\"stroke:#000000; stroke-width:4; stroke-opacity:1; fill:none\" points=\"\n",
       "  1700.73,1160.44 1700.73,1384.24 1727.15,1384.24 1727.15,1160.44 1700.73,1160.44 \n",
       "  \"/>\n",
       "<path clip-path=\"url(#clip042)\" d=\"\n",
       "M1727.15 847.113 L1727.15 1384.24 L1753.56 1384.24 L1753.56 847.113 L1727.15 847.113 L1727.15 847.113  Z\n",
       "  \" fill=\"#009af9\" fill-rule=\"evenodd\" fill-opacity=\"1\"/>\n",
       "<polyline clip-path=\"url(#clip042)\" style=\"stroke:#000000; stroke-width:4; stroke-opacity:1; fill:none\" points=\"\n",
       "  1727.15,847.113 1727.15,1384.24 1753.56,1384.24 1753.56,847.113 1727.15,847.113 \n",
       "  \"/>\n",
       "<path clip-path=\"url(#clip042)\" d=\"\n",
       "M1753.56 1249.96 L1753.56 1384.24 L1779.97 1384.24 L1779.97 1249.96 L1753.56 1249.96 L1753.56 1249.96  Z\n",
       "  \" fill=\"#009af9\" fill-rule=\"evenodd\" fill-opacity=\"1\"/>\n",
       "<polyline clip-path=\"url(#clip042)\" style=\"stroke:#000000; stroke-width:4; stroke-opacity:1; fill:none\" points=\"\n",
       "  1753.56,1249.96 1753.56,1384.24 1779.97,1384.24 1779.97,1249.96 1753.56,1249.96 \n",
       "  \"/>\n",
       "<path clip-path=\"url(#clip042)\" d=\"\n",
       "M1779.97 1026.15 L1779.97 1384.24 L1806.38 1384.24 L1806.38 1026.15 L1779.97 1026.15 L1779.97 1026.15  Z\n",
       "  \" fill=\"#009af9\" fill-rule=\"evenodd\" fill-opacity=\"1\"/>\n",
       "<polyline clip-path=\"url(#clip042)\" style=\"stroke:#000000; stroke-width:4; stroke-opacity:1; fill:none\" points=\"\n",
       "  1779.97,1026.15 1779.97,1384.24 1806.38,1384.24 1806.38,1026.15 1779.97,1026.15 \n",
       "  \"/>\n",
       "<path clip-path=\"url(#clip042)\" d=\"\n",
       "M1806.38 847.113 L1806.38 1384.24 L1832.79 1384.24 L1832.79 847.113 L1806.38 847.113 L1806.38 847.113  Z\n",
       "  \" fill=\"#009af9\" fill-rule=\"evenodd\" fill-opacity=\"1\"/>\n",
       "<polyline clip-path=\"url(#clip042)\" style=\"stroke:#000000; stroke-width:4; stroke-opacity:1; fill:none\" points=\"\n",
       "  1806.38,847.113 1806.38,1384.24 1832.79,1384.24 1832.79,847.113 1806.38,847.113 \n",
       "  \"/>\n",
       "<path clip-path=\"url(#clip042)\" d=\"\n",
       "M1832.79 981.394 L1832.79 1384.24 L1859.2 1384.24 L1859.2 981.394 L1832.79 981.394 L1832.79 981.394  Z\n",
       "  \" fill=\"#009af9\" fill-rule=\"evenodd\" fill-opacity=\"1\"/>\n",
       "<polyline clip-path=\"url(#clip042)\" style=\"stroke:#000000; stroke-width:4; stroke-opacity:1; fill:none\" points=\"\n",
       "  1832.79,981.394 1832.79,1384.24 1859.2,1384.24 1859.2,981.394 1832.79,981.394 \n",
       "  \"/>\n",
       "<path clip-path=\"url(#clip042)\" d=\"\n",
       "M1859.2 1026.15 L1859.2 1384.24 L1885.61 1384.24 L1885.61 1026.15 L1859.2 1026.15 L1859.2 1026.15  Z\n",
       "  \" fill=\"#009af9\" fill-rule=\"evenodd\" fill-opacity=\"1\"/>\n",
       "<polyline clip-path=\"url(#clip042)\" style=\"stroke:#000000; stroke-width:4; stroke-opacity:1; fill:none\" points=\"\n",
       "  1859.2,1026.15 1859.2,1384.24 1885.61,1384.24 1885.61,1026.15 1859.2,1026.15 \n",
       "  \"/>\n",
       "<path clip-path=\"url(#clip042)\" d=\"\n",
       "M1885.61 936.634 L1885.61 1384.24 L1912.02 1384.24 L1912.02 936.634 L1885.61 936.634 L1885.61 936.634  Z\n",
       "  \" fill=\"#009af9\" fill-rule=\"evenodd\" fill-opacity=\"1\"/>\n",
       "<polyline clip-path=\"url(#clip042)\" style=\"stroke:#000000; stroke-width:4; stroke-opacity:1; fill:none\" points=\"\n",
       "  1885.61,936.634 1885.61,1384.24 1912.02,1384.24 1912.02,936.634 1885.61,936.634 \n",
       "  \"/>\n",
       "<path clip-path=\"url(#clip042)\" d=\"\n",
       "M591.5 668.071 L591.5 1384.24 L617.911 1384.24 L617.911 668.071 L591.5 668.071 L591.5 668.071  Z\n",
       "  \" fill=\"#e26f46\" fill-rule=\"evenodd\" fill-opacity=\"1\"/>\n",
       "<polyline clip-path=\"url(#clip042)\" style=\"stroke:#000000; stroke-width:4; stroke-opacity:1; fill:none\" points=\"\n",
       "  591.5,668.071 591.5,1384.24 617.911,1384.24 617.911,668.071 591.5,668.071 \n",
       "  \"/>\n",
       "<path clip-path=\"url(#clip042)\" d=\"\n",
       "M617.911 847.113 L617.911 1384.24 L644.321 1384.24 L644.321 847.113 L617.911 847.113 L617.911 847.113  Z\n",
       "  \" fill=\"#e26f46\" fill-rule=\"evenodd\" fill-opacity=\"1\"/>\n",
       "<polyline clip-path=\"url(#clip042)\" style=\"stroke:#000000; stroke-width:4; stroke-opacity:1; fill:none\" points=\"\n",
       "  617.911,847.113 617.911,1384.24 644.321,1384.24 644.321,847.113 617.911,847.113 \n",
       "  \"/>\n",
       "<path clip-path=\"url(#clip042)\" d=\"\n",
       "M644.321 444.269 L644.321 1384.24 L670.731 1384.24 L670.731 444.269 L644.321 444.269 L644.321 444.269  Z\n",
       "  \" fill=\"#e26f46\" fill-rule=\"evenodd\" fill-opacity=\"1\"/>\n",
       "<polyline clip-path=\"url(#clip042)\" style=\"stroke:#000000; stroke-width:4; stroke-opacity:1; fill:none\" points=\"\n",
       "  644.321,444.269 644.321,1384.24 670.731,1384.24 670.731,444.269 644.321,444.269 \n",
       "  \"/>\n",
       "<path clip-path=\"url(#clip042)\" d=\"\n",
       "M670.731 399.509 L670.731 1384.24 L697.142 1384.24 L697.142 399.509 L670.731 399.509 L670.731 399.509  Z\n",
       "  \" fill=\"#e26f46\" fill-rule=\"evenodd\" fill-opacity=\"1\"/>\n",
       "<polyline clip-path=\"url(#clip042)\" style=\"stroke:#000000; stroke-width:4; stroke-opacity:1; fill:none\" points=\"\n",
       "  670.731,399.509 670.731,1384.24 697.142,1384.24 697.142,399.509 670.731,399.509 \n",
       "  \"/>\n",
       "<path clip-path=\"url(#clip042)\" d=\"\n",
       "M697.142 444.269 L697.142 1384.24 L723.552 1384.24 L723.552 444.269 L697.142 444.269 L697.142 444.269  Z\n",
       "  \" fill=\"#e26f46\" fill-rule=\"evenodd\" fill-opacity=\"1\"/>\n",
       "<polyline clip-path=\"url(#clip042)\" style=\"stroke:#000000; stroke-width:4; stroke-opacity:1; fill:none\" points=\"\n",
       "  697.142,444.269 697.142,1384.24 723.552,1384.24 723.552,444.269 697.142,444.269 \n",
       "  \"/>\n",
       "<path clip-path=\"url(#clip042)\" d=\"\n",
       "M723.552 712.832 L723.552 1384.24 L749.962 1384.24 L749.962 712.832 L723.552 712.832 L723.552 712.832  Z\n",
       "  \" fill=\"#e26f46\" fill-rule=\"evenodd\" fill-opacity=\"1\"/>\n",
       "<polyline clip-path=\"url(#clip042)\" style=\"stroke:#000000; stroke-width:4; stroke-opacity:1; fill:none\" points=\"\n",
       "  723.552,712.832 723.552,1384.24 749.962,1384.24 749.962,712.832 723.552,712.832 \n",
       "  \"/>\n",
       "<path clip-path=\"url(#clip042)\" d=\"\n",
       "M749.962 309.988 L749.962 1384.24 L776.373 1384.24 L776.373 309.988 L749.962 309.988 L749.962 309.988  Z\n",
       "  \" fill=\"#e26f46\" fill-rule=\"evenodd\" fill-opacity=\"1\"/>\n",
       "<polyline clip-path=\"url(#clip042)\" style=\"stroke:#000000; stroke-width:4; stroke-opacity:1; fill:none\" points=\"\n",
       "  749.962,309.988 749.962,1384.24 776.373,1384.24 776.373,309.988 749.962,309.988 \n",
       "  \"/>\n",
       "<path clip-path=\"url(#clip042)\" d=\"\n",
       "M776.373 86.1857 L776.373 1384.24 L802.783 1384.24 L802.783 86.1857 L776.373 86.1857 L776.373 86.1857  Z\n",
       "  \" fill=\"#e26f46\" fill-rule=\"evenodd\" fill-opacity=\"1\"/>\n",
       "<polyline clip-path=\"url(#clip042)\" style=\"stroke:#000000; stroke-width:4; stroke-opacity:1; fill:none\" points=\"\n",
       "  776.373,86.1857 776.373,1384.24 802.783,1384.24 802.783,86.1857 776.373,86.1857 \n",
       "  \"/>\n",
       "<path clip-path=\"url(#clip042)\" d=\"\n",
       "M802.783 399.509 L802.783 1384.24 L829.193 1384.24 L829.193 399.509 L802.783 399.509 L802.783 399.509  Z\n",
       "  \" fill=\"#e26f46\" fill-rule=\"evenodd\" fill-opacity=\"1\"/>\n",
       "<polyline clip-path=\"url(#clip042)\" style=\"stroke:#000000; stroke-width:4; stroke-opacity:1; fill:none\" points=\"\n",
       "  802.783,399.509 802.783,1384.24 829.193,1384.24 829.193,399.509 802.783,399.509 \n",
       "  \"/>\n",
       "<path clip-path=\"url(#clip042)\" d=\"\n",
       "M829.193 354.748 L829.193 1384.24 L855.604 1384.24 L855.604 354.748 L829.193 354.748 L829.193 354.748  Z\n",
       "  \" fill=\"#e26f46\" fill-rule=\"evenodd\" fill-opacity=\"1\"/>\n",
       "<polyline clip-path=\"url(#clip042)\" style=\"stroke:#000000; stroke-width:4; stroke-opacity:1; fill:none\" points=\"\n",
       "  829.193,354.748 829.193,1384.24 855.604,1384.24 855.604,354.748 829.193,354.748 \n",
       "  \"/>\n",
       "<path clip-path=\"url(#clip042)\" d=\"\n",
       "M855.604 802.353 L855.604 1384.24 L882.014 1384.24 L882.014 802.353 L855.604 802.353 L855.604 802.353  Z\n",
       "  \" fill=\"#e26f46\" fill-rule=\"evenodd\" fill-opacity=\"1\"/>\n",
       "<polyline clip-path=\"url(#clip042)\" style=\"stroke:#000000; stroke-width:4; stroke-opacity:1; fill:none\" points=\"\n",
       "  855.604,802.353 855.604,1384.24 882.014,1384.24 882.014,802.353 855.604,802.353 \n",
       "  \"/>\n",
       "<path clip-path=\"url(#clip042)\" d=\"\n",
       "M882.014 668.071 L882.014 1384.24 L908.424 1384.24 L908.424 668.071 L882.014 668.071 L882.014 668.071  Z\n",
       "  \" fill=\"#e26f46\" fill-rule=\"evenodd\" fill-opacity=\"1\"/>\n",
       "<polyline clip-path=\"url(#clip042)\" style=\"stroke:#000000; stroke-width:4; stroke-opacity:1; fill:none\" points=\"\n",
       "  882.014,668.071 882.014,1384.24 908.424,1384.24 908.424,668.071 882.014,668.071 \n",
       "  \"/>\n",
       "<path clip-path=\"url(#clip042)\" d=\"\n",
       "M908.424 891.873 L908.424 1384.24 L934.835 1384.24 L934.835 891.873 L908.424 891.873 L908.424 891.873  Z\n",
       "  \" fill=\"#e26f46\" fill-rule=\"evenodd\" fill-opacity=\"1\"/>\n",
       "<polyline clip-path=\"url(#clip042)\" style=\"stroke:#000000; stroke-width:4; stroke-opacity:1; fill:none\" points=\"\n",
       "  908.424,891.873 908.424,1384.24 934.835,1384.24 934.835,891.873 908.424,891.873 \n",
       "  \"/>\n",
       "<path clip-path=\"url(#clip042)\" d=\"\n",
       "M934.835 444.269 L934.835 1384.24 L961.245 1384.24 L961.245 444.269 L934.835 444.269 L934.835 444.269  Z\n",
       "  \" fill=\"#e26f46\" fill-rule=\"evenodd\" fill-opacity=\"1\"/>\n",
       "<polyline clip-path=\"url(#clip042)\" style=\"stroke:#000000; stroke-width:4; stroke-opacity:1; fill:none\" points=\"\n",
       "  934.835,444.269 934.835,1384.24 961.245,1384.24 961.245,444.269 934.835,444.269 \n",
       "  \"/>\n",
       "<path clip-path=\"url(#clip042)\" d=\"\n",
       "M961.245 623.311 L961.245 1384.24 L987.656 1384.24 L987.656 623.311 L961.245 623.311 L961.245 623.311  Z\n",
       "  \" fill=\"#e26f46\" fill-rule=\"evenodd\" fill-opacity=\"1\"/>\n",
       "<polyline clip-path=\"url(#clip042)\" style=\"stroke:#000000; stroke-width:4; stroke-opacity:1; fill:none\" points=\"\n",
       "  961.245,623.311 961.245,1384.24 987.656,1384.24 987.656,623.311 961.245,623.311 \n",
       "  \"/>\n",
       "<path clip-path=\"url(#clip042)\" d=\"\n",
       "M987.656 578.55 L987.656 1384.24 L1014.07 1384.24 L1014.07 578.55 L987.656 578.55 L987.656 578.55  Z\n",
       "  \" fill=\"#e26f46\" fill-rule=\"evenodd\" fill-opacity=\"1\"/>\n",
       "<polyline clip-path=\"url(#clip042)\" style=\"stroke:#000000; stroke-width:4; stroke-opacity:1; fill:none\" points=\"\n",
       "  987.656,578.55 987.656,1384.24 1014.07,1384.24 1014.07,578.55 987.656,578.55 \n",
       "  \"/>\n",
       "<path clip-path=\"url(#clip042)\" d=\"\n",
       "M1014.07 1026.15 L1014.07 1384.24 L1040.48 1384.24 L1040.48 1026.15 L1014.07 1026.15 L1014.07 1026.15  Z\n",
       "  \" fill=\"#e26f46\" fill-rule=\"evenodd\" fill-opacity=\"1\"/>\n",
       "<polyline clip-path=\"url(#clip042)\" style=\"stroke:#000000; stroke-width:4; stroke-opacity:1; fill:none\" points=\"\n",
       "  1014.07,1026.15 1014.07,1384.24 1040.48,1384.24 1040.48,1026.15 1014.07,1026.15 \n",
       "  \"/>\n",
       "<path clip-path=\"url(#clip042)\" d=\"\n",
       "M1040.48 802.353 L1040.48 1384.24 L1066.89 1384.24 L1066.89 802.353 L1040.48 802.353 L1040.48 802.353  Z\n",
       "  \" fill=\"#e26f46\" fill-rule=\"evenodd\" fill-opacity=\"1\"/>\n",
       "<polyline clip-path=\"url(#clip042)\" style=\"stroke:#000000; stroke-width:4; stroke-opacity:1; fill:none\" points=\"\n",
       "  1040.48,802.353 1040.48,1384.24 1066.89,1384.24 1066.89,802.353 1040.48,802.353 \n",
       "  \"/>\n",
       "<path clip-path=\"url(#clip042)\" d=\"\n",
       "M1066.89 891.873 L1066.89 1384.24 L1093.3 1384.24 L1093.3 891.873 L1066.89 891.873 L1066.89 891.873  Z\n",
       "  \" fill=\"#e26f46\" fill-rule=\"evenodd\" fill-opacity=\"1\"/>\n",
       "<polyline clip-path=\"url(#clip042)\" style=\"stroke:#000000; stroke-width:4; stroke-opacity:1; fill:none\" points=\"\n",
       "  1066.89,891.873 1066.89,1384.24 1093.3,1384.24 1093.3,891.873 1066.89,891.873 \n",
       "  \"/>\n",
       "<path clip-path=\"url(#clip042)\" d=\"\n",
       "M1093.3 802.353 L1093.3 1384.24 L1119.71 1384.24 L1119.71 802.353 L1093.3 802.353 L1093.3 802.353  Z\n",
       "  \" fill=\"#e26f46\" fill-rule=\"evenodd\" fill-opacity=\"1\"/>\n",
       "<polyline clip-path=\"url(#clip042)\" style=\"stroke:#000000; stroke-width:4; stroke-opacity:1; fill:none\" points=\"\n",
       "  1093.3,802.353 1093.3,1384.24 1119.71,1384.24 1119.71,802.353 1093.3,802.353 \n",
       "  \"/>\n",
       "<path clip-path=\"url(#clip042)\" d=\"\n",
       "M1119.71 668.071 L1119.71 1384.24 L1146.12 1384.24 L1146.12 668.071 L1119.71 668.071 L1119.71 668.071  Z\n",
       "  \" fill=\"#e26f46\" fill-rule=\"evenodd\" fill-opacity=\"1\"/>\n",
       "<polyline clip-path=\"url(#clip042)\" style=\"stroke:#000000; stroke-width:4; stroke-opacity:1; fill:none\" points=\"\n",
       "  1119.71,668.071 1119.71,1384.24 1146.12,1384.24 1146.12,668.071 1119.71,668.071 \n",
       "  \"/>\n",
       "<path clip-path=\"url(#clip042)\" d=\"\n",
       "M1146.12 981.394 L1146.12 1384.24 L1172.53 1384.24 L1172.53 981.394 L1146.12 981.394 L1146.12 981.394  Z\n",
       "  \" fill=\"#e26f46\" fill-rule=\"evenodd\" fill-opacity=\"1\"/>\n",
       "<polyline clip-path=\"url(#clip042)\" style=\"stroke:#000000; stroke-width:4; stroke-opacity:1; fill:none\" points=\"\n",
       "  1146.12,981.394 1146.12,1384.24 1172.53,1384.24 1172.53,981.394 1146.12,981.394 \n",
       "  \"/>\n",
       "<path clip-path=\"url(#clip042)\" d=\"\n",
       "M1172.53 1115.68 L1172.53 1384.24 L1198.94 1384.24 L1198.94 1115.68 L1172.53 1115.68 L1172.53 1115.68  Z\n",
       "  \" fill=\"#e26f46\" fill-rule=\"evenodd\" fill-opacity=\"1\"/>\n",
       "<polyline clip-path=\"url(#clip042)\" style=\"stroke:#000000; stroke-width:4; stroke-opacity:1; fill:none\" points=\"\n",
       "  1172.53,1115.68 1172.53,1384.24 1198.94,1384.24 1198.94,1115.68 1172.53,1115.68 \n",
       "  \"/>\n",
       "<path clip-path=\"url(#clip042)\" d=\"\n",
       "M1198.94 936.634 L1198.94 1384.24 L1225.35 1384.24 L1225.35 936.634 L1198.94 936.634 L1198.94 936.634  Z\n",
       "  \" fill=\"#e26f46\" fill-rule=\"evenodd\" fill-opacity=\"1\"/>\n",
       "<polyline clip-path=\"url(#clip042)\" style=\"stroke:#000000; stroke-width:4; stroke-opacity:1; fill:none\" points=\"\n",
       "  1198.94,936.634 1198.94,1384.24 1225.35,1384.24 1225.35,936.634 1198.94,936.634 \n",
       "  \"/>\n",
       "<path clip-path=\"url(#clip042)\" d=\"\n",
       "M1225.35 847.113 L1225.35 1384.24 L1251.76 1384.24 L1251.76 847.113 L1225.35 847.113 L1225.35 847.113  Z\n",
       "  \" fill=\"#e26f46\" fill-rule=\"evenodd\" fill-opacity=\"1\"/>\n",
       "<polyline clip-path=\"url(#clip042)\" style=\"stroke:#000000; stroke-width:4; stroke-opacity:1; fill:none\" points=\"\n",
       "  1225.35,847.113 1225.35,1384.24 1251.76,1384.24 1251.76,847.113 1225.35,847.113 \n",
       "  \"/>\n",
       "<path clip-path=\"url(#clip042)\" d=\"\n",
       "M1251.76 1070.92 L1251.76 1384.24 L1278.17 1384.24 L1278.17 1070.92 L1251.76 1070.92 L1251.76 1070.92  Z\n",
       "  \" fill=\"#e26f46\" fill-rule=\"evenodd\" fill-opacity=\"1\"/>\n",
       "<polyline clip-path=\"url(#clip042)\" style=\"stroke:#000000; stroke-width:4; stroke-opacity:1; fill:none\" points=\"\n",
       "  1251.76,1070.92 1251.76,1384.24 1278.17,1384.24 1278.17,1070.92 1251.76,1070.92 \n",
       "  \"/>\n",
       "<path clip-path=\"url(#clip042)\" d=\"\n",
       "M1278.17 1026.15 L1278.17 1384.24 L1304.58 1384.24 L1304.58 1026.15 L1278.17 1026.15 L1278.17 1026.15  Z\n",
       "  \" fill=\"#e26f46\" fill-rule=\"evenodd\" fill-opacity=\"1\"/>\n",
       "<polyline clip-path=\"url(#clip042)\" style=\"stroke:#000000; stroke-width:4; stroke-opacity:1; fill:none\" points=\"\n",
       "  1278.17,1026.15 1278.17,1384.24 1304.58,1384.24 1304.58,1026.15 1278.17,1026.15 \n",
       "  \"/>\n",
       "<path clip-path=\"url(#clip042)\" d=\"\n",
       "M1304.58 981.394 L1304.58 1384.24 L1330.99 1384.24 L1330.99 981.394 L1304.58 981.394 L1304.58 981.394  Z\n",
       "  \" fill=\"#e26f46\" fill-rule=\"evenodd\" fill-opacity=\"1\"/>\n",
       "<polyline clip-path=\"url(#clip042)\" style=\"stroke:#000000; stroke-width:4; stroke-opacity:1; fill:none\" points=\"\n",
       "  1304.58,981.394 1304.58,1384.24 1330.99,1384.24 1330.99,981.394 1304.58,981.394 \n",
       "  \"/>\n",
       "<path clip-path=\"url(#clip042)\" d=\"\n",
       "M1330.99 1115.68 L1330.99 1384.24 L1357.4 1384.24 L1357.4 1115.68 L1330.99 1115.68 L1330.99 1115.68  Z\n",
       "  \" fill=\"#e26f46\" fill-rule=\"evenodd\" fill-opacity=\"1\"/>\n",
       "<polyline clip-path=\"url(#clip042)\" style=\"stroke:#000000; stroke-width:4; stroke-opacity:1; fill:none\" points=\"\n",
       "  1330.99,1115.68 1330.99,1384.24 1357.4,1384.24 1357.4,1115.68 1330.99,1115.68 \n",
       "  \"/>\n",
       "<path clip-path=\"url(#clip042)\" d=\"\n",
       "M1357.4 1160.44 L1357.4 1384.24 L1383.81 1384.24 L1383.81 1160.44 L1357.4 1160.44 L1357.4 1160.44  Z\n",
       "  \" fill=\"#e26f46\" fill-rule=\"evenodd\" fill-opacity=\"1\"/>\n",
       "<polyline clip-path=\"url(#clip042)\" style=\"stroke:#000000; stroke-width:4; stroke-opacity:1; fill:none\" points=\"\n",
       "  1357.4,1160.44 1357.4,1384.24 1383.81,1384.24 1383.81,1160.44 1357.4,1160.44 \n",
       "  \"/>\n",
       "<path clip-path=\"url(#clip042)\" d=\"\n",
       "M1383.81 1160.44 L1383.81 1384.24 L1410.22 1384.24 L1410.22 1160.44 L1383.81 1160.44 L1383.81 1160.44  Z\n",
       "  \" fill=\"#e26f46\" fill-rule=\"evenodd\" fill-opacity=\"1\"/>\n",
       "<polyline clip-path=\"url(#clip042)\" style=\"stroke:#000000; stroke-width:4; stroke-opacity:1; fill:none\" points=\"\n",
       "  1383.81,1160.44 1383.81,1384.24 1410.22,1384.24 1410.22,1160.44 1383.81,1160.44 \n",
       "  \"/>\n",
       "<path clip-path=\"url(#clip042)\" d=\"\n",
       "M1410.22 1160.44 L1410.22 1384.24 L1436.63 1384.24 L1436.63 1160.44 L1410.22 1160.44 L1410.22 1160.44  Z\n",
       "  \" fill=\"#e26f46\" fill-rule=\"evenodd\" fill-opacity=\"1\"/>\n",
       "<polyline clip-path=\"url(#clip042)\" style=\"stroke:#000000; stroke-width:4; stroke-opacity:1; fill:none\" points=\"\n",
       "  1410.22,1160.44 1410.22,1384.24 1436.63,1384.24 1436.63,1160.44 1410.22,1160.44 \n",
       "  \"/>\n",
       "<path clip-path=\"url(#clip042)\" d=\"\n",
       "M1436.63 981.394 L1436.63 1384.24 L1463.04 1384.24 L1463.04 981.394 L1436.63 981.394 L1436.63 981.394  Z\n",
       "  \" fill=\"#e26f46\" fill-rule=\"evenodd\" fill-opacity=\"1\"/>\n",
       "<polyline clip-path=\"url(#clip042)\" style=\"stroke:#000000; stroke-width:4; stroke-opacity:1; fill:none\" points=\"\n",
       "  1436.63,981.394 1436.63,1384.24 1463.04,1384.24 1463.04,981.394 1436.63,981.394 \n",
       "  \"/>\n",
       "<path clip-path=\"url(#clip042)\" d=\"\n",
       "M1463.04 936.634 L1463.04 1384.24 L1489.45 1384.24 L1489.45 936.634 L1463.04 936.634 L1463.04 936.634  Z\n",
       "  \" fill=\"#e26f46\" fill-rule=\"evenodd\" fill-opacity=\"1\"/>\n",
       "<polyline clip-path=\"url(#clip042)\" style=\"stroke:#000000; stroke-width:4; stroke-opacity:1; fill:none\" points=\"\n",
       "  1463.04,936.634 1463.04,1384.24 1489.45,1384.24 1489.45,936.634 1463.04,936.634 \n",
       "  \"/>\n",
       "<path clip-path=\"url(#clip042)\" d=\"\n",
       "M1489.45 1249.96 L1489.45 1384.24 L1515.86 1384.24 L1515.86 1249.96 L1489.45 1249.96 L1489.45 1249.96  Z\n",
       "  \" fill=\"#e26f46\" fill-rule=\"evenodd\" fill-opacity=\"1\"/>\n",
       "<polyline clip-path=\"url(#clip042)\" style=\"stroke:#000000; stroke-width:4; stroke-opacity:1; fill:none\" points=\"\n",
       "  1489.45,1249.96 1489.45,1384.24 1515.86,1384.24 1515.86,1249.96 1489.45,1249.96 \n",
       "  \"/>\n",
       "<path clip-path=\"url(#clip042)\" d=\"\n",
       "M1515.86 1026.15 L1515.86 1384.24 L1542.27 1384.24 L1542.27 1026.15 L1515.86 1026.15 L1515.86 1026.15  Z\n",
       "  \" fill=\"#e26f46\" fill-rule=\"evenodd\" fill-opacity=\"1\"/>\n",
       "<polyline clip-path=\"url(#clip042)\" style=\"stroke:#000000; stroke-width:4; stroke-opacity:1; fill:none\" points=\"\n",
       "  1515.86,1026.15 1515.86,1384.24 1542.27,1384.24 1542.27,1026.15 1515.86,1026.15 \n",
       "  \"/>\n",
       "<path clip-path=\"url(#clip042)\" d=\"\n",
       "M1542.27 1070.92 L1542.27 1384.24 L1568.68 1384.24 L1568.68 1070.92 L1542.27 1070.92 L1542.27 1070.92  Z\n",
       "  \" fill=\"#e26f46\" fill-rule=\"evenodd\" fill-opacity=\"1\"/>\n",
       "<polyline clip-path=\"url(#clip042)\" style=\"stroke:#000000; stroke-width:4; stroke-opacity:1; fill:none\" points=\"\n",
       "  1542.27,1070.92 1542.27,1384.24 1568.68,1384.24 1568.68,1070.92 1542.27,1070.92 \n",
       "  \"/>\n",
       "<path clip-path=\"url(#clip042)\" d=\"\n",
       "M1568.68 1115.68 L1568.68 1384.24 L1595.09 1384.24 L1595.09 1115.68 L1568.68 1115.68 L1568.68 1115.68  Z\n",
       "  \" fill=\"#e26f46\" fill-rule=\"evenodd\" fill-opacity=\"1\"/>\n",
       "<polyline clip-path=\"url(#clip042)\" style=\"stroke:#000000; stroke-width:4; stroke-opacity:1; fill:none\" points=\"\n",
       "  1568.68,1115.68 1568.68,1384.24 1595.09,1384.24 1595.09,1115.68 1568.68,1115.68 \n",
       "  \"/>\n",
       "<path clip-path=\"url(#clip042)\" d=\"\n",
       "M1595.09 1294.72 L1595.09 1384.24 L1621.5 1384.24 L1621.5 1294.72 L1595.09 1294.72 L1595.09 1294.72  Z\n",
       "  \" fill=\"#e26f46\" fill-rule=\"evenodd\" fill-opacity=\"1\"/>\n",
       "<polyline clip-path=\"url(#clip042)\" style=\"stroke:#000000; stroke-width:4; stroke-opacity:1; fill:none\" points=\"\n",
       "  1595.09,1294.72 1595.09,1384.24 1621.5,1384.24 1621.5,1294.72 1595.09,1294.72 \n",
       "  \"/>\n",
       "<path clip-path=\"url(#clip042)\" d=\"\n",
       "M1621.5 1249.96 L1621.5 1384.24 L1647.91 1384.24 L1647.91 1249.96 L1621.5 1249.96 L1621.5 1249.96  Z\n",
       "  \" fill=\"#e26f46\" fill-rule=\"evenodd\" fill-opacity=\"1\"/>\n",
       "<polyline clip-path=\"url(#clip042)\" style=\"stroke:#000000; stroke-width:4; stroke-opacity:1; fill:none\" points=\"\n",
       "  1621.5,1249.96 1621.5,1384.24 1647.91,1384.24 1647.91,1249.96 1621.5,1249.96 \n",
       "  \"/>\n",
       "<path clip-path=\"url(#clip042)\" d=\"\n",
       "M1647.91 1339.48 L1647.91 1384.24 L1674.32 1384.24 L1674.32 1339.48 L1647.91 1339.48 L1647.91 1339.48  Z\n",
       "  \" fill=\"#e26f46\" fill-rule=\"evenodd\" fill-opacity=\"1\"/>\n",
       "<polyline clip-path=\"url(#clip042)\" style=\"stroke:#000000; stroke-width:4; stroke-opacity:1; fill:none\" points=\"\n",
       "  1647.91,1339.48 1647.91,1384.24 1674.32,1384.24 1674.32,1339.48 1647.91,1339.48 \n",
       "  \"/>\n",
       "<path clip-path=\"url(#clip042)\" d=\"\n",
       "M1674.32 1249.96 L1674.32 1384.24 L1700.73 1384.24 L1700.73 1249.96 L1674.32 1249.96 L1674.32 1249.96  Z\n",
       "  \" fill=\"#e26f46\" fill-rule=\"evenodd\" fill-opacity=\"1\"/>\n",
       "<polyline clip-path=\"url(#clip042)\" style=\"stroke:#000000; stroke-width:4; stroke-opacity:1; fill:none\" points=\"\n",
       "  1674.32,1249.96 1674.32,1384.24 1700.73,1384.24 1700.73,1249.96 1674.32,1249.96 \n",
       "  \"/>\n",
       "<path clip-path=\"url(#clip042)\" d=\"\n",
       "M1700.73 1339.48 L1700.73 1384.24 L1727.15 1384.24 L1727.15 1339.48 L1700.73 1339.48 L1700.73 1339.48  Z\n",
       "  \" fill=\"#e26f46\" fill-rule=\"evenodd\" fill-opacity=\"1\"/>\n",
       "<polyline clip-path=\"url(#clip042)\" style=\"stroke:#000000; stroke-width:4; stroke-opacity:1; fill:none\" points=\"\n",
       "  1700.73,1339.48 1700.73,1384.24 1727.15,1384.24 1727.15,1339.48 1700.73,1339.48 \n",
       "  \"/>\n",
       "<path clip-path=\"url(#clip042)\" d=\"\n",
       "M1727.15 1384.24 L1727.15 1384.24 L1753.56 1384.24 L1753.56 1384.24 L1727.15 1384.24 L1727.15 1384.24  Z\n",
       "  \" fill=\"#e26f46\" fill-rule=\"evenodd\" fill-opacity=\"1\"/>\n",
       "<polyline clip-path=\"url(#clip042)\" style=\"stroke:#000000; stroke-width:4; stroke-opacity:1; fill:none\" points=\"\n",
       "  1727.15,1384.24 1727.15,1384.24 1753.56,1384.24 1727.15,1384.24 \n",
       "  \"/>\n",
       "<path clip-path=\"url(#clip042)\" d=\"\n",
       "M1753.56 1294.72 L1753.56 1384.24 L1779.97 1384.24 L1779.97 1294.72 L1753.56 1294.72 L1753.56 1294.72  Z\n",
       "  \" fill=\"#e26f46\" fill-rule=\"evenodd\" fill-opacity=\"1\"/>\n",
       "<polyline clip-path=\"url(#clip042)\" style=\"stroke:#000000; stroke-width:4; stroke-opacity:1; fill:none\" points=\"\n",
       "  1753.56,1294.72 1753.56,1384.24 1779.97,1384.24 1779.97,1294.72 1753.56,1294.72 \n",
       "  \"/>\n",
       "<path clip-path=\"url(#clip042)\" d=\"\n",
       "M1779.97 1339.48 L1779.97 1384.24 L1806.38 1384.24 L1806.38 1339.48 L1779.97 1339.48 L1779.97 1339.48  Z\n",
       "  \" fill=\"#e26f46\" fill-rule=\"evenodd\" fill-opacity=\"1\"/>\n",
       "<polyline clip-path=\"url(#clip042)\" style=\"stroke:#000000; stroke-width:4; stroke-opacity:1; fill:none\" points=\"\n",
       "  1779.97,1339.48 1779.97,1384.24 1806.38,1384.24 1806.38,1339.48 1779.97,1339.48 \n",
       "  \"/>\n",
       "<polyline clip-path=\"url(#clip042)\" style=\"stroke:#3da44d; stroke-width:4; stroke-opacity:1; fill:none\" points=\"\n",
       "  210.251,1384.21 220.704,1384.21 231.157,1384.2 241.61,1384.18 252.062,1384.15 262.515,1384.11 272.968,1384.05 283.421,1383.96 293.873,1383.84 304.326,1383.66 \n",
       "  314.779,1383.42 325.232,1383.08 335.685,1382.62 346.137,1382.01 356.59,1381.21 367.043,1380.15 377.496,1378.78 387.948,1377.04 398.401,1374.83 408.854,1372.08 \n",
       "  419.307,1368.69 429.76,1364.56 440.212,1359.58 450.665,1353.65 461.118,1346.68 471.571,1338.57 482.023,1329.26 492.476,1318.68 502.929,1306.82 513.382,1293.67 \n",
       "  523.834,1279.26 534.287,1263.66 544.74,1246.98 555.193,1229.35 565.646,1210.95 576.098,1191.98 586.551,1172.66 597.004,1153.22 607.457,1133.92 617.909,1114.98 \n",
       "  628.362,1096.65 638.815,1079.12 649.268,1062.58 659.721,1047.16 670.173,1032.99 680.626,1020.11 691.079,1008.56 701.532,998.304 711.984,989.302 722.437,981.461 \n",
       "  732.89,974.669 743.343,968.795 753.795,963.697 764.248,959.224 774.701,955.232 785.154,951.577 795.607,948.13 806.059,944.773 816.512,941.407 826.965,937.948 \n",
       "  837.418,934.332 847.87,930.513 858.323,926.463 868.776,922.175 879.229,917.657 889.681,912.937 900.134,908.056 910.587,903.074 921.04,898.062 931.493,893.101 \n",
       "  941.945,888.282 952.398,883.7 962.851,879.452 973.304,875.631 983.756,872.323 994.209,869.602 1004.66,867.529 1015.11,866.147 1025.57,865.478 1036.02,865.524 \n",
       "  1046.47,866.265 1056.93,867.662 1067.38,869.654 1077.83,872.165 1088.28,875.106 1098.74,878.374 1109.19,881.86 1119.64,885.451 1130.1,889.035 1140.55,892.501 \n",
       "  1151,895.743 1161.45,898.667 1171.91,901.188 1182.36,903.237 1192.81,904.76 1203.26,905.721 1213.72,906.107 1224.17,905.922 1234.62,905.196 1245.08,903.978 \n",
       "  1255.53,902.339 1265.98,900.369 1276.43,898.175 1286.89,895.876 1297.34,893.598 1307.79,891.47 1318.25,889.617 1328.7,888.153 1339.15,887.178 1349.6,886.772 \n",
       "  1360.06,886.991 1370.51,887.865 1380.96,889.401 1391.41,891.579 1401.87,894.359 1412.32,897.686 1422.77,901.494 1433.23,905.711 1443.68,910.267 1454.13,915.098 \n",
       "  1464.58,920.151 1475.04,925.383 1485.49,930.766 1495.94,936.282 1506.39,941.924 1516.85,947.688 1527.3,953.575 1537.75,959.579 1548.21,965.688 1558.66,971.879 \n",
       "  1569.11,978.119 1579.56,984.359 1590.02,990.539 1600.47,996.593 1610.92,1002.44 1621.38,1008.02 1631.83,1013.25 1642.28,1018.07 1652.73,1022.43 1663.19,1026.31 \n",
       "  1673.64,1029.69 1684.09,1032.6 1694.54,1035.06 1705,1037.15 1715.45,1038.95 1725.9,1040.58 1736.36,1042.17 1746.81,1043.86 1757.26,1045.82 1767.71,1048.21 \n",
       "  1778.17,1051.2 1788.62,1054.96 1799.07,1059.64 1809.53,1065.36 1819.98,1072.25 1830.43,1080.38 1840.88,1089.79 1851.34,1100.49 1861.79,1112.43 1872.24,1125.53 \n",
       "  1882.69,1139.68 1893.15,1154.72 1903.6,1170.45 1914.05,1186.67 1924.51,1203.14 1934.96,1219.64 1945.41,1235.93 1955.86,1251.79 1966.32,1267.04 1976.77,1281.5 \n",
       "  1987.22,1295.02 1997.68,1307.52 2008.13,1318.9 2018.58,1329.16 2029.03,1338.27 2039.49,1346.26 2049.94,1353.18 2060.39,1359.11 2070.84,1364.12 2081.3,1368.3 \n",
       "  2091.75,1371.74 2102.2,1374.55 2112.66,1376.81 2123.11,1378.6 2133.56,1380 2144.01,1381.1 2154.47,1381.93 2164.92,1382.56 2175.37,1383.03 2185.83,1383.38 \n",
       "  2196.28,1383.64 2206.73,1383.82 2217.18,1383.95 2227.64,1384.04 2238.09,1384.11 2248.54,1384.15 2258.99,1384.18 2269.45,1384.2 2279.9,1384.21 2290.35,1384.21 \n",
       "  \n",
       "  \"/>\n",
       "<polyline clip-path=\"url(#clip042)\" style=\"stroke:#c271d2; stroke-width:4; stroke-opacity:1; fill:none\" points=\"\n",
       "  297.814,1384.21 306.778,1384.19 315.742,1384.17 324.705,1384.13 333.669,1384.07 342.633,1383.97 351.596,1383.83 360.56,1383.62 369.524,1383.31 378.488,1382.86 \n",
       "  387.451,1382.23 396.415,1381.35 405.379,1380.14 414.342,1378.49 423.306,1376.29 432.27,1373.37 441.234,1369.58 450.197,1364.72 459.161,1358.56 468.125,1350.86 \n",
       "  477.089,1341.4 486.052,1329.9 495.016,1316.13 503.98,1299.87 512.943,1280.92 521.907,1259.14 530.871,1234.45 539.835,1206.83 548.798,1176.33 557.762,1143.11 \n",
       "  566.726,1107.39 575.69,1069.49 584.653,1029.77 593.617,988.68 602.581,946.69 611.544,904.299 620.508,862.006 629.472,820.295 638.436,779.613 647.399,740.362 \n",
       "  656.363,702.886 665.327,667.468 674.29,634.331 683.254,603.642 692.218,575.524 701.182,550.06 710.145,527.31 719.109,507.32 728.073,490.129 737.037,475.771 \n",
       "  746,464.281 754.964,455.686 763.928,450.004 772.891,447.226 781.855,447.314 790.819,450.186 799.783,455.705 808.746,463.682 817.71,473.869 826.674,485.965 \n",
       "  835.638,499.627 844.601,514.48 853.565,530.14 862.529,546.225 871.492,562.382 880.456,578.297 889.42,593.714 898.384,608.442 907.347,622.363 916.311,635.427 \n",
       "  925.275,647.649 934.239,659.098 943.202,669.883 952.166,680.14 961.13,690.012 970.093,699.641 979.057,709.149 988.021,718.638 996.985,728.177 1005.95,737.806 \n",
       "  1014.91,747.538 1023.88,757.365 1032.84,767.263 1041.8,777.198 1050.77,787.139 1059.73,797.058 1068.69,806.936 1077.66,816.763 1086.62,826.539 1095.59,836.272 \n",
       "  1104.55,845.972 1113.51,855.65 1122.48,865.314 1131.44,874.964 1140.4,884.594 1149.37,894.188 1158.33,903.726 1167.3,913.183 1176.26,922.533 1185.22,931.754 \n",
       "  1194.19,940.827 1203.15,949.741 1212.11,958.493 1221.08,967.086 1230.04,975.53 1239.01,983.838 1247.97,992.023 1256.93,1000.09 1265.9,1008.05 1274.86,1015.89 \n",
       "  1283.82,1023.58 1292.79,1031.1 1301.75,1038.4 1310.71,1045.42 1319.68,1052.09 1328.64,1058.36 1337.61,1064.15 1346.57,1069.39 1355.53,1074.03 1364.5,1078.04 \n",
       "  1373.46,1081.39 1382.42,1084.11 1391.39,1086.2 1400.35,1087.75 1409.32,1088.81 1418.28,1089.51 1427.24,1089.95 1436.21,1090.29 1445.17,1090.66 1454.13,1091.21 \n",
       "  1463.1,1092.08 1472.06,1093.42 1481.03,1095.35 1489.99,1097.97 1498.95,1101.38 1507.92,1105.63 1516.88,1110.77 1525.84,1116.82 1534.81,1123.77 1543.77,1131.57 \n",
       "  1552.74,1140.17 1561.7,1149.48 1570.66,1159.41 1579.63,1169.84 1588.59,1180.63 1597.55,1191.66 1606.52,1202.78 1615.48,1213.86 1624.45,1224.78 1633.41,1235.43 \n",
       "  1642.37,1245.71 1651.34,1255.54 1660.3,1264.87 1669.26,1273.67 1678.23,1281.91 1687.19,1289.59 1696.16,1296.72 1705.12,1303.34 1714.08,1309.47 1723.05,1315.16 \n",
       "  1732.01,1320.45 1740.97,1325.39 1749.94,1330.02 1758.9,1334.39 1767.86,1338.52 1776.83,1342.44 1785.79,1346.19 1794.76,1349.77 1803.72,1353.19 1812.68,1356.45 \n",
       "  1821.65,1359.55 1830.61,1362.47 1839.57,1365.22 1848.54,1367.77 1857.5,1370.12 1866.47,1372.26 1875.43,1374.19 1884.39,1375.9 1893.36,1377.4 1902.32,1378.7 \n",
       "  1911.28,1379.8 1920.25,1380.73 1929.21,1381.5 1938.18,1382.13 1947.14,1382.64 1956.1,1383.04 1965.07,1383.35 1974.03,1383.59 1982.99,1383.77 1991.96,1383.91 \n",
       "  2000.92,1384.01 2009.89,1384.08 2018.85,1384.13 2027.81,1384.16 2036.78,1384.19 2045.74,1384.2 2054.7,1384.21 2063.67,1384.22 2072.63,1384.22 2081.6,1384.22 \n",
       "  \n",
       "  \"/>\n",
       "<path clip-path=\"url(#clip040)\" d=\"\n",
       "M1446.59 395.509 L2279.26 395.509 L2279.26 93.1086 L1446.59 93.1086  Z\n",
       "  \" fill=\"#ffffff\" fill-rule=\"evenodd\" fill-opacity=\"1\"/>\n",
       "<polyline clip-path=\"url(#clip040)\" style=\"stroke:#000000; stroke-width:4; stroke-opacity:1; fill:none\" points=\"\n",
       "  1446.59,395.509 2279.26,395.509 2279.26,93.1086 1446.59,93.1086 1446.59,395.509 \n",
       "  \"/>\n",
       "<path clip-path=\"url(#clip040)\" d=\"\n",
       "M1471.09 177.781 L1618.08 177.781 L1618.08 129.397 L1471.09 129.397 L1471.09 177.781  Z\n",
       "  \" fill=\"#009af9\" fill-rule=\"evenodd\" fill-opacity=\"1\"/>\n",
       "<polyline clip-path=\"url(#clip040)\" style=\"stroke:#000000; stroke-width:4; stroke-opacity:1; fill:none\" points=\"\n",
       "  1471.09,177.781 1618.08,177.781 1618.08,129.397 1471.09,129.397 1471.09,177.781 \n",
       "  \"/>\n",
       "<path clip-path=\"url(#clip040)\" d=\"M 0 0 M1647.25 140.151 L1647.25 153.137 L1653.13 153.137 Q1656.4 153.137 1658.18 151.447 Q1659.96 149.758 1659.96 146.633 Q1659.96 143.531 1658.18 141.841 Q1656.4 140.151 1653.13 140.151 L1647.25 140.151 M1642.58 136.309 L1653.13 136.309 Q1658.94 136.309 1661.91 138.947 Q1664.89 141.563 1664.89 146.633 Q1664.89 151.748 1661.91 154.364 Q1658.94 156.98 1653.13 156.98 L1647.25 156.98 L1647.25 170.869 L1642.58 170.869 L1642.58 136.309 Z\" fill=\"#000000\" fill-rule=\"evenodd\" fill-opacity=\"1\" /><path clip-path=\"url(#clip040)\" d=\"M 0 0 M1683.55 148.924 Q1682.83 148.508 1681.98 148.322 Q1681.14 148.114 1680.13 148.114 Q1676.51 148.114 1674.57 150.475 Q1672.65 152.813 1672.65 157.211 L1672.65 170.869 L1668.37 170.869 L1668.37 144.943 L1672.65 144.943 L1672.65 148.971 Q1673.99 146.609 1676.14 145.475 Q1678.3 144.318 1681.38 144.318 Q1681.81 144.318 1682.35 144.387 Q1682.88 144.434 1683.53 144.549 L1683.55 148.924 Z\" fill=\"#000000\" fill-rule=\"evenodd\" fill-opacity=\"1\" /><path clip-path=\"url(#clip040)\" d=\"M 0 0 M1688.02 144.943 L1692.28 144.943 L1692.28 170.869 L1688.02 170.869 L1688.02 144.943 M1688.02 134.85 L1692.28 134.85 L1692.28 140.244 L1688.02 140.244 L1688.02 134.85 Z\" fill=\"#000000\" fill-rule=\"evenodd\" fill-opacity=\"1\" /><path clip-path=\"url(#clip040)\" d=\"M 0 0 M1706.79 147.929 Q1703.37 147.929 1701.37 150.614 Q1699.38 153.276 1699.38 157.929 Q1699.38 162.582 1701.35 165.267 Q1703.34 167.929 1706.79 167.929 Q1710.19 167.929 1712.19 165.244 Q1714.18 162.558 1714.18 157.929 Q1714.18 153.322 1712.19 150.637 Q1710.19 147.929 1706.79 147.929 M1706.79 144.318 Q1712.35 144.318 1715.52 147.929 Q1718.69 151.54 1718.69 157.929 Q1718.69 164.295 1715.52 167.929 Q1712.35 171.54 1706.79 171.54 Q1701.21 171.54 1698.04 167.929 Q1694.89 164.295 1694.89 157.929 Q1694.89 151.54 1698.04 147.929 Q1701.21 144.318 1706.79 144.318 Z\" fill=\"#000000\" fill-rule=\"evenodd\" fill-opacity=\"1\" /><path clip-path=\"url(#clip040)\" d=\"M 0 0 M1738.18 148.924 Q1737.46 148.508 1736.61 148.322 Q1735.77 148.114 1734.75 148.114 Q1731.14 148.114 1729.2 150.475 Q1727.28 152.813 1727.28 157.211 L1727.28 170.869 L1723 170.869 L1723 144.943 L1727.28 144.943 L1727.28 148.971 Q1728.62 146.609 1730.77 145.475 Q1732.93 144.318 1736 144.318 Q1736.44 144.318 1736.98 144.387 Q1737.51 144.434 1738.16 144.549 L1738.18 148.924 Z\" fill=\"#000000\" fill-rule=\"evenodd\" fill-opacity=\"1\" /><path clip-path=\"url(#clip040)\" d=\"M 0 0 M1762.58 140.151 L1762.58 153.137 L1768.46 153.137 Q1771.72 153.137 1773.5 151.447 Q1775.29 149.758 1775.29 146.633 Q1775.29 143.531 1773.5 141.841 Q1771.72 140.151 1768.46 140.151 L1762.58 140.151 M1757.9 136.309 L1768.46 136.309 Q1774.27 136.309 1777.23 138.947 Q1780.22 141.563 1780.22 146.633 Q1780.22 151.748 1777.23 154.364 Q1774.27 156.98 1768.46 156.98 L1762.58 156.98 L1762.58 170.869 L1757.9 170.869 L1757.9 136.309 Z\" fill=\"#000000\" fill-rule=\"evenodd\" fill-opacity=\"1\" /><path clip-path=\"url(#clip040)\" d=\"M 0 0 M1798.87 148.924 Q1798.16 148.508 1797.3 148.322 Q1796.47 148.114 1795.45 148.114 Q1791.84 148.114 1789.89 150.475 Q1787.97 152.813 1787.97 157.211 L1787.97 170.869 L1783.69 170.869 L1783.69 144.943 L1787.97 144.943 L1787.97 148.971 Q1789.31 146.609 1791.47 145.475 Q1793.62 144.318 1796.7 144.318 Q1797.14 144.318 1797.67 144.387 Q1798.2 144.434 1798.85 144.549 L1798.87 148.924 Z\" fill=\"#000000\" fill-rule=\"evenodd\" fill-opacity=\"1\" /><path clip-path=\"url(#clip040)\" d=\"M 0 0 M1824.48 156.841 L1824.48 158.924 L1804.89 158.924 Q1805.17 163.322 1807.53 165.637 Q1809.92 167.929 1814.15 167.929 Q1816.61 167.929 1818.9 167.327 Q1821.21 166.725 1823.48 165.521 L1823.48 169.549 Q1821.19 170.521 1818.78 171.031 Q1816.37 171.54 1813.9 171.54 Q1807.69 171.54 1804.06 167.929 Q1800.45 164.318 1800.45 158.16 Q1800.45 151.795 1803.87 148.068 Q1807.32 144.318 1813.16 144.318 Q1818.39 144.318 1821.42 147.697 Q1824.48 151.054 1824.48 156.841 M1820.22 155.591 Q1820.17 152.096 1818.25 150.012 Q1816.35 147.929 1813.2 147.929 Q1809.64 147.929 1807.49 149.943 Q1805.36 151.957 1805.03 155.614 L1820.22 155.591 Z\" fill=\"#000000\" fill-rule=\"evenodd\" fill-opacity=\"1\" /><path clip-path=\"url(#clip040)\" d=\"M 0 0 M1846 148.878 L1846 134.85 L1850.26 134.85 L1850.26 170.869 L1846 170.869 L1846 166.98 Q1844.66 169.295 1842.6 170.429 Q1840.56 171.54 1837.69 171.54 Q1832.99 171.54 1830.03 167.79 Q1827.09 164.04 1827.09 157.929 Q1827.09 151.818 1830.03 148.068 Q1832.99 144.318 1837.69 144.318 Q1840.56 144.318 1842.6 145.452 Q1844.66 146.563 1846 148.878 M1831.49 157.929 Q1831.49 162.628 1833.41 165.313 Q1835.36 167.975 1838.74 167.975 Q1842.11 167.975 1844.06 165.313 Q1846 162.628 1846 157.929 Q1846 153.23 1844.06 150.568 Q1842.11 147.883 1838.74 147.883 Q1835.36 147.883 1833.41 150.568 Q1831.49 153.23 1831.49 157.929 Z\" fill=\"#000000\" fill-rule=\"evenodd\" fill-opacity=\"1\" /><path clip-path=\"url(#clip040)\" d=\"M 0 0 M1854.73 144.943 L1858.99 144.943 L1858.99 170.869 L1854.73 170.869 L1854.73 144.943 M1854.73 134.85 L1858.99 134.85 L1858.99 140.244 L1854.73 140.244 L1854.73 134.85 Z\" fill=\"#000000\" fill-rule=\"evenodd\" fill-opacity=\"1\" /><path clip-path=\"url(#clip040)\" d=\"M 0 0 M1882.11 145.938 L1882.11 149.92 Q1880.31 148.924 1878.48 148.438 Q1876.67 147.929 1874.82 147.929 Q1870.68 147.929 1868.39 150.568 Q1866.1 153.184 1866.1 157.929 Q1866.1 162.674 1868.39 165.313 Q1870.68 167.929 1874.82 167.929 Q1876.67 167.929 1878.48 167.443 Q1880.31 166.933 1882.11 165.938 L1882.11 169.873 Q1880.33 170.707 1878.41 171.123 Q1876.51 171.54 1874.36 171.54 Q1868.5 171.54 1865.05 167.859 Q1861.61 164.179 1861.61 157.929 Q1861.61 151.586 1865.08 147.952 Q1868.57 144.318 1874.64 144.318 Q1876.61 144.318 1878.48 144.735 Q1880.36 145.128 1882.11 145.938 Z\" fill=\"#000000\" fill-rule=\"evenodd\" fill-opacity=\"1\" /><path clip-path=\"url(#clip040)\" d=\"M 0 0 M1890.8 137.582 L1890.8 144.943 L1899.57 144.943 L1899.57 148.253 L1890.8 148.253 L1890.8 162.327 Q1890.8 165.498 1891.65 166.401 Q1892.53 167.304 1895.19 167.304 L1899.57 167.304 L1899.57 170.869 L1895.19 170.869 Q1890.26 170.869 1888.39 169.04 Q1886.51 167.188 1886.51 162.327 L1886.51 148.253 L1883.39 148.253 L1883.39 144.943 L1886.51 144.943 L1886.51 137.582 L1890.8 137.582 Z\" fill=\"#000000\" fill-rule=\"evenodd\" fill-opacity=\"1\" /><path clip-path=\"url(#clip040)\" d=\"M 0 0 M1904.04 144.943 L1908.3 144.943 L1908.3 170.869 L1904.04 170.869 L1904.04 144.943 M1904.04 134.85 L1908.3 134.85 L1908.3 140.244 L1904.04 140.244 L1904.04 134.85 Z\" fill=\"#000000\" fill-rule=\"evenodd\" fill-opacity=\"1\" /><path clip-path=\"url(#clip040)\" d=\"M 0 0 M1909.71 144.943 L1914.22 144.943 L1922.32 166.702 L1930.42 144.943 L1934.94 144.943 L1925.22 170.869 L1919.43 170.869 L1909.71 144.943 Z\" fill=\"#000000\" fill-rule=\"evenodd\" fill-opacity=\"1\" /><path clip-path=\"url(#clip040)\" d=\"M 0 0 M1961.58 156.841 L1961.58 158.924 L1942 158.924 Q1942.28 163.322 1944.64 165.637 Q1947.02 167.929 1951.26 167.929 Q1953.71 167.929 1956 167.327 Q1958.32 166.725 1960.59 165.521 L1960.59 169.549 Q1958.29 170.521 1955.89 171.031 Q1953.48 171.54 1951 171.54 Q1944.8 171.54 1941.17 167.929 Q1937.55 164.318 1937.55 158.16 Q1937.55 151.795 1940.98 148.068 Q1944.43 144.318 1950.26 144.318 Q1955.49 144.318 1958.53 147.697 Q1961.58 151.054 1961.58 156.841 M1957.32 155.591 Q1957.28 152.096 1955.36 150.012 Q1953.46 147.929 1950.31 147.929 Q1946.74 147.929 1944.59 149.943 Q1942.46 151.957 1942.14 155.614 L1957.32 155.591 Z\" fill=\"#000000\" fill-rule=\"evenodd\" fill-opacity=\"1\" /><path clip-path=\"url(#clip040)\" d=\"M 0 0 M1985.98 140.151 L1985.98 167.026 L1991.63 167.026 Q1998.78 167.026 2002.09 163.785 Q2005.42 160.545 2005.42 153.554 Q2005.42 146.609 2002.09 143.392 Q1998.78 140.151 1991.63 140.151 L1985.98 140.151 M1981.3 136.309 L1990.91 136.309 Q2000.96 136.309 2005.66 140.498 Q2010.35 144.665 2010.35 153.554 Q2010.35 162.489 2005.63 166.679 Q2000.91 170.869 1990.91 170.869 L1981.3 170.869 L1981.3 136.309 Z\" fill=\"#000000\" fill-rule=\"evenodd\" fill-opacity=\"1\" /><path clip-path=\"url(#clip040)\" d=\"M 0 0 M2037 156.841 L2037 158.924 L2017.41 158.924 Q2017.69 163.322 2020.05 165.637 Q2022.44 167.929 2026.67 167.929 Q2029.13 167.929 2031.42 167.327 Q2033.73 166.725 2036 165.521 L2036 169.549 Q2033.71 170.521 2031.3 171.031 Q2028.9 171.54 2026.42 171.54 Q2020.22 171.54 2016.58 167.929 Q2012.97 164.318 2012.97 158.16 Q2012.97 151.795 2016.4 148.068 Q2019.85 144.318 2025.68 144.318 Q2030.91 144.318 2033.94 147.697 Q2037 151.054 2037 156.841 M2032.74 155.591 Q2032.69 152.096 2030.77 150.012 Q2028.87 147.929 2025.73 147.929 Q2022.16 147.929 2020.01 149.943 Q2017.88 151.957 2017.55 155.614 L2032.74 155.591 Z\" fill=\"#000000\" fill-rule=\"evenodd\" fill-opacity=\"1\" /><path clip-path=\"url(#clip040)\" d=\"M 0 0 M2063.02 155.221 L2063.02 170.869 L2058.76 170.869 L2058.76 155.359 Q2058.76 151.679 2057.32 149.85 Q2055.89 148.022 2053.02 148.022 Q2049.57 148.022 2047.58 150.221 Q2045.59 152.42 2045.59 156.216 L2045.59 170.869 L2041.3 170.869 L2041.3 144.943 L2045.59 144.943 L2045.59 148.971 Q2047.11 146.633 2049.17 145.475 Q2051.26 144.318 2053.97 144.318 Q2058.43 144.318 2060.72 147.096 Q2063.02 149.85 2063.02 155.221 Z\" fill=\"#000000\" fill-rule=\"evenodd\" fill-opacity=\"1\" /><path clip-path=\"url(#clip040)\" d=\"M 0 0 M2084.01 145.707 L2084.01 149.734 Q2082.21 148.809 2080.26 148.346 Q2078.32 147.883 2076.23 147.883 Q2073.06 147.883 2071.47 148.855 Q2069.89 149.827 2069.89 151.771 Q2069.89 153.253 2071.03 154.109 Q2072.16 154.943 2075.59 155.707 L2077.04 156.031 Q2081.58 157.003 2083.48 158.785 Q2085.4 160.545 2085.4 163.716 Q2085.4 167.327 2082.53 169.433 Q2079.68 171.54 2074.68 171.54 Q2072.6 171.54 2070.33 171.123 Q2068.09 170.73 2065.59 169.92 L2065.59 165.521 Q2067.95 166.748 2070.24 167.373 Q2072.53 167.975 2074.78 167.975 Q2077.79 167.975 2079.41 166.957 Q2081.03 165.915 2081.03 164.04 Q2081.03 162.304 2079.85 161.378 Q2078.69 160.452 2074.73 159.596 L2073.25 159.248 Q2069.29 158.415 2067.53 156.702 Q2065.77 154.966 2065.77 151.957 Q2065.77 148.299 2068.36 146.309 Q2070.96 144.318 2075.72 144.318 Q2078.09 144.318 2080.17 144.665 Q2082.25 145.012 2084.01 145.707 Z\" fill=\"#000000\" fill-rule=\"evenodd\" fill-opacity=\"1\" /><path clip-path=\"url(#clip040)\" d=\"M 0 0 M2089.87 144.943 L2094.13 144.943 L2094.13 170.869 L2089.87 170.869 L2089.87 144.943 M2089.87 134.85 L2094.13 134.85 L2094.13 140.244 L2089.87 140.244 L2089.87 134.85 Z\" fill=\"#000000\" fill-rule=\"evenodd\" fill-opacity=\"1\" /><path clip-path=\"url(#clip040)\" d=\"M 0 0 M2102.81 137.582 L2102.81 144.943 L2111.58 144.943 L2111.58 148.253 L2102.81 148.253 L2102.81 162.327 Q2102.81 165.498 2103.66 166.401 Q2104.54 167.304 2107.21 167.304 L2111.58 167.304 L2111.58 170.869 L2107.21 170.869 Q2102.28 170.869 2100.4 169.04 Q2098.53 167.188 2098.53 162.327 L2098.53 148.253 L2095.4 148.253 L2095.4 144.943 L2098.53 144.943 L2098.53 137.582 L2102.81 137.582 Z\" fill=\"#000000\" fill-rule=\"evenodd\" fill-opacity=\"1\" /><path clip-path=\"url(#clip040)\" d=\"M 0 0 M2126.84 173.276 Q2125.03 177.906 2123.32 179.318 Q2121.6 180.73 2118.73 180.73 L2115.33 180.73 L2115.33 177.165 L2117.83 177.165 Q2119.59 177.165 2120.56 176.332 Q2121.53 175.498 2122.72 172.396 L2123.48 170.452 L2112.99 144.943 L2117.51 144.943 L2125.61 165.221 L2133.71 144.943 L2138.22 144.943 L2126.84 173.276 Z\" fill=\"#000000\" fill-rule=\"evenodd\" fill-opacity=\"1\" /><path clip-path=\"url(#clip040)\" d=\"\n",
       "M1471.09 238.261 L1618.08 238.261 L1618.08 189.877 L1471.09 189.877 L1471.09 238.261  Z\n",
       "  \" fill=\"#e26f46\" fill-rule=\"evenodd\" fill-opacity=\"1\"/>\n",
       "<polyline clip-path=\"url(#clip040)\" style=\"stroke:#000000; stroke-width:4; stroke-opacity:1; fill:none\" points=\"\n",
       "  1471.09,238.261 1618.08,238.261 1618.08,189.877 1471.09,189.877 1471.09,238.261 \n",
       "  \"/>\n",
       "<path clip-path=\"url(#clip040)\" d=\"M 0 0 M1647.25 200.631 L1647.25 213.617 L1653.13 213.617 Q1656.4 213.617 1658.18 211.927 Q1659.96 210.238 1659.96 207.113 Q1659.96 204.011 1658.18 202.321 Q1656.4 200.631 1653.13 200.631 L1647.25 200.631 M1642.58 196.789 L1653.13 196.789 Q1658.94 196.789 1661.91 199.427 Q1664.89 202.043 1664.89 207.113 Q1664.89 212.228 1661.91 214.844 Q1658.94 217.46 1653.13 217.46 L1647.25 217.46 L1647.25 231.349 L1642.58 231.349 L1642.58 196.789 Z\" fill=\"#000000\" fill-rule=\"evenodd\" fill-opacity=\"1\" /><path clip-path=\"url(#clip040)\" d=\"M 0 0 M1677.72 208.409 Q1674.29 208.409 1672.3 211.094 Q1670.31 213.756 1670.31 218.409 Q1670.31 223.062 1672.28 225.747 Q1674.27 228.409 1677.72 228.409 Q1681.12 228.409 1683.11 225.724 Q1685.1 223.038 1685.1 218.409 Q1685.1 213.802 1683.11 211.117 Q1681.12 208.409 1677.72 208.409 M1677.72 204.798 Q1683.27 204.798 1686.44 208.409 Q1689.62 212.02 1689.62 218.409 Q1689.62 224.775 1686.44 228.409 Q1683.27 232.02 1677.72 232.02 Q1672.14 232.02 1668.97 228.409 Q1665.82 224.775 1665.82 218.409 Q1665.82 212.02 1668.97 208.409 Q1672.14 204.798 1677.72 204.798 Z\" fill=\"#000000\" fill-rule=\"evenodd\" fill-opacity=\"1\" /><path clip-path=\"url(#clip040)\" d=\"M 0 0 M1710.61 206.187 L1710.61 210.214 Q1708.81 209.289 1706.86 208.826 Q1704.92 208.363 1702.83 208.363 Q1699.66 208.363 1698.06 209.335 Q1696.49 210.307 1696.49 212.251 Q1696.49 213.733 1697.63 214.589 Q1698.76 215.423 1702.19 216.187 L1703.64 216.511 Q1708.18 217.483 1710.08 219.265 Q1712 221.025 1712 224.196 Q1712 227.807 1709.13 229.913 Q1706.28 232.02 1701.28 232.02 Q1699.2 232.02 1696.93 231.603 Q1694.69 231.21 1692.19 230.4 L1692.19 226.001 Q1694.55 227.228 1696.84 227.853 Q1699.13 228.455 1701.37 228.455 Q1704.38 228.455 1706 227.437 Q1707.62 226.395 1707.62 224.52 Q1707.62 222.784 1706.44 221.858 Q1705.29 220.932 1701.33 220.076 L1699.85 219.728 Q1695.89 218.895 1694.13 217.182 Q1692.37 215.446 1692.37 212.437 Q1692.37 208.779 1694.96 206.789 Q1697.56 204.798 1702.32 204.798 Q1704.69 204.798 1706.77 205.145 Q1708.85 205.492 1710.61 206.187 Z\" fill=\"#000000\" fill-rule=\"evenodd\" fill-opacity=\"1\" /><path clip-path=\"url(#clip040)\" d=\"M 0 0 M1720.68 198.062 L1720.68 205.423 L1729.45 205.423 L1729.45 208.733 L1720.68 208.733 L1720.68 222.807 Q1720.68 225.978 1721.54 226.881 Q1722.42 227.784 1725.08 227.784 L1729.45 227.784 L1729.45 231.349 L1725.08 231.349 Q1720.15 231.349 1718.27 229.52 Q1716.4 227.668 1716.4 222.807 L1716.4 208.733 L1713.27 208.733 L1713.27 205.423 L1716.4 205.423 L1716.4 198.062 L1720.68 198.062 Z\" fill=\"#000000\" fill-rule=\"evenodd\" fill-opacity=\"1\" /><path clip-path=\"url(#clip040)\" d=\"M 0 0 M1756.1 217.321 L1756.1 219.404 L1736.51 219.404 Q1736.79 223.802 1739.15 226.117 Q1741.54 228.409 1745.77 228.409 Q1748.23 228.409 1750.52 227.807 Q1752.83 227.205 1755.1 226.001 L1755.1 230.029 Q1752.81 231.001 1750.4 231.511 Q1748 232.02 1745.52 232.02 Q1739.31 232.02 1735.68 228.409 Q1732.07 224.798 1732.07 218.64 Q1732.07 212.275 1735.5 208.548 Q1738.94 204.798 1744.78 204.798 Q1750.01 204.798 1753.04 208.177 Q1756.1 211.534 1756.1 217.321 M1751.84 216.071 Q1751.79 212.576 1749.87 210.492 Q1747.97 208.409 1744.82 208.409 Q1741.26 208.409 1739.11 210.423 Q1736.98 212.437 1736.65 216.094 L1751.84 216.071 Z\" fill=\"#000000\" fill-rule=\"evenodd\" fill-opacity=\"1\" /><path clip-path=\"url(#clip040)\" d=\"M 0 0 M1775.59 209.404 Q1774.87 208.988 1774.01 208.802 Q1773.18 208.594 1772.16 208.594 Q1768.55 208.594 1766.61 210.955 Q1764.68 213.293 1764.68 217.691 L1764.68 231.349 L1760.4 231.349 L1760.4 205.423 L1764.68 205.423 L1764.68 209.451 Q1766.03 207.089 1768.18 205.955 Q1770.33 204.798 1773.41 204.798 Q1773.85 204.798 1774.38 204.867 Q1774.92 204.914 1775.56 205.029 L1775.59 209.404 Z\" fill=\"#000000\" fill-rule=\"evenodd\" fill-opacity=\"1\" /><path clip-path=\"url(#clip040)\" d=\"M 0 0 M1780.06 205.423 L1784.31 205.423 L1784.31 231.349 L1780.06 231.349 L1780.06 205.423 M1780.06 195.33 L1784.31 195.33 L1784.31 200.724 L1780.06 200.724 L1780.06 195.33 Z\" fill=\"#000000\" fill-rule=\"evenodd\" fill-opacity=\"1\" /><path clip-path=\"url(#clip040)\" d=\"M 0 0 M1798.83 208.409 Q1795.4 208.409 1793.41 211.094 Q1791.42 213.756 1791.42 218.409 Q1791.42 223.062 1793.39 225.747 Q1795.38 228.409 1798.83 228.409 Q1802.23 228.409 1804.22 225.724 Q1806.21 223.038 1806.21 218.409 Q1806.21 213.802 1804.22 211.117 Q1802.23 208.409 1798.83 208.409 M1798.83 204.798 Q1804.38 204.798 1807.55 208.409 Q1810.73 212.02 1810.73 218.409 Q1810.73 224.775 1807.55 228.409 Q1804.38 232.02 1798.83 232.02 Q1793.25 232.02 1790.08 228.409 Q1786.93 224.775 1786.93 218.409 Q1786.93 212.02 1790.08 208.409 Q1793.25 204.798 1798.83 204.798 Z\" fill=\"#000000\" fill-rule=\"evenodd\" fill-opacity=\"1\" /><path clip-path=\"url(#clip040)\" d=\"M 0 0 M1830.22 209.404 Q1829.5 208.988 1828.64 208.802 Q1827.81 208.594 1826.79 208.594 Q1823.18 208.594 1821.24 210.955 Q1819.31 213.293 1819.31 217.691 L1819.31 231.349 L1815.03 231.349 L1815.03 205.423 L1819.31 205.423 L1819.31 209.451 Q1820.66 207.089 1822.81 205.955 Q1824.96 204.798 1828.04 204.798 Q1828.48 204.798 1829.01 204.867 Q1829.55 204.914 1830.19 205.029 L1830.22 209.404 Z\" fill=\"#000000\" fill-rule=\"evenodd\" fill-opacity=\"1\" /><path clip-path=\"url(#clip040)\" d=\"M 0 0 M1854.61 200.631 L1854.61 213.617 L1860.49 213.617 Q1863.76 213.617 1865.54 211.927 Q1867.32 210.238 1867.32 207.113 Q1867.32 204.011 1865.54 202.321 Q1863.76 200.631 1860.49 200.631 L1854.61 200.631 M1849.94 196.789 L1860.49 196.789 Q1866.3 196.789 1869.27 199.427 Q1872.25 202.043 1872.25 207.113 Q1872.25 212.228 1869.27 214.844 Q1866.3 217.46 1860.49 217.46 L1854.61 217.46 L1854.61 231.349 L1849.94 231.349 L1849.94 196.789 Z\" fill=\"#000000\" fill-rule=\"evenodd\" fill-opacity=\"1\" /><path clip-path=\"url(#clip040)\" d=\"M 0 0 M1890.91 209.404 Q1890.19 208.988 1889.34 208.802 Q1888.5 208.594 1887.49 208.594 Q1883.87 208.594 1881.93 210.955 Q1880.01 213.293 1880.01 217.691 L1880.01 231.349 L1875.73 231.349 L1875.73 205.423 L1880.01 205.423 L1880.01 209.451 Q1881.35 207.089 1883.5 205.955 Q1885.66 204.798 1888.74 204.798 Q1889.17 204.798 1889.71 204.867 Q1890.24 204.914 1890.89 205.029 L1890.91 209.404 Z\" fill=\"#000000\" fill-rule=\"evenodd\" fill-opacity=\"1\" /><path clip-path=\"url(#clip040)\" d=\"M 0 0 M1916.51 217.321 L1916.51 219.404 L1896.93 219.404 Q1897.21 223.802 1899.57 226.117 Q1901.95 228.409 1906.19 228.409 Q1908.64 228.409 1910.93 227.807 Q1913.25 227.205 1915.52 226.001 L1915.52 230.029 Q1913.23 231.001 1910.82 231.511 Q1908.41 232.02 1905.93 232.02 Q1899.73 232.02 1896.1 228.409 Q1892.49 224.798 1892.49 218.64 Q1892.49 212.275 1895.91 208.548 Q1899.36 204.798 1905.19 204.798 Q1910.42 204.798 1913.46 208.177 Q1916.51 211.534 1916.51 217.321 M1912.25 216.071 Q1912.21 212.576 1910.29 210.492 Q1908.39 208.409 1905.24 208.409 Q1901.67 208.409 1899.52 210.423 Q1897.39 212.437 1897.07 216.094 L1912.25 216.071 Z\" fill=\"#000000\" fill-rule=\"evenodd\" fill-opacity=\"1\" /><path clip-path=\"url(#clip040)\" d=\"M 0 0 M1938.04 209.358 L1938.04 195.33 L1942.3 195.33 L1942.3 231.349 L1938.04 231.349 L1938.04 227.46 Q1936.7 229.775 1934.64 230.909 Q1932.6 232.02 1929.73 232.02 Q1925.03 232.02 1922.07 228.27 Q1919.13 224.52 1919.13 218.409 Q1919.13 212.298 1922.07 208.548 Q1925.03 204.798 1929.73 204.798 Q1932.6 204.798 1934.64 205.932 Q1936.7 207.043 1938.04 209.358 M1923.53 218.409 Q1923.53 223.108 1925.45 225.793 Q1927.39 228.455 1930.77 228.455 Q1934.15 228.455 1936.1 225.793 Q1938.04 223.108 1938.04 218.409 Q1938.04 213.71 1936.1 211.048 Q1934.15 208.363 1930.77 208.363 Q1927.39 208.363 1925.45 211.048 Q1923.53 213.71 1923.53 218.409 Z\" fill=\"#000000\" fill-rule=\"evenodd\" fill-opacity=\"1\" /><path clip-path=\"url(#clip040)\" d=\"M 0 0 M1946.77 205.423 L1951.03 205.423 L1951.03 231.349 L1946.77 231.349 L1946.77 205.423 M1946.77 195.33 L1951.03 195.33 L1951.03 200.724 L1946.77 200.724 L1946.77 195.33 Z\" fill=\"#000000\" fill-rule=\"evenodd\" fill-opacity=\"1\" /><path clip-path=\"url(#clip040)\" d=\"M 0 0 M1974.15 206.418 L1974.15 210.4 Q1972.35 209.404 1970.52 208.918 Q1968.71 208.409 1966.86 208.409 Q1962.72 208.409 1960.42 211.048 Q1958.13 213.664 1958.13 218.409 Q1958.13 223.154 1960.42 225.793 Q1962.72 228.409 1966.86 228.409 Q1968.71 228.409 1970.52 227.923 Q1972.35 227.413 1974.15 226.418 L1974.15 230.353 Q1972.37 231.187 1970.45 231.603 Q1968.55 232.02 1966.4 232.02 Q1960.54 232.02 1957.09 228.339 Q1953.64 224.659 1953.64 218.409 Q1953.64 212.066 1957.11 208.432 Q1960.61 204.798 1966.67 204.798 Q1968.64 204.798 1970.52 205.215 Q1972.39 205.608 1974.15 206.418 Z\" fill=\"#000000\" fill-rule=\"evenodd\" fill-opacity=\"1\" /><path clip-path=\"url(#clip040)\" d=\"M 0 0 M1982.83 198.062 L1982.83 205.423 L1991.6 205.423 L1991.6 208.733 L1982.83 208.733 L1982.83 222.807 Q1982.83 225.978 1983.69 226.881 Q1984.57 227.784 1987.23 227.784 L1991.6 227.784 L1991.6 231.349 L1987.23 231.349 Q1982.3 231.349 1980.42 229.52 Q1978.55 227.668 1978.55 222.807 L1978.55 208.733 L1975.42 208.733 L1975.42 205.423 L1978.55 205.423 L1978.55 198.062 L1982.83 198.062 Z\" fill=\"#000000\" fill-rule=\"evenodd\" fill-opacity=\"1\" /><path clip-path=\"url(#clip040)\" d=\"M 0 0 M1996.07 205.423 L2000.33 205.423 L2000.33 231.349 L1996.07 231.349 L1996.07 205.423 M1996.07 195.33 L2000.33 195.33 L2000.33 200.724 L1996.07 200.724 L1996.07 195.33 Z\" fill=\"#000000\" fill-rule=\"evenodd\" fill-opacity=\"1\" /><path clip-path=\"url(#clip040)\" d=\"M 0 0 M2001.74 205.423 L2006.26 205.423 L2014.36 227.182 L2022.46 205.423 L2026.98 205.423 L2017.25 231.349 L2011.47 231.349 L2001.74 205.423 Z\" fill=\"#000000\" fill-rule=\"evenodd\" fill-opacity=\"1\" /><path clip-path=\"url(#clip040)\" d=\"M 0 0 M2053.62 217.321 L2053.62 219.404 L2034.04 219.404 Q2034.31 223.802 2036.67 226.117 Q2039.06 228.409 2043.29 228.409 Q2045.75 228.409 2048.04 227.807 Q2050.35 227.205 2052.62 226.001 L2052.62 230.029 Q2050.33 231.001 2047.92 231.511 Q2045.52 232.02 2043.04 232.02 Q2036.84 232.02 2033.2 228.409 Q2029.59 224.798 2029.59 218.64 Q2029.59 212.275 2033.02 208.548 Q2036.47 204.798 2042.3 204.798 Q2047.53 204.798 2050.56 208.177 Q2053.62 211.534 2053.62 217.321 M2049.36 216.071 Q2049.31 212.576 2047.39 210.492 Q2045.49 208.409 2042.35 208.409 Q2038.78 208.409 2036.63 210.423 Q2034.5 212.437 2034.17 216.094 L2049.36 216.071 Z\" fill=\"#000000\" fill-rule=\"evenodd\" fill-opacity=\"1\" /><path clip-path=\"url(#clip040)\" d=\"M 0 0 M2078.02 200.631 L2078.02 227.506 L2083.66 227.506 Q2090.82 227.506 2094.13 224.265 Q2097.46 221.025 2097.46 214.034 Q2097.46 207.089 2094.13 203.872 Q2090.82 200.631 2083.66 200.631 L2078.02 200.631 M2073.34 196.789 L2082.95 196.789 Q2092.99 196.789 2097.69 200.978 Q2102.39 205.145 2102.39 214.034 Q2102.39 222.969 2097.67 227.159 Q2092.95 231.349 2082.95 231.349 L2073.34 231.349 L2073.34 196.789 Z\" fill=\"#000000\" fill-rule=\"evenodd\" fill-opacity=\"1\" /><path clip-path=\"url(#clip040)\" d=\"M 0 0 M2129.03 217.321 L2129.03 219.404 L2109.45 219.404 Q2109.73 223.802 2112.09 226.117 Q2114.47 228.409 2118.71 228.409 Q2121.16 228.409 2123.46 227.807 Q2125.77 227.205 2128.04 226.001 L2128.04 230.029 Q2125.75 231.001 2123.34 231.511 Q2120.93 232.02 2118.46 232.02 Q2112.25 232.02 2108.62 228.409 Q2105.01 224.798 2105.01 218.64 Q2105.01 212.275 2108.43 208.548 Q2111.88 204.798 2117.72 204.798 Q2122.95 204.798 2125.98 208.177 Q2129.03 211.534 2129.03 217.321 M2124.78 216.071 Q2124.73 212.576 2122.81 210.492 Q2120.91 208.409 2117.76 208.409 Q2114.2 208.409 2112.04 210.423 Q2109.91 212.437 2109.59 216.094 L2124.78 216.071 Z\" fill=\"#000000\" fill-rule=\"evenodd\" fill-opacity=\"1\" /><path clip-path=\"url(#clip040)\" d=\"M 0 0 M2155.05 215.701 L2155.05 231.349 L2150.79 231.349 L2150.79 215.839 Q2150.79 212.159 2149.36 210.33 Q2147.92 208.502 2145.05 208.502 Q2141.6 208.502 2139.61 210.701 Q2137.62 212.9 2137.62 216.696 L2137.62 231.349 L2133.34 231.349 L2133.34 205.423 L2137.62 205.423 L2137.62 209.451 Q2139.15 207.113 2141.21 205.955 Q2143.29 204.798 2146 204.798 Q2150.47 204.798 2152.76 207.576 Q2155.05 210.33 2155.05 215.701 Z\" fill=\"#000000\" fill-rule=\"evenodd\" fill-opacity=\"1\" /><path clip-path=\"url(#clip040)\" d=\"M 0 0 M2176.05 206.187 L2176.05 210.214 Q2174.24 209.289 2172.3 208.826 Q2170.35 208.363 2168.27 208.363 Q2165.1 208.363 2163.5 209.335 Q2161.93 210.307 2161.93 212.251 Q2161.93 213.733 2163.06 214.589 Q2164.2 215.423 2167.62 216.187 L2169.08 216.511 Q2173.62 217.483 2175.52 219.265 Q2177.44 221.025 2177.44 224.196 Q2177.44 227.807 2174.57 229.913 Q2171.72 232.02 2166.72 232.02 Q2164.64 232.02 2162.37 231.603 Q2160.12 231.21 2157.62 230.4 L2157.62 226.001 Q2159.98 227.228 2162.28 227.853 Q2164.57 228.455 2166.81 228.455 Q2169.82 228.455 2171.44 227.437 Q2173.06 226.395 2173.06 224.52 Q2173.06 222.784 2171.88 221.858 Q2170.72 220.932 2166.77 220.076 L2165.28 219.728 Q2161.33 218.895 2159.57 217.182 Q2157.81 215.446 2157.81 212.437 Q2157.81 208.779 2160.4 206.789 Q2162.99 204.798 2167.76 204.798 Q2170.12 204.798 2172.21 205.145 Q2174.29 205.492 2176.05 206.187 Z\" fill=\"#000000\" fill-rule=\"evenodd\" fill-opacity=\"1\" /><path clip-path=\"url(#clip040)\" d=\"M 0 0 M2181.9 205.423 L2186.16 205.423 L2186.16 231.349 L2181.9 231.349 L2181.9 205.423 M2181.9 195.33 L2186.16 195.33 L2186.16 200.724 L2181.9 200.724 L2181.9 195.33 Z\" fill=\"#000000\" fill-rule=\"evenodd\" fill-opacity=\"1\" /><path clip-path=\"url(#clip040)\" d=\"M 0 0 M2194.84 198.062 L2194.84 205.423 L2203.62 205.423 L2203.62 208.733 L2194.84 208.733 L2194.84 222.807 Q2194.84 225.978 2195.7 226.881 Q2196.58 227.784 2199.24 227.784 L2203.62 227.784 L2203.62 231.349 L2199.24 231.349 Q2194.31 231.349 2192.44 229.52 Q2190.56 227.668 2190.56 222.807 L2190.56 208.733 L2187.44 208.733 L2187.44 205.423 L2190.56 205.423 L2190.56 198.062 L2194.84 198.062 Z\" fill=\"#000000\" fill-rule=\"evenodd\" fill-opacity=\"1\" /><path clip-path=\"url(#clip040)\" d=\"M 0 0 M2218.87 233.756 Q2217.07 238.386 2215.35 239.798 Q2213.64 241.21 2210.77 241.21 L2207.37 241.21 L2207.37 237.645 L2209.87 237.645 Q2211.63 237.645 2212.6 236.812 Q2213.57 235.978 2214.75 232.876 L2215.52 230.932 L2205.03 205.423 L2209.54 205.423 L2217.65 225.701 L2225.75 205.423 L2230.26 205.423 L2218.87 233.756 Z\" fill=\"#000000\" fill-rule=\"evenodd\" fill-opacity=\"1\" /><polyline clip-path=\"url(#clip040)\" style=\"stroke:#3da44d; stroke-width:4; stroke-opacity:1; fill:none\" points=\"\n",
       "  1471.09,274.549 1618.08,274.549 \n",
       "  \"/>\n",
       "<path clip-path=\"url(#clip040)\" d=\"M 0 0 M1656.42 294.236 Q1654.62 298.866 1652.9 300.278 Q1651.19 301.69 1648.32 301.69 L1644.92 301.69 L1644.92 298.125 L1647.42 298.125 Q1649.18 298.125 1650.15 297.292 Q1651.12 296.458 1652.3 293.356 L1653.07 291.412 L1642.58 265.903 L1647.09 265.903 L1655.19 286.181 L1663.3 265.903 L1667.81 265.903 L1656.42 294.236 Z\" fill=\"#000000\" fill-rule=\"evenodd\" fill-opacity=\"1\" /><path clip-path=\"url(#clip040)\" d=\"M 0 0 M1687.05 273.194 Q1690.4 273.912 1692.28 276.181 Q1694.18 278.449 1694.18 281.782 Q1694.18 286.898 1690.66 289.699 Q1687.14 292.5 1680.66 292.5 Q1678.48 292.5 1676.17 292.06 Q1673.88 291.643 1671.42 290.787 L1671.42 286.273 Q1673.37 287.407 1675.68 287.986 Q1678 288.565 1680.52 288.565 Q1684.92 288.565 1687.21 286.829 Q1689.52 285.093 1689.52 281.782 Q1689.52 278.727 1687.37 277.014 Q1685.24 275.278 1681.42 275.278 L1677.39 275.278 L1677.39 271.435 L1681.61 271.435 Q1685.06 271.435 1686.88 270.069 Q1688.71 268.681 1688.71 266.088 Q1688.71 263.426 1686.81 262.014 Q1684.94 260.579 1681.42 260.579 Q1679.5 260.579 1677.3 260.995 Q1675.1 261.412 1672.46 262.292 L1672.46 258.125 Q1675.13 257.384 1677.44 257.014 Q1679.78 256.644 1681.84 256.644 Q1687.16 256.644 1690.26 259.074 Q1693.37 261.482 1693.37 265.602 Q1693.37 268.472 1691.72 270.463 Q1690.08 272.431 1687.05 273.194 Z\" fill=\"#000000\" fill-rule=\"evenodd\" fill-opacity=\"1\" /><polyline clip-path=\"url(#clip040)\" style=\"stroke:#c271d2; stroke-width:4; stroke-opacity:1; fill:none\" points=\"\n",
       "  1471.09,335.029 1618.08,335.029 \n",
       "  \"/>\n",
       "<path clip-path=\"url(#clip040)\" d=\"M 0 0 M1656.42 354.716 Q1654.62 359.346 1652.9 360.758 Q1651.19 362.17 1648.32 362.17 L1644.92 362.17 L1644.92 358.605 L1647.42 358.605 Q1649.18 358.605 1650.15 357.772 Q1651.12 356.938 1652.3 353.836 L1653.07 351.892 L1642.58 326.383 L1647.09 326.383 L1655.19 346.661 L1663.3 326.383 L1667.81 326.383 L1656.42 354.716 Z\" fill=\"#000000\" fill-rule=\"evenodd\" fill-opacity=\"1\" /><path clip-path=\"url(#clip040)\" d=\"M 0 0 M1685.73 321.823 L1673.92 340.272 L1685.73 340.272 L1685.73 321.823 M1684.5 317.749 L1690.38 317.749 L1690.38 340.272 L1695.31 340.272 L1695.31 344.161 L1690.38 344.161 L1690.38 352.309 L1685.73 352.309 L1685.73 344.161 L1670.13 344.161 L1670.13 339.647 L1684.5 317.749 Z\" fill=\"#000000\" fill-rule=\"evenodd\" fill-opacity=\"1\" /></svg>\n"
      ]
     },
     "execution_count": 143,
     "metadata": {},
     "output_type": "execute_result"
    }
   ],
   "source": [
    "using StatsBase\n",
    "chain_prior = sample(infer_rate(k,n), Prior(), 2000, progress=true);\n",
    "sample_prior = sample(chain_prior[:θ], 500)\n",
    "sample_posterior = sample(chain[:θ], 500)\n",
    "histogram(sample_prior, xlabel=\"θ\", bins=50, normed=true, label=\"Prior Predictive Density\")\n",
    "histogram!(sample_posterior, xlabel=\"θ\", bins=50, normed=true,  label=\"Posterior Predictive Density\")\n",
    "#plot(sample_prior, seriestype = :histogram)\n",
    "#plot!(sample_posterior, seriestype=:stephist)\n",
    "density!(sample_prior) # Plot θ for prior\n",
    "density!(sample_posterior)"
   ]
  },
  {
   "cell_type": "markdown",
   "metadata": {},
   "source": [
    "## Choosing Prior\n",
    "Choosing prior is based on our experience before any data collection. Priors can also be based on the expert judgment. "
   ]
  },
  {
   "cell_type": "markdown",
   "metadata": {},
   "source": [
    "### Conjugate Priors\n",
    "\n",
    "The main challenge in the computation of Bayesian statistics is in computing integrals and therefore in majority of lectures in this course we will perform approximations. \n",
    "\n",
    "However, analytical solutions are possible in some situations when we work with same families of distributions. We use an important family of models, which are called conjugate priors.\n",
    "\n",
    "Now, suppose the likelihood $p(\\textit{D}\\mid\\theta)$ is in the exponential family. \n",
    "\n",
    "Here we choose a special prior $p(\\theta)$, known as conjugate prior, which comes from a family of distribution having the same properties as of likelihood. It has been guaranteed that if we multiply the likelihood with conjugate prior, we will get the posterior in the same family.\n"
   ]
  },
  {
   "cell_type": "markdown",
   "metadata": {},
   "source": [
    "$\\textbf{Here are some pairs of distributions that are conjugate to each other:}$\n",
    "\n",
    "Bernoulli (likelihood) + Beta (prior) ⇒ Beta posterior\n",
    "\n",
    "Binomial (likelihood) + Beta (prior) ⇒ Beta posterior\n",
    "\n",
    "Multinomial (likelihood) + Dirichlet (prior) ⇒ Dirichlet posterior\n",
    "\n",
    "Poisson (likelihood) + Gamma (prior) ⇒ Gamma posterior\n",
    "\n",
    "Gaussian (likelihood) + Gaussian (prior) ⇒ Gaussian posterior\n",
    "\n",
    "Please see this site for relationship between priors [Conjugate prior relationships](https://www.johndcook.com/blog/conjugate_prior_diagram/)."
   ]
  },
  {
   "cell_type": "markdown",
   "metadata": {
    "colab_type": "text",
    "id": "jY2njWImtOyu"
   },
   "source": [
    "## Practice"
   ]
  },
  {
   "cell_type": "markdown",
   "metadata": {
    "colab_type": "text",
    "id": "vQVxXhPAbWwF"
   },
   "source": [
    "#### Example 1"
   ]
  },
  {
   "cell_type": "markdown",
   "metadata": {
    "colab_type": "text",
    "id": "sd999sSAbWwH"
   },
   "source": [
    "Carefully consider the posterior distribution for θ given k = 5\n",
    "successes out of n = 10 trials. What is your\n",
    "estimate of the probability that the rate θ is higher than 0.4 but smaller than\n",
    "0.6? How did you arrive at your estimate?"
   ]
  },
  {
   "cell_type": "markdown",
   "metadata": {
    "colab_type": "text",
    "id": "6vq8_v7fbWwI"
   },
   "source": [
    "#### Solution:"
   ]
  },
  {
   "cell_type": "code",
   "execution_count": null,
   "metadata": {
    "colab": {
     "base_uri": "https://localhost:8080/",
     "height": 290
    },
    "colab_type": "code",
    "id": "aiHuSXMzcY4G",
    "outputId": "4a1bd921-06ea-470c-fcc9-04f9be727d50"
   },
   "outputs": [],
   "source": []
  },
  {
   "cell_type": "markdown",
   "metadata": {
    "colab_type": "text",
    "id": "td44DGDaeOms"
   },
   "source": [
    "#### Example 2"
   ]
  },
  {
   "cell_type": "markdown",
   "metadata": {
    "colab_type": "text",
    "id": "7LSyshQ_eUds"
   },
   "source": [
    "Alter the data to k = 50 and n = 100, and compare the posterior\n",
    "for the rate θ to the original with k = 5 and n = 10"
   ]
  },
  {
   "cell_type": "markdown",
   "metadata": {
    "colab_type": "text",
    "id": "sQ5IdsLdqpnj"
   },
   "source": [
    "#### Example 3"
   ]
  },
  {
   "cell_type": "markdown",
   "metadata": {
    "colab_type": "text",
    "id": "zDLihDTxs75x"
   },
   "source": [
    "Alter the data to k = 99 and n = 100, and comment on the shape\n",
    "of the posterior for the rate θ."
   ]
  },
  {
   "cell_type": "markdown",
   "metadata": {
    "colab_type": "text",
    "id": "NWJgUVdSskZe"
   },
   "source": [
    "#### Solution:"
   ]
  },
  {
   "cell_type": "code",
   "execution_count": null,
   "metadata": {
    "colab": {
     "base_uri": "https://localhost:8080/",
     "height": 290
    },
    "colab_type": "code",
    "id": "grTEIMN9tlQ4",
    "outputId": "aaaee054-a928-4fb2-a5b3-eba8a3d81a37"
   },
   "outputs": [],
   "source": []
  },
  {
   "cell_type": "markdown",
   "metadata": {
    "colab_type": "text",
    "id": "v01jhHEkwMLA"
   },
   "source": [
    "#### Example 4"
   ]
  },
  {
   "cell_type": "markdown",
   "metadata": {
    "colab_type": "text",
    "id": "XwHE3qlcwIxC"
   },
   "source": [
    "Alter the data to k = 0 and n = 1, and comment on what this\n",
    "demonstrates about the Bayesian approach"
   ]
  },
  {
   "cell_type": "markdown",
   "metadata": {
    "colab_type": "text",
    "id": "F_Q4uFhlsl3g"
   },
   "source": [
    "#### Solution:"
   ]
  },
  {
   "cell_type": "code",
   "execution_count": null,
   "metadata": {
    "colab": {
     "base_uri": "https://localhost:8080/",
     "height": 306
    },
    "colab_type": "code",
    "id": "i4bD5U4ytyGY",
    "outputId": "57577385-f3a6-476c-f582-58950fc5235e"
   },
   "outputs": [],
   "source": []
  },
  {
   "cell_type": "markdown",
   "metadata": {
    "colab_type": "text",
    "id": "RZ-hmJy_wvIE"
   },
   "source": [
    "#### Example 5"
   ]
  },
  {
   "cell_type": "markdown",
   "metadata": {
    "colab_type": "text",
    "id": "fgQgJz1Nw1-J"
   },
   "source": [
    "Try running examples above with different prior. Assume that the experiment include tossing coin and that the coin is biased. Include your prior knowledge in the Beta distribution."
   ]
  },
  {
   "cell_type": "markdown",
   "metadata": {
    "colab_type": "text",
    "id": "UERChxOYsnXk"
   },
   "source": [
    "#### Solution:"
   ]
  },
  {
   "cell_type": "code",
   "execution_count": null,
   "metadata": {
    "colab": {
     "base_uri": "https://localhost:8080/",
     "height": 290
    },
    "colab_type": "code",
    "id": "Eqcbc93qbeZ-",
    "outputId": "5802227a-3099-4d88-e161-83bbe81b7c69"
   },
   "outputs": [],
   "source": []
  },
  {
   "cell_type": "markdown",
   "metadata": {
    "colab_type": "text",
    "id": "Ftiky_IiqX7m"
   },
   "source": [
    "## References\n",
    "[1] Slides of Basics of Probabilistic/Bayesian Modeling and Parameter Estimation by Piyush Rai\n",
    "\n",
    "[2] Michael D. Lee, Eric-Jan Wagenmakers, Bayesian Cognitive Modeling: A Practical Course, 2013.\n",
    "\n",
    "[3] Kevin P. Murphy, Machine learning: a probabilistic perspective, Second Edition, 2021.\n",
    "\n",
    "[4] 'Wikipedia', List of all distributions[online]https://en.wikipedia.org/wiki/List_of_probability_distributions\n",
    "\n",
    "[5] Yoni Nazarathy, Hayden Klok, [Statistics with Julia: Fundamentals for Data Science, Machine Learning and Artificial Intelligence](https://statisticswithjulia.org/StatisticsWithJuliaDRAFT.pdf), 2020\n",
    "\n",
    "\n"
   ]
  }
 ],
 "metadata": {
  "colab": {
   "collapsed_sections": [],
   "name": "Scribe.ipynb",
   "provenance": []
  },
  "kernelspec": {
   "display_name": "JuliaPro_v1.5.3-1 1.5.3",
   "language": "julia",
   "name": "juliapro_v1.5.3-1-1.5"
  },
  "language_info": {
   "file_extension": ".jl",
   "mimetype": "application/julia",
   "name": "julia",
   "version": "1.5.3"
  }
 },
 "nbformat": 4,
 "nbformat_minor": 1
}
